{
 "cells": [
  {
   "cell_type": "markdown",
   "metadata": {},
   "source": [
    "-----------------------\n",
    "## 토픽모델링에 사용할 네이버 뉴스 데이터 가져오기\n",
    "- 1. 네이버 오픈 API로 기사 URL 크롤링\n",
    "- 2. bs4 + selenium으로 기사 제목 및 내용 크롤링"
   ]
  },
  {
   "cell_type": "code",
   "execution_count": 50,
   "metadata": {},
   "outputs": [
    {
     "output_type": "stream",
     "name": "stderr",
     "text": [
      "/Users/lisemara/miniforge3/envs/tf/lib/python3.8/site-packages/ipykernel/ipkernel.py:283: DeprecationWarning: `should_run_async` will not call `transform_cell` automatically in the future. Please pass the result to `transformed_cell` argument and any exception that happen during thetransform in `preprocessing_exc_tuple` in IPython 7.17 and above.\n  and should_run_async(code)\n"
     ]
    }
   ],
   "source": [
    "import os\n",
    "import sys\n",
    "import urllib.request\n",
    "import requests\n",
    "\n",
    "news_data = []\n",
    "page_count = 10\n",
    "\n",
    "client_id = \"frBMA0JHYp1zATqntdUJ\"\n",
    "client_secret = \"CzMu_Uce6r\"\n",
    "\n",
    "encText = urllib.parse.quote(\"롯데자이언츠\")\n",
    "\n",
    "for idx in range(page_count):\n",
    "    # json 결과\n",
    "    url = \"https://openapi.naver.com/v1/search/news?query=\" + encText + \"&start=\" + str(idx * 10 + 1)\n",
    "    # url = \"https://openapi.naver.com/v1/search/blog.xml?query=\" + encText # xml 결과\n",
    "    request = urllib.request.Request(url)\n",
    "    request.add_header(\"X-Naver-Client-Id\",client_id)\n",
    "    request.add_header(\"X-Naver-Client-Secret\",client_secret)\n",
    "    response = urllib.request.urlopen(request)\n",
    "    rescode = response.getcode()\n",
    "\n",
    "    if(rescode==200):\n",
    "    #    response_body = response.read()\n",
    "        result = requests.get(response.geturl(),\n",
    "                              headers={\"X-Naver-Client-Id\":client_id,\n",
    "                                       \"X-Naver-Client-Secret\":client_secret}\n",
    "                             )\n",
    "        news_data.append(result.json())\n",
    "    #    print(response_body.decode('utf-8'))\n",
    "    else:\n",
    "        print(\"Error Code:\" + rescode)"
   ]
  },
  {
   "cell_type": "code",
   "execution_count": 51,
   "metadata": {
    "tags": [
     "outputPrepend"
    ]
   },
   "outputs": [
    {
     "output_type": "stream",
     "name": "stdout",
     "text": [
      "<b>롯데 자이언츠</b>와의 연습경기를 마친 SSG 랜더스 선수단 사이로 건장한 체격의 사내 한 명이 섰다. 등번호 17번을 단 사내는 다름아닌 추신수. 지난달 입국 후 경남 창원 모처에서 2주 자가 격리를 했던 추신수는 코로나19... ', 'pubDate': 'Fri, 12 Mar 2021 06:36:00 +0900'}, {'title': '추신수, 17번 양보한 이태양에 시계 선물…팀 적응 ‘이상 無’', 'originallink': 'http://news.kmib.co.kr/article/view.asp?arcid=0015622876&code=61161211&cp=nv', 'link': 'https://sports.news.naver.com/news.nhn?oid=005&aid=0001419733', 'description': '추신수는 11일 부산 사직야구장에서 열린 KBO리그 <b>롯데 자이언츠</b>와 SSG의 연습경기 뒤 3루 더그아웃 쪽 그라운드에서 열린 상견례 도중 이태양에게 고가의 시계를 선물했다. 빨간색과 파란색 색깔로 이뤄진 이 시계는... ', 'pubDate': 'Fri, 12 Mar 2021 06:01:00 +0900'}, {'title': \"'SSG 최주환입니다' 적응완료 이적생, 홈런으로 강렬 인사\", 'originallink': 'http://www.xportsnews.com/?ac=article_view&entry_id=1399606', 'link': 'https://sports.news.naver.com/news.nhn?oid=311&aid=0001274225', 'description': '11일 부산 사직구장에서 열린 <b>롯데 자이언츠</b>와의 연습경기는 최주환의 이적 후 첫 경기였다. SSG 첫 외부 실전이었던 9일 경기에서는 비주전 위주의 라인업이 꾸려지며 최주환이 휴식을 취했고, 11일 2루수 및 5번타자로... ', 'pubDate': 'Fri, 12 Mar 2021 05:54:00 +0900'}, {'title': '“유니폼 아예 다 빨간색이었으면” 추신수의 레드 홀릭', 'originallink': 'https://www.seoul.co.kr/news/newsView.php?id=20210312500003&wlog_tag3=naver', 'link': 'https://sports.news.naver.com/news.nhn?oid=081&aid=0003170446', 'description': '<b>롯데 자이언츠</b>와의 연습경기가 끝난 후 추신수는 선수단과 인사를 나눴다. SSG 선수들이 요즘 입는 INCHEON과 SSG가 새겨진 흰색의 임시 유니폼을 입은 채였다. 등번호는 17번이었다. 취재진과 만난 추신수는 다양한... ', 'pubDate': 'Fri, 12 Mar 2021 05:47:00 +0900'}, {'title': \"추신수, 이태양에게 건넨 선물은 '품격'과 '원팀'이었다\", 'originallink': 'http://star.mt.co.kr/stview.php?no=2021031109155770876', 'link': 'https://sports.news.naver.com/news.nhn?oid=108&aid=0002938792', 'description': '지난달 25일 한국에 입국해 경남 창원에서 2주 간의 자가격리를 거친 추신수는 11일 사직구장에서 열린 <b>롯데 자이언츠</b>의 연습경기가 끝난 뒤 선수단과 상견례를 가졌다. 이날 오후 3시께 경기장에 도착한 추신수는... ', 'pubDate': 'Fri, 12 Mar 2021 05:03:00 +0900'}, {'title': '부산에 ‘쓱’ 나타난 추신수 “미국에서 했던대로”', 'originallink': 'http://news.kmib.co.kr/article/view.asp?arcid=0924182415&code=12110000&cp=nv', 'link': 'https://sports.news.naver.com/news.nhn?oid=005&aid=0001419712', 'description': '16년 간 미국 메이저리그에서 뛴 추신수가 이날 사직야구장에서 열린 프로야구 KBO리그 SSG와 <b>롯데 자이언츠</b>의 연습경기가 끝난 뒤 SSG에 공식 합류했다. 추신수는 정오까지 경남 창원에서 자가격리를 한 뒤... ', 'pubDate': 'Fri, 12 Mar 2021 04:14:00 +0900'}, {'title': '‘금지약물 의혹’ 송승준 “이여상에 돌려주고 크게 질책했다”', 'originallink': 'http://news.kmib.co.kr/article/view.asp?arcid=0924182466&code=12110000&cp=nv', 'link': 'https://sports.news.naver.com/news.nhn?oid=005&aid=0001419723', 'description': '프로야구 <b>롯데 자이언츠</b>의 베테랑 투수 송승준(41)이 금지약물 구매 및 투약 의혹을 반박했다. 송승준은 한화와 <b>롯데</b>에서 뛰었던 이여상으로부터 금지약물을 매입해 투약한 의혹을 받아 KADA 조사 대상에 오른 전·현직... ', 'pubDate': 'Fri, 12 Mar 2021 04:14:00 +0900'}]}, {'lastBuildDate': 'Fri, 12 Mar 2021 14:43:55 +0900', 'total': 432521, 'start': 61, 'display': 10, 'items': [{'title': 'SSG 첫 합류 추신수, 이태양에 시계 선물', 'originallink': 'https://www.chosun.com/sports/baseball/2021/03/12/T7KQRUI73ZBU3J2GGEQ2QBI27U/?utm_source=naver&utm_medium=referral&utm_campaign=naver-news', 'link': 'https://sports.news.naver.com/news.nhn?oid=023&aid=0003601104', 'description': '등번호 17번 양보해준 답례… 스위스제로 수천만원 상당 11일 <b>롯데 자이언츠</b>와 SSG 랜더스의 프로야구 연습경기가 끝나자 취재진의 관심은 SSG 더그아웃으로 쏠렸다. 시범경기도 아닌 연습경기임에도 이날 야구장을 찾은... ', 'pubDate': 'Fri, 12 Mar 2021 03:04:00 +0900'}, {'title': \"'SSG랜더스' 추신수, 17번 등번호 양보한 이태양에 2천만원 시계 선물\", 'originallink': 'http://www.newsinside.kr/news/articleView.html?idxno=1104697', 'link': 'http://www.newsinside.kr/news/articleView.html?idxno=1104697', 'description': '추신수는\\xa011일 부산 사직구장에서 열린 프로야구\\xa0KBO리그 <b>롯데 자이언츠</b>와의 연습 경기가 끝난 뒤 열린 선수단 상견례 자리에서 이태양에게 고가의 선물을 건넸다. 미국 메이저리그에서는 등 번호를 양보한 선수에게... ', 'pubDate': 'Fri, 12 Mar 2021 02:11:00 +0900'}, {'title': \"'신세계 영입 1호' 추신수, SSG 선수단 합류위해 사직구장 직행\", 'originallink': 'http://www.meconomynews.com/news/articleView.html?idxno=51111', 'link': 'http://www.meconomynews.com/news/articleView.html?idxno=51111', 'description': \"SSG 선수단 영입 1호 선수 [시장경제=강영범 기자] 추신수 선수가 11일 오후 <b>롯데자이언츠</b>와 SSG랜더스의 연습경기가 열리는 부산 사직야구장에 도착하고 있는 모습, 사진=강영범기자 '추추트레인' 추신수(39·SSG... \", 'pubDate': 'Fri, 12 Mar 2021 00:36:00 +0900'}, {'title': '허문회 <b>롯데</b> 감독 “강릉고 출신 김진욱 선발투수 후보”', 'originallink': 'http://www.kwnews.co.kr/nview.asp?aid=221031100096', 'link': 'https://news.naver.com/main/read.nhn?mode=LSD&mid=sec&sid1=102&oid=087&aid=0000835887', 'description': '오는 20일 키움전 시범경기 등판 “올 시즌 100이닝 정도 던질 것” 강릉고 야구부의 자존심이자 <b>롯데 자이언츠</b> 미래의 에이스로 꼽히는 신인 투수 김진욱(19·사진)이 구단의 철저한 관리 속에 데뷔 시즌을 치른다.... ', 'pubDate': 'Fri, 12 Mar 2021 00:33:00 +0900'}, {'title': '추신수, 등번호 양보한 이태양에 명품 선물…시계 브랜드 ‘눈길’', 'originallink': 'https://www.etoday.co.kr/news/view/2003497', 'link': 'https://www.etoday.co.kr/news/view/2003497', 'description': '추신수는 11일 부산 사직구장에서 진행된 프로야구 KBO리그 <b>롯데 자이언츠</b>와 연습경기 후 상견례 자리에서 이태양에게 미국에서 직접 사 온 고가의 선물을 전달했다. 추신수가 이태양에게 고가의 시계를 선물한 것은... ', 'pubDate': 'Fri, 12 Mar 2021 00:14:00 +0900'}, {'title': '추신수 “우승하러 왔다…이대호와 선의의 경쟁할 것”', 'originallink': 'http://www.kookje.co.kr/news2011/asp/newsbody.asp?code=0600&key=20210312.22015003769', 'link': 'http://www.kookje.co.kr/news2011/asp/newsbody.asp?code=0600&key=20210312.22015003769', 'description': '(KBO) <b>롯데 자이언츠</b>와 SSG 랜더스가 벌인 연습경기 후에 부산 사직구장을 찾은 ‘빅리거’ 추신수는 “사직야구장은 어린 시절 야구선수의 꿈을 키웠던 곳”이라며 “외삼촌(박정태)이 여기서 야구를 했고, 밥 먹듯이... ', 'pubDate': 'Fri, 12 Mar 2021 00:08:00 +0900'}, {'title': '불방망이 앞세운 거인, 파죽의 5연승', 'originallink': 'http://www.kookje.co.kr/news2011/asp/newsbody.asp?code=0600&key=20210312.22015003768', 'link': 'http://www.kookje.co.kr/news2011/asp/newsbody.asp?code=0600&key=20210312.22015003768', 'description': '사직서 SSG와 연습경기 2차전 - 이병규·마차도 활약에 7-5 승- 20일 키움전 김진욱 선발 예고한국프로야구(KBO) <b>롯데 자이언츠</b>가 주전 선수로 라인업을 짠 SSG 랜더스를 연파하며 연습경기 5연승을 기록했다.<b>롯데</b>는 11일... ', 'pubDate': 'Fri, 12 Mar 2021 00:08:00 +0900'}, {'title': '월드시리즈보다 한국시리즈 우승? 추가 원한건 팬들의 관심과 사랑이었다', 'originallink': 'https://www.chosun.com/sports/baseball/2021/03/12/L4OM4DLT7VAVFINHWRE3PNNHSQ/?utm_source=naver&utm_medium=referral&utm_campaign=naver-news', 'link': 'https://sports.news.naver.com/news.nhn?oid=023&aid=0003601054', 'description': '11일 <b>롯데 자이언츠</b>와 연습경기가 끝나고 사직구장에서 취재진과 만난 추신수는 “나는 한국 야구를 경험하러 온 게 아니라 이기러 왔다”고 힘주어 말했다. 추신수의 말을 옮겨본다. “메이저리그 선수가 되어 어느... ', 'pubDate': 'Fri, 12 Mar 2021 00:06:00 +0900'}, {'title': 'SSG 랜더스 추신수 “이기러 왔다”', 'originallink': 'https://news.joins.com/article/olink/23604773', 'link': 'https://sports.news.naver.com/news.nhn?oid=025&aid=0003084321', 'description': 'SSG는 이날 <b>롯데 자이언츠</b>와 연습경기를 했다. 추신수는 경기가 끝난 뒤 선수단을 만났다. 등 번호 17번과 이름이 적힌 유니폼을 입은 추신수는 “이기려고 왔다”고 운을 뗐다. 그는 “내가 먼저 배워야 할 것 같다. 아직... ', 'pubDate': 'Fri, 12 Mar 2021 00:03:00 +0900'}, {'title': '금지약물 구매 의혹에 ‘펄쩍’ 뛴 송승준 “영양제인줄... 다음날 돌려줬고 ...', 'originallink': 'http://www.segye.com/content/html/2021/03/11/20210311513025.html?OutUrl=naver', 'link': 'https://sports.news.naver.com/news.nhn?oid=022&aid=0003560405', 'description': '<b>롯데</b> 구단 통해 입장문 발표…“2017년 이후 공식 도핑 테스트에서 모두 음성” 올시즌을 마치고 은퇴할 예정인 프로야구 <b>롯데 자이언츠</b>의 투수 송승준(41·왼쪽 사진)이 금지 약물을 구매했다는 의혹을 부인했다.... ', 'pubDate': 'Thu, 11 Mar 2021 23:10:00 +0900'}]}, {'lastBuildDate': 'Fri, 12 Mar 2021 14:43:55 +0900', 'total': 432521, 'start': 71, 'display': 10, 'items': [{'title': '등번호 양보한 이태양에게...추신수가 선물한 2000만원짜리 시계', 'originallink': 'https://www.chosun.com/economy/market_trend/2021/03/11/KLHEGDPQ5VG6XGJY3EQRFHUMPQ/?utm_source=naver&utm_medium=referral&utm_campaign=naver-news', 'link': 'https://news.naver.com/main/read.nhn?mode=LSD&mid=sec&sid1=101&oid=023&aid=0003601048', 'description': '추신수는 11일 부산 사직구장에서 열린 프로야구 KBO리그 <b>롯데 자이언츠</b>와의 연습 경기가 끝난 뒤 열린 선수단 상견례 자리에서 이태양 선수에게 고가의 선물을 건넸다. 미국 메이저리그에서는 등 번호를 양보한... ', 'pubDate': 'Thu, 11 Mar 2021 22:40:00 +0900'}, {'title': \"SSG 추신수, 간절한 부탁 들어준 후배에게 '명품 시계' 선물했다\", 'originallink': 'https://www.wikitree.co.kr/articles/627597', 'link': 'https://www.wikitree.co.kr/articles/627597', 'description': '야구장에서는 추신수가 속한 SSG 랜더스와 <b>롯데 자이언츠</b>의 연습경기가 치러지고 있었다.경기가 끝난 뒤 추신수와 SSG 선수단은 상견례를 가졌다. 상견례에는 추신수가 후배 야구선수 이태양에 선물을 주는 시간도... ', 'pubDate': 'Thu, 11 Mar 2021 22:32:00 +0900'}, {'title': '추신수, 이태양에게 2천만원 상당 시계 선물…&quot;등번호 고마워&quot;(종합)', 'originallink': 'http://yna.kr/AKR20210311160351007?did=1195m', 'link': 'https://sports.news.naver.com/news.nhn?oid=001&aid=0012255059', 'description': '추신수는 11일 부산 사직구장에서 열린 프로야구 KBO리그 <b>롯데 자이언츠</b>와 연습경기가 끝난 뒤 그라운드에서 열린 상견례 자리에서 이태양에게 고가의 선물을 전달했다. 추신수는 약 2천만원 상당의 초고가 스위스... ', 'pubDate': 'Thu, 11 Mar 2021 21:53:00 +0900'}, {'title': '&quot;국내 단 1개&quot;…추신수, 후배에게 선물한 고가 시계 가격은?', 'originallink': 'http://news.mt.co.kr/mtview.php?no=2021031121414322009', 'link': 'https://sports.news.naver.com/news.nhn?oid=008&aid=0004555961', 'description': '추신수는 11일 부산 사직구장에서 열린 프로야구 KBO리그 <b>롯데 자이언츠</b>와 연습경기 후 그라운드에서 열린 상견례 자리에서 이태양에게 &quot;등번호 17번을 양보해줘서 고맙다&quot;며 시계를 선물했다. 추신수가 선물한 시계는... ', 'pubDate': 'Thu, 11 Mar 2021 21:47:00 +0900'}, {'title': 'SSG 합류한 추신수 &quot;이기러 왔습니다&quot;…통큰 선물까지 준비', 'originallink': 'http://news.tvchosun.com/site/data/html_dir/2021/03/11/2021031190156.html', 'link': 'https://sports.news.naver.com/news.nhn?oid=448&aid=0000321135', 'description': '추신수 &quot;<b>롯데 자이언츠</b>도 저에게는 9개 다른 팀이랑 똑같은 마음이고요, <b>롯데</b>라고 해서 더 열심히 하고 최선을 다하는 그런 건 없을 것 같은데요&quot; 추신수는 오는 16일 삼성과의 연습 경기에서 첫 실전에 나설 전망입니다.... ', 'pubDate': 'Thu, 11 Mar 2021 21:46:00 +0900'}, {'title': '<b>롯데</b> 송승준 의혹 진실은?... &quot;일체 없었음을 말씀드린다&quot;', 'originallink': 'http://www.whitepaper.co.kr/news/articleView.html?idxno=203234', 'link': 'http://www.whitepaper.co.kr/news/articleView.html?idxno=203234', 'description': '화이트페이퍼, WHITEPAPER(사진=온라인 커뮤니티 캡쳐) 금지약물 구매 의혹으로 인해 <b>롯데자이언츠</b> 송승준이 논란에 휩싸이고 있다. 특히, 이날 송승준은 <b>롯데자이언츠</b> 구단을 통해 자신의 입장을 발표해 이목을... ', 'pubDate': 'Thu, 11 Mar 2021 21:35:00 +0900'}, {'title': \"송승준 &quot;금지약물 확인 후 즉시 반납&quot;…'구매 의혹' 강력 부인\", 'originallink': 'http://www.busan.com/view/busan/view.php?code=2021031120142743699', 'link': 'https://sports.news.naver.com/news.nhn?oid=082&aid=0001074313', 'description': '사직야구장에서 스프링캠프가 열린 가운데 <b>롯데</b> 송승준이 훈련을 하고 있다.윤민호 프리랜서 yunmino@ 프로야구 전·현직 선수가 금지 약물을 구매했다는 의혹에 휩싸인 가운데, 그 중 한 선수로 지목된 <b>롯데 자이언츠</b>의... ', 'pubDate': 'Thu, 11 Mar 2021 21:34:00 +0900'}, {'title': '˝금지약물 알고 되돌려줬다˝... 송승준 의혹 속 논란 급부상', 'originallink': 'http://www.kbsm.net/default/index_view_page.php?idx=305020&part_idx=336', 'link': 'http://www.kbsm.net/default/index_view_page.php?idx=305020&part_idx=336', 'description': '<b>롯데자이언츠</b> 소속 투수 송승준(40)이 사회적 이슈로 급부상 중이다. 11일 주요 언론을 통해 송승준의 불법약물 의혹 관련 보도가 이어지는 가운데, 온라인 커뮤니티를 중심으로 송승준의 해명 발언이 큰 주목을 받고... ', 'pubDate': 'Thu, 11 Mar 2021 21:24:00 +0900'}, {'title': '고향 부산에 온 추신수.. &quot;감회 남달라&quot;', 'originallink': 'https://busanmbc.co.kr/article/5ofmd0TU-p', 'link': 'https://busanmbc.co.kr/article/5ofmd0TU-p', 'description': '사실 이대호, 친구가 여기 <b>롯데자이언츠</b>에 있다는 것. 정말 좋은볼거리 그런 것도 제공될 것 같고요. 그리고 선의의 경쟁을 하면서또 서로 발전할 수 있는 계기도될 것 같고..&quot; 두 선수의 맞대결은 다음 달 3일, 인천에서... ', 'pubDate': 'Thu, 11 Mar 2021 21:18:00 +0900'}, {'title': '추신수, SSG 랜더스 연습경기 합류…17번 양보 이태양에 시계 선물', 'originallink': 'http://www.kyeongin.com/main/view.php?key=20210311010002555', 'link': 'http://www.kyeongin.com/main/view.php?key=20210311010002555', 'description': 'SSG와 <b>롯데 자이언츠</b>의 연습경기 후 김원형 감독을 비롯해 선수단과 상견례를 한 추신수는 자신에게 등 번호 17번을 양보한 이태양에게 시계를 선물했다.이어진 인터뷰에서 추신수는 &quot;선수들과 하루라도 빨리 만나고... ', 'pubDate': 'Thu, 11 Mar 2021 21:12:00 +0900'}]}, {'lastBuildDate': 'Fri, 12 Mar 2021 14:43:55 +0900', 'total': 432521, 'start': 81, 'display': 10, 'items': [{'title': '&quot;등번호 17번 양보 고마워&quot; SSG 추신수, 첫 상견례 자리서 등번호 양보한 이태...', 'originallink': 'http://www.maniareport.com/view.php?ud=2021031120582249385e8e941087_19', 'link': 'https://sports.news.naver.com/news.nhn?oid=425&aid=0000116106', 'description': '추신수는 11일 부산 사직구장에서 열린 프로야구 KBO리그 <b>롯데 자이언츠</b>와 연습경기가 끝난 뒤 그라운드에서 열린 상견례를 가졌다. 추신수가 선수단에 합류해 가장 먼저 한 일은 등번호를 양보한 팀 후배 이태양(31)... ', 'pubDate': 'Thu, 11 Mar 2021 21:11:00 +0900'}, {'title': '추신수, 사직에서 친구 이대호와 결전', 'originallink': 'http://news.knn.co.kr/news/todaynews_read.asp?etime=2021031100063&userid=ki&newsgubun=sportsgeneral', 'link': 'http://news.knn.co.kr/news/todaynews_read.asp?etime=2021031100063&userid=ki&newsgubun=sportsgeneral', 'description': '다음달 시즌 개막전부터 <b>롯데자이언츠</b>의 친구 이대호와 맞대결에 들어갑니다. 정기형기자입니다.} {리포트} 추신수가 부산으로 돌아왔습니다. 자가격리를 마치고 SSG 랜더스가 연습경기중인 사직으로 합류했습니다.... ', 'pubDate': 'Thu, 11 Mar 2021 21:00:00 +0900'}, {'title': \"'SSG 랜더스' 출격완료 신세계, 네이버호 타고 라이브커머스 상륙작전 펼칠까\", 'originallink': 'http://www.greened.kr/news/articleView.html?idxno=287827', 'link': 'http://www.greened.kr/news/articleView.html?idxno=287827', 'description': '현재 경쟁사인 <b>롯데</b>의 경우, <b>롯데자이언츠</b>의 KBO리그 정규시즌 경기 관람권과 운동화, 의류 등 기획한 구단상품들을 <b>롯데</b>홈쇼핑 모바일 생방송에서 단독 판매하기로 했다. <b>자이언츠</b>의 경기도 <b>롯데</b>홈쇼핑 모바일생방송과... ', 'pubDate': 'Thu, 11 Mar 2021 20:28:00 +0900'}, {'title': '추신수, 부산서 첫 인사…“대호야, 기대해”', 'originallink': 'http://www.ichannela.com/news/main/news_detailPage.do?publishId=000000241816', 'link': 'https://sports.news.naver.com/news.nhn?oid=449&aid=0000205704', 'description': '상견례 장소는 자신의 고향이자 <b>롯데 자이언츠</b>의 홈인 부산입니다. [추신수 / SSG] &quot;부산도 그렇고 사직야구장이 저한테는 야구선수로서의 꿈을 정말 명확하게 보여줄 수 있는 곳이었다고 생각합니다.&quot; 추신수는 <b>롯데</b>의... ', 'pubDate': 'Thu, 11 Mar 2021 20:10:00 +0900'}, {'title': '추신수의 격리생활 &quot;처음에는 지루하고 따분했는데…&quot;[MD토크]', 'originallink': 'http://www.mydaily.co.kr/new_yk/html/read.php?newsid=202103111820769165&ext=na&utm_campaign=naver_news&utm_source=naver&utm_medium=related_news', 'link': 'https://sports.news.naver.com/news.nhn?oid=117&aid=0003471918', 'description': '김원형 감독은 11일 <b>롯데 자이언츠</b>와의 원정 연습경기를 앞두고 &quot;기상 6시, 취침 11시를 지키더라. 쉬운 게 아니다&quot;라고 했다. 추신수의 철저한 자기관리는 미국 언론들을 통해 몇 차례 알려졌다. 2주 자가격리를... ', 'pubDate': 'Thu, 11 Mar 2021 20:00:00 +0900'}, {'title': '‘2년 전 서준원처럼’ <b>롯데</b>, 김진욱도 100이닝-100구 과속방지턱 적용한다 [...', 'originallink': 'https://www.mbcsportsplus.com/news/?mode=view&cate=1&b_idx=99782173.000', 'link': 'https://sports.news.naver.com/news.nhn?oid=529&aid=0000053192', 'description': '-<b>롯데 자이언츠</b>, 신인 김진욱 올 시즌 선발투수로 육성 계획 -시즌 100이닝 이하, 경기당 100구 이하로 철저하게 관리한다 -3월 20일 경기 등판 예정…투구내용 따라 개막 엔트리 합류 여부 결정 [엠스플뉴스=사직]... ', 'pubDate': 'Thu, 11 Mar 2021 19:50:00 +0900'}, {'title': \"추신수 가져온 '시계' 가격?…'17번' 양보한 이태양에 선물\", 'originallink': 'http://www.busan.com/view/busan/view.php?code=2021031118384387346', 'link': 'https://news.naver.com/main/read.nhn?mode=LSD&mid=sec&sid1=103&oid=082&aid=0001074297', 'description': '자가격리를 마친 SSG랜더스 추신수가 11일 사직야구장에서 열린 <b>롯데자이언츠</b>와 SSG랜더스의 연습 경기가 끝난 뒤 팀 상견례에서 등번호 17번을 양보한 이태양(왼쪽)에게 선물을 전달하고 있다. 윤민호 프리랜서 yunmino... ', 'pubDate': 'Thu, 11 Mar 2021 19:36:00 +0900'}, {'title': '송승준 “금지약물 확인돼 돌려주고 질책했다”', 'originallink': 'http://news.kmib.co.kr/article/view.asp?arcid=0015622981&code=61161211&cp=nv', 'link': 'https://sports.news.naver.com/news.nhn?oid=005&aid=0001419596', 'description': '프로야구 <b>롯데 자이언츠</b> 베테랑 투수 송승준(41)이 금지약물 구매 및 투약 의혹을 반박했다. 송승준은 11일 <b>롯데</b> 구단을 통해 입장문을 내고 “2017년 이여상으로부터 ‘줄기세포 영양제’라고 주장하는 제품을... ', 'pubDate': 'Thu, 11 Mar 2021 19:34:00 +0900'}, {'title': '&quot;세상에 당연한 것은 없다&quot; 추신수, 17번 양보 이태양에게 고가의 시계 선물', 'originallink': 'http://www.inews24.com/view/1349309', 'link': 'https://sports.news.naver.com/news.nhn?oid=031&aid=0000587750', 'description': '추신수는 11일 사직구장에서 열린 SSG와 <b>롯데 자이언츠</b>의 연습경기가 끝난 뒤 선수단과 첫 상견례를 가졌다. 추신수는 선수단을 향해 &quot;먼저 여기 선후배 선수들이 모두 계신데 제가 일단은 먼저 배워야 할 것 같다&quot;며 &quot;제가... ', 'pubDate': 'Thu, 11 Mar 2021 19:22:00 +0900'}, {'title': \"'<b>롯데자이언츠</b>' 송승준, 약물 복용 사실 일체부인\", 'originallink': 'http://www.onews.tv/news/articleView.html?idxno=60858', 'link': 'http://www.onews.tv/news/articleView.html?idxno=60858', 'description': '사진=<b>롯데자이언츠</b>©열린뉴스통신 \\xa0전 야구선수 이여상의 약물 복용 폭로 대상으로 지목된 <b>롯데 자이언츠</b> 투수\\xa0송승준이 11일 자신은 금전거래와 약물 복용 사실이 일체없었다는 공식입장을 발표했다. 송승준은... ', 'pubDate': 'Thu, 11 Mar 2021 19:01:00 +0900'}]}, {'lastBuildDate': 'Fri, 12 Mar 2021 14:43:55 +0900', 'total': 432521, 'start': 91, 'display': 10, 'items': [{'title': '<b>롯데</b> 송승준, 금지약물 구매 의혹 부인 &quot;오히려 이여상 크게 질책했다&quot;', 'originallink': 'http://www.sporbiz.co.kr/news/articleView.html?idxno=515116', 'link': 'http://www.sporbiz.co.kr/news/articleView.html?idxno=515116', 'description': \"/연합뉴스 전직 프로야구 선수 이여상에게 금지약물을 구매 했다는 의혹을 받은 <b>롯데 자이언츠</b> 투수 송승준이 입장문을 내고 반박에 나섰다. 송승준은 11일 구단을 통해 입장문을 내고 &quot;2017년 이여상에게 '줄기세포... \", 'pubDate': 'Thu, 11 Mar 2021 18:52:00 +0900'}, {'title': \"'SSG 합류' 추신수, 겸손하고 의욕적으로 다가갔다\", 'originallink': 'https://www.news1.kr/articles/?4238405', 'link': 'https://sports.news.naver.com/news.nhn?oid=421&aid=0005217431', 'description': '추신수는 11일 SSG와 <b>롯데 자이언츠</b>의 연습경기가 열린 부산의 사직구장을 찾아 새 동료들과 인사를 나눴다. KBO 역대 최고 이적료인 27억원에 SSG에 입단한 추신수는 지난달 25일 입국한 뒤 2주 동안 자가격리 생활을 하다... ', 'pubDate': 'Thu, 11 Mar 2021 18:50:00 +0900'}, {'title': '<b>롯데</b> 송승준, 금지약물 구매 의혹에 &quot;확인 후 되돌려줬다&quot;', 'originallink': 'https://www.nocutnews.co.kr/news/5514678', 'link': 'https://sports.news.naver.com/news.nhn?oid=079&aid=0003478147', 'description': '프로야구 <b>롯데 자이언츠</b>의 베테랑 투수 송승준(41)이 금지약물 구매 의혹을 부인했다. 송승준은 11일 소속팀 <b>롯데</b> 구단을 통해 &quot;지난 2017년 이여상 전 선수로부터 줄기세포 영양제라고 주장하는 제품을 권유받았다.... ', 'pubDate': 'Thu, 11 Mar 2021 18:44:00 +0900'}, {'title': \"SSG랜더스 선수로서 본격적인 첫 발을 내딛은 '추추트레인' 추신수\", 'originallink': 'https://www.news1.kr/articles/?4238397', 'link': 'https://sports.news.naver.com/news.nhn?oid=421&aid=0005217419', 'description': \"이루지 못한 우승을 한국에서 하는 것이 더 좋을 수 있겠다고 생각했다&quot;고 출사표를 던졌다. 앞서 추신수는 '2021 프로야구 연습경기' <b>롯데 자이언츠</b>와 SSG 랜더스의 경기 종료 후 SSG 선수단과 첫 상견례를 가졌다.\", 'pubDate': 'Thu, 11 Mar 2021 18:40:00 +0900'}, {'title': '스케일이 다른 추신수, 이태양에 시계 선물...가격이 수천만원대', 'originallink': 'http://starin.edaily.co.kr/news/newspath.asp?newsid=01397286628982336', 'link': 'https://sports.news.naver.com/news.nhn?oid=018&aid=0004873642', 'description': '추신수는 11일 부산 사직구장에서 열린 프로야구 <b>롯데 자이언츠</b>와 연습경기가 끝난 뒤 그라운드에서 SSG 선수달과 첫 만남을 가졌다. 이 자리에서 투수 이태양에게 선물을 전달했다. 이태양은 원래 자신이 달던 등번호... ', 'pubDate': 'Thu, 11 Mar 2021 18:40:00 +0900'}, {'title': \"추신수 '긴장되는 SSG 선수들과의 첫 만남'\", 'originallink': 'https://www.news1.kr/photos/view/?4662061', 'link': 'https://sports.news.naver.com/news.nhn?oid=421&aid=0005217417', 'description': '자가격리를 마친 SSG랜더스 추신수가 11일 오후 부산 사직야구장에서 열린 <b>롯데자이언츠</b>와 SSG랜더스의 연습 경기가 끝난 후 팀 상견례에 참석하기 위해 입장하고 있다. 2021.3.11/뉴스1', 'pubDate': 'Thu, 11 Mar 2021 18:38:00 +0900'}, {'title': '‘영웅본색’ 추 “우승하러 쓱~ 왔다”', 'originallink': 'https://www.seoul.co.kr/news/newsView.php?id=20210312026023&wlog_tag3=naver', 'link': 'https://sports.news.naver.com/news.nhn?oid=081&aid=0003170316', 'description': '이날 SSG와 <b>롯데 자이언츠</b>의 연습경기가 열린 부산 사직구장을 찾은 추신수에 대한 뜨거운 관심을 반영하듯 경기장에는 100여 명의 취재진과 많은 팬이 몰렸다. 오후 3시가 넘어 사직구장을 찾은 추신수는 이날 교체돼... ', 'pubDate': 'Thu, 11 Mar 2021 18:37:00 +0900'}, {'title': '&quot;국내에 단 1개&quot;…추신수, 후배한테 선물한 시계 가격은?', 'originallink': 'https://www.hankyung.com/economy/article/202103114225i', 'link': 'https://news.naver.com/main/read.nhn?mode=LSD&mid=sec&sid1=101&oid=015&aid=0004511902', 'description': '추신수는 11일 부산 사직구장에서 열린 프로야구 KBO리그 <b>롯데 자이언츠</b>와 연습경기 후 그라운드에서 열린 상견례 자리에서 이태양에게 &quot;등번호 17번을 양보해줘서 고맙다&quot;며 시계를 전달했다. 추신수가 선물한 시계는... ', 'pubDate': 'Thu, 11 Mar 2021 18:33:00 +0900'}, {'title': '2번 타자? SSG에 녹아든 추신수 “어디든, 팀 승리 위해”', 'originallink': 'https://www.dailian.co.kr/news/view/971528/?sc=Naver', 'link': 'https://sports.news.naver.com/news.nhn?oid=119&aid=0002475132', 'description': '지난달 25일 입국 직후 신종 코로나바이러스감염증-19(코로나19) 방역수칙에 따라 자가격리를 거친 추신수는 11일 부산 사직구장에서 <b>롯데 자이언츠</b>와 연습경기를 마친 선수단에 합류했다. 이날 오후 3시께 야구장에... ', 'pubDate': 'Thu, 11 Mar 2021 18:30:00 +0900'}, {'title': '송승준, 금지약물 의혹 반박 &quot;금지약물 확인 후 바로 돌려주고 이여상 질책했...', 'originallink': 'http://www.mediapen.com/news/view/608615', 'link': 'http://www.mediapen.com/news/view/608615', 'description': \"<b>롯데 자이언츠</b> 베테랑 투수 송승준(41)이 금지약물 구매 의혹 보도가 나오자 즉각 반박하는 공식입장을 밝혔다. CBS라디오 '김현정의 뉴스쇼'는 11일 &quot;한국도핑방지위원회(KADA)가 전 프로야구선수 이여상이 2017년 당시... \", 'pubDate': 'Thu, 11 Mar 2021 18:24:00 +0900'}]}]\n",
      "/Users/lisemara/miniforge3/envs/tf/lib/python3.8/site-packages/ipykernel/ipkernel.py:283: DeprecationWarning: `should_run_async` will not call `transform_cell` automatically in the future. Please pass the result to `transformed_cell` argument and any exception that happen during thetransform in `preprocessing_exc_tuple` in IPython 7.17 and above.\n",
      "  and should_run_async(code)\n"
     ]
    }
   ],
   "source": [
    "print(news_data)\n",
    "# print(len(news_data))\n",
    "# print(news_data[0])\n",
    "# print(news_data[0]['items'])\n",
    "# print(len(news_data[0]['items']))\n",
    "# print(news_data[0]['items'][2])\n",
    "# print(news_data[0]['items'][7]['link'])"
   ]
  },
  {
   "cell_type": "code",
   "execution_count": 52,
   "metadata": {},
   "outputs": [
    {
     "output_type": "stream",
     "name": "stdout",
     "text": [
      "https://sports.news.naver.com/news.nhn?oid=421&aid=0005218962\n",
      "https://sports.news.naver.com/news.nhn?oid=421&aid=0005218935\n",
      "https://sports.news.naver.com/news.nhn?oid=018&aid=0004874206\n",
      "https://sports.news.naver.com/news.nhn?oid=076&aid=0003702618\n",
      "https://sports.news.naver.com/news.nhn?oid=076&aid=0003702619\n",
      "https://sports.news.naver.com/news.nhn?oid=076&aid=0003702619\n",
      "https://sports.news.naver.com/news.nhn?oid=076&aid=0003702615\n",
      "https://sports.news.naver.com/news.nhn?oid=076&aid=0003702614\n",
      "https://sports.news.naver.com/news.nhn?oid=076&aid=0003702611\n",
      "https://sports.news.naver.com/news.nhn?oid=076&aid=0003702608\n",
      "https://sports.news.naver.com/news.nhn?oid=076&aid=0003702610\n",
      "https://sports.news.naver.com/news.nhn?oid=076&aid=0003702612\n",
      "https://sports.news.naver.com/news.nhn?oid=076&aid=0003702609\n",
      "https://sports.news.naver.com/news.nhn?oid=076&aid=0003702606\n",
      "https://sports.news.naver.com/news.nhn?oid=076&aid=0003702607\n",
      "https://sports.news.naver.com/news.nhn?oid=076&aid=0003702600\n",
      "https://sports.news.naver.com/news.nhn?oid=477&aid=0000289318\n",
      "https://sports.news.naver.com/news.nhn?oid=410&aid=0000768741\n",
      "https://news.naver.com/main/read.nhn?mode=LSD&mid=sec&sid1=101&oid=025&aid=0003084456\n",
      "https://news.naver.com/main/read.nhn?mode=LSD&mid=sec&sid1=103&oid=014&aid=0004599839\n",
      "https://sports.news.naver.com/news.nhn?oid=117&aid=0003472096\n",
      "https://sports.news.naver.com/news.nhn?oid=529&aid=0000053209\n",
      "https://sports.news.naver.com/news.nhn?oid=311&aid=0001274334\n",
      "https://sports.news.naver.com/news.nhn?oid=047&aid=0002305214\n",
      "https://sports.news.naver.com/news.nhn?oid=396&aid=0000575365\n",
      "https://sports.news.naver.com/news.nhn?oid=001&aid=0012255540\n",
      "https://sports.news.naver.com/news.nhn?oid=003&aid=0010389060\n",
      "https://sports.news.naver.com/news.nhn?oid=001&aid=0012255498\n",
      "https://sports.news.naver.com/news.nhn?oid=109&aid=0004367537\n",
      "https://sports.news.naver.com/news.nhn?oid=450&aid=0000072637\n",
      "https://sports.news.naver.com/news.nhn?oid=076&aid=0003702526\n",
      "https://sports.news.naver.com/news.nhn?oid=472&aid=0000022205\n",
      "https://sports.news.naver.com/news.nhn?oid=057&aid=0001557140\n",
      "https://news.naver.com/main/read.nhn?mode=LSD&mid=sec&sid1=102&oid=009&aid=0004762071\n",
      "https://sports.news.naver.com/news.nhn?oid=076&aid=0003702487\n",
      "https://sports.news.naver.com/news.nhn?oid=450&aid=0000072632\n",
      "https://sports.news.naver.com/news.nhn?oid=529&aid=0000053200\n",
      "https://sports.news.naver.com/news.nhn?oid=076&aid=0003702467\n",
      "https://sports.news.naver.com/news.nhn?oid=005&aid=0001419733\n",
      "https://sports.news.naver.com/news.nhn?oid=311&aid=0001274225\n",
      "https://sports.news.naver.com/news.nhn?oid=081&aid=0003170446\n",
      "https://sports.news.naver.com/news.nhn?oid=108&aid=0002938792\n",
      "https://sports.news.naver.com/news.nhn?oid=005&aid=0001419712\n",
      "https://sports.news.naver.com/news.nhn?oid=005&aid=0001419723\n",
      "https://sports.news.naver.com/news.nhn?oid=023&aid=0003601104\n",
      "https://news.naver.com/main/read.nhn?mode=LSD&mid=sec&sid1=102&oid=087&aid=0000835887\n",
      "https://sports.news.naver.com/news.nhn?oid=023&aid=0003601054\n",
      "https://sports.news.naver.com/news.nhn?oid=025&aid=0003084321\n",
      "https://sports.news.naver.com/news.nhn?oid=022&aid=0003560405\n",
      "https://news.naver.com/main/read.nhn?mode=LSD&mid=sec&sid1=101&oid=023&aid=0003601048\n",
      "https://sports.news.naver.com/news.nhn?oid=001&aid=0012255059\n",
      "https://sports.news.naver.com/news.nhn?oid=008&aid=0004555961\n",
      "https://sports.news.naver.com/news.nhn?oid=448&aid=0000321135\n",
      "https://sports.news.naver.com/news.nhn?oid=082&aid=0001074313\n",
      "https://sports.news.naver.com/news.nhn?oid=425&aid=0000116106\n",
      "https://sports.news.naver.com/news.nhn?oid=449&aid=0000205704\n",
      "https://sports.news.naver.com/news.nhn?oid=117&aid=0003471918\n",
      "https://sports.news.naver.com/news.nhn?oid=529&aid=0000053192\n",
      "https://news.naver.com/main/read.nhn?mode=LSD&mid=sec&sid1=103&oid=082&aid=0001074297\n",
      "https://sports.news.naver.com/news.nhn?oid=005&aid=0001419596\n",
      "https://sports.news.naver.com/news.nhn?oid=031&aid=0000587750\n",
      "https://sports.news.naver.com/news.nhn?oid=421&aid=0005217431\n",
      "https://sports.news.naver.com/news.nhn?oid=079&aid=0003478147\n",
      "https://sports.news.naver.com/news.nhn?oid=421&aid=0005217419\n",
      "https://sports.news.naver.com/news.nhn?oid=018&aid=0004873642\n",
      "https://sports.news.naver.com/news.nhn?oid=421&aid=0005217417\n",
      "https://sports.news.naver.com/news.nhn?oid=081&aid=0003170316\n",
      "https://news.naver.com/main/read.nhn?mode=LSD&mid=sec&sid1=101&oid=015&aid=0004511902\n",
      "https://sports.news.naver.com/news.nhn?oid=119&aid=0002475132\n",
      "/Users/lisemara/miniforge3/envs/tf/lib/python3.8/site-packages/ipykernel/ipkernel.py:283: DeprecationWarning: `should_run_async` will not call `transform_cell` automatically in the future. Please pass the result to `transformed_cell` argument and any exception that happen during thetransform in `preprocessing_exc_tuple` in IPython 7.17 and above.\n",
      "  and should_run_async(code)\n"
     ]
    }
   ],
   "source": [
    "naver_news_link = []\n",
    "\n",
    "for page in news_data:\n",
    "    #print(page)\n",
    "    page_news_link = []\n",
    "    \n",
    "    for item in page['items']:\n",
    "        #print(item)\n",
    "        temp_link = item['link']\n",
    "        #print(temp_link)\n",
    "        if \"naver\" in temp_link:\n",
    "            page_news_link.append(temp_link)\n",
    "    \n",
    "    naver_news_link.append(page_news_link)\n",
    "        \n",
    "\n",
    "# 사이트 링크만 가져오기\n",
    "for page in naver_news_link:\n",
    "    for link in page:\n",
    "        print(link)"
   ]
  },
  {
   "cell_type": "code",
   "execution_count": null,
   "metadata": {},
   "outputs": [],
   "source": []
  },
  {
   "cell_type": "markdown",
   "metadata": {},
   "source": [
    "### 가상 크롬드라이버 다운로드\n",
    "- 크롬 드라이브 다운로드 : https://chromedriver.chromium.org/downloads\n",
    "- 윈도우 10의 경우 chromedriver.exe"
   ]
  },
  {
   "cell_type": "code",
   "execution_count": 53,
   "metadata": {},
   "outputs": [
    {
     "output_type": "stream",
     "name": "stderr",
     "text": [
      "/Users/lisemara/miniforge3/envs/tf/lib/python3.8/site-packages/ipykernel/ipkernel.py:283: DeprecationWarning: `should_run_async` will not call `transform_cell` automatically in the future. Please pass the result to `transformed_cell` argument and any exception that happen during thetransform in `preprocessing_exc_tuple` in IPython 7.17 and above.\n  and should_run_async(code)\n"
     ]
    }
   ],
   "source": [
    "from selenium import webdriver\n",
    "\n",
    "# for windows\n",
    "# driver = webdriver.Chrome('./driver/chromedriver.exe')\n",
    "\n",
    "# for mac m1\n",
    "driver = webdriver.Chrome('./driver/chromedriver')"
   ]
  },
  {
   "cell_type": "markdown",
   "metadata": {},
   "source": [
    "### 라이브러리 불러오기"
   ]
  },
  {
   "cell_type": "code",
   "execution_count": 54,
   "metadata": {},
   "outputs": [
    {
     "output_type": "stream",
     "name": "stderr",
     "text": [
      "/Users/lisemara/miniforge3/envs/tf/lib/python3.8/site-packages/ipykernel/ipkernel.py:283: DeprecationWarning: `should_run_async` will not call `transform_cell` automatically in the future. Please pass the result to `transformed_cell` argument and any exception that happen during thetransform in `preprocessing_exc_tuple` in IPython 7.17 and above.\n  and should_run_async(code)\n"
     ]
    }
   ],
   "source": [
    "import pandas as pd\n",
    "import numpy as np\n",
    "from selenium import webdriver\n",
    "from tqdm import tqdm_notebook\n",
    "import requests\n",
    "import pickle\n",
    "import re\n",
    "import ast\n",
    "\n",
    "from bs4 import BeautifulSoup \n",
    "from urllib.request import urlopen\n",
    "import urllib\n",
    "import time"
   ]
  },
  {
   "cell_type": "code",
   "execution_count": 55,
   "metadata": {},
   "outputs": [
    {
     "output_type": "stream",
     "name": "stderr",
     "text": [
      "/Users/lisemara/miniforge3/envs/tf/lib/python3.8/site-packages/ipykernel/ipkernel.py:283: DeprecationWarning: `should_run_async` will not call `transform_cell` automatically in the future. Please pass the result to `transformed_cell` argument and any exception that happen during thetransform in `preprocessing_exc_tuple` in IPython 7.17 and above.\n  and should_run_async(code)\n<ipython-input-55-1b13de154505>:5: TqdmDeprecationWarning: This function will be removed in tqdm==5.0.0\nPlease use `tqdm.notebook.tqdm` instead of `tqdm.tqdm_notebook`\n  for n in tqdm_notebook(range(len(naver_news_link))):\n"
     ]
    },
    {
     "output_type": "display_data",
     "data": {
      "text/plain": "  0%|          | 0/10 [00:00<?, ?it/s]",
      "application/vnd.jupyter.widget-view+json": {
       "version_major": 2,
       "version_minor": 0,
       "model_id": "3adf5fa2fc654e27b442652f733e22ca"
      }
     },
     "metadata": {}
    },
    {
     "output_type": "stream",
     "name": "stderr",
     "text": [
      "<ipython-input-55-1b13de154505>:10: TqdmDeprecationWarning: This function will be removed in tqdm==5.0.0\nPlease use `tqdm.notebook.tqdm` instead of `tqdm.tqdm_notebook`\n  for idx in tqdm_notebook(range(len(naver_news_link[n]))):\n"
     ]
    },
    {
     "output_type": "display_data",
     "data": {
      "text/plain": "  0%|          | 0/5 [00:00<?, ?it/s]",
      "application/vnd.jupyter.widget-view+json": {
       "version_major": 2,
       "version_minor": 0,
       "model_id": "dde246d6029f483e881576e4a159b10a"
      }
     },
     "metadata": {}
    },
    {
     "output_type": "stream",
     "name": "stdout",
     "text": [
      "https://sports.news.naver.com/news.nhn?oid=421&aid=0005218962\n",
      "https://sports.news.naver.com/news.nhn?oid=421&aid=0005218935\n",
      "https://sports.news.naver.com/news.nhn?oid=018&aid=0004874206\n",
      "https://sports.news.naver.com/news.nhn?oid=076&aid=0003702618\n",
      "https://sports.news.naver.com/news.nhn?oid=076&aid=0003702619\n",
      "<ipython-input-55-1b13de154505>:10: TqdmDeprecationWarning: This function will be removed in tqdm==5.0.0\n",
      "Please use `tqdm.notebook.tqdm` instead of `tqdm.tqdm_notebook`\n",
      "  for idx in tqdm_notebook(range(len(naver_news_link[n]))):\n"
     ]
    },
    {
     "output_type": "display_data",
     "data": {
      "text/plain": "  0%|          | 0/10 [00:00<?, ?it/s]",
      "application/vnd.jupyter.widget-view+json": {
       "version_major": 2,
       "version_minor": 0,
       "model_id": "23924b4a877a4ba68386eef9aab02710"
      }
     },
     "metadata": {}
    },
    {
     "output_type": "stream",
     "name": "stdout",
     "text": [
      "https://sports.news.naver.com/news.nhn?oid=076&aid=0003702619\n",
      "https://sports.news.naver.com/news.nhn?oid=076&aid=0003702615\n",
      "https://sports.news.naver.com/news.nhn?oid=076&aid=0003702614\n",
      "https://sports.news.naver.com/news.nhn?oid=076&aid=0003702611\n",
      "https://sports.news.naver.com/news.nhn?oid=076&aid=0003702608\n",
      "https://sports.news.naver.com/news.nhn?oid=076&aid=0003702610\n",
      "https://sports.news.naver.com/news.nhn?oid=076&aid=0003702612\n",
      "https://sports.news.naver.com/news.nhn?oid=076&aid=0003702609\n",
      "https://sports.news.naver.com/news.nhn?oid=076&aid=0003702606\n",
      "https://sports.news.naver.com/news.nhn?oid=076&aid=0003702607\n",
      "<ipython-input-55-1b13de154505>:10: TqdmDeprecationWarning: This function will be removed in tqdm==5.0.0\n",
      "Please use `tqdm.notebook.tqdm` instead of `tqdm.tqdm_notebook`\n",
      "  for idx in tqdm_notebook(range(len(naver_news_link[n]))):\n"
     ]
    },
    {
     "output_type": "display_data",
     "data": {
      "text/plain": "  0%|          | 0/6 [00:00<?, ?it/s]",
      "application/vnd.jupyter.widget-view+json": {
       "version_major": 2,
       "version_minor": 0,
       "model_id": "6ab9f180d28f44c69cfa2add0bde09e0"
      }
     },
     "metadata": {}
    },
    {
     "output_type": "stream",
     "name": "stdout",
     "text": [
      "https://sports.news.naver.com/news.nhn?oid=076&aid=0003702600\n",
      "https://sports.news.naver.com/news.nhn?oid=477&aid=0000289318\n",
      "https://sports.news.naver.com/news.nhn?oid=410&aid=0000768741\n",
      "https://news.naver.com/main/read.nhn?mode=LSD&mid=sec&sid1=101&oid=025&aid=0003084456\n",
      "https://news.naver.com/main/read.nhn?mode=LSD&mid=sec&sid1=103&oid=014&aid=0004599839\n",
      "https://sports.news.naver.com/news.nhn?oid=117&aid=0003472096\n",
      "<ipython-input-55-1b13de154505>:10: TqdmDeprecationWarning: This function will be removed in tqdm==5.0.0\n",
      "Please use `tqdm.notebook.tqdm` instead of `tqdm.tqdm_notebook`\n",
      "  for idx in tqdm_notebook(range(len(naver_news_link[n]))):\n"
     ]
    },
    {
     "output_type": "display_data",
     "data": {
      "text/plain": "  0%|          | 0/6 [00:00<?, ?it/s]",
      "application/vnd.jupyter.widget-view+json": {
       "version_major": 2,
       "version_minor": 0,
       "model_id": "28ce6287eca843ca8590f78cc2351691"
      }
     },
     "metadata": {}
    },
    {
     "output_type": "stream",
     "name": "stdout",
     "text": [
      "https://sports.news.naver.com/news.nhn?oid=529&aid=0000053209\n",
      "https://sports.news.naver.com/news.nhn?oid=311&aid=0001274334\n",
      "https://sports.news.naver.com/news.nhn?oid=047&aid=0002305214\n",
      "https://sports.news.naver.com/news.nhn?oid=396&aid=0000575365\n",
      "https://sports.news.naver.com/news.nhn?oid=001&aid=0012255540\n",
      "https://sports.news.naver.com/news.nhn?oid=003&aid=0010389060\n",
      "<ipython-input-55-1b13de154505>:10: TqdmDeprecationWarning: This function will be removed in tqdm==5.0.0\n",
      "Please use `tqdm.notebook.tqdm` instead of `tqdm.tqdm_notebook`\n",
      "  for idx in tqdm_notebook(range(len(naver_news_link[n]))):\n"
     ]
    },
    {
     "output_type": "display_data",
     "data": {
      "text/plain": "  0%|          | 0/8 [00:00<?, ?it/s]",
      "application/vnd.jupyter.widget-view+json": {
       "version_major": 2,
       "version_minor": 0,
       "model_id": "5b64a434a1f44970a19738b7fe82a5ab"
      }
     },
     "metadata": {}
    },
    {
     "output_type": "stream",
     "name": "stdout",
     "text": [
      "https://sports.news.naver.com/news.nhn?oid=001&aid=0012255498\n",
      "https://sports.news.naver.com/news.nhn?oid=109&aid=0004367537\n",
      "https://sports.news.naver.com/news.nhn?oid=450&aid=0000072637\n",
      "https://sports.news.naver.com/news.nhn?oid=076&aid=0003702526\n",
      "https://sports.news.naver.com/news.nhn?oid=472&aid=0000022205\n",
      "https://sports.news.naver.com/news.nhn?oid=057&aid=0001557140\n",
      "https://news.naver.com/main/read.nhn?mode=LSD&mid=sec&sid1=102&oid=009&aid=0004762071\n",
      "https://sports.news.naver.com/news.nhn?oid=076&aid=0003702487\n",
      "<ipython-input-55-1b13de154505>:10: TqdmDeprecationWarning: This function will be removed in tqdm==5.0.0\n",
      "Please use `tqdm.notebook.tqdm` instead of `tqdm.tqdm_notebook`\n",
      "  for idx in tqdm_notebook(range(len(naver_news_link[n]))):\n"
     ]
    },
    {
     "output_type": "display_data",
     "data": {
      "text/plain": "  0%|          | 0/9 [00:00<?, ?it/s]",
      "application/vnd.jupyter.widget-view+json": {
       "version_major": 2,
       "version_minor": 0,
       "model_id": "76724ad03bde42bcb2859ce0e96717ee"
      }
     },
     "metadata": {}
    },
    {
     "output_type": "stream",
     "name": "stdout",
     "text": [
      "https://sports.news.naver.com/news.nhn?oid=450&aid=0000072632\n",
      "https://sports.news.naver.com/news.nhn?oid=529&aid=0000053200\n",
      "https://sports.news.naver.com/news.nhn?oid=076&aid=0003702467\n",
      "https://sports.news.naver.com/news.nhn?oid=005&aid=0001419733\n",
      "https://sports.news.naver.com/news.nhn?oid=311&aid=0001274225\n",
      "https://sports.news.naver.com/news.nhn?oid=081&aid=0003170446\n",
      "https://sports.news.naver.com/news.nhn?oid=108&aid=0002938792\n",
      "https://sports.news.naver.com/news.nhn?oid=005&aid=0001419712\n",
      "https://sports.news.naver.com/news.nhn?oid=005&aid=0001419723\n",
      "<ipython-input-55-1b13de154505>:10: TqdmDeprecationWarning: This function will be removed in tqdm==5.0.0\n",
      "Please use `tqdm.notebook.tqdm` instead of `tqdm.tqdm_notebook`\n",
      "  for idx in tqdm_notebook(range(len(naver_news_link[n]))):\n"
     ]
    },
    {
     "output_type": "display_data",
     "data": {
      "text/plain": "  0%|          | 0/5 [00:00<?, ?it/s]",
      "application/vnd.jupyter.widget-view+json": {
       "version_major": 2,
       "version_minor": 0,
       "model_id": "0c71a65439bf4618948587a1c3b4909a"
      }
     },
     "metadata": {}
    },
    {
     "output_type": "stream",
     "name": "stdout",
     "text": [
      "https://sports.news.naver.com/news.nhn?oid=023&aid=0003601104\n",
      "https://news.naver.com/main/read.nhn?mode=LSD&mid=sec&sid1=102&oid=087&aid=0000835887\n",
      "https://sports.news.naver.com/news.nhn?oid=023&aid=0003601054\n",
      "https://sports.news.naver.com/news.nhn?oid=025&aid=0003084321\n",
      "https://sports.news.naver.com/news.nhn?oid=022&aid=0003560405\n",
      "<ipython-input-55-1b13de154505>:10: TqdmDeprecationWarning: This function will be removed in tqdm==5.0.0\n",
      "Please use `tqdm.notebook.tqdm` instead of `tqdm.tqdm_notebook`\n",
      "  for idx in tqdm_notebook(range(len(naver_news_link[n]))):\n"
     ]
    },
    {
     "output_type": "display_data",
     "data": {
      "text/plain": "  0%|          | 0/5 [00:00<?, ?it/s]",
      "application/vnd.jupyter.widget-view+json": {
       "version_major": 2,
       "version_minor": 0,
       "model_id": "8d715f6d1c3a4bbfb0ce3384db88dc22"
      }
     },
     "metadata": {}
    },
    {
     "output_type": "stream",
     "name": "stdout",
     "text": [
      "https://news.naver.com/main/read.nhn?mode=LSD&mid=sec&sid1=101&oid=023&aid=0003601048\n",
      "https://sports.news.naver.com/news.nhn?oid=001&aid=0012255059\n",
      "https://sports.news.naver.com/news.nhn?oid=008&aid=0004555961\n",
      "https://sports.news.naver.com/news.nhn?oid=448&aid=0000321135\n",
      "https://sports.news.naver.com/news.nhn?oid=082&aid=0001074313\n",
      "<ipython-input-55-1b13de154505>:10: TqdmDeprecationWarning: This function will be removed in tqdm==5.0.0\n",
      "Please use `tqdm.notebook.tqdm` instead of `tqdm.tqdm_notebook`\n",
      "  for idx in tqdm_notebook(range(len(naver_news_link[n]))):\n"
     ]
    },
    {
     "output_type": "display_data",
     "data": {
      "text/plain": "  0%|          | 0/7 [00:00<?, ?it/s]",
      "application/vnd.jupyter.widget-view+json": {
       "version_major": 2,
       "version_minor": 0,
       "model_id": "f0af721103694544b685e1899f34888f"
      }
     },
     "metadata": {}
    },
    {
     "output_type": "stream",
     "name": "stdout",
     "text": [
      "https://sports.news.naver.com/news.nhn?oid=425&aid=0000116106\n",
      "https://sports.news.naver.com/news.nhn?oid=449&aid=0000205704\n",
      "https://sports.news.naver.com/news.nhn?oid=117&aid=0003471918\n",
      "https://sports.news.naver.com/news.nhn?oid=529&aid=0000053192\n",
      "https://news.naver.com/main/read.nhn?mode=LSD&mid=sec&sid1=103&oid=082&aid=0001074297\n",
      "https://sports.news.naver.com/news.nhn?oid=005&aid=0001419596\n",
      "https://sports.news.naver.com/news.nhn?oid=031&aid=0000587750\n",
      "<ipython-input-55-1b13de154505>:10: TqdmDeprecationWarning: This function will be removed in tqdm==5.0.0\n",
      "Please use `tqdm.notebook.tqdm` instead of `tqdm.tqdm_notebook`\n",
      "  for idx in tqdm_notebook(range(len(naver_news_link[n]))):\n"
     ]
    },
    {
     "output_type": "display_data",
     "data": {
      "text/plain": "  0%|          | 0/8 [00:00<?, ?it/s]",
      "application/vnd.jupyter.widget-view+json": {
       "version_major": 2,
       "version_minor": 0,
       "model_id": "dd2ddba77ad04f009f41b59c9a30e955"
      }
     },
     "metadata": {}
    },
    {
     "output_type": "stream",
     "name": "stdout",
     "text": [
      "https://sports.news.naver.com/news.nhn?oid=421&aid=0005217431\n",
      "https://sports.news.naver.com/news.nhn?oid=079&aid=0003478147\n",
      "https://sports.news.naver.com/news.nhn?oid=421&aid=0005217419\n",
      "https://sports.news.naver.com/news.nhn?oid=018&aid=0004873642\n",
      "https://sports.news.naver.com/news.nhn?oid=421&aid=0005217417\n",
      "https://sports.news.naver.com/news.nhn?oid=081&aid=0003170316\n",
      "https://news.naver.com/main/read.nhn?mode=LSD&mid=sec&sid1=101&oid=015&aid=0004511902\n",
      "https://sports.news.naver.com/news.nhn?oid=119&aid=0002475132\n",
      "['OUTLINK', 'OUTLINK', 'OUTLINK', 'OUTLINK', 'OUTLINK']\n",
      "==================================\n",
      "['OUTLINK', 'OUTLINK', 'OUTLINK', 'OUTLINK', 'OUTLINK']\n"
     ]
    }
   ],
   "source": [
    "naver_news_title = []\n",
    "naver_news_content = []\n",
    "\n",
    "\n",
    "for n in tqdm_notebook(range(len(naver_news_link))):\n",
    "    #print(n)\n",
    "    news_page_title = []\n",
    "    news_page_content = []\n",
    "    \n",
    "    for idx in tqdm_notebook(range(len(naver_news_link[n]))):        \n",
    "        \n",
    "    ########### 긁어온 URL로 접속하기 ############    \n",
    "        try:\n",
    "            driver.get(naver_news_link[n][idx])\n",
    "            print(naver_news_link[n][idx])\n",
    "            \n",
    "        except:\n",
    "            print(\"Timeout!\")\n",
    "            continue        \n",
    "        \n",
    "        try:\n",
    "            response = driver.page_source\n",
    "            \n",
    "        except UnexpectedAlertPresentException:\n",
    "            driver.switch_to_alert().accept()\n",
    "            print(\"게시글이 삭제된 경우입니다.\")\n",
    "            continue\n",
    "        \n",
    "        soup = BeautifulSoup(response, \"html.parser\")\n",
    "        \n",
    "        ###### 뉴스 타이틀 긁어오기 ######        \n",
    "        title = None\n",
    "        \n",
    "        try:\n",
    "            item = soup.find('div', class_=\"article_info\")\n",
    "            title = item.find('h3', class_=\"tts_head\").get_text()\n",
    "            #print(title)\n",
    "\n",
    "        except:\n",
    "            title = \"OUTLINK\"\n",
    "        \n",
    "        #print(title)\n",
    "        news_page_title.append(title)\n",
    "        \n",
    "        \n",
    "        ###### 뉴스 본문 긁어오기 ######        \n",
    "        doc = None\n",
    "        text = \"\"\n",
    "                \n",
    "        data = soup.find_all(\"div\", {\"class\" : \"_article_body_contents\"})\n",
    "        if data:\n",
    "            for item in data:\n",
    "\n",
    "                text = text + str(item.find_all(text=True)).strip()\n",
    "                text = ast.literal_eval(text)\n",
    "                doc = ' '.join(text)\n",
    "   \n",
    "        else:\n",
    "            doc = \"OUTLINK\"\n",
    "            \n",
    "        news_page_content.append(doc.replace('\\n', ' '))\n",
    "\n",
    "                \n",
    "    naver_news_title.append(news_page_title)\n",
    "    naver_news_content.append(news_page_content)\n",
    "\n",
    "    time.sleep(2)\n",
    "    \n",
    "    \n",
    "print(naver_news_title[0])\n",
    "print(\"==================================\")\n",
    "print(naver_news_content[0])"
   ]
  },
  {
   "cell_type": "code",
   "execution_count": 56,
   "metadata": {},
   "outputs": [
    {
     "output_type": "stream",
     "name": "stdout",
     "text": [
      "['OUTLINK', 'OUTLINK', 'OUTLINK', 'OUTLINK', 'OUTLINK']\n",
      "/Users/lisemara/miniforge3/envs/tf/lib/python3.8/site-packages/ipykernel/ipkernel.py:283: DeprecationWarning: `should_run_async` will not call `transform_cell` automatically in the future. Please pass the result to `transformed_cell` argument and any exception that happen during thetransform in `preprocessing_exc_tuple` in IPython 7.17 and above.\n",
      "  and should_run_async(code)\n"
     ]
    }
   ],
   "source": [
    "print(naver_news_title[0])"
   ]
  },
  {
   "cell_type": "code",
   "execution_count": 57,
   "metadata": {},
   "outputs": [
    {
     "output_type": "stream",
     "name": "stdout",
     "text": [
      "['OUTLINK', 'OUTLINK', 'OUTLINK', 'OUTLINK', 'OUTLINK']\n",
      "/Users/lisemara/miniforge3/envs/tf/lib/python3.8/site-packages/ipykernel/ipkernel.py:283: DeprecationWarning: `should_run_async` will not call `transform_cell` automatically in the future. Please pass the result to `transformed_cell` argument and any exception that happen during thetransform in `preprocessing_exc_tuple` in IPython 7.17 and above.\n",
      "  and should_run_async(code)\n"
     ]
    }
   ],
   "source": [
    "print(naver_news_content[0])"
   ]
  },
  {
   "cell_type": "code",
   "execution_count": 58,
   "metadata": {},
   "outputs": [
    {
     "output_type": "stream",
     "name": "stdout",
     "text": [
      "10\n",
      "10\n",
      "/Users/lisemara/miniforge3/envs/tf/lib/python3.8/site-packages/ipykernel/ipkernel.py:283: DeprecationWarning: `should_run_async` will not call `transform_cell` automatically in the future. Please pass the result to `transformed_cell` argument and any exception that happen during thetransform in `preprocessing_exc_tuple` in IPython 7.17 and above.\n",
      "  and should_run_async(code)\n"
     ]
    }
   ],
   "source": [
    "print(len(naver_news_title))\n",
    "print(len(naver_news_content))"
   ]
  },
  {
   "cell_type": "code",
   "execution_count": 16,
   "metadata": {},
   "outputs": [],
   "source": [
    "with open(\"naver_news_title.pk\", \"wb\") as f:\n",
    "    pickle.dump(naver_news_title, f)\n",
    "    \n",
    "with open(\"naver_news_content.pk\", \"wb\") as f:\n",
    "    pickle.dump(naver_news_content, f)"
   ]
  },
  {
   "cell_type": "markdown",
   "metadata": {},
   "source": [
    "-----------------------------------------------\n",
    "## gensim으로 네이버 뉴스를 이용한 토픽 모델링 \n",
    "- 1. 토픽 모델링을 적용하기 위해 텍스트를 전처리\n",
    "- 2. gensim을 사용한 토픽 모델링 "
   ]
  },
  {
   "cell_type": "markdown",
   "metadata": {},
   "source": [
    "### 1. 토픽 모델링을 위한 라이브러리 불러오기"
   ]
  },
  {
   "cell_type": "code",
   "execution_count": 28,
   "metadata": {},
   "outputs": [],
   "source": [
    "from tqdm import tqdm_notebook # progress bar\n",
    "from konlpy.tag import Mecab #Okt 등 형태소 분석기 불러오기\n",
    "import numpy as np\n",
    "import string # 특수문자\n",
    "import re\n",
    "import warnings # 경고 알림 제거\n",
    "import pickle\n",
    "from gensim import corpora\n",
    "from gensim import models\n",
    "import matplotlib.pyplot as plt\n",
    "%matplotlib inline\n",
    "\n",
    "warnings.filterwarnings(\"ignore\", category=DeprecationWarning) "
   ]
  },
  {
   "cell_type": "markdown",
   "metadata": {},
   "source": [
    "### 2. 텍스트 전처리 함수 만들기"
   ]
  },
  {
   "cell_type": "code",
   "execution_count": 33,
   "metadata": {},
   "outputs": [],
   "source": [
    "def read_documents(input_file_name):    \n",
    "    corpus = []    \n",
    "    \n",
    "    with open(input_file_name, 'rb') as f:\n",
    "        temp_corpus = pickle.load(f)\n",
    "        \n",
    "    for page in temp_corpus:\n",
    "        corpus += page\n",
    "    \n",
    "    return corpus\n",
    "\n",
    "def text_cleaning(docs):\n",
    "    # 한국어를 제외한 글자를 제거하는 함수.\n",
    "    for doc in docs:\n",
    "        doc = re.sub(\"[^ㄱ-ㅎㅏ-ㅣ가-힣 ]\", \"\", str(doc))\n",
    "\n",
    "    return docs\n",
    "\n",
    "def define_stopwords(path):    \n",
    "    SW = set()\n",
    "    # 불용어를 추가하는 방법 1.\n",
    "    for i in string.punctuation:\n",
    "        SW.add(i)\n",
    "    # 불용어를 추가하는 방법 2.\n",
    "    # stopwords-ko.txt에 직접 추가    \n",
    "    with open(path, encoding='cp949') as f:\n",
    "        for word in f:\n",
    "            SW.add(word)\n",
    "    return SW\n",
    "\n",
    "def text_tokenizing(corpus, tokenizer):    \n",
    "    mecab = Mecab()\n",
    "    token_corpus = []    \n",
    "\n",
    "    if tokenizer == \"noun\":\n",
    "        for n in tqdm_notebook(range(len(corpus)), desc=\"Preprocessing\"):\n",
    "            token_text = mecab.nouns(corpus[n])\n",
    "            token_text = [word for word in token_text if word not in SW and len(word) > 1]                \n",
    "            token_corpus.append(token_text)\n",
    "            \n",
    "    elif tokenized == \"morph\":\n",
    "        for n in tqdm_notebook(range(len(corpus)), desc=\"Preprocessing\"):\n",
    "            token_text = mecab.morphs(corpus[n])\n",
    "            token_text = [word for word in token_text if word not in SW and len(word) > 1]\n",
    "            token_corpus.append(token_text)\n",
    "\n",
    "    elif tokenizer == \"word\":\n",
    "        for n in tqdm_notebook(range(len(corpus)), desc=\"Preprocessing\"):\n",
    "            token_text = corpus[n].split()\n",
    "            token_text = [word for word in token_text if word not in SW and len(word) > 1]\n",
    "            token_corpus.append(token_text)        \n",
    "\n",
    "    return token_corpus"
   ]
  },
  {
   "cell_type": "code",
   "execution_count": 34,
   "metadata": {},
   "outputs": [
    {
     "output_type": "display_data",
     "data": {
      "text/plain": "Preprocessing:   0%|          | 0/10 [00:00<?, ?it/s]",
      "application/vnd.jupyter.widget-view+json": {
       "version_major": 2,
       "version_minor": 0,
       "model_id": "97688340c2324a59adf0097a15d96206"
      }
     },
     "metadata": {}
    }
   ],
   "source": [
    "input_file_name = \"data/naver_news_content.pk\"\n",
    "documents = read_documents(input_file_name)\n",
    "SW = define_stopwords(\"data/stopwords-ko.txt\")\n",
    "cleaned_text = text_cleaning(documents)\n",
    "tokenized_text = text_tokenizing(cleaned_text, tokenizer=\"noun\") #tokenizer= \"noun\" or \"word\""
   ]
  },
  {
   "cell_type": "code",
   "execution_count": 35,
   "metadata": {},
   "outputs": [
    {
     "output_type": "stream",
     "name": "stdout",
     "text": [
      "['본문', '내용', '플레이어', '플레이어', '오류', '우회', '함수', '추가', '봄철', '날씨', '성장', '기대감', '산업', '골프', '시장', '코로나', '대다수', '사람', '밀집', '공간', '활동', '해외여행', '야외', '소규모', '인원', '골프', '급증', '때문', '한국', '골프', '패션', '강국', '골프', '용품', '전체', '시장', '규모', '정도', '관련', '업계', '의류', '매출액', '기점', '일본', '추월', '추정', '국내외', '골프', '브랜드', '혹한', '추위', '시즌', '증가', '추세', '기존', '골프', '고객', '시장', '합류', '골퍼', '감각', '트렌디', '라인업', '무장', '소비자', '눈길', '골퍼', '격식', '골프', '감각', '트렌디', '최근', '골프', '시장', '매출', '연령', '골퍼', '과언', '한국', '레저', '산업', '연구소', '국내', '골프', '인구', '가운데', '올해', '비중', '예상', '코로나', '골프', '기존', '장년층', '세대', '자연', '만끽', '트렌디', '스포츠', '탈바꿈', '때문', '골프', '웨어', '변화', '바람', '감각', '개성', '골프', '골퍼', '선택', '지난해', '올해', '골프', '브랜드', '수십', '코오롱', '골프', '모델', '사진', '제공', '코오롱', '인더스', '트리', '부문', '코오롱', '전개', '골프', '브랜드', '시즌', '골프', '패션', '주요', '키워드', '컬러', '패턴', '실루엣', '활용', '이번', '시즌', '파스텔', '컬러', '소비자', '눈길', '한눈', '특징', '컬러', '부담', '경우', '블랙', '계열', '모노톤', '아이템', '대신', '패턴', '제품', '아저씨', '이미지', '전반', '파스텔', '컬러', '활용', '장갑', '모자', '양말', '슈즈', '컬러', '아이템', '매치', '컬러', '계열', '의류', '착용', '포인트', '스타일링', '완성', '코오롱', '온라인', '유통', '전용', '브랜드', '골든', '베어', '전형', '골프', '착장', '대신', '오버', '와이드', '패턴', '접목', '스트리트', '무드', '제품', '후디', '팬츠', '기능', '소재', '편안', '골프', '플레이', '일상', '골프장', '이색', '엘지', '패션', '국내', '서티', '골프', '시장', '성장세', '주목', '고객', '필요', '자유', '분방', '개성', '스트리트', '캐주얼', '골프', '출시', '주력', '지난해', '더블', '플래그', '성별', '소화', '가능', '젠더', '리스', '스타일', '추구', '차별', '맨투맨', '후드', '캐주얼', '아이템', '골프', '웨어', '기능', '디테일', '눈길', '관계자', '골프', '웨어', '일상', '의류', '경계', '기존', '골프', '착장', '피로감', '고객', '골프', '웨어', '의지', '전통', '골프', '브랜드', '시즌', '편안', '제품', '무장', '골퍼', '변화', '물결', '기존', '골프', '브랜드', '영향', '골프', '브랜드', '전통', '강자', '페리어', '모델', '등장', '이미지', '변신', '엘르', '골프', '장년층', '고객', '타깃', '브랜드', '골프', '연령', '추위', '더위', '기승', '골프장', '사람', '관련', '브랜드', '제품', '출시', '모습', '시즌', '헤지스', '골프', '모델', '사진', '제공', '헤지스', '골프', '라이블리', '퍼포먼스', '브랜드', '슬로건', '기능', '요소', '강화', '신규', '콜렉션', '소재', '컬러', '패턴', '가지', '요소', '생동감', '활력', '골프', '웨어', '적극', '반영', '이번', '콜렉션', '신축성', '바탕', '편안', '착용감', '선사', '소재', '사용', '스윙', '동작', '최적', '기능', '탑재', '정형', '실루엣', '접목', '분위기', '코랄', '라벤더', '핑크', '파스텔', '중심', '컬러', '스펙트럼', '변칙', '스프', '라이트', '패턴', '활용', '패션', '강조', '특징', '헤지스', '골프', '관계자', '그동안', '골프', '웨어', '무채색', '중심', '최근', '컬러', '감각', '패턴', '전면', '라운드', '존재감', '방향', '전개', '닥스', '골프', '모델', '사진', '제공', '골프', '전통', '강자', '닥스', '골프', '어디', '프리미엄', '골프', '웨어', '브랜드', '이미지', '각인', '노력', '한창', '신축성', '착용감', '소재', '적극', '사용', '스윙', '필요', '기능', '탑재', '다운', '감각', '색상', '고급', '스타일리시', '느낌', '심플', '골프', '웨어', '선호', '골퍼', '겨냥', '로고', '노출', '최소', '로고', '리스', '랜딩', '전략', '별도', '구사', '프리미엄', '골프', '브랜드', '지포', '디자인', '스타일링', '프리미엄', '시장', '공략', '패럴', '라인', '여성', '클래식', '스타일', '크루', '스웨터', '플리츠', '스커트', '조거', '팬츠', '고객', '사이', '인기', '클래식', '골프', '갤리', '판매', '호조', '관련', '업계', '관계자', '골프', '비교', '안전', '실외', '스포츠', '인식', '아래', '고성장', '연령', '골프', '산업', '성장세', '한동안', '예상', '조민정', '기자', '축년', '丑年', '신년', '운세', '스포츠조선', '무단', '전재', '배포', '금지', '본문', '내용']\n"
     ]
    }
   ],
   "source": [
    "print(tokenized_text[0])"
   ]
  },
  {
   "cell_type": "markdown",
   "metadata": {},
   "source": [
    "### 3. 토픽 모델링에 사용할 행렬 생성"
   ]
  },
  {
   "cell_type": "markdown",
   "metadata": {},
   "source": [
    "### 1) 문서-단어 행렬(DTM, document-term matrix) 생성"
   ]
  },
  {
   "cell_type": "code",
   "execution_count": 36,
   "metadata": {},
   "outputs": [],
   "source": [
    "# 어휘(vocabulary) 학습\n",
    "dictionary = corpora.Dictionary(tokenized_text)\n",
    "\n",
    "# 문서-단어 행렬(document-term matrix) 생성\n",
    "corpus = [dictionary.doc2bow(text) for text in tokenized_text]"
   ]
  },
  {
   "cell_type": "code",
   "execution_count": 37,
   "metadata": {},
   "outputs": [
    {
     "output_type": "stream",
     "name": "stdout",
     "text": [
      "Dictionary(866 unique tokens: ['丑年', '가능', '가운데', '가지', '각인']...)\n"
     ]
    }
   ],
   "source": [
    "print(dictionary)"
   ]
  },
  {
   "cell_type": "code",
   "execution_count": 38,
   "metadata": {},
   "outputs": [
    {
     "output_type": "execute_result",
     "data": {
      "text/plain": [
       "[(0, 1), (1, 1), (2, 1), (3, 1), (4, 1)]"
      ]
     },
     "metadata": {},
     "execution_count": 38
    }
   ],
   "source": [
    "corpus[0][:5]"
   ]
  },
  {
   "cell_type": "markdown",
   "metadata": {},
   "source": [
    "### 2) TFIDF 문서-단어 행렬 생성"
   ]
  },
  {
   "cell_type": "code",
   "execution_count": 39,
   "metadata": {},
   "outputs": [
    {
     "output_type": "execute_result",
     "data": {
      "text/plain": [
       "[(0, 0.009807313812739896),\n",
       " (1, 0.005646233780150199),\n",
       " (2, 0.009807313812739896),\n",
       " (3, 0.018756382624583023),\n",
       " (4, 0.018756382624583023)]"
      ]
     },
     "metadata": {},
     "execution_count": 39
    }
   ],
   "source": [
    "# TFIDF 문서-단어 행렬 생성\n",
    "tfidf = models.TfidfModel(corpus)\n",
    "corpus_tfidf = tfidf[corpus]\n",
    "corpus_tfidf[0][:5]"
   ]
  },
  {
   "cell_type": "markdown",
   "metadata": {},
   "source": [
    "### 4.  LDA 모델 생성"
   ]
  },
  {
   "cell_type": "code",
   "execution_count": 40,
   "metadata": {},
   "outputs": [],
   "source": [
    "model = models.ldamodel.LdaModel(corpus, num_topics=4, id2word=dictionary)"
   ]
  },
  {
   "cell_type": "code",
   "execution_count": 41,
   "metadata": {},
   "outputs": [
    {
     "output_type": "execute_result",
     "data": {
      "text/plain": [
       "[('골프', 0.012917275),\n",
       " ('라이브', 0.011569076),\n",
       " ('내용', 0.009238664),\n",
       " ('플레이어', 0.007948687),\n",
       " ('코로나', 0.007480651),\n",
       " ('본문', 0.0066793715),\n",
       " ('쇼핑', 0.006363574),\n",
       " ('방송', 0.006298726),\n",
       " ('지역', 0.0056773047),\n",
       " ('관련', 0.0048488914)]"
      ]
     },
     "metadata": {},
     "execution_count": 41
    }
   ],
   "source": [
    "model.show_topic(0, 10)"
   ]
  },
  {
   "cell_type": "code",
   "execution_count": 42,
   "metadata": {},
   "outputs": [
    {
     "output_type": "execute_result",
     "data": {
      "text/plain": [
       "[('논문', 0.0218872),\n",
       " ('내용', 0.007530866),\n",
       " ('공식', 0.007372947),\n",
       " ('작업', 0.0070911176),\n",
       " ('관련', 0.007076665),\n",
       " ('코로나', 0.006926087),\n",
       " ('교수', 0.006845963),\n",
       " ('본문', 0.0066575673),\n",
       " ('골프', 0.0063517373),\n",
       " ('플레이어', 0.006013808)]"
      ]
     },
     "metadata": {},
     "execution_count": 42
    }
   ],
   "source": [
    "model.show_topic(1, 10)"
   ]
  },
  {
   "cell_type": "code",
   "execution_count": 43,
   "metadata": {},
   "outputs": [
    {
     "output_type": "execute_result",
     "data": {
      "text/plain": [
       "[('주사기', 0.023726763),\n",
       " ('골프', 0.020777758),\n",
       " ('접종', 0.013002172),\n",
       " ('백신', 0.011363307),\n",
       " ('바늘', 0.01135848),\n",
       " ('뉴시스', 0.0105008995),\n",
       " ('코로나', 0.0096233925),\n",
       " ('가능', 0.009474752),\n",
       " ('일본', 0.008287474),\n",
       " ('개발', 0.0072517507)]"
      ]
     },
     "metadata": {},
     "execution_count": 43
    }
   ],
   "source": [
    "model.show_topic(2, 10)"
   ]
  },
  {
   "cell_type": "code",
   "execution_count": 44,
   "metadata": {},
   "outputs": [
    {
     "output_type": "execute_result",
     "data": {
      "text/plain": [
       "[('골프', 0.017244989),\n",
       " ('코로나', 0.0065630255),\n",
       " ('내용', 0.0061169667),\n",
       " ('플레이어', 0.0058132615),\n",
       " ('서점', 0.0054026544),\n",
       " ('본문', 0.0053572776),\n",
       " ('벚꽃', 0.005336494),\n",
       " ('브랜드', 0.0048888437),\n",
       " ('관련', 0.0042908904),\n",
       " ('지역', 0.0042561367)]"
      ]
     },
     "metadata": {},
     "execution_count": 44
    }
   ],
   "source": [
    "model.show_topic(3, 10)"
   ]
  },
  {
   "cell_type": "markdown",
   "metadata": {},
   "source": [
    "### 5. 토픽 모델링을 추가하여 코드 완성하기"
   ]
  },
  {
   "cell_type": "code",
   "execution_count": 45,
   "metadata": {},
   "outputs": [],
   "source": [
    "# 토픽 개수, 키워드 개수를 정해주는 변수를 추가.\n",
    "NUM_TOPICS = 3 # 토픽의 수\n",
    "\n",
    "NUM_TOPIC_WORDS = 30 # 키워드 수\n",
    "\n",
    "def build_doc_term_mat(documents):\n",
    "    # 문서-단어 행렬 만들어주는 함수.\n",
    "    print(\"Building document-term matrix.\")\n",
    "    dictionary = corpora.Dictionary(documents)\n",
    "    corpus = [dictionary.doc2bow(document) for document in documents]        \n",
    "    return corpus, dictionary\n",
    "\n",
    "def print_topic_words(model):\n",
    "    # 토픽 모델링 결과를 출력해 주는 함수.\n",
    "    print(\"\\nPrinting topic words.\\n\")\n",
    "    \n",
    "    for topic_id in range(model.num_topics):\n",
    "        topic_word_probs = model.show_topic(topic_id, NUM_TOPIC_WORDS)\n",
    "        print(\"Topic ID: {}\".format(topic_id))\n",
    "        \n",
    "        for topic_word, prob in topic_word_probs:\n",
    "            print(\"\\t{}\\t{}\".format(topic_word, prob))            \n",
    "        print(\"\\n\")"
   ]
  },
  {
   "cell_type": "code",
   "execution_count": 46,
   "metadata": {},
   "outputs": [
    {
     "output_type": "stream",
     "name": "stdout",
     "text": [
      "Building document-term matrix.\n\nPrinting topic words.\n\nTopic ID: 0\n\t주사기\t0.020342176780104637\n\t접종\t0.01159384474158287\n\t코로나\t0.01083207968622446\n\t백신\t0.009998545981943607\n\t바늘\t0.00945491623133421\n\t내용\t0.00849556177854538\n\t뉴시스\t0.008438043296337128\n\t가능\t0.008321037515997887\n\t본문\t0.008072905242443085\n\t플레이어\t0.007923807017505169\n\t골프\t0.0066874283365905285\n\t일본\t0.006520777940750122\n\t주사\t0.005944518838077784\n\t개발\t0.005870993714779615\n\t근육\t0.005712912883609533\n\t길이\t0.005652277730405331\n\t추가\t0.004796140361577272\n\t관련\t0.004705040715634823\n\t도쿄\t0.004569465760141611\n\t지역\t0.00447654165327549\n\t후생노동성\t0.004422442521899939\n\t조립식\t0.004351995885372162\n\t체형\t0.00431036576628685\n\t라이브\t0.004300233442336321\n\t오류\t0.004274583887308836\n\t화이자\t0.004262359347194433\n\t기자\t0.0042173611000180244\n\t기존\t0.004085130989551544\n\t피하\t0.00406247703358531\n\t생산\t0.0040343403816223145\n\n\nTopic ID: 1\n\t논문\t0.011597060598433018\n\t코로나\t0.007836626842617989\n\t내용\t0.00783238373696804\n\t플레이어\t0.006957698613405228\n\t서점\t0.006393264513462782\n\t벚꽃\t0.006311064586043358\n\t골프\t0.005871818400919437\n\t본문\t0.005756066180765629\n\t지역\t0.005397385451942682\n\t공식\t0.005283513106405735\n\t관련\t0.004650426097214222\n\t취소\t0.004098464734852314\n\t단양군\t0.003940565511584282\n\t백신\t0.0039388989098370075\n\t워싱턴\t0.003809580346569419\n\t함수\t0.003712213132530451\n\t사령관\t0.0035788919776678085\n\t올해\t0.003575442358851433\n\t부산시\t0.003545851679518819\n\t태평양\t0.0035150195471942425\n\t일본\t0.0035037342458963394\n\t철회\t0.003495935583487153\n\t전면\t0.0034567576367408037\n\t최종\t0.0034379870630800724\n\t뉴스\t0.0034166474360972643\n\t지난해\t0.0033786732237786055\n\t작업\t0.003368173260241747\n\t방위비\t0.003359066555276513\n\t거리\t0.003339868038892746\n\t협정\t0.0033253198489546776\n\n\nTopic ID: 2\n\t골프\t0.03268388658761978\n\t브랜드\t0.008716956712305546\n\t라이브\t0.008088764734566212\n\t컬러\t0.0070476410910487175\n\t시장\t0.005896222312003374\n\t본문\t0.005370027851313353\n\t내용\t0.005362957250326872\n\t논문\t0.005275439471006393\n\t기존\t0.0052362168207764626\n\t웨어\t0.005156268365681171\n\t패턴\t0.004761378280818462\n\t플레이어\t0.0046576508320868015\n\t코로나\t0.0045585185289382935\n\t골퍼\t0.0045221829786896706\n\t쇼핑\t0.004499458242207766\n\t소재\t0.004153539892286062\n\t관련\t0.004145174287259579\n\t시즌\t0.003995869308710098\n\t방송\t0.003974187653511763\n\t감각\t0.0038270943332463503\n\t기능\t0.00360845192335546\n\t고객\t0.003541121259331703\n\t지난해\t0.003248172113671899\n\t함수\t0.0032358351163566113\n\t모델\t0.0032132919877767563\n\t관계자\t0.0031883481424301863\n\t제공\t0.0031780588906258345\n\t추가\t0.0031759978737682104\n\t사진\t0.0031689414754509926\n\t우회\t0.0031235110945999622\n\n\n"
     ]
    }
   ],
   "source": [
    "# 1) document-term matrix 생성\n",
    "corpus, dictionary = build_doc_term_mat(tokenized_text)\n",
    "\n",
    "# 2) LDA 모델 생성\n",
    "model = models.ldamodel.LdaModel(corpus, num_topics=NUM_TOPICS, id2word=dictionary, alpha=\"auto\", eta=\"auto\")\n",
    "\n",
    "# 3) 결과를 출력.\n",
    "print_topic_words(model)"
   ]
  },
  {
   "cell_type": "markdown",
   "metadata": {},
   "source": [
    "### 6. pyLDAvis를 통한 토픽 모델링 결과 시각화하기"
   ]
  },
  {
   "cell_type": "code",
   "execution_count": 47,
   "metadata": {},
   "outputs": [],
   "source": [
    "#!pip install pyLDAvis"
   ]
  },
  {
   "cell_type": "code",
   "execution_count": 49,
   "metadata": {},
   "outputs": [
    {
     "output_type": "execute_result",
     "data": {
      "text/plain": [
       "PreparedData(topic_coordinates=              x         y  topics  cluster       Freq\n",
       "topic                                                \n",
       "0      0.039199 -0.011506       1        1  36.298509\n",
       "2     -0.032138 -0.021225       2        1  34.819081\n",
       "1     -0.007061  0.032731       3        1  28.882410, topic_info=    Term       Freq      Total Category  logprob  loglift\n",
       "22    골프  31.000000  31.000000  Default  30.0000  30.0000\n",
       "574  주사기  18.000000  18.000000  Default  29.0000  29.0000\n",
       "751   논문  12.000000  12.000000  Default  28.0000  28.0000\n",
       "466   접종  11.000000  11.000000  Default  27.0000  27.0000\n",
       "535   바늘   9.000000   9.000000  Default  26.0000  26.0000\n",
       "..   ...        ...        ...      ...      ...      ...\n",
       "266   함수   2.166869   7.010406   Topic3  -5.5961   0.0678\n",
       "430   백신   2.299188  11.262282   Topic3  -5.5369  -0.3470\n",
       "212  지난해   1.972177   5.732593   Topic3  -5.6903   0.1749\n",
       "182   일본   2.045177   8.784156   Topic3  -5.6539  -0.2155\n",
       "387   거리   1.949526   5.557398   Topic3  -5.7018   0.1944\n",
       "\n",
       "[190 rows x 6 columns], token_table=      Topic      Freq   Term\n",
       "term                        \n",
       "1         1  0.652189     가능\n",
       "1         2  0.217396     가능\n",
       "1         3  0.108698     가능\n",
       "5         1  0.233122     감각\n",
       "5         2  0.699367     감각\n",
       "...     ...       ...    ...\n",
       "274       2  0.700026     활용\n",
       "274       3  0.350013     활용\n",
       "593       1  0.658187  후생노동성\n",
       "593       2  0.219396  후생노동성\n",
       "593       3  0.219396  후생노동성\n",
       "\n",
       "[369 rows x 3 columns], R=30, lambda_step=0.01, plot_opts={'xlab': 'PC1', 'ylab': 'PC2'}, topic_order=[1, 3, 2])"
      ],
      "text/html": "\n<link rel=\"stylesheet\" type=\"text/css\" href=\"https://cdn.jsdelivr.net/gh/bmabey/pyLDAvis@3.2.2/pyLDAvis/js/ldavis.v1.0.0.css\">\n\n\n<div id=\"ldavis_el842051943730404535534913\"></div>\n<script type=\"text/javascript\">\n\nvar ldavis_el842051943730404535534913_data = {\"mdsDat\": {\"x\": [0.039198540364329945, -0.03213773479774521, -0.007060805566584703], \"y\": [-0.011505986826302545, -0.02122506388115065, 0.03273105070745319], \"topics\": [1, 2, 3], \"cluster\": [1, 1, 1], \"Freq\": [36.29850902933935, 34.8190809419102, 28.88241002875045]}, \"tinfo\": {\"Term\": [\"\\uace8\\ud504\", \"\\uc8fc\\uc0ac\\uae30\", \"\\ub17c\\ubb38\", \"\\uc811\\uc885\", \"\\ubc14\\ub298\", \"\\ub274\\uc2dc\\uc2a4\", \"\\ube0c\\ub79c\\ub4dc\", \"\\ubc31\\uc2e0\", \"\\uceec\\ub7ec\", \"\\uc8fc\\uc0ac\", \"\\ubc9a\\uaf43\", \"\\ub77c\\uc774\\ube0c\", \"\\uacf5\\uc2dd\", \"\\uac00\\ub2a5\", \"\\uadfc\\uc721\", \"\\uae38\\uc774\", \"\\uc11c\\uc810\", \"\\ub3c4\\ucfc4\", \"\\uc2dc\\uc7a5\", \"\\ud328\\ud134\", \"\\ud6c4\\uc0dd\\ub178\\ub3d9\\uc131\", \"\\uac1c\\ubc1c\", \"\\ucf54\\ub85c\\ub098\", \"\\uccb4\\ud615\", \"\\ud654\\uc774\\uc790\", \"\\ud0dc\\ud3c9\\uc591\", \"\\ucca0\\ud68c\", \"\\uace8\\ud37c\", \"\\ubc29\\uc704\\ube44\", \"\\uc2dc\\uc98c\", \"\\uc8fc\\uc0ac\\uae30\", \"\\uc8fc\\uc0ac\", \"\\ub3c4\\ucfc4\", \"\\ub274\\uc2dc\\uc2a4\", \"\\uc811\\uc885\", \"\\uadfc\\uc721\", \"\\ud6c4\\uc0dd\\ub178\\ub3d9\\uc131\", \"\\ubc14\\ub298\", \"\\uae38\\uc774\", \"\\uc81c\\uc57d\\uc0ac\", \"\\uc774\\ub2ec\", \"\\ub2db\\ucf00\\uc774\", \"\\uccb4\\ud615\", \"\\uc2e0\\uc6a9\", \"\\ud654\\uc774\\uc790\", \"\\uacf5\\uac10\", \"\\uc57d\\ubb3c\", \"\\ub0b4\\ub144\", \"\\uc885\\uc2dc\", \"\\ub300\\uc751\", \"\\uc5b8\\ub860\", \"\\uac00\\ub2a5\", \"\\uc778\\uc290\\ub9b0\", \"\\uac1c\\ubc1c\", \"\\uc591\\uc0b0\", \"\\uc77c\\ubcf8\\uc778\", \"\\ubc31\\uc2e0\", \"\\ud53c\\ud558\", \"\\uc0dd\\uc0b0\", \"\\uc11c\\uc591\\uc778\", \"\\uac1c\\ud601\", \"\\uc870\\ub9bd\\uc2dd\", \"\\ucf54\\ub85c\\ub098\", \"\\uc77c\\ubcf8\", \"\\ubcf8\\ubb38\", \"\\ud50c\\ub808\\uc774\\uc5b4\", \"\\ub0b4\\uc6a9\", \"\\ucd94\\uac00\", \"\\uc624\\ub958\", \"\\uae30\\uc790\", \"\\uad00\\ub828\", \"\\uc9c0\\uc5ed\", \"\\uc0ac\\uc6a9\", \"\\uace8\\ud504\", \"\\uae30\\uc874\", \"\\ub77c\\uc774\\ube0c\", \"\\uace8\\ud504\", \"\\uceec\\ub7ec\", \"\\ud328\\ud134\", \"\\ube0c\\ub79c\\ub4dc\", \"\\uc2dc\\uc98c\", \"\\uc2dc\\uc7a5\", \"\\uace8\\ud37c\", \"\\ubaa8\\ub378\", \"\\uc0ac\\uc9c4\", \"\\uac10\\uac01\", \"\\ud2b9\\uc9d5\", \"\\ucd94\\uc704\", \"\\ud3b8\\uc548\", \"\\ud328\\uc158\", \"\\uc804\\uac1c\", \"\\ud2b8\\ub80c\\ub514\", \"\\ud504\\ub9ac\\ubbf8\\uc5c4\", \"\\uc5f0\\ub839\", \"\\uc544\\uc774\\ud15c\", \"\\uc778\\uae30\", \"\\uace8\\ud504\\uc7a5\", \"\\uc2a4\\ud3ec\\uce20\", \"\\uc811\\ubaa9\", \"\\uc774\\ubbf8\\uc9c0\", \"\\ud5e4\\uc9c0\\uc2a4\", \"\\uae30\\ub2a5\", \"\\ucd94\\uc138\", \"\\uc2a4\\ud2b8\\ub9ac\\ud2b8\", \"\\uc608\\ub2a5\", \"\\ud65c\\uc6a9\", \"\\ub77c\\uc774\\ube0c\", \"\\ud30c\\uc2a4\\ud154\", \"\\uc18c\\ube44\\uc790\", \"\\uc1fc\\ud551\", \"\\uace0\\uac1d\", \"\\uc6e8\\uc5b4\", \"\\uc694\\uc18c\", \"\\ub208\\uae38\", \"\\uc81c\\ud488\", \"\\uae30\\uc874\", \"\\ubc29\\uc1a1\", \"\\ub9ac\\uc2a4\", \"\\uc18c\\uc7ac\", \"\\uc81c\\uacf5\", \"\\ucf54\\uc624\\ub871\", \"\\uc7ac\\ubbf8\", \"\\ub17c\\ubb38\", \"\\ubcf8\\ubb38\", \"\\ub0b4\\uc6a9\", \"\\uad00\\ub828\", \"\\ud50c\\ub808\\uc774\\uc5b4\", \"\\uad00\\uacc4\\uc790\", \"\\ucf54\\ub85c\\ub098\", \"\\uc9c0\\ub09c\\ud574\", \"\\ud568\\uc218\", \"\\ucd94\\uac00\", \"\\uc6b0\\ud68c\", \"\\uacf5\\uc2dd\", \"\\ud611\\uc0c1\", \"\\ub17c\\ubb38\", \"\\ud55c\\ubbf8\", \"\\ubc9a\\uaf43\", \"\\ud0dc\\ud3c9\\uc591\", \"\\uac81\\ub2c8\\ub2e4\", \"\\ucca0\\ud68c\", \"\\ubc29\\uc704\\ube44\", \"\\ud3c9\\uac00\", \"\\uc0ad\\uc81c\", \"\\ud611\\uc815\", \"\\uc548\\ubcf4\", \"\\ub3d9\\ub9f9\", \"\\uc870\\uc131\", \"\\ub2e8\\uc591\\uad70\", \"\\ud0dc\\uc138\", \"\\uc794\\uce58\", \"\\ud314\\uacbd\", \"\\uc138\\uacc4\", \"\\uc57c\\uac04\", \"\\uc778\\ub3c4\", \"\\uc704\\uc548\\ubd80\", \"\\uc11c\\uc810\", \"\\ub2a5\\ub825\", \"\\ub300\\ucc98\", \"\\uc124\\uce58\", \"\\uc6cc\\uc2f1\\ud134\", \"\\ud45c\\uba85\", \"\\ucd5c\\ub300\", \"\\ub3db\\ub2e8\\ubc30\", \"\\uacf5\\ubc31\", \"\\uae40\\uc591\\uc21c\", \"\\uac15\\ub989\\uc2dc\", \"\\uc0ac\\ub839\\uad00\", \"\\ucde8\\uc18c\", \"\\uc870\\ud615\\ubb3c\", \"\\ud559\\uc220\\uc9c0\", \"\\ubd80\\uc0b0\\uc2dc\", \"\\ubc1c\\ud589\", \"\\ucd5c\\uc885\", \"\\uc9c0\\uc5ed\", \"\\ub0b4\\uc6a9\", \"\\uc791\\uc5c5\", \"\\ucf54\\ub85c\\ub098\", \"\\ud50c\\ub808\\uc774\\uc5b4\", \"\\ubcf8\\ubb38\", \"\\uc62c\\ud574\", \"\\uad00\\ub828\", \"\\uc804\\uba74\", \"\\ub274\\uc2a4\", \"\\uace8\\ud504\", \"\\ud568\\uc218\", \"\\ubc31\\uc2e0\", \"\\uc9c0\\ub09c\\ud574\", \"\\uc77c\\ubcf8\", \"\\uac70\\ub9ac\"], \"Freq\": [31.0, 18.0, 12.0, 11.0, 9.0, 8.0, 9.0, 11.0, 7.0, 5.0, 6.0, 9.0, 5.0, 9.0, 5.0, 5.0, 7.0, 4.0, 6.0, 5.0, 4.0, 6.0, 15.0, 4.0, 4.0, 3.0, 3.0, 4.0, 3.0, 4.0, 14.922875781851388, 4.360856616400618, 3.3521274869023943, 6.190088372266867, 8.505161801657596, 4.1909521402853995, 3.244272288068814, 6.936059103861799, 4.14647062441514, 2.2960229280099558, 2.271121744114303, 2.265252614886293, 3.1620535796126568, 2.2445540363295375, 3.126836413004003, 2.232358026103216, 2.223251157114826, 2.21081653523809, 2.2134901130218645, 2.20643151240267, 2.20166115822628, 6.1042537664311345, 2.173016657988125, 4.306919110415664, 2.151373710200776, 2.148079434680706, 7.334862011110016, 2.9802041735331852, 2.959563326356416, 1.268583194900697, 2.0538283451758197, 3.1925931380192765, 7.946336390839876, 4.783596183571768, 5.9222257005189265, 5.812848306246198, 6.232283520526216, 3.5184143576090428, 3.135804248432309, 3.0938260198551566, 3.451584307174154, 3.2839590249480746, 2.594797337682235, 4.905849725216092, 2.996822954035687, 3.1546205790380526, 22.999442639048592, 4.959380108593787, 3.3505515434622937, 6.134066869748657, 2.811867759742631, 4.149134053823552, 3.182231334172225, 2.2611730877618377, 2.2299639149630557, 2.693101885412506, 1.3297235257217015, 1.3178547699095065, 1.7442181196159092, 2.1715113514132987, 1.310498698870819, 1.7435068839261951, 1.7340969785202165, 1.7324859256436997, 1.7307000539510287, 2.0984292218717737, 1.2703488625493435, 1.2739874532420807, 1.2847366804968428, 1.6821210670815863, 1.6897410047589019, 2.539244615370036, 1.2623071150855345, 1.2654204301226109, 2.0535658311717246, 1.6829643589716943, 5.692012179600545, 1.6748982810540907, 2.048002267404016, 3.1662400819751544, 2.491864456314839, 3.628433178841886, 2.054257733571555, 2.0133553735175624, 2.01190816208074, 3.6846923970384515, 2.796610517195392, 1.9848761267869712, 2.922819544289402, 2.2363797819000557, 1.9877716965506935, 1.9377410745255572, 3.7122931259694, 3.7788543662110814, 3.773878829370436, 2.9169327213611758, 3.277559199029721, 2.2436202628030384, 3.2078004292509603, 2.285718010001043, 2.277036543635946, 2.234929457475879, 2.1979948455669702, 3.0840579602258362, 1.7029257027986795, 6.769360903156655, 1.6380236056091986, 3.6838536371734554, 2.051764384142581, 1.2354282384176967, 2.0406248167755288, 1.960732516432859, 1.5708851687500438, 1.5960349182822555, 1.9410341081641111, 1.1645669177802747, 1.1572552898320034, 1.9349260672176412, 2.3001613110524275, 1.8770771040200824, 1.8983768972981145, 1.1260583174634509, 1.1391650618921074, 1.8615212584660925, 1.4814889344602262, 0.7550507894220257, 3.731834845014221, 1.1073211751007257, 0.7423128269862991, 1.4884713971286463, 2.223703501125579, 1.1212945945870252, 0.7359794532429697, 1.4765733361914664, 1.8119923486406264, 1.493242662809792, 1.4646253976086607, 2.089047584481792, 2.3923292202874493, 1.7720294819831555, 1.7939290301662179, 2.069761516204402, 1.78517475587376, 2.0067994827514513, 3.1505267862948068, 4.571868172760562, 1.9660482231177552, 4.574344930836535, 4.06130265249253, 3.3598935721110217, 2.0870339953875416, 2.714516522381106, 2.0177561201157452, 1.9943432542649941, 3.4274597063837566, 2.1668689432330615, 2.2991884931031397, 1.9721771936484933, 2.0451770013538173, 1.9495260831212624], \"Total\": [31.0, 18.0, 12.0, 11.0, 9.0, 8.0, 9.0, 11.0, 7.0, 5.0, 6.0, 9.0, 5.0, 9.0, 5.0, 5.0, 7.0, 4.0, 6.0, 5.0, 4.0, 6.0, 15.0, 4.0, 4.0, 3.0, 3.0, 4.0, 3.0, 4.0, 18.547006339028016, 5.81224794481211, 4.537578881464292, 8.441951174870699, 11.688536076225464, 5.855445505859306, 4.5579770132390625, 9.755007341183783, 5.862744333281149, 3.2633445182574308, 3.2721936852409375, 3.269995652582158, 4.57962334246453, 3.2777727094749665, 4.574179394851942, 3.2814632629313647, 3.279945435223848, 3.2810644692346984, 3.287059244564236, 3.2863761279745467, 3.2852267341790737, 9.199789261614471, 3.2853819033788167, 6.574728605418802, 3.2867138185840203, 3.2950221296679083, 11.2622816641576, 4.622138934933571, 4.612720954543017, 1.9857184925100526, 3.3074251314402137, 5.321563359137863, 15.72848175092737, 8.784155558787376, 13.060973638841029, 13.151710157768449, 14.578030522657214, 7.529510967152746, 6.856343499514519, 6.8700449330298055, 9.083033550916436, 8.432926206980728, 4.6869809726894225, 31.332752070648443, 7.5252157050719015, 9.665732628784793, 31.332752070648443, 7.099285127981418, 5.029925294541348, 9.237037015295712, 4.277396528418437, 6.408731095508374, 4.969163865183504, 3.556731538859758, 3.5482251028980665, 4.289590848675491, 2.1437450935337674, 2.1368774344917716, 2.8497819933730395, 3.5570353942699233, 2.149185543828287, 2.8613693552237587, 2.850451946428562, 2.862357683110549, 2.860214255461409, 3.5090472299402604, 2.135545640923979, 2.141689705502424, 2.1597835505872993, 2.8311914474115367, 2.852250337127728, 4.286616463252326, 2.1330322242522426, 2.1466430367608815, 3.484969353267285, 2.857036871053281, 9.665732628784793, 2.843873803459948, 3.5060739644858923, 5.520471532533676, 4.304425224597202, 6.406737629545956, 3.5302124240505814, 3.5087649457218686, 3.5571667571904992, 7.5252157050719015, 5.487939957051587, 3.5229336338688677, 6.2134073056525025, 4.281301088407204, 3.567868354273932, 3.4679919632476315, 12.000335881831944, 13.060973638841029, 14.578030522657214, 9.083033550916436, 13.151710157768449, 4.9048423649290855, 15.72848175092737, 5.7325934309368165, 7.010406079016196, 7.529510967152746, 6.9404836905863965, 5.223592911025209, 2.936237381117384, 12.000335881831944, 2.9225735887458306, 6.584355710113727, 3.6708534687483936, 2.227483627749101, 3.7040664822538187, 3.6255361883841086, 2.9072910555682543, 2.958357817184106, 3.62252782740478, 2.180311420269072, 2.184451953372311, 3.660552416879704, 4.396977971650767, 3.6122346368057947, 3.653522433461971, 2.188790564651053, 2.2168517788062507, 3.6285421190355054, 2.888136984232787, 1.4750323115391362, 7.291583130108529, 2.169188364821153, 1.4565866333876925, 2.924814850173454, 4.375674863090262, 2.2111208092093233, 1.4550159881574927, 2.9216565771350145, 3.5938377255994327, 2.957151502508886, 2.919379556140778, 4.299923973145804, 5.041530769738314, 3.63000338623781, 3.6892075767518167, 4.3819513127911875, 3.692640549914233, 4.2983535114093945, 8.432926206980728, 14.578030522657214, 4.411451734033091, 15.72848175092737, 13.151710157768449, 13.060973638841029, 5.063824255686062, 9.083033550916436, 5.042107194548109, 4.946022205571326, 31.332752070648443, 7.010406079016196, 11.2622816641576, 5.7325934309368165, 8.784155558787376, 5.557398130365405], \"Category\": [\"Default\", \"Default\", \"Default\", \"Default\", \"Default\", \"Default\", \"Default\", \"Default\", \"Default\", \"Default\", \"Default\", \"Default\", \"Default\", \"Default\", \"Default\", \"Default\", \"Default\", \"Default\", \"Default\", \"Default\", \"Default\", \"Default\", \"Default\", \"Default\", \"Default\", \"Default\", \"Default\", \"Default\", \"Default\", \"Default\", \"Topic1\", \"Topic1\", \"Topic1\", \"Topic1\", \"Topic1\", \"Topic1\", \"Topic1\", \"Topic1\", \"Topic1\", \"Topic1\", \"Topic1\", \"Topic1\", \"Topic1\", \"Topic1\", \"Topic1\", \"Topic1\", \"Topic1\", \"Topic1\", \"Topic1\", \"Topic1\", \"Topic1\", \"Topic1\", \"Topic1\", \"Topic1\", \"Topic1\", \"Topic1\", \"Topic1\", \"Topic1\", \"Topic1\", \"Topic1\", \"Topic1\", \"Topic1\", \"Topic1\", \"Topic1\", \"Topic1\", \"Topic1\", \"Topic1\", \"Topic1\", \"Topic1\", \"Topic1\", \"Topic1\", \"Topic1\", \"Topic1\", \"Topic1\", \"Topic1\", \"Topic1\", \"Topic2\", \"Topic2\", \"Topic2\", \"Topic2\", \"Topic2\", \"Topic2\", \"Topic2\", \"Topic2\", \"Topic2\", \"Topic2\", \"Topic2\", \"Topic2\", \"Topic2\", \"Topic2\", \"Topic2\", \"Topic2\", \"Topic2\", \"Topic2\", \"Topic2\", \"Topic2\", \"Topic2\", \"Topic2\", \"Topic2\", \"Topic2\", \"Topic2\", \"Topic2\", \"Topic2\", \"Topic2\", \"Topic2\", \"Topic2\", \"Topic2\", \"Topic2\", \"Topic2\", \"Topic2\", \"Topic2\", \"Topic2\", \"Topic2\", \"Topic2\", \"Topic2\", \"Topic2\", \"Topic2\", \"Topic2\", \"Topic2\", \"Topic2\", \"Topic2\", \"Topic2\", \"Topic2\", \"Topic2\", \"Topic2\", \"Topic2\", \"Topic2\", \"Topic2\", \"Topic2\", \"Topic2\", \"Topic2\", \"Topic2\", \"Topic2\", \"Topic3\", \"Topic3\", \"Topic3\", \"Topic3\", \"Topic3\", \"Topic3\", \"Topic3\", \"Topic3\", \"Topic3\", \"Topic3\", \"Topic3\", \"Topic3\", \"Topic3\", \"Topic3\", \"Topic3\", \"Topic3\", \"Topic3\", \"Topic3\", \"Topic3\", \"Topic3\", \"Topic3\", \"Topic3\", \"Topic3\", \"Topic3\", \"Topic3\", \"Topic3\", \"Topic3\", \"Topic3\", \"Topic3\", \"Topic3\", \"Topic3\", \"Topic3\", \"Topic3\", \"Topic3\", \"Topic3\", \"Topic3\", \"Topic3\", \"Topic3\", \"Topic3\", \"Topic3\", \"Topic3\", \"Topic3\", \"Topic3\", \"Topic3\", \"Topic3\", \"Topic3\", \"Topic3\", \"Topic3\", \"Topic3\", \"Topic3\", \"Topic3\", \"Topic3\", \"Topic3\", \"Topic3\", \"Topic3\", \"Topic3\", \"Topic3\"], \"logprob\": [30.0, 29.0, 28.0, 27.0, 26.0, 25.0, 24.0, 23.0, 22.0, 21.0, 20.0, 19.0, 18.0, 17.0, 16.0, 15.0, 14.0, 13.0, 12.0, 11.0, 10.0, 9.0, 8.0, 7.0, 6.0, 5.0, 4.0, 3.0, 2.0, 1.0, -3.8951, -5.1253, -5.3884, -4.775, -4.4573, -5.165, -5.4211, -4.6612, -5.1757, -5.7668, -5.7777, -5.7803, -5.4467, -5.7894, -5.4579, -5.7949, -5.799, -5.8046, -5.8034, -5.8066, -5.8087, -4.789, -5.8218, -5.1377, -5.8318, -5.8334, -4.6053, -5.506, -5.5129, -6.3601, -5.8782, -5.4371, -4.5252, -5.0328, -4.8192, -4.8379, -4.7682, -5.3399, -5.4551, -5.4685, -5.3591, -5.4089, -5.6444, -5.0075, -5.5004, -5.4491, -3.4209, -4.9551, -5.3472, -4.7425, -5.5225, -5.1334, -5.3988, -5.7405, -5.7544, -5.5656, -6.2714, -6.2803, -6.0, -5.7809, -6.2859, -6.0004, -6.0059, -6.0068, -6.0078, -5.8152, -6.3171, -6.3142, -6.3058, -6.0363, -6.0318, -5.6245, -6.3234, -6.3209, -5.8368, -6.0358, -4.8173, -6.0406, -5.8395, -5.4038, -5.6433, -5.2675, -5.8364, -5.8565, -5.8573, -5.2522, -5.5279, -5.8708, -5.4838, -5.7515, -5.8693, -5.8948, -5.2447, -5.2269, -5.2282, -5.4858, -5.3692, -5.7483, -5.3908, -5.7297, -5.7335, -5.7521, -5.7688, -5.2432, -5.8371, -4.457, -5.8759, -5.0655, -5.6507, -6.158, -5.6562, -5.6961, -5.9178, -5.9019, -5.7062, -6.2171, -6.2234, -5.7093, -5.5364, -5.7397, -5.7284, -6.2507, -6.2391, -5.748, -5.9764, -6.6504, -5.0525, -6.2675, -6.6674, -5.9717, -5.5702, -6.2549, -6.676, -5.9797, -5.775, -5.9685, -5.9878, -5.6327, -5.4971, -5.7973, -5.785, -5.642, -5.7899, -5.6729, -5.2218, -4.8495, -5.6934, -4.8489, -4.9679, -5.1575, -5.6337, -5.3708, -5.6674, -5.6791, -5.1376, -5.5961, -5.5369, -5.6903, -5.6539, -5.7018], \"loglift\": [30.0, 29.0, 28.0, 27.0, 26.0, 25.0, 24.0, 23.0, 22.0, 21.0, 20.0, 19.0, 18.0, 17.0, 16.0, 15.0, 14.0, 13.0, 12.0, 11.0, 10.0, 9.0, 8.0, 7.0, 6.0, 5.0, 4.0, 3.0, 2.0, 1.0, 0.796, 0.7261, 0.7106, 0.7031, 0.6955, 0.6789, 0.6734, 0.6723, 0.667, 0.6618, 0.6482, 0.6463, 0.643, 0.6347, 0.633, 0.6282, 0.6245, 0.6186, 0.618, 0.615, 0.6132, 0.6032, 0.6, 0.5904, 0.5896, 0.5856, 0.5846, 0.5745, 0.5696, 0.5653, 0.5369, 0.5025, 0.3306, 0.4056, 0.2225, 0.1969, 0.1636, 0.2526, 0.2311, 0.2156, 0.0458, 0.0703, 0.4221, -0.8408, 0.0927, -0.1063, 0.7458, 0.6963, 0.6487, 0.6456, 0.6355, 0.6202, 0.6093, 0.602, 0.5905, 0.5895, 0.5774, 0.5717, 0.5641, 0.5615, 0.5603, 0.5596, 0.558, 0.5529, 0.5526, 0.5408, 0.5356, 0.5356, 0.5356, 0.5344, 0.5315, 0.5314, 0.5304, 0.5265, 0.5261, 0.5258, 0.5255, 0.5256, 0.5174, 0.4991, 0.5084, 0.4865, 0.5136, 0.4995, 0.4851, 0.3409, 0.3809, 0.4813, 0.3008, 0.4056, 0.4701, 0.473, -0.1183, -0.1852, -0.2964, -0.0809, -0.3344, 0.2729, -0.5349, 0.1355, -0.0695, -0.1596, -0.0948, 0.715, 0.6972, 0.6694, 0.663, 0.6612, 0.6602, 0.6525, 0.6458, 0.6273, 0.6264, 0.6248, 0.618, 0.6148, 0.6066, 0.6044, 0.594, 0.5873, 0.5872, 0.5773, 0.5761, 0.5745, 0.5744, 0.5723, 0.5721, 0.5695, 0.5679, 0.5665, 0.5651, 0.5629, 0.5604, 0.5595, 0.5571, 0.5587, 0.5522, 0.52, 0.4965, 0.5248, 0.5209, 0.4919, 0.5151, 0.4802, 0.2574, 0.0823, 0.4338, 0.0069, 0.0669, -0.1158, 0.3556, 0.0341, 0.3261, 0.3337, -0.9709, 0.0678, -0.347, 0.1749, -0.2155, 0.1944]}, \"token.table\": {\"Topic\": [1, 2, 3, 1, 2, 3, 1, 2, 3, 1, 2, 3, 1, 2, 1, 2, 3, 2, 3, 1, 2, 3, 1, 2, 3, 1, 2, 3, 2, 1, 2, 1, 2, 3, 1, 2, 3, 1, 2, 3, 1, 2, 3, 1, 2, 3, 1, 2, 3, 1, 2, 3, 1, 2, 3, 1, 2, 3, 1, 2, 3, 1, 2, 1, 2, 3, 1, 2, 3, 1, 2, 3, 1, 2, 3, 1, 2, 3, 1, 3, 1, 2, 1, 2, 3, 1, 2, 3, 3, 1, 2, 3, 1, 3, 1, 2, 3, 1, 2, 3, 1, 2, 3, 1, 2, 3, 1, 2, 3, 1, 2, 3, 1, 2, 3, 1, 2, 3, 1, 2, 3, 1, 2, 3, 1, 2, 3, 1, 2, 3, 1, 2, 3, 1, 2, 3, 1, 2, 3, 1, 2, 3, 1, 2, 3, 1, 2, 3, 1, 1, 2, 3, 1, 2, 3, 2, 3, 1, 2, 3, 1, 2, 3, 1, 2, 3, 2, 2, 1, 2, 3, 1, 2, 3, 1, 2, 1, 2, 3, 1, 3, 1, 2, 3, 1, 2, 1, 2, 1, 2, 1, 2, 3, 1, 2, 1, 2, 3, 1, 2, 3, 1, 2, 3, 1, 2, 3, 1, 2, 3, 1, 2, 3, 3, 1, 2, 1, 2, 1, 2, 1, 2, 3, 1, 2, 1, 2, 3, 1, 2, 1, 2, 3, 1, 2, 3, 1, 2, 2, 1, 2, 3, 2, 3, 1, 2, 3, 1, 2, 3, 1, 2, 1, 2, 3, 1, 2, 3, 1, 2, 3, 1, 2, 3, 1, 2, 3, 1, 2, 3, 1, 2, 3, 1, 2, 3, 1, 2, 3, 1, 2, 3, 1, 2, 3, 3, 1, 2, 3, 1, 2, 3, 2, 2, 1, 2, 3, 1, 2, 3, 1, 2, 3, 1, 2, 3, 1, 2, 3, 1, 2, 3, 1, 2, 3, 2, 1, 2, 3, 1, 2, 3, 1, 2, 3, 1, 2, 3, 1, 2, 3, 1, 3, 2, 3, 1, 2, 3, 1, 2, 3, 1, 2, 3, 1, 2, 3, 1, 3, 1, 2, 3, 1, 2, 3, 1, 3, 1, 2, 3, 1, 2, 3, 1, 2, 3, 1, 2, 3], \"Freq\": [0.6521888523071516, 0.21739628410238387, 0.10869814205119194, 0.2331224667519917, 0.6993674002559751, 0.2331224667519917, 0.34253853627787, 0.34253853627787, 0.34253853627787, 0.6083901313741307, 0.15209753284353267, 0.15209753284353267, 0.6047000069595234, 0.3023500034797617, 0.3598806407394278, 0.1799403203697139, 0.3598806407394278, 0.44893708198004223, 0.44893708198004223, 0.2323190548846339, 0.4646381097692678, 0.2323190548846339, 0.2012410995351773, 0.603723298605532, 0.2012410995351773, 0.15957742839588757, 0.7340561706210829, 0.09574645703753254, 0.4682644008335657, 0.6094841964536819, 0.30474209822684095, 0.2782540772158001, 0.2782540772158001, 0.5565081544316002, 0.19143911423291501, 0.19143911423291501, 0.574317342698745, 0.40776030118735856, 0.40776030118735856, 0.20388015059367928, 0.3302861299788234, 0.3302861299788234, 0.3302861299788234, 0.6831247931514968, 0.1707811982878742, 0.1707811982878742, 0.2332842251161616, 0.6998526753484847, 0.2332842251161616, 0.43667836662560944, 0.29111891108373966, 0.29111891108373966, 0.3986596687159462, 0.531546224954595, 0.13288655623864876, 0.6822743364900166, 0.17056858412250414, 0.17056858412250414, 0.338163262569262, 0.338163262569262, 0.338163262569262, 0.6095582756002645, 0.30477913780013227, 0.4115782300410734, 0.27438548669404894, 0.3429818583675612, 0.1666620017717941, 0.3333240035435882, 0.5833170062012795, 0.2850005672848704, 0.5700011345697408, 0.2850005672848704, 0.4043653499467003, 0.20218267497335016, 0.4043653499467003, 0.7107361646274741, 0.11845602743791236, 0.11845602743791236, 0.4610019195278363, 0.4610019195278363, 0.6116216082491414, 0.3058108041245707, 0.22742893106297912, 0.22742893106297912, 0.45485786212595825, 0.6085730671469538, 0.3042865335734769, 0.3042865335734769, 0.6865365760457551, 0.6611455312115456, 0.22038184373718187, 0.22038184373718187, 0.45778072548412935, 0.45778072548412935, 0.3422715755938034, 0.3422715755938034, 0.3422715755938034, 0.31037481743142004, 0.6207496348628401, 0.10345827247714001, 0.28385433957261497, 0.5677086791452299, 0.28385433957261497, 0.28115700863961945, 0.5623140172792389, 0.28115700863961945, 0.7175801878126051, 0.20502291080360144, 0.10251145540180072, 0.27080892019756064, 0.27080892019756064, 0.5416178403951213, 0.36443547408534444, 0.5466532111280167, 0.18221773704267222, 0.2758212711278155, 0.2758212711278155, 0.551642542255631, 0.6215436808224765, 0.17758390880642183, 0.17758390880642183, 0.30375029662020725, 0.15187514831010362, 0.6075005932404145, 0.4593838228229065, 0.3062558818819377, 0.22969191141145326, 0.22820883406005402, 0.22820883406005402, 0.45641766812010803, 0.2165196476627925, 0.6495589429883775, 0.10825982383139625, 0.23256225138985534, 0.23256225138985534, 0.4651245027797107, 0.6400708723762066, 0.21335695745873554, 0.21335695745873554, 0.28183104820019306, 0.5636620964003861, 0.28183104820019306, 0.3380253714379431, 0.3380253714379431, 0.6760507428758862, 0.650375348858971, 0.21679178295299031, 0.21679178295299031, 0.5035960554186849, 0.27428885666016284, 0.27428885666016284, 0.5485777133203257, 0.3419019839634279, 0.3419019839634279, 0.3419019839634279, 0.45109014935517633, 0.45109014935517633, 0.28521931086717206, 0.5704386217343441, 0.28521931086717206, 0.3218845798472839, 0.4828268697709258, 0.16094228992364196, 0.3622878930202688, 0.5434318395304032, 0.1811439465101344, 0.4658436371931324, 0.4669210471670114, 0.15603712889449525, 0.624148515577981, 0.15603712889449525, 0.23378706962427653, 0.7013612088728296, 0.23378706962427653, 0.6101704350087044, 0.3050852175043522, 0.34962415773243544, 0.6992483154648709, 0.34962415773243544, 0.4586500766374879, 0.4586500766374879, 0.27559277726278886, 0.27559277726278886, 0.5511855545255777, 0.6097662413897763, 0.30488312069488815, 0.6085105398259586, 0.3042552699129793, 0.6087859870347027, 0.30439299351735133, 0.34936234765506013, 0.6987246953101203, 0.34936234765506013, 0.28694656928975965, 0.5738931385795193, 0.43755100662801133, 0.2917006710853409, 0.2917006710853409, 0.19747920731591762, 0.39495841463183523, 0.39495841463183523, 0.2832690727581191, 0.5665381455162382, 0.2832690727581191, 0.4322465311847066, 0.2881643541231377, 0.2881643541231377, 0.2285361758560286, 0.2285361758560286, 0.4570723517120572, 0.15608568007971785, 0.6243427203188714, 0.15608568007971785, 0.6779512504078915, 0.6112107632934132, 0.3056053816467066, 0.3532081876392592, 0.7064163752785184, 0.28497764050244045, 0.5699552810048809, 0.346243964693954, 0.346243964693954, 0.346243964693954, 0.6087572339590478, 0.3043786169795239, 0.5692066774703423, 0.2276826709881369, 0.2276826709881369, 0.6069761966064767, 0.30348809830323836, 0.22668274760557516, 0.4533654952111503, 0.4533654952111503, 0.2737084603179593, 0.2737084603179593, 0.5474169206359186, 0.2883513025974666, 0.5767026051949332, 0.4652925397119165, 0.19832977789152764, 0.3966595557830553, 0.3966595557830553, 0.46300936023337846, 0.46300936023337846, 0.7699852181066577, 0.1711078262459239, 0.08555391312296196, 0.2335738550852623, 0.4671477101705246, 0.2335738550852623, 0.6128681752142937, 0.30643408760714685, 0.28112260916039095, 0.5622452183207819, 0.28112260916039095, 0.5637441100552874, 0.18791470335176244, 0.18791470335176244, 0.27318281125787325, 0.27318281125787325, 0.5463656225157465, 0.2754818366812641, 0.2754818366812641, 0.5509636733625282, 0.6084465935037137, 0.30422329675185683, 0.30422329675185683, 0.6882018864268026, 0.17205047160670064, 0.17205047160670064, 0.8087558566492676, 0.10783411421990236, 0.05391705710995118, 0.17444111675587304, 0.3488822335117461, 0.3488822335117461, 0.3557483993535503, 0.23716559956903352, 0.3557483993535503, 0.2699735560338886, 0.2699735560338886, 0.5399471120677772, 0.6550757072492224, 0.21835856908307413, 0.21835856908307413, 0.6872776712689694, 0.23264722116169276, 0.23264722116169276, 0.4652944423233855, 0.5312430007008256, 0.2656215003504128, 0.2656215003504128, 0.468816171003024, 0.4679725583970318, 0.39670490796266866, 0.19835245398133433, 0.39670490796266866, 0.14085925300542704, 0.7042962650271352, 0.14085925300542704, 0.508631419528354, 0.19073678232313276, 0.31789463720522126, 0.280279399547381, 0.560558799094762, 0.280279399547381, 0.27683694459125, 0.27683694459125, 0.5536738891825, 0.27241621288167567, 0.27241621288167567, 0.5448324257633513, 0.34948301874219245, 0.6989660374843849, 0.34948301874219245, 0.4664733708388769, 0.35163304320443756, 0.7032660864088751, 0.35163304320443756, 0.45687331449156926, 0.45687331449156926, 0.45687331449156926, 0.2811329911450737, 0.5622659822901473, 0.2811329911450737, 0.19881010978139876, 0.5964303293441964, 0.19881010978139876, 0.35090403487895816, 0.7018080697579163, 0.35090403487895816, 0.34396280966940945, 0.6879256193388189, 0.4522593228895489, 0.4522593228895489, 0.35082156050830376, 0.7016431210166075, 0.35082156050830376, 0.4562144335621571, 0.22810721678107854, 0.3041429557081047, 0.6490501566983113, 0.21635005223277043, 0.21635005223277043, 0.27106092004734944, 0.27106092004734944, 0.5421218400946989, 0.3421641815455986, 0.6843283630911972, 0.4279352673990897, 0.28529017826605985, 0.28529017826605985, 0.35060036175051157, 0.7012007235010231, 0.35060036175051157, 0.3405719191611989, 0.6811438383223978, 0.2760503293956506, 0.2760503293956506, 0.5521006587913012, 0.6558553438844967, 0.21861844796149893, 0.21861844796149893, 0.35001298377760803, 0.7000259675552161, 0.35001298377760803, 0.6581867331244157, 0.21939557770813856, 0.21939557770813856], \"Term\": [\"\\uac00\\ub2a5\", \"\\uac00\\ub2a5\", \"\\uac00\\ub2a5\", \"\\uac10\\uac01\", \"\\uac10\\uac01\", \"\\uac10\\uac01\", \"\\uac15\\ub989\\uc2dc\", \"\\uac15\\ub989\\uc2dc\", \"\\uac15\\ub989\\uc2dc\", \"\\uac1c\\ubc1c\", \"\\uac1c\\ubc1c\", \"\\uac1c\\ubc1c\", \"\\uac1c\\ud601\", \"\\uac1c\\ud601\", \"\\uac70\\ub9ac\", \"\\uac70\\ub9ac\", \"\\uac70\\ub9ac\", \"\\uac81\\ub2c8\\ub2e4\", \"\\uac81\\ub2c8\\ub2e4\", \"\\uace0\\uac1d\", \"\\uace0\\uac1d\", \"\\uace0\\uac1d\", \"\\uace8\\ud37c\", \"\\uace8\\ud37c\", \"\\uace8\\ud37c\", \"\\uace8\\ud504\", \"\\uace8\\ud504\", \"\\uace8\\ud504\", \"\\uace8\\ud504\\uc7a5\", \"\\uacf5\\uac10\", \"\\uacf5\\uac10\", \"\\uacf5\\ubc31\", \"\\uacf5\\ubc31\", \"\\uacf5\\ubc31\", \"\\uacf5\\uc2dd\", \"\\uacf5\\uc2dd\", \"\\uacf5\\uc2dd\", \"\\uad00\\uacc4\\uc790\", \"\\uad00\\uacc4\\uc790\", \"\\uad00\\uacc4\\uc790\", \"\\uad00\\ub828\", \"\\uad00\\ub828\", \"\\uad00\\ub828\", \"\\uadfc\\uc721\", \"\\uadfc\\uc721\", \"\\uadfc\\uc721\", \"\\uae30\\ub2a5\", \"\\uae30\\ub2a5\", \"\\uae30\\ub2a5\", \"\\uae30\\uc790\", \"\\uae30\\uc790\", \"\\uae30\\uc790\", \"\\uae30\\uc874\", \"\\uae30\\uc874\", \"\\uae30\\uc874\", \"\\uae38\\uc774\", \"\\uae38\\uc774\", \"\\uae38\\uc774\", \"\\uae40\\uc591\\uc21c\", \"\\uae40\\uc591\\uc21c\", \"\\uae40\\uc591\\uc21c\", \"\\ub0b4\\ub144\", \"\\ub0b4\\ub144\", \"\\ub0b4\\uc6a9\", \"\\ub0b4\\uc6a9\", \"\\ub0b4\\uc6a9\", \"\\ub17c\\ubb38\", \"\\ub17c\\ubb38\", \"\\ub17c\\ubb38\", \"\\ub208\\uae38\", \"\\ub208\\uae38\", \"\\ub208\\uae38\", \"\\ub274\\uc2a4\", \"\\ub274\\uc2a4\", \"\\ub274\\uc2a4\", \"\\ub274\\uc2dc\\uc2a4\", \"\\ub274\\uc2dc\\uc2a4\", \"\\ub274\\uc2dc\\uc2a4\", \"\\ub2a5\\ub825\", \"\\ub2a5\\ub825\", \"\\ub2db\\ucf00\\uc774\", \"\\ub2db\\ucf00\\uc774\", \"\\ub2e8\\uc591\\uad70\", \"\\ub2e8\\uc591\\uad70\", \"\\ub2e8\\uc591\\uad70\", \"\\ub300\\uc751\", \"\\ub300\\uc751\", \"\\ub300\\uc751\", \"\\ub300\\ucc98\", \"\\ub3c4\\ucfc4\", \"\\ub3c4\\ucfc4\", \"\\ub3c4\\ucfc4\", \"\\ub3d9\\ub9f9\", \"\\ub3d9\\ub9f9\", \"\\ub3db\\ub2e8\\ubc30\", \"\\ub3db\\ub2e8\\ubc30\", \"\\ub3db\\ub2e8\\ubc30\", \"\\ub77c\\uc774\\ube0c\", \"\\ub77c\\uc774\\ube0c\", \"\\ub77c\\uc774\\ube0c\", \"\\ub9ac\\uc2a4\", \"\\ub9ac\\uc2a4\", \"\\ub9ac\\uc2a4\", \"\\ubaa8\\ub378\", \"\\ubaa8\\ub378\", \"\\ubaa8\\ub378\", \"\\ubc14\\ub298\", \"\\ubc14\\ub298\", \"\\ubc14\\ub298\", \"\\ubc1c\\ud589\", \"\\ubc1c\\ud589\", \"\\ubc1c\\ud589\", \"\\ubc29\\uc1a1\", \"\\ubc29\\uc1a1\", \"\\ubc29\\uc1a1\", \"\\ubc29\\uc704\\ube44\", \"\\ubc29\\uc704\\ube44\", \"\\ubc29\\uc704\\ube44\", \"\\ubc31\\uc2e0\", \"\\ubc31\\uc2e0\", \"\\ubc31\\uc2e0\", \"\\ubc9a\\uaf43\", \"\\ubc9a\\uaf43\", \"\\ubc9a\\uaf43\", \"\\ubcf8\\ubb38\", \"\\ubcf8\\ubb38\", \"\\ubcf8\\ubb38\", \"\\ubd80\\uc0b0\\uc2dc\", \"\\ubd80\\uc0b0\\uc2dc\", \"\\ubd80\\uc0b0\\uc2dc\", \"\\ube0c\\ub79c\\ub4dc\", \"\\ube0c\\ub79c\\ub4dc\", \"\\ube0c\\ub79c\\ub4dc\", \"\\uc0ac\\ub839\\uad00\", \"\\uc0ac\\ub839\\uad00\", \"\\uc0ac\\ub839\\uad00\", \"\\uc0ac\\uc6a9\", \"\\uc0ac\\uc6a9\", \"\\uc0ac\\uc6a9\", \"\\uc0ac\\uc9c4\", \"\\uc0ac\\uc9c4\", \"\\uc0ac\\uc9c4\", \"\\uc0ad\\uc81c\", \"\\uc0ad\\uc81c\", \"\\uc0ad\\uc81c\", \"\\uc0dd\\uc0b0\", \"\\uc0dd\\uc0b0\", \"\\uc0dd\\uc0b0\", \"\\uc11c\\uc591\\uc778\", \"\\uc11c\\uc810\", \"\\uc11c\\uc810\", \"\\uc11c\\uc810\", \"\\uc124\\uce58\", \"\\uc124\\uce58\", \"\\uc124\\uce58\", \"\\uc138\\uacc4\", \"\\uc138\\uacc4\", \"\\uc18c\\ube44\\uc790\", \"\\uc18c\\ube44\\uc790\", \"\\uc18c\\ube44\\uc790\", \"\\uc18c\\uc7ac\", \"\\uc18c\\uc7ac\", \"\\uc18c\\uc7ac\", \"\\uc1fc\\ud551\", \"\\uc1fc\\ud551\", \"\\uc1fc\\ud551\", \"\\uc2a4\\ud2b8\\ub9ac\\ud2b8\", \"\\uc2a4\\ud3ec\\uce20\", \"\\uc2dc\\uc7a5\", \"\\uc2dc\\uc7a5\", \"\\uc2dc\\uc7a5\", \"\\uc2dc\\uc98c\", \"\\uc2dc\\uc98c\", \"\\uc2dc\\uc98c\", \"\\uc2e0\\uc6a9\", \"\\uc2e0\\uc6a9\", \"\\uc544\\uc774\\ud15c\", \"\\uc544\\uc774\\ud15c\", \"\\uc544\\uc774\\ud15c\", \"\\uc548\\ubcf4\", \"\\uc548\\ubcf4\", \"\\uc57c\\uac04\", \"\\uc57c\\uac04\", \"\\uc57c\\uac04\", \"\\uc57d\\ubb3c\", \"\\uc57d\\ubb3c\", \"\\uc591\\uc0b0\", \"\\uc591\\uc0b0\", \"\\uc5b8\\ub860\", \"\\uc5b8\\ub860\", \"\\uc5f0\\ub839\", \"\\uc5f0\\ub839\", \"\\uc5f0\\ub839\", \"\\uc608\\ub2a5\", \"\\uc608\\ub2a5\", \"\\uc624\\ub958\", \"\\uc624\\ub958\", \"\\uc624\\ub958\", \"\\uc62c\\ud574\", \"\\uc62c\\ud574\", \"\\uc62c\\ud574\", \"\\uc694\\uc18c\", \"\\uc694\\uc18c\", \"\\uc694\\uc18c\", \"\\uc6b0\\ud68c\", \"\\uc6b0\\ud68c\", \"\\uc6b0\\ud68c\", \"\\uc6cc\\uc2f1\\ud134\", \"\\uc6cc\\uc2f1\\ud134\", \"\\uc6cc\\uc2f1\\ud134\", \"\\uc6e8\\uc5b4\", \"\\uc6e8\\uc5b4\", \"\\uc6e8\\uc5b4\", \"\\uc704\\uc548\\ubd80\", \"\\uc774\\ub2ec\", \"\\uc774\\ub2ec\", \"\\uc774\\ubbf8\\uc9c0\", \"\\uc774\\ubbf8\\uc9c0\", \"\\uc778\\uae30\", \"\\uc778\\uae30\", \"\\uc778\\ub3c4\", \"\\uc778\\ub3c4\", \"\\uc778\\ub3c4\", \"\\uc778\\uc290\\ub9b0\", \"\\uc778\\uc290\\ub9b0\", \"\\uc77c\\ubcf8\", \"\\uc77c\\ubcf8\", \"\\uc77c\\ubcf8\", \"\\uc77c\\ubcf8\\uc778\", \"\\uc77c\\ubcf8\\uc778\", \"\\uc791\\uc5c5\", \"\\uc791\\uc5c5\", \"\\uc791\\uc5c5\", \"\\uc794\\uce58\", \"\\uc794\\uce58\", \"\\uc794\\uce58\", \"\\uc7ac\\ubbf8\", \"\\uc7ac\\ubbf8\", \"\\uc804\\uac1c\", \"\\uc804\\uba74\", \"\\uc804\\uba74\", \"\\uc804\\uba74\", \"\\uc811\\ubaa9\", \"\\uc811\\ubaa9\", \"\\uc811\\uc885\", \"\\uc811\\uc885\", \"\\uc811\\uc885\", \"\\uc81c\\uacf5\", \"\\uc81c\\uacf5\", \"\\uc81c\\uacf5\", \"\\uc81c\\uc57d\\uc0ac\", \"\\uc81c\\uc57d\\uc0ac\", \"\\uc81c\\ud488\", \"\\uc81c\\ud488\", \"\\uc81c\\ud488\", \"\\uc870\\ub9bd\\uc2dd\", \"\\uc870\\ub9bd\\uc2dd\", \"\\uc870\\ub9bd\\uc2dd\", \"\\uc870\\uc131\", \"\\uc870\\uc131\", \"\\uc870\\uc131\", \"\\uc870\\ud615\\ubb3c\", \"\\uc870\\ud615\\ubb3c\", \"\\uc870\\ud615\\ubb3c\", \"\\uc885\\uc2dc\", \"\\uc885\\uc2dc\", \"\\uc885\\uc2dc\", \"\\uc8fc\\uc0ac\", \"\\uc8fc\\uc0ac\", \"\\uc8fc\\uc0ac\", \"\\uc8fc\\uc0ac\\uae30\", \"\\uc8fc\\uc0ac\\uae30\", \"\\uc8fc\\uc0ac\\uae30\", \"\\uc9c0\\ub09c\\ud574\", \"\\uc9c0\\ub09c\\ud574\", \"\\uc9c0\\ub09c\\ud574\", \"\\uc9c0\\uc5ed\", \"\\uc9c0\\uc5ed\", \"\\uc9c0\\uc5ed\", \"\\ucca0\\ud68c\", \"\\ucca0\\ud68c\", \"\\ucca0\\ud68c\", \"\\uccb4\\ud615\", \"\\uccb4\\ud615\", \"\\uccb4\\ud615\", \"\\ucd5c\\ub300\", \"\\ucd5c\\uc885\", \"\\ucd5c\\uc885\", \"\\ucd5c\\uc885\", \"\\ucd94\\uac00\", \"\\ucd94\\uac00\", \"\\ucd94\\uac00\", \"\\ucd94\\uc138\", \"\\ucd94\\uc704\", \"\\ucde8\\uc18c\", \"\\ucde8\\uc18c\", \"\\ucde8\\uc18c\", \"\\uceec\\ub7ec\", \"\\uceec\\ub7ec\", \"\\uceec\\ub7ec\", \"\\ucf54\\ub85c\\ub098\", \"\\ucf54\\ub85c\\ub098\", \"\\ucf54\\ub85c\\ub098\", \"\\ucf54\\uc624\\ub871\", \"\\ucf54\\uc624\\ub871\", \"\\ucf54\\uc624\\ub871\", \"\\ud0dc\\uc138\", \"\\ud0dc\\uc138\", \"\\ud0dc\\uc138\", \"\\ud0dc\\ud3c9\\uc591\", \"\\ud0dc\\ud3c9\\uc591\", \"\\ud0dc\\ud3c9\\uc591\", \"\\ud2b8\\ub80c\\ub514\", \"\\ud2b8\\ub80c\\ub514\", \"\\ud2b8\\ub80c\\ub514\", \"\\ud2b9\\uc9d5\", \"\\ud30c\\uc2a4\\ud154\", \"\\ud30c\\uc2a4\\ud154\", \"\\ud30c\\uc2a4\\ud154\", \"\\ud314\\uacbd\", \"\\ud314\\uacbd\", \"\\ud314\\uacbd\", \"\\ud328\\uc158\", \"\\ud328\\uc158\", \"\\ud328\\uc158\", \"\\ud328\\ud134\", \"\\ud328\\ud134\", \"\\ud328\\ud134\", \"\\ud3b8\\uc548\", \"\\ud3b8\\uc548\", \"\\ud3b8\\uc548\", \"\\ud3c9\\uac00\", \"\\ud3c9\\uac00\", \"\\ud45c\\uba85\", \"\\ud45c\\uba85\", \"\\ud504\\ub9ac\\ubbf8\\uc5c4\", \"\\ud504\\ub9ac\\ubbf8\\uc5c4\", \"\\ud504\\ub9ac\\ubbf8\\uc5c4\", \"\\ud50c\\ub808\\uc774\\uc5b4\", \"\\ud50c\\ub808\\uc774\\uc5b4\", \"\\ud50c\\ub808\\uc774\\uc5b4\", \"\\ud53c\\ud558\", \"\\ud53c\\ud558\", \"\\ud53c\\ud558\", \"\\ud559\\uc220\\uc9c0\", \"\\ud559\\uc220\\uc9c0\", \"\\ud559\\uc220\\uc9c0\", \"\\ud55c\\ubbf8\", \"\\ud55c\\ubbf8\", \"\\ud568\\uc218\", \"\\ud568\\uc218\", \"\\ud568\\uc218\", \"\\ud5e4\\uc9c0\\uc2a4\", \"\\ud5e4\\uc9c0\\uc2a4\", \"\\ud5e4\\uc9c0\\uc2a4\", \"\\ud611\\uc0c1\", \"\\ud611\\uc0c1\", \"\\ud611\\uc815\", \"\\ud611\\uc815\", \"\\ud611\\uc815\", \"\\ud654\\uc774\\uc790\", \"\\ud654\\uc774\\uc790\", \"\\ud654\\uc774\\uc790\", \"\\ud65c\\uc6a9\", \"\\ud65c\\uc6a9\", \"\\ud65c\\uc6a9\", \"\\ud6c4\\uc0dd\\ub178\\ub3d9\\uc131\", \"\\ud6c4\\uc0dd\\ub178\\ub3d9\\uc131\", \"\\ud6c4\\uc0dd\\ub178\\ub3d9\\uc131\"]}, \"R\": 30, \"lambda.step\": 0.01, \"plot.opts\": {\"xlab\": \"PC1\", \"ylab\": \"PC2\"}, \"topic.order\": [1, 3, 2]};\n\nfunction LDAvis_load_lib(url, callback){\n  var s = document.createElement('script');\n  s.src = url;\n  s.async = true;\n  s.onreadystatechange = s.onload = callback;\n  s.onerror = function(){console.warn(\"failed to load library \" + url);};\n  document.getElementsByTagName(\"head\")[0].appendChild(s);\n}\n\nif(typeof(LDAvis) !== \"undefined\"){\n   // already loaded: just create the visualization\n   !function(LDAvis){\n       new LDAvis(\"#\" + \"ldavis_el842051943730404535534913\", ldavis_el842051943730404535534913_data);\n   }(LDAvis);\n}else if(typeof define === \"function\" && define.amd){\n   // require.js is available: use it to load d3/LDAvis\n   require.config({paths: {d3: \"https://d3js.org/d3.v5\"}});\n   require([\"d3\"], function(d3){\n      window.d3 = d3;\n      LDAvis_load_lib(\"https://cdn.jsdelivr.net/gh/bmabey/pyLDAvis@3.2.2/pyLDAvis/js/ldavis.v3.0.0.js\", function(){\n        new LDAvis(\"#\" + \"ldavis_el842051943730404535534913\", ldavis_el842051943730404535534913_data);\n      });\n    });\n}else{\n    // require.js not available: dynamically load d3 & LDAvis\n    LDAvis_load_lib(\"https://d3js.org/d3.v5.js\", function(){\n         LDAvis_load_lib(\"https://cdn.jsdelivr.net/gh/bmabey/pyLDAvis@3.2.2/pyLDAvis/js/ldavis.v3.0.0.js\", function(){\n                 new LDAvis(\"#\" + \"ldavis_el842051943730404535534913\", ldavis_el842051943730404535534913_data);\n            })\n         });\n}\n</script>"
     },
     "metadata": {},
     "execution_count": 49
    }
   ],
   "source": [
    "# pyLDAvis 불러오기\n",
    "import pyLDAvis\n",
    "import pyLDAvis.gensim\n",
    "\n",
    "# pyLDAvis를 jupyter notebook에서 실행할 수 있게 활성화.\n",
    "pyLDAvis.enable_notebook()\n",
    "\n",
    "# pyLDAvis 실행.\n",
    "data = pyLDAvis.gensim.prepare(model, corpus, dictionary)\n",
    "data"
   ]
  },
  {
   "cell_type": "code",
   "execution_count": null,
   "metadata": {},
   "outputs": [],
   "source": []
  }
 ],
 "metadata": {
  "colab": {
   "collapsed_sections": [],
   "name": "10.3 오픈 API 활용(colab).ipynb",
   "provenance": []
  },
  "kernelspec": {
   "display_name": "Python 3",
   "language": "python",
   "name": "python3"
  },
  "language_info": {
   "codemirror_mode": {
    "name": "ipython",
    "version": 3
   },
   "file_extension": ".py",
   "mimetype": "text/x-python",
   "name": "python",
   "nbconvert_exporter": "python",
   "pygments_lexer": "ipython3",
   "version": "3.8.8-final"
  }
 },
 "nbformat": 4,
 "nbformat_minor": 1
}