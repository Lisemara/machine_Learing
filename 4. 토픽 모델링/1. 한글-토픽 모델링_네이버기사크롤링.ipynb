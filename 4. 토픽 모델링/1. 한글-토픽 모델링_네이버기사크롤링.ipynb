{
 "cells": [
  {
   "cell_type": "markdown",
   "metadata": {},
   "source": [
    "-----------------------\n",
    "## 토픽모델링에 사용할 네이버 뉴스 데이터 가져오기\n",
    "- 1. 네이버 오픈 API로 기사 URL 크롤링\n",
    "- 2. bs4 + selenium으로 기사 제목 및 내용 크롤링"
   ]
  },
  {
   "cell_type": "code",
   "execution_count": 1,
   "metadata": {},
   "outputs": [],
   "source": [
    "import os\n",
    "import sys\n",
    "import urllib.request\n",
    "import requests\n",
    "\n",
    "news_data = []\n",
    "page_count = 5\n",
    "\n",
    "client_id = \"frBMA0JHYp1zATqntdUJ\"\n",
    "client_secret = \"CzMu_Uce6r\"\n",
    "\n",
    "encText = urllib.parse.quote(\"아마존\")\n",
    "\n",
    "for idx in range(page_count):\n",
    "    # json 결과\n",
    "    url = \"https://openapi.naver.com/v1/search/news?query=\" + encText + \"&start=\" + str(idx * 10 + 1)\n",
    "    # url = \"https://openapi.naver.com/v1/search/blog.xml?query=\" + encText # xml 결과\n",
    "    request = urllib.request.Request(url)\n",
    "    request.add_header(\"X-Naver-Client-Id\",client_id)\n",
    "    request.add_header(\"X-Naver-Client-Secret\",client_secret)\n",
    "    response = urllib.request.urlopen(request)\n",
    "    rescode = response.getcode()\n",
    "\n",
    "    if(rescode==200):\n",
    "    #    response_body = response.read()\n",
    "        result = requests.get(response.geturl(),\n",
    "                              headers={\"X-Naver-Client-Id\":client_id,\n",
    "                                       \"X-Naver-Client-Secret\":client_secret}\n",
    "                             )\n",
    "        news_data.append(result.json())\n",
    "    #    print(response_body.decode('utf-8'))\n",
    "    else:\n",
    "        print(\"Error Code:\" + rescode)"
   ]
  },
  {
   "cell_type": "code",
   "execution_count": 2,
   "metadata": {
    "tags": [
     "outputPrepend"
    ]
   },
   "outputs": [
    {
     "output_type": "stream",
     "name": "stdout",
     "text": [
      ", 'pubDate': 'Fri, 12 Mar 2021 16:53:00 +0900'}, {'title': '대한항공, 국내외 공항 직영 라운지 5곳 입장 시스템 전면 개편\\xa0', 'originallink': 'http://www.kukinews.com/newsView/kuk202103120279', 'link': 'http://www.kukinews.com/newsView/kuk202103120279', 'description': '또한, <b>아마존</b> 웹서비스를 활용한 빅데이터 분석 플랫폼을 적용해 승객들의 예약 정보, 요일, 성수기 여부 등 라운지 이용에 미치는 모든 변수를 종합 분석해 이용 수요를 미리 예측할 수 있게 되었다. 이를 통해, 라운지... ', 'pubDate': 'Fri, 12 Mar 2021 16:53:00 +0900'}, {'title': \"네이버·쿠팡·이베이까지...커머스 공룡들, 왜 'OTT'에 뛰어들까\", 'originallink': 'http://www.opinionnews.co.kr/news/articleView.html?idxno=47518', 'link': 'http://www.opinionnews.co.kr/news/articleView.html?idxno=47518', 'description': '미국에선 <b>아마존</b>, 한국에선 네이버가 시작 네이버 관계자는 &quot;한국에서 쇼핑 등 플랫폼 서비스에 콘텐츠를... 시작한 <b>아마존</b> 프라임(Amazon Prime) 서비스가 시초다. <b>아마존</b> 프라임 서비스 회원은 월 회비 12.99달러(한화... ', 'pubDate': 'Fri, 12 Mar 2021 16:50:00 +0900'}, {'title': '‘시총 100조’ 쿠팡 미 증시 화려한 데뷔…마켓컬리도 상장 추진', 'originallink': 'http://isplus.live.joins.com/news/article/article.asp?total_id=24010698', 'link': 'https://news.naver.com/main/read.nhn?mode=LSD&mid=sec&sid1=101&oid=241&aid=0003099482', 'description': '그는 또 &quot;전 세계 10대 E커머스 시장 중 유일하게 <b>아마존</b>과 알리바바가 장악하지 않은 시장이 한국이다&quot;고 강조했다. 김 의장은 확보한 자금으로 “공격적인 투자를 해 좋은 일자리(향후 5년간 5만명 추가 직고용)를... ', 'pubDate': 'Fri, 12 Mar 2021 16:48:00 +0900'}, {'title': \"美 증시 안착한 '쿠팡'…&quot;밸류에이션 한계 깼다&quot;\", 'originallink': 'http://www.kbanker.co.kr/news/articleView.html?idxno=97311', 'link': 'http://www.kbanker.co.kr/news/articleView.html?idxno=97311', 'description': '상장 첫날 기준 <b>아마존</b>의 PSR은 3.3배, 이베이는 3.2배, 알리바바는 6.0배였다. 통상 기업의 PSR이 높으면... 이는 <b>아마존</b>(3.4배)보다 높고 알리바바와(5.4배) 유사한 수준&quot;이라고 평가했다. 이어 그는 &quot;쿠팡의 국내... ', 'pubDate': 'Fri, 12 Mar 2021 16:47:00 +0900'}, {'title': '<b>아마존</b>엔 왜 .ppt 파일이 없을까', 'originallink': 'http://news.mk.co.kr/newsRead.php?no=239065&year=2021', 'link': 'https://news.naver.com/main/read.nhn?mode=LSD&mid=sec&sid1=103&oid=009&aid=0004762430', 'description': \"기업 <b>아마존</b>은 파워포인트를 경계한다. 발표자가 회의를 통제하기 쉽게 만들어주는, '청중'이 아닌 '발표자... 참신한 아이디어 대신 뛰어난 언변이 주요 변수가 돼버리는 파워포인트를 기반으로 한 발표는 <b>아마존</b>의... \", 'pubDate': 'Fri, 12 Mar 2021 16:46:00 +0900'}, {'title': '대한항공, 국내외 공항 라운지 운영 시스템 전면 개편', 'originallink': 'https://daily.hankooki.com/lpage/industry/202103/dh20210312163934147980.htm?s_ref=nv', 'link': 'https://daily.hankooki.com/lpage/industry/202103/dh20210312163934147980.htm?s_ref=nv', 'description': '이와 함께 <b>아마존</b> 웹서비스를 활용한 빅데이터 분석 플랫폼을 적용해 라운지 이용 수요도 예측한다. 예약 정보, 요일, 성수기 여부 등 라운지 이용에 미치는 모든 변수를 종합 분석해 이용 수요를 미리 예측하기 위해서다.... ', 'pubDate': 'Fri, 12 Mar 2021 16:40:00 +0900'}, {'title': '이번주 넷플릭스 뭐 보지? | 흩날리는 꽃처럼 아련한 로맨스 &lt;좋아하면 울리는...', 'originallink': 'http://topclass.chosun.com/daily/view.asp?idx=923&Newsnumb=202103923', 'link': 'http://topclass.chosun.com/daily/view.asp?idx=923&Newsnumb=202103923', 'description': '은 <b>아마존</b> 데미스키라 왕국의 공주이자 신이 만든 가장 완벽한 히어로인 원더 우먼의 활약을 그린 초대형 액션 블록버스터다. 아프로디테의 아름다움과 아테나의 지혜, 헤라클레스의 힘, 헤르메스의 스피드 등 신의... ', 'pubDate': 'Fri, 12 Mar 2021 16:34:00 +0900'}]}, {'lastBuildDate': 'Fri, 12 Mar 2021 17:13:42 +0900', 'total': 344717, 'start': 11, 'display': 10, 'items': [{'title': \"[초점] '100조 잭팟' 쿠팡…조달금액 5兆 어디에 쓸까\", 'originallink': 'http://www.inews24.com/view/1349598', 'link': 'https://news.naver.com/main/read.nhn?mode=LSD&mid=sec&sid1=101&oid=031&aid=0000587915', 'description': '<b>아마존</b>은 이 풀필먼트 사업으로 큰 성장을 이뤘다. 실제 쿠팡은 수도권 외 전국 7개 지역에 약 8천700억원을... 유통업계 한 관계자는 &quot;금융 분야는 <b>아마존</b>이 현재 진행형으로 확장하고 있는 산업군이기도 한 만큼 쿠팡의... ', 'pubDate': 'Fri, 12 Mar 2021 16:32:00 +0900'}, {'title': '그룬플러스 프리미엄 테라피 샴푸, 미국 <b>아마존</b> 인기상품 랭크돼', 'originallink': 'https://www.econovill.com/news/articleView.html?idxno=523079', 'link': 'https://www.econovill.com/news/articleView.html?idxno=523079', 'description': \"\\xa0두피 모발 케어 브랜드 그룬플러스의 '프리미엄 테리피 샴푸'가 미국 <b>아마존</b> 베스트셀러에 올랐다. 그룬플러스는 2월 초\\xa0<b>아마존</b> 'Hair Regrowth Shampoos'\\xa0카테고리에서 '프리미엄 테라피 샴푸'가 25위에 등극했다고... \", 'pubDate': 'Fri, 12 Mar 2021 16:32:00 +0900'}, {'title': '김범석 &quot;쿠팡 대규모 자금 조달 위해 뉴욕증시 선택, 투자 지속&quot;', 'originallink': 'http://www.businesspost.co.kr/BP?command=article_view&num=221467', 'link': 'http://www.businesspost.co.kr/BP?command=article_view&num=221467', 'description': '전 세계 10대 이커머스시장 가운데 유일하게 <b>아마존</b>과 알리바바가 장악하지 않은 시장이 한국&quot;이라며 &quot;이번 상장 과정에서 가장 보람을 느낀 부분 중 하나가 한국 시장의 규모와 가능성, 그리고 혁신 DNA를 알릴 좋은... ', 'pubDate': 'Fri, 12 Mar 2021 16:32:00 +0900'}, {'title': \"[1번지五감] '북적북적'…거리두기 실종된 강원도 스키장 外\", 'originallink': 'http://www.yonhapnewstv.co.kr/MYH20210312014900038/?did=1825m', 'link': 'https://news.naver.com/main/read.nhn?mode=LSD&mid=sec&sid1=102&oid=422&aid=0000475435', 'description': \"'한국의 <b>아마존</b>' 쿠팡의 현수막과 태극기가 걸린 이곳, 바로 미국 뉴욕증권거래소의 모습입니다. 쿠팡이 최근 뉴욕증시에 성공적으로 데뷔하면서 이목이 쏠리고 있는데요. 쿠팡의 미국 증시 상장을 계기로 국내 유통기업의... \", 'pubDate': 'Fri, 12 Mar 2021 16:30:00 +0900'}, {'title': \"'쿠팡 상장 열풍'…亞기업 美증시 노크\", 'originallink': 'http://www.edaily.co.kr/news/newspath.asp?newsid=03014326628982664', 'link': 'https://news.naver.com/main/read.nhn?mode=LSD&mid=sec&sid1=101&oid=018&aid=0004874391', 'description': '미국의 전자상거래 업체 <b>아마존</b>이 내부 물류 시스템을 늘려가고 있지만 아직 배송물량의 상당 부분을 UPS나 미 연방우체국(USPS) 등 외부에 의존하고 있는 것과는 다르다는 설명이다. 한국의 전자상거래 시장이 크다는... ', 'pubDate': 'Fri, 12 Mar 2021 16:22:00 +0900'}, {'title': \"한국 온라인업체 '쿠팡' 뉴욕증시 성공적 안착\", 'originallink': 'http://www.koreadaily.com/news/read.asp?art_id=9164654', 'link': 'http://www.koreadaily.com/news/read.asp?art_id=9164654', 'description': '미국의 전자상거래 업체인 <b>아마존</b>은 내부 물류 시스템을 늘려가고는 있으나 아직 배송 물량의 상당 부분을 UPS나 연방우체국(USPS) 등 외부에 의존하고 있다. 한편 이날 증시는 사상 최고치로 치솟았다. 기술주가... ', 'pubDate': 'Fri, 12 Mar 2021 16:18:00 +0900'}, {'title': '&quot;온라인 마케팅 핵심은 키워드·사용자 편의&quot;', 'originallink': 'http://www.koreadaily.com/news/read.asp?art_id=9164696', 'link': 'http://www.koreadaily.com/news/read.asp?art_id=9164696', 'description': '즉, 본인의 웹사이트를 운영하며 페이스북, 인스타그램, 링크트인 등 소셜미디어와 연동하고 대신 수익성 확보가 과제인 이베이, <b>아마존</b> 등 오픈마켓 플랫폼은 신중하게 접근하며 대신 쇼피파이를 활용하길 권했다.... ', 'pubDate': 'Fri, 12 Mar 2021 16:18:00 +0900'}, {'title': '[쿠팡, 글로벌로!] 화려한 뉴욕입성 쿠팡, 노동이슈 해결은 선결과제', 'originallink': 'https://www.econovill.com/news/articleView.html?idxno=523070', 'link': 'https://www.econovill.com/news/articleView.html?idxno=523070', 'description': '물론 미국의 <b>아마존</b>을 벤치마킹해 시도한 물류 시스템(로켓배송) 직접 운영이라는 쿠팡의 다소 무모한... 4 배라는 고평가가 적용됐으며 같은 기준으로 <b>아마존</b>이 3.4배, 알리바바가 5.4배인 것과 비교하면 쿠팡에 대한... ', 'pubDate': 'Fri, 12 Mar 2021 16:15:00 +0900'}, {'title': '코스피 1.35% 상승 마감…유럽중앙은행 기준금리 동결', 'originallink': 'http://www.sporbiz.co.kr/news/articleView.html?idxno=515267', 'link': 'http://www.sporbiz.co.kr/news/articleView.html?idxno=515267', 'description': '<b>아마존</b>은 전 거래일 대비 1.83% 오른 3113.59달러로 거래를 마쳤다. 시장은 쿠팡의 뉴욕증시 데뷔 소식, 경제지표 개선, 유럽중앙은행의 기준금리 동결 소식 등에 주목했다. 이날 미국 뉴욕증권거래소(NYSE)에... ', 'pubDate': 'Fri, 12 Mar 2021 16:15:00 +0900'}, {'title': 'SK하이닉스마저 제쳤다…쿠팡, 뉴욕 데뷔하자마자 시총2위', 'originallink': 'https://news.joins.com/article/olink/23605304', 'link': 'https://news.naver.com/main/read.nhn?mode=LSD&mid=sec&sid1=101&oid=025&aid=0003084520', 'description': '유일하게 <b>아마존</b>과 알리바바가 장악하지 않은 시장”이라고 설명했다. 국내 이커머스뿐 아니라 유통 전체... 11번가는 <b>아마존</b>과 손잡고 경쟁력 차별화에 나설 계획이다. 김동희 메리츠증권 연구원은 “쿠팡 상장으로... ', 'pubDate': 'Fri, 12 Mar 2021 16:14:00 +0900'}]}, {'lastBuildDate': 'Fri, 12 Mar 2021 17:13:42 +0900', 'total': 344717, 'start': 21, 'display': 10, 'items': [{'title': '대한항공, 라운지 운영 관리 시스템 전면 개편', 'originallink': 'http://www.ceoscoredaily.com/news/article.html?no=79620', 'link': 'http://www.ceoscoredaily.com/news/article.html?no=79620', 'description': '또 <b>아마존</b> 웹서비스를 활용한 빅데이터 분석 플랫폼으로 승객들의 예약 정보, 요일, 성수기 여부 등 라운지 이용에 미치는 모든 변수를 종합 분석해 이용 수요를 미리 예측할 수 있게 된다. 대한항공은 인천, 김포, 부산... ', 'pubDate': 'Fri, 12 Mar 2021 15:55:00 +0900'}, {'title': '<b>아마존</b>, 성소수자 정신질환 묘사한 도서 판매 금지', 'originallink': 'http://www.getnews.co.kr/news/articleView.html?idxno=520028', 'link': 'http://www.getnews.co.kr/news/articleView.html?idxno=520028', 'description': '미국 뉴욕의 <b>아마존</b> 오프라인 서점./사진=연합뉴스 전자상거래 업체 <b>아마존</b>이 성소수자의 성 정체성을 정신질환으로 표현하는 책은 판매하지 않기로 했다. 11일(현지시간) 월스트리트저널(WSJ)에 따르면 <b>아마존</b>은 이날... ', 'pubDate': 'Fri, 12 Mar 2021 15:55:00 +0900'}, {'title': \"&quot;마켓컬리, 쿠팡 따라 '美증시 상장' 검토 중&quot;\", 'originallink': 'http://www.newsquest.co.kr/news/articleView.html?idxno=82464', 'link': 'http://www.newsquest.co.kr/news/articleView.html?idxno=82464', 'description': '일례로\\xa0<b>아마존</b>은 배송 업무를를 운송업체 UPS(United Parcel Service) 등 외부에 의존하고 있다. 쿠팡의 배송 차량. [사진=연합뉴스] 한편 쿠팡에 이어 마켓컬리까지 미 증시에 출사표를 던지면서 국내 전자상거래 업체들도... ', 'pubDate': 'Fri, 12 Mar 2021 15:54:00 +0900'}, {'title': '[쿠팡 IPO] CJ·롯데·신세계 등 국내 유통 톱10 다 합쳐도 쿠팡 시총 30%......', 'originallink': 'http://www.greened.kr/news/articleView.html?idxno=287855', 'link': 'http://www.greened.kr/news/articleView.html?idxno=287855', 'description': '[자료정리=녹색경제신문] 이를 두고 업계에서는 해외 투자자들은 수십년간 적자행진을 하다 결국 유통에서 IT플랫폼까지 장악해버린 <b>아마존</b>의 경험이 쿠팡 기업가치 산정에 큰 역할을 한 것으로 해석하고 있다. 즉... ', 'pubDate': 'Fri, 12 Mar 2021 15:54:00 +0900'}, {'title': '美증시 `화려한 데뷔` 쿠팡, 시총 100조원 돌파', 'originallink': 'http://www.edaily.co.kr/news/newspath.asp?newsid=02915926628982664', 'link': 'https://news.naver.com/main/read.nhn?mode=LSD&mid=sec&sid1=101&oid=018&aid=0004874358', 'description': '- “당분간 한국 전념…<b>아마존</b>·알리바바 장악 못한 유일한 곳” - “공격적 투자…혁신서비스·물류센터 확대·일자리 창출” - “M&amp;A, 비즈니스보다 문화 측면 볼 것” 국내 투자자들이 쿠팡에 투자할 수 있는... ', 'pubDate': 'Fri, 12 Mar 2021 15:54:00 +0900'}, {'title': '대한항공, 라운지 운영 관리 시스템 전면 개편', 'originallink': 'http://www.thefirstmedia.net/news/articleView.html?idxno=72223', 'link': 'http://www.thefirstmedia.net/news/articleView.html?idxno=72223', 'description': '또한, <b>아마존</b> 웹서비스를 활용한 빅데이터 분석 플랫폼을 적용해 승객들의 예약 정보, 요일, 성수기 여부 등 라운지 이용에 미치는 모든 변수를 종합 분석해 이용 수요를 미리 예측할 수 있게 되었다. 이를 통해, 라운지... ', 'pubDate': 'Fri, 12 Mar 2021 15:51:00 +0900'}, {'title': '[12일 오늘의 상한가 총정리] 한국전자홀딩스·삼성출판사·미래에셋벤처투자...', 'originallink': 'http://www.ccreview.co.kr/news/articleView.html?idxno=306301', 'link': 'http://www.ccreview.co.kr/news/articleView.html?idxno=306301', 'description': '11번가의 경우 글로벌 최대 전자상거래업체인 <b>아마존</b>과 손을 잡았는데, 양사의 협업이 어떤 방식으로 실현될지 주목된다. 2. 노바백스 관련주 노바백스 관련주 디알젬, 켐온 주가가 상승세다. 12일 디알젬은 1.20... ', 'pubDate': 'Fri, 12 Mar 2021 15:50:00 +0900'}, {'title': \"[12일 오늘의 특징주 총정리] 흥국에프엔비·케이씨푸드·이씨에스 '마켓컬리...\", 'originallink': 'http://www.ccreview.co.kr/news/articleView.html?idxno=306300', 'link': 'http://www.ccreview.co.kr/news/articleView.html?idxno=306300', 'description': '11번가의 경우 글로벌 최대 전자상거래업체인 <b>아마존</b>과 손을 잡았는데, 양사의 협업이 어떤 방식으로 실현될지 주목된다. 2. 노바백스 관련주 노바백스 관련주 디알젬, 켐온 주가가 상승세다. 12일 디알젬은 1.20... ', 'pubDate': 'Fri, 12 Mar 2021 15:50:00 +0900'}, {'title': '<b>아마존</b> &quot;성소수자 정신병으로 모는 책 판매 안 한다&quot;', 'originallink': 'http://mbn.mk.co.kr/pages/news/newsView.php?category=mbn00008&news_seq_no=4447432', 'link': 'https://news.naver.com/main/read.nhn?mode=LSD&mid=sec&sid1=104&oid=057&aid=0001557365', 'description': '미국 월스트리트저널(WSJ)은 오늘(현지시간 11일) 전자상거래 업체 <b>아마존</b>이 성소수자의 성 정체성을 정신병으로 모는 책은 판매하지 않기로 했다고 보도했습니다. 이에 따르면 <b>아마존</b>은 보수주의 학자인 라이언 T.... ', 'pubDate': 'Fri, 12 Mar 2021 15:50:00 +0900'}, {'title': 'FFBE, WOTV FFBE에서 FINAL FANTASY EXVIUS UNIVERSE 콜라보 실시', 'originallink': 'https://www.gamechosun.co.kr/webzine/article/view.php?no=172994', 'link': 'https://www.gamechosun.co.kr/webzine/article/view.php?no=172994', 'description': '구글 플레이와 애플 앱스토어, <b>아마존</b> 앱스토어에서 무료 다운로드가 가능하며, 한국어와 영어, 독일어... ‘워 오브 더 비전 파이널 판타지 브레이브 엑스비어스’는 구글 플레이와 애플 앱스토어, <b>아마존</b>... ', 'pubDate': 'Fri, 12 Mar 2021 15:44:00 +0900'}]}, {'lastBuildDate': 'Fri, 12 Mar 2021 17:13:43 +0900', 'total': 344717, 'start': 31, 'display': 10, 'items': [{'title': '<b>아마존</b> &quot;성소수자 정신병으로 규정하는 책 판매 중단&quot;', 'originallink': 'http://yna.kr/AKR20210312111200009?did=1195m', 'link': 'https://news.naver.com/main/read.nhn?mode=LSD&mid=sec&sid1=104&oid=001&aid=0012256631', 'description': '전자상거래 업체 <b>아마존</b>이 성소수자의 성 정체성을 정신병으로 모는 책은 판매하지 않기로 했다고 미국 월스트리트저널(WSJ)이 11일(현지시간) 보도했다. 이에 따르면 <b>아마존</b>은 보수주의 학자인 라이언 T. 앤더슨의 책... ', 'pubDate': 'Fri, 12 Mar 2021 15:43:00 +0900'}, {'title': \"'상장 성공' 쿠팡 향후 주가, 증권사 '기대 반 우려 반'\", 'originallink': 'http://www.ekoreanews.co.kr/news/articleView.html?idxno=49305', 'link': 'http://www.ekoreanews.co.kr/news/articleView.html?idxno=49305', 'description': '이에 쿠팡이 <b>아마존</b>처럼 성장할 수 있을지 서학개미들의 관심이 집중되고 있다. 쿠팡 상장 소식을 전하는... 전하며\\xa0&quot;<b>아마존</b>과 알리바마가 미국과 글로벌 전자 상거래 시장을 지배하는 상황에서 한국에서는 쿠팡이... ', 'pubDate': 'Fri, 12 Mar 2021 15:41:00 +0900'}, {'title': \"&quot;이베이코리아 인수 놓고 '눈치작전' 시작됐다&quot;…'MBK파트너스‧카카오‧신세...\", 'originallink': 'http://www.newswatch.kr/news/articleView.html?idxno=53905', 'link': 'http://www.newswatch.kr/news/articleView.html?idxno=53905', 'description': '식품 유통 부분에서 <b>아마존</b>의 아성을 눌렀던 미국의 월마트처럼 이베이코리아를 인수하면 단번에 온·오프라인을 아우르는 유통 강자로 올라설 수 있다는 것이 업계 안팎의 전언이다. 사모펀드 업계에서는 홈플러스... ', 'pubDate': 'Fri, 12 Mar 2021 15:34:00 +0900'}, {'title': \"[시경Today-뷰티] VT코스메틱, '큐텐' 메가세일 판매랭킹 1위 外\", 'originallink': 'http://www.meconomynews.com/news/articleView.html?idxno=51165', 'link': 'http://www.meconomynews.com/news/articleView.html?idxno=51165', 'description': '큐텐재팬은 세계 최대 온라인 오픈마켓인 이베이가 운영하는 라쿠텐(Rakuten), <b>아마존</b>재팬, 야후쇼핑과 함께 일본 4대 오픈마켓 플랫폼으로 꼽히고 있는 쇼핑몰이다. 발표에 따르면 브이티코스메틱은 큐텐재팬에서... ', 'pubDate': 'Fri, 12 Mar 2021 15:33:00 +0900'}, {'title': '지누스, 롯데백화점 광복점 팝업스토어 새 단장', 'originallink': 'http://www.g-enews.com/ko-kr/news/article/news_all/202103121455199804bc88014e31_1/article.html', 'link': 'http://www.g-enews.com/ko-kr/news/article/news_all/202103121455199804bc88014e31_1/article.html', 'description': '매트리스 압축 포장배송(Mattress-in-a-box) 기술로 <b>아마존</b> 베스트셀러 매트리스에 오른 지누스는 뛰어난 배송 편의성과 합리적인 가격의 질 좋은 제품을 내놓으며 고객 유치에 힘쓰고 있다. 지누스 관계자는 “신제품 지누스... ', 'pubDate': 'Fri, 12 Mar 2021 15:29:00 +0900'}, {'title': '[카드뉴스] 쿠팡은 어떻게 뉴욕에 종소리를 울렸나... 결정적 순간들', 'originallink': 'https://www.techm.kr/news/articleView.html?idxno=81314', 'link': 'https://www.techm.kr/news/articleView.html?idxno=81314', 'description': \"아시아에서 온 이커머스 기업에 '<b>아마존</b>'이 태어난 미국이 주목하고 있다. 이날 김범석 쿠팡 이사회 의장은 뉴욕증권거래소 개장을 울리는 종을 울리며 'CPNG'의 상장을 알렸다. CPNG는 쿠팡의 종목 코드로, 이날... \", 'pubDate': 'Fri, 12 Mar 2021 15:23:00 +0900'}, {'title': '쿠팡 김범석 “창의성이 기적 만들었다…혁신에 계속 투자”', 'originallink': 'http://www.skyedaily.com/news/news_view.html?ID=125706', 'link': 'http://www.skyedaily.com/news/news_view.html?ID=125706', 'description': '<b>아마존</b>의 한국 진출 등 타사와의 경쟁에 대해선 “한국은 5300억달러의 큰 시장이다”며 “많은 훌륭한 회사들이 우리와 함께 서비스하고 있지만 우리는 기술에 대한 투자 등의 측면에서 독창적인 회사다”고... ', 'pubDate': 'Fri, 12 Mar 2021 15:22:00 +0900'}, {'title': '쿠팡의 뉴욕 증시 상장으로 창업자 김범석 대표가 10조 부자가 됐다', 'originallink': 'https://www.bbc.com/korean/news-56370091?xtor=AL-73-%5Bpartner%5D-%5Bnaver%5D-%5Bheadline%5D-%5Bkorean%5D-%5Bbizdev%5D-%5Bisapi%5D', 'link': 'https://www.bbc.com/korean/news-56370091?xtor=AL-73-%5Bpartner%5D-%5Bnaver%5D-%5Bheadline%5D-%5Bkorean%5D-%5Bbizdev%5D-%5Bisapi%5D', 'description': '쿠팡은 종종 한국의 <b>아마존</b>으로 일컬어진다. SK바이오사이언스에 역대 최대 64조 몰린 이유… 리스크는 없나? 빅히트 공모주 청약 열기가 뜨거운 까닭 일본의 다국적기업 소프트뱅크의 투자를 받고 있는 쿠팡은 9000만... ', 'pubDate': 'Fri, 12 Mar 2021 15:19:00 +0900'}, {'title': '넷플릭스, 계정 공유하면 &quot;경고 메세지&quot; 뜬다?', 'originallink': 'http://www.todaykorea.co.kr/news/articleView.html?idxno=284803', 'link': 'http://www.todaykorea.co.kr/news/articleView.html?idxno=284803', 'description': '이는 <b>아마존</b> 프라임 비디오, 디즈니 플러스와 HBO맥스, NBC의 피콕 등 수많은 경쟁 서비스가 생겨난 것이 원인이며, 이번 경고 조치에 원인으로 작용한 것으로 WP는 분석했다.', 'pubDate': 'Fri, 12 Mar 2021 15:18:00 +0900'}, {'title': 'FFBE 및 WOTV FFBE, FF EXVIUS UNIVERSE 콜라보 실시', 'originallink': 'http://www.gameshot.net/common/con_view.php?code=GA604b0257386a4', 'link': 'http://www.gameshot.net/common/con_view.php?code=GA604b0257386a4', 'description': '구글 플레이와 애플 앱스토어, <b>아마존</b> 앱스토어에서 무료 다운로드가 가능하며, 한국어와 영어, 독일어, 프랑스어, 스페인어, 중국어(번체), 태국어와 인도네시아어 총 8개 언어를 지원한다.\\xa0 게임 및... ', 'pubDate': 'Fri, 12 Mar 2021 15:16:00 +0900'}]}, {'lastBuildDate': 'Fri, 12 Mar 2021 17:13:43 +0900', 'total': 344717, 'start': 41, 'display': 10, 'items': [{'title': '아이스크림인가 민달팽이인가…화제 모은 <b>아마존</b> 새 사옥', 'originallink': 'https://hankookilbo.com/News/Read/A2021030316210002347?did=NA', 'link': 'https://news.naver.com/main/read.nhn?mode=LSD&mid=sec&sid1=101&oid=469&aid=0000587673', 'description': '&quot;똥(poop) 모양 이모티콘 같다&quot; 글로벌 전자상거래업체 1위 기업인 <b>아마존</b>이 미국 버지니아주(州) 알링턴 인근... 미국 버지니아주 알링턴에 짓고 있는 <b>아마존</b> 두 번째 본사는 넓이 280만 평방피트(약 26만㎡)에 22층 건물... ', 'pubDate': 'Fri, 12 Mar 2021 15:15:00 +0900'}, {'title': 'KOTRA, <b>아마존</b> 스타트업 셀러 키운다..297개사 배출... 올해 총 6회 교육 예정', 'originallink': 'http://www.kdpress.co.kr/news/articleView.html?idxno=101405', 'link': 'http://www.kdpress.co.kr/news/articleView.html?idxno=101405', 'description': \"권평오)가 '<b>아마존</b> 글로벌셀링 한국'과 함께 미국 전자상거래 시장에서 활약하는 국내 스타트업을 육성하기 위해 '로켓스타트 사업'을 실시한다. 올해로 4년째인 이 사업은 그동안 <b>아마존</b>을 통해 297개사 수출... \", 'pubDate': 'Fri, 12 Mar 2021 15:12:00 +0900'}, {'title': '[오늘Who] 쿠팡 시총 100조 거품논란, 김범석 믿을 구석은 성장속도', 'originallink': 'http://www.businesspost.co.kr/BP?command=article_view&num=221436', 'link': 'http://www.businesspost.co.kr/BP?command=article_view&num=221436', 'description': '주가매출액비율(PSR)로 봐도 쿠팡은 2020년 기준 5배인데 미국 <b>아마존</b>의 4.2배보다 높다. 주가매출액비율은... 김 의장은 11일 뉴욕에서 열린 기자간담회에서 쿠팡의 해외진출 가능성을 묻는 질문에 &quot;한국은 <b>아마존</b>과... ', 'pubDate': 'Fri, 12 Mar 2021 15:06:00 +0900'}, {'title': '대한항공, 라운지 운영 관리 시스템 전면 개편', 'originallink': 'http://www.leaders.kr/news/articleView.html?idxno=234522', 'link': 'http://www.leaders.kr/news/articleView.html?idxno=234522', 'description': '또 <b>아마존</b> 웹서비스를 활용한 빅데이터 분석 플랫폼을 적용해 승객들의 예약 정보, 요일, 성수기 여부 등 라운지 이용에 미치는 모든 변수를 종합 분석해 이용 수요를 미리 예측할 수 있게 되었다. 이를 통해, 라운지... ', 'pubDate': 'Fri, 12 Mar 2021 15:05:00 +0900'}, {'title': '쿠팡, 美 증시 첫날 41% 급등…시총 100조 돌파', 'originallink': 'https://imnews.imbc.com/replay/2021/nw1400/article/6116543_34915.html', 'link': 'https://news.naver.com/main/read.nhn?mode=LSD&mid=sec&sid1=104&oid=214&aid=0001105505', 'description': \"◀ 앵커 ▶ 한국의 <b>아마존</b>을 표방한 인터넷 쇼핑몰 '쿠팡'이 오늘 뉴욕 증시에 데뷔했습니다. 워싱턴에서 박성호 특파원입니다. ◀ 리포트 ▶ 뉴욕 증시의 개장을 알리는 벨을 김범석 쿠팡 이사회 의장 등 쿠팡 경영진이... \", 'pubDate': 'Fri, 12 Mar 2021 15:03:00 +0900'}, {'title': 'TVasia Plus(티브이아시아플러스), 우크라이나 인기 드라마 ‘러브 인 체인’...', 'originallink': 'https://www.news2day.co.kr/article/20210312500149', 'link': 'https://www.news2day.co.kr/article/20210312500149', 'description': '북미 지역에서도 <b>아마존</b> 프라임에서 높은 별점을 받아 작품성과 재미를 인정받았다. TRA Media의 페이스북 페이지 이벤트[사진=티알에이미디어] ‘러브 인 체인’은 시즌 1과 시즌 2 각각 24부작으로, 15일 월요일... ', 'pubDate': 'Fri, 12 Mar 2021 15:01:00 +0900'}, {'title': '대한항공, 라운지 운영 관리 시스템 개편... &quot;고객 서비스 질 높인다&quot;', 'originallink': 'http://www.getnews.co.kr/news/articleView.html?idxno=520009', 'link': 'http://www.getnews.co.kr/news/articleView.html?idxno=520009', 'description': '또한, <b>아마존</b> 웹서비스를 활용한 빅데이터 분석 플랫폼을 적용해 승객들의 예약 정보, 요일, 성수기 여부 등 라운지 이용에 미치는 모든 변수를 종합 분석해 이용 수요를 미리 예측할 수 있게 됐다. 이를 통해, 라운지... ', 'pubDate': 'Fri, 12 Mar 2021 14:59:00 +0900'}, {'title': '대한항공, 빅데이터 활용해 공항 라운지 혼잡 줄인다', 'originallink': 'http://www.g-enews.com/ko-kr/news/article/news_all/20210312111501725283a046ffa0_1/article.html', 'link': 'http://www.g-enews.com/ko-kr/news/article/news_all/20210312111501725283a046ffa0_1/article.html', 'description': '또한 <b>아마존</b> 웹 서비스를 활용한 빅데이터 분석 플랫폼을 통해 승객 예약 정보와 요일, 성수기 여부 같은 변수를 종합 분석해 라운지 이용 수요를 사전에 예측한다. 라운지 운영 효율화로 탑승객 이용 편의성 향상 이외에도... ', 'pubDate': 'Fri, 12 Mar 2021 14:59:00 +0900'}, {'title': \"수조원 실탄 확보한 쿠팡, '만년적자' 타이틀 뗄까\", 'originallink': 'http://www.bigtanews.co.kr/news/articleView.html?idxno=6973', 'link': 'http://www.bigtanews.co.kr/news/articleView.html?idxno=6973', 'description': '11번가는 <b>아마존</b>과 손잡고 점유율 확대를 노리고 있다. 쿠팡이 그만큼 더\\xa0힘든 싸움을 해야한다는 이야기다. 지금까지 쿠팡이 공격적으로 막대한 자금을 투입했지만 여전히 시장 대세로 떠오르지 못한 것도 이런 구조... ', 'pubDate': 'Fri, 12 Mar 2021 14:56:00 +0900'}, {'title': \"이커머스 강자 '쿠팡', 뉴욕증시 데뷔로 시총 기준 한국 3대 기업 '우뚝'\", 'originallink': 'http://www.g-enews.com/ko-kr/news/article/news_all/202103121428455636c6fee23429_1/article.html', 'link': 'http://www.g-enews.com/ko-kr/news/article/news_all/202103121428455636c6fee23429_1/article.html', 'description': '<b>아마존</b>이나 알리바바와 비교할 때 쿠팡은 30개 이상의 도시에 100개 이상의 주문 처리 물류 센터를 보유하고 있으며, 빠른 배송을 위해 한국에서 약 1만5000명의 드라이버인 쿠팡맨을 고용하고 있다. 코로나19(Covid-19)... ', 'pubDate': 'Fri, 12 Mar 2021 14:54:00 +0900'}]}]\n"
     ]
    }
   ],
   "source": [
    "print(news_data)\n",
    "# print(len(news_data))\n",
    "# print(news_data[0])\n",
    "# print(news_data[0]['items'])\n",
    "# print(len(news_data[0]['items']))\n",
    "# print(news_data[0]['items'][2])\n",
    "# print(news_data[0]['items'][7]['link'])"
   ]
  },
  {
   "cell_type": "code",
   "execution_count": 3,
   "metadata": {},
   "outputs": [
    {
     "output_type": "stream",
     "name": "stdout",
     "text": [
      "https://news.naver.com/main/read.nhn?mode=LSD&mid=sec&sid1=103&oid=020&aid=0003344140\nhttps://news.naver.com/main/read.nhn?mode=LSD&mid=sec&sid1=101&oid=241&aid=0003099482\nhttps://news.naver.com/main/read.nhn?mode=LSD&mid=sec&sid1=103&oid=009&aid=0004762430\nhttps://news.naver.com/main/read.nhn?mode=LSD&mid=sec&sid1=101&oid=031&aid=0000587915\nhttps://news.naver.com/main/read.nhn?mode=LSD&mid=sec&sid1=102&oid=422&aid=0000475435\nhttps://news.naver.com/main/read.nhn?mode=LSD&mid=sec&sid1=101&oid=018&aid=0004874391\nhttps://news.naver.com/main/read.nhn?mode=LSD&mid=sec&sid1=101&oid=025&aid=0003084520\nhttps://news.naver.com/main/read.nhn?mode=LSD&mid=sec&sid1=101&oid=018&aid=0004874358\nhttps://news.naver.com/main/read.nhn?mode=LSD&mid=sec&sid1=104&oid=057&aid=0001557365\nhttps://news.naver.com/main/read.nhn?mode=LSD&mid=sec&sid1=104&oid=001&aid=0012256631\nhttps://www.bbc.com/korean/news-56370091?xtor=AL-73-%5Bpartner%5D-%5Bnaver%5D-%5Bheadline%5D-%5Bkorean%5D-%5Bbizdev%5D-%5Bisapi%5D\nhttps://news.naver.com/main/read.nhn?mode=LSD&mid=sec&sid1=101&oid=469&aid=0000587673\nhttps://news.naver.com/main/read.nhn?mode=LSD&mid=sec&sid1=104&oid=214&aid=0001105505\n"
     ]
    }
   ],
   "source": [
    "naver_news_link = []\n",
    "\n",
    "for page in news_data:\n",
    "    #print(page)\n",
    "    page_news_link = []\n",
    "    \n",
    "    for item in page['items']:\n",
    "        #print(item)\n",
    "        temp_link = item['link']\n",
    "        #print(temp_link)\n",
    "        if \"naver\" in temp_link:\n",
    "            page_news_link.append(temp_link)\n",
    "    \n",
    "    naver_news_link.append(page_news_link)\n",
    "        \n",
    "\n",
    "# 사이트 링크만 가져오기\n",
    "for page in naver_news_link:\n",
    "    for link in page:\n",
    "        print(link)"
   ]
  },
  {
   "cell_type": "code",
   "execution_count": 4,
   "metadata": {},
   "outputs": [
    {
     "output_type": "stream",
     "name": "stdout",
     "text": [
      "4\n"
     ]
    }
   ],
   "source": [
    "print(len(naver_news_link[1]))"
   ]
  },
  {
   "cell_type": "markdown",
   "metadata": {},
   "source": [
    "### 가상 크롬드라이버 다운로드\n",
    "- 크롬 드라이브 다운로드 : https://chromedriver.chromium.org/downloads\n",
    "- 윈도우 10의 경우 chromedriver.exe"
   ]
  },
  {
   "cell_type": "code",
   "execution_count": 5,
   "metadata": {},
   "outputs": [],
   "source": [
    "from selenium import webdriver\n",
    "\n",
    "# for windows\n",
    "# driver = webdriver.Chrome('./driver/chromedriver.exe')\n",
    "\n",
    "# for mac m1\n",
    "driver = webdriver.Chrome('./driver/chromedriver')"
   ]
  },
  {
   "cell_type": "markdown",
   "metadata": {},
   "source": [
    "### 라이브러리 불러오기"
   ]
  },
  {
   "cell_type": "code",
   "execution_count": 6,
   "metadata": {},
   "outputs": [],
   "source": [
    "import pandas as pd\n",
    "import numpy as np\n",
    "from selenium import webdriver\n",
    "from tqdm import tqdm_notebook\n",
    "import requests\n",
    "import pickle\n",
    "import re\n",
    "import ast\n",
    "\n",
    "from bs4 import BeautifulSoup \n",
    "from urllib.request import urlopen\n",
    "import urllib\n",
    "import time"
   ]
  },
  {
   "cell_type": "code",
   "execution_count": 7,
   "metadata": {},
   "outputs": [
    {
     "output_type": "stream",
     "name": "stderr",
     "text": [
      "<ipython-input-7-1b13de154505>:5: TqdmDeprecationWarning: This function will be removed in tqdm==5.0.0\nPlease use `tqdm.notebook.tqdm` instead of `tqdm.tqdm_notebook`\n  for n in tqdm_notebook(range(len(naver_news_link))):\n"
     ]
    },
    {
     "output_type": "display_data",
     "data": {
      "text/plain": "  0%|          | 0/5 [00:00<?, ?it/s]",
      "application/vnd.jupyter.widget-view+json": {
       "version_major": 2,
       "version_minor": 0,
       "model_id": "66b32bcde85146cd9e2f68b41dc3e396"
      }
     },
     "metadata": {}
    },
    {
     "output_type": "stream",
     "name": "stderr",
     "text": [
      "<ipython-input-7-1b13de154505>:10: TqdmDeprecationWarning: This function will be removed in tqdm==5.0.0\nPlease use `tqdm.notebook.tqdm` instead of `tqdm.tqdm_notebook`\n  for idx in tqdm_notebook(range(len(naver_news_link[n]))):\n"
     ]
    },
    {
     "output_type": "display_data",
     "data": {
      "text/plain": "  0%|          | 0/3 [00:00<?, ?it/s]",
      "application/vnd.jupyter.widget-view+json": {
       "version_major": 2,
       "version_minor": 0,
       "model_id": "ed39f65e4b154fc3bcf55b0bdef5eaba"
      }
     },
     "metadata": {}
    },
    {
     "output_type": "stream",
     "name": "stdout",
     "text": [
      "https://news.naver.com/main/read.nhn?mode=LSD&mid=sec&sid1=103&oid=020&aid=0003344140\n",
      "https://news.naver.com/main/read.nhn?mode=LSD&mid=sec&sid1=101&oid=241&aid=0003099482\n",
      "https://news.naver.com/main/read.nhn?mode=LSD&mid=sec&sid1=103&oid=009&aid=0004762430\n"
     ]
    },
    {
     "output_type": "display_data",
     "data": {
      "text/plain": "  0%|          | 0/4 [00:00<?, ?it/s]",
      "application/vnd.jupyter.widget-view+json": {
       "version_major": 2,
       "version_minor": 0,
       "model_id": "78b6b32da1b847d1ac14a166b39873a6"
      }
     },
     "metadata": {}
    },
    {
     "output_type": "stream",
     "name": "stdout",
     "text": [
      "https://news.naver.com/main/read.nhn?mode=LSD&mid=sec&sid1=101&oid=031&aid=0000587915\n",
      "https://news.naver.com/main/read.nhn?mode=LSD&mid=sec&sid1=102&oid=422&aid=0000475435\n",
      "https://news.naver.com/main/read.nhn?mode=LSD&mid=sec&sid1=101&oid=018&aid=0004874391\n",
      "https://news.naver.com/main/read.nhn?mode=LSD&mid=sec&sid1=101&oid=025&aid=0003084520\n"
     ]
    },
    {
     "output_type": "display_data",
     "data": {
      "text/plain": "  0%|          | 0/2 [00:00<?, ?it/s]",
      "application/vnd.jupyter.widget-view+json": {
       "version_major": 2,
       "version_minor": 0,
       "model_id": "c866dd4d7ae949c79f0c9fc529c93817"
      }
     },
     "metadata": {}
    },
    {
     "output_type": "stream",
     "name": "stdout",
     "text": [
      "https://news.naver.com/main/read.nhn?mode=LSD&mid=sec&sid1=101&oid=018&aid=0004874358\n",
      "https://news.naver.com/main/read.nhn?mode=LSD&mid=sec&sid1=104&oid=057&aid=0001557365\n"
     ]
    },
    {
     "output_type": "display_data",
     "data": {
      "text/plain": "  0%|          | 0/2 [00:00<?, ?it/s]",
      "application/vnd.jupyter.widget-view+json": {
       "version_major": 2,
       "version_minor": 0,
       "model_id": "26abf1f5515f48c98e583e3572eb81a2"
      }
     },
     "metadata": {}
    },
    {
     "output_type": "stream",
     "name": "stdout",
     "text": [
      "https://news.naver.com/main/read.nhn?mode=LSD&mid=sec&sid1=104&oid=001&aid=0012256631\n",
      "https://www.bbc.com/korean/news-56370091?xtor=AL-73-%5Bpartner%5D-%5Bnaver%5D-%5Bheadline%5D-%5Bkorean%5D-%5Bbizdev%5D-%5Bisapi%5D\n"
     ]
    },
    {
     "output_type": "display_data",
     "data": {
      "text/plain": "  0%|          | 0/2 [00:00<?, ?it/s]",
      "application/vnd.jupyter.widget-view+json": {
       "version_major": 2,
       "version_minor": 0,
       "model_id": "7a9b854148be4a7ca62ed1b79da27922"
      }
     },
     "metadata": {}
    },
    {
     "output_type": "stream",
     "name": "stdout",
     "text": [
      "https://news.naver.com/main/read.nhn?mode=LSD&mid=sec&sid1=101&oid=469&aid=0000587673\n",
      "https://news.naver.com/main/read.nhn?mode=LSD&mid=sec&sid1=104&oid=214&aid=0001105505\n",
      "['대한임상보건학회 “정회원사 및 회원사 선정, 해외 판매 지원”', '‘시총 100조’ 쿠팡 미 증시 화려한 데뷔…마켓컬리도 상장 추진', '아마존엔 왜 .ppt 파일이 없을까']\n",
      "==================================\n",
      "['   본문 내용     TV플레이어     // TV플레이어     // flash 오류를 우회하기 위한 함수 추가 function _flash_removeCallback() {}     대한임상보건학회는 국내 중소기업 우수 제품 수출지원의 일환으로  2021  대한임상보건학회 정회원 선정 및 회원사 모집을 1차로 진행했다고  12 일 밝혔다. 학회에 따르면, 1차 대상자로  100 여 개 업체를 선정했다. 해당 업체들은 미국 최대 온라인 마켓인 아마존의 대한임상보건학회 전용 몰 입점, 미국을 비롯한 동남아 국가 등으로의 유통 채널 확대, 홍보 지원 등을 받게 된다. 이번에 회원사로 선정된 업체는 노블러스, 인제나노판매주식회사, 파인생활건강, 경남바이오파마, 그리너리, 아워테리토리, 아쿠아수산, 진바이오셀  등  100 여 곳이다. 학회 관계자는 “국내에서 잘 만든 제품을 대한임상보건학회가 선정하여 회원사들을 서포트하며 함께 글로벌 시장으로 도약하는데 의미가 깊다”며, “ FDA 인증 등을 통해 제품이 확인된 업체를 주로 하여 해외의 문을 업체가 두드릴 수 있도록 힘껏 돕겠다”고 밝혔다. 대한임상보건학회는 비영리 공익단체로 국내외 보건, 의료 학회 지원과 함께 국내·외에서 임상을 포함한 식품, 의약품, 의료기, 미용기기 외 미국 식품의양국( FDA ) 지원 업무 등 다양한 사업을 진행하고 있으며, 국제기구 소속으로 국제적 학술에 참여하는 등 보건 분야의 연구도 적극적으로 개척하여 글로벌 학회로 성장하고 있다고 전했다. 박해식 동아닷컴 기자  pistols @ donga.com ▶ 네이버에서 [동아일보] 채널 구독하기 ▶ 영원한 이별 앞에서 ‘환생’의 문을 열다 ▶ 멀티미디어 스토리텔링 ‘The Original’ ⓒ 동아일보 &  donga.com , 무단 전재 및 재배포 금지 \\t  // 본문 내용   ', '   본문 내용     TV플레이어     // TV플레이어     // flash 오류를 우회하기 위한 함수 추가 function _flash_removeCallback() {}   \\t \\t[일간스포츠 권오용]      쿠팡이  11 일 미국 뉴욕 맨하탄 타임스퀘어에서 뉴욕증권거래소 상장을 기념해 전광판 광고를 진행하고 있다. 쿠팡 제공           국내 이커머스 업체 쿠팡이 미국 증권 시장에 화려하게 데뷔했다. 첫 거래일에 공모가보다  40 %가량 올랐으며 시가총액이  100 조원을 넘었다. 쿠팡 성공에 자극받은 경쟁사 마켓컬리도 상장을 추진한다.      쿠팡은 미국 뉴욕증권거래소( NYSE ) 상장 첫날인  11 일(현지시간) 공모가인  35 달러보다  40.71 %( 14.25 달러) 오른  49.25 달러에 거래를 마감했다.      이날 쿠팡 주식의 시초가는 공모가에서  81.4 %나 상승한  63.50 달러였으며, 장중  69.0 달러까지 오르기도 했다.        쿠팡의 시총은 종가 기준으로  886 억 5000 만 달러(약  100 조 4000 억원)를 기록했다. 이는 국내 코스피 시총 1위인 삼성전자( 494 조 2980 억원)와 2위인  SK 하이닉스( 101 조 9203 억원) 다음으로 많은 것이다. 코스피 시총 3위인  LG 화학( 66 조 6392 억원)과는 상당한 차이로 앞선다.        쿠팡은 이번 기업공개( IPO )로  45 억 5000 만 달러(약 5조 1678 억원)를 조달한 것으로 알려졌다.      쿠팡의 이번 미국  IPO 는 대성공이다. 일부에서 과평가됐다는 분석도 있었지만 이날 첫 거래에서 공모가 이상으로 평가받으며  2014 년 알리바바 이후 미국에 상장된 최대 규모 외국 기업이라는 타이틀을 거머쥐었다.        김범석 쿠팡 이사회 의장은 한국의 유니콘이 세계적인 미국 주식 시장에 성공적으로 진출한 것에 대해 보람을 느낀다고 했다.        김 의장은 이날 뉴욕 등 미국 주재 한국 특파원들과의 온라인 간담회에서 “뉴욕증권거래소에 상장한 이유는 전통이 깊고 세계적인 회사들의 커뮤니티에 입성한다는 의미도 있다”며 “한국의 유니콘도 그런 커뮤니티에 들어갈 자격이 된다는 것을 보여주고 싶었다”고 말했다.      김 의장은 “한국의 E커머스 시장 규모가  530 조원이 넘는다. 한국 시장 규모가 절대로 작지 않다”며 “이번 상장 과정에서 가장 보람을 느낀 부분 중 하나가 한국 시장의 규모와 가능성, 그리고 혁신  DNA 를 알릴 좋은 기회였다는 것이다\"고 말했다. 그는 또 \"전 세계  10 대 E커머스 시장 중 유일하게 아마존과 알리바바가 장악하지 않은 시장이 한국이다\"고 강조했다.      김 의장은 확보한 자금으로 “공격적인 투자를 해 좋은 일자리(향후 5년간 5만명 추가 직고용)를 창출하겠다”며 “특히 지역 경제 활성화와 물류 인프라 구축에 지속적으로 투자할 계획이다\"고 설명했다.        마켓컬리  CI .           쿠팡이 화려한 미국 데뷔에 자극받은 경쟁사 마켓컬리도 연내 상장을 추진한다고 밝혔다.         12 일 마켓컬리 운영사 컬리에 따르면 김슬아 대표는 최근 팀장급 이상 직원들을 대상으로 연내 상장 추진 계획을 공유했다.      마켓컬리 관계자는 “올해 안에 상장을 추진하는 것은 맞다”며 “한국과 미국 시장 모두 가능성을 열어두고 검토하고 있다\"고 말했다.        마켓컬리는  2015 년 문을 연 이커머스 업체로, \\'새벽배송\\' 서비스로 주부들 사이에서 입소문을 타며 빠르게 성장했다.  2015 년  29 억원 수준이었던 연매출은  2019 년에  4289 억원으로 급등했다. 회원 수는 이달 현재  700 만명을 돌파했으며 총 4개의 물류 센터를 운영하고 있다.        권오용 기자  kwon.ohyong @ joongang.co.kr     ▶ \\xa0[오늘의 운세 바로가기]   [만화 바로가기] ▶ \\xa0[일간스포츠 바로가기]  \\xa0 \\xa0 ⓒ일간스포츠 (https://isplus.joins.com)  무단 전재 및 재배포 금지\" \\t  // 본문 내용   ', \"   본문 내용     TV플레이어     // TV플레이어     // flash 오류를 우회하기 위한 함수 추가 function _flash_removeCallback() {}    순서 파괴 / 콜린 브라이어·빌 카 지음 / 유정식 옮김 / 다산북스 펴냄 / 정가 1만 9800 원  지구상 최상위 포식자 기업 아마존은 파워포인트를 경계한다. 발표자가 회의를 통제하기 쉽게 만들어주는, '청중'이 아닌 '발표자'를 위한 수단이기 때문이다. 참신한 아이디어 대신 뛰어난 언변이 주요 변수가 돼버리는 파워포인트를 기반으로 한 발표는 아마존의 혁신에 방해가 된다. 오로지 '글'로 정돈된 아이디어만이 살아남을 수 있다. 아마존에 없는 건 또 있다. 기업에서 아이디어 하나가 제품 또는 콘텐츠로 완성되기까지 요구되는 수많은 절차다. 제프 베이조스 아마존 최고경영자( CEO )가 강조하는 '순서파괴( Working   Backwards )'는 개발자 판단에 따라 순서대로 계획을 세워 제품을 만드는 대신 고객이 누릴 효용을 먼저 설계하는 방식이다. 새로 기획한 아이디어가 실제로 어떻게 구현될지 첫 아이디어 회의에서 보여줘야 한다.  아마존 안에서 기존 방식은 철저히 파괴된다. 제품 개발 과정에서 거치는 부서 간 커뮤니케이션은 시간과 돈만 낭비되므로 배제된다. '순서파괴'의 저자 콜린 브라이어와 빌 카는  10 년 이상 아마존에서 근무하며 베이조스 곁을 지킨 최측근이다. 아마존의 비약적인 성장을 함께했던 저자들은 소수의 천재성이 아닌 극도의 효율과 실천을 추구하는 조직경영 시스템을 혁신한 것이 지금의 아마존을 만들었다고 말한다.   [이용건 기자]  r_start //  r_end // ▶ '경제 1위' 매일경제, 네이버에서 구독하세요 ▶ 이 제품은 '이렇게 만들죠' 영상으로 만나요 ▶ 부동산의 모든것 '매부리TV'가 펼칩니다 [ⓒ 매일경제 &  mk.co.kr , 무단전재 및 재배포 금지] \\t  // 본문 내용   \"]\n"
     ]
    }
   ],
   "source": [
    "naver_news_title = []\n",
    "naver_news_content = []\n",
    "\n",
    "\n",
    "for n in tqdm_notebook(range(len(naver_news_link))):\n",
    "    #print(n)\n",
    "    news_page_title = []\n",
    "    news_page_content = []\n",
    "    \n",
    "    for idx in tqdm_notebook(range(len(naver_news_link[n]))):        \n",
    "        \n",
    "    ########### 긁어온 URL로 접속하기 ############    \n",
    "        try:\n",
    "            driver.get(naver_news_link[n][idx])\n",
    "            print(naver_news_link[n][idx])\n",
    "            \n",
    "        except:\n",
    "            print(\"Timeout!\")\n",
    "            continue        \n",
    "        \n",
    "        try:\n",
    "            response = driver.page_source\n",
    "            \n",
    "        except UnexpectedAlertPresentException:\n",
    "            driver.switch_to_alert().accept()\n",
    "            print(\"게시글이 삭제된 경우입니다.\")\n",
    "            continue\n",
    "        \n",
    "        soup = BeautifulSoup(response, \"html.parser\")\n",
    "        \n",
    "        ###### 뉴스 타이틀 긁어오기 ######        \n",
    "        title = None\n",
    "        \n",
    "        try:\n",
    "            item = soup.find('div', class_=\"article_info\")\n",
    "            title = item.find('h3', class_=\"tts_head\").get_text()\n",
    "            #print(title)\n",
    "\n",
    "        except:\n",
    "            title = \"OUTLINK\"\n",
    "        \n",
    "        #print(title)\n",
    "        news_page_title.append(title)\n",
    "        \n",
    "        \n",
    "        ###### 뉴스 본문 긁어오기 ######        \n",
    "        doc = None\n",
    "        text = \"\"\n",
    "                \n",
    "        data = soup.find_all(\"div\", {\"class\" : \"_article_body_contents\"})\n",
    "        if data:\n",
    "            for item in data:\n",
    "\n",
    "                text = text + str(item.find_all(text=True)).strip()\n",
    "                text = ast.literal_eval(text)\n",
    "                doc = ' '.join(text)\n",
    "   \n",
    "        else:\n",
    "            doc = \"OUTLINK\"\n",
    "            \n",
    "        news_page_content.append(doc.replace('\\n', ' '))\n",
    "\n",
    "                \n",
    "    naver_news_title.append(news_page_title)\n",
    "    naver_news_content.append(news_page_content)\n",
    "\n",
    "    time.sleep(2)\n",
    "    \n",
    "    \n",
    "print(naver_news_title[0])\n",
    "print(\"==================================\")\n",
    "print(naver_news_content[0])"
   ]
  },
  {
   "cell_type": "code",
   "execution_count": 8,
   "metadata": {},
   "outputs": [
    {
     "output_type": "stream",
     "name": "stdout",
     "text": [
      "['아이스크림인가 민달팽이인가…화제 모은 아마존 새 사옥', '쿠팡, 美 증시 첫날 41% 급등…시총 100조 돌파']\n"
     ]
    }
   ],
   "source": [
    "print(naver_news_title[4])"
   ]
  },
  {
   "cell_type": "code",
   "execution_count": 9,
   "metadata": {},
   "outputs": [
    {
     "output_type": "stream",
     "name": "stdout",
     "text": [
      "['   본문 내용     TV플레이어     // TV플레이어     // flash 오류를 우회하기 위한 함수 추가 function _flash_removeCallback() {}     대한임상보건학회는 국내 중소기업 우수 제품 수출지원의 일환으로  2021  대한임상보건학회 정회원 선정 및 회원사 모집을 1차로 진행했다고  12 일 밝혔다. 학회에 따르면, 1차 대상자로  100 여 개 업체를 선정했다. 해당 업체들은 미국 최대 온라인 마켓인 아마존의 대한임상보건학회 전용 몰 입점, 미국을 비롯한 동남아 국가 등으로의 유통 채널 확대, 홍보 지원 등을 받게 된다. 이번에 회원사로 선정된 업체는 노블러스, 인제나노판매주식회사, 파인생활건강, 경남바이오파마, 그리너리, 아워테리토리, 아쿠아수산, 진바이오셀  등  100 여 곳이다. 학회 관계자는 “국내에서 잘 만든 제품을 대한임상보건학회가 선정하여 회원사들을 서포트하며 함께 글로벌 시장으로 도약하는데 의미가 깊다”며, “ FDA 인증 등을 통해 제품이 확인된 업체를 주로 하여 해외의 문을 업체가 두드릴 수 있도록 힘껏 돕겠다”고 밝혔다. 대한임상보건학회는 비영리 공익단체로 국내외 보건, 의료 학회 지원과 함께 국내·외에서 임상을 포함한 식품, 의약품, 의료기, 미용기기 외 미국 식품의양국( FDA ) 지원 업무 등 다양한 사업을 진행하고 있으며, 국제기구 소속으로 국제적 학술에 참여하는 등 보건 분야의 연구도 적극적으로 개척하여 글로벌 학회로 성장하고 있다고 전했다. 박해식 동아닷컴 기자  pistols @ donga.com ▶ 네이버에서 [동아일보] 채널 구독하기 ▶ 영원한 이별 앞에서 ‘환생’의 문을 열다 ▶ 멀티미디어 스토리텔링 ‘The Original’ ⓒ 동아일보 &  donga.com , 무단 전재 및 재배포 금지 \\t  // 본문 내용   ', '   본문 내용     TV플레이어     // TV플레이어     // flash 오류를 우회하기 위한 함수 추가 function _flash_removeCallback() {}   \\t \\t[일간스포츠 권오용]      쿠팡이  11 일 미국 뉴욕 맨하탄 타임스퀘어에서 뉴욕증권거래소 상장을 기념해 전광판 광고를 진행하고 있다. 쿠팡 제공           국내 이커머스 업체 쿠팡이 미국 증권 시장에 화려하게 데뷔했다. 첫 거래일에 공모가보다  40 %가량 올랐으며 시가총액이  100 조원을 넘었다. 쿠팡 성공에 자극받은 경쟁사 마켓컬리도 상장을 추진한다.      쿠팡은 미국 뉴욕증권거래소( NYSE ) 상장 첫날인  11 일(현지시간) 공모가인  35 달러보다  40.71 %( 14.25 달러) 오른  49.25 달러에 거래를 마감했다.      이날 쿠팡 주식의 시초가는 공모가에서  81.4 %나 상승한  63.50 달러였으며, 장중  69.0 달러까지 오르기도 했다.        쿠팡의 시총은 종가 기준으로  886 억 5000 만 달러(약  100 조 4000 억원)를 기록했다. 이는 국내 코스피 시총 1위인 삼성전자( 494 조 2980 억원)와 2위인  SK 하이닉스( 101 조 9203 억원) 다음으로 많은 것이다. 코스피 시총 3위인  LG 화학( 66 조 6392 억원)과는 상당한 차이로 앞선다.        쿠팡은 이번 기업공개( IPO )로  45 억 5000 만 달러(약 5조 1678 억원)를 조달한 것으로 알려졌다.      쿠팡의 이번 미국  IPO 는 대성공이다. 일부에서 과평가됐다는 분석도 있었지만 이날 첫 거래에서 공모가 이상으로 평가받으며  2014 년 알리바바 이후 미국에 상장된 최대 규모 외국 기업이라는 타이틀을 거머쥐었다.        김범석 쿠팡 이사회 의장은 한국의 유니콘이 세계적인 미국 주식 시장에 성공적으로 진출한 것에 대해 보람을 느낀다고 했다.        김 의장은 이날 뉴욕 등 미국 주재 한국 특파원들과의 온라인 간담회에서 “뉴욕증권거래소에 상장한 이유는 전통이 깊고 세계적인 회사들의 커뮤니티에 입성한다는 의미도 있다”며 “한국의 유니콘도 그런 커뮤니티에 들어갈 자격이 된다는 것을 보여주고 싶었다”고 말했다.      김 의장은 “한국의 E커머스 시장 규모가  530 조원이 넘는다. 한국 시장 규모가 절대로 작지 않다”며 “이번 상장 과정에서 가장 보람을 느낀 부분 중 하나가 한국 시장의 규모와 가능성, 그리고 혁신  DNA 를 알릴 좋은 기회였다는 것이다\"고 말했다. 그는 또 \"전 세계  10 대 E커머스 시장 중 유일하게 아마존과 알리바바가 장악하지 않은 시장이 한국이다\"고 강조했다.      김 의장은 확보한 자금으로 “공격적인 투자를 해 좋은 일자리(향후 5년간 5만명 추가 직고용)를 창출하겠다”며 “특히 지역 경제 활성화와 물류 인프라 구축에 지속적으로 투자할 계획이다\"고 설명했다.        마켓컬리  CI .           쿠팡이 화려한 미국 데뷔에 자극받은 경쟁사 마켓컬리도 연내 상장을 추진한다고 밝혔다.         12 일 마켓컬리 운영사 컬리에 따르면 김슬아 대표는 최근 팀장급 이상 직원들을 대상으로 연내 상장 추진 계획을 공유했다.      마켓컬리 관계자는 “올해 안에 상장을 추진하는 것은 맞다”며 “한국과 미국 시장 모두 가능성을 열어두고 검토하고 있다\"고 말했다.        마켓컬리는  2015 년 문을 연 이커머스 업체로, \\'새벽배송\\' 서비스로 주부들 사이에서 입소문을 타며 빠르게 성장했다.  2015 년  29 억원 수준이었던 연매출은  2019 년에  4289 억원으로 급등했다. 회원 수는 이달 현재  700 만명을 돌파했으며 총 4개의 물류 센터를 운영하고 있다.        권오용 기자  kwon.ohyong @ joongang.co.kr     ▶ \\xa0[오늘의 운세 바로가기]   [만화 바로가기] ▶ \\xa0[일간스포츠 바로가기]  \\xa0 \\xa0 ⓒ일간스포츠 (https://isplus.joins.com)  무단 전재 및 재배포 금지\" \\t  // 본문 내용   ', \"   본문 내용     TV플레이어     // TV플레이어     // flash 오류를 우회하기 위한 함수 추가 function _flash_removeCallback() {}    순서 파괴 / 콜린 브라이어·빌 카 지음 / 유정식 옮김 / 다산북스 펴냄 / 정가 1만 9800 원  지구상 최상위 포식자 기업 아마존은 파워포인트를 경계한다. 발표자가 회의를 통제하기 쉽게 만들어주는, '청중'이 아닌 '발표자'를 위한 수단이기 때문이다. 참신한 아이디어 대신 뛰어난 언변이 주요 변수가 돼버리는 파워포인트를 기반으로 한 발표는 아마존의 혁신에 방해가 된다. 오로지 '글'로 정돈된 아이디어만이 살아남을 수 있다. 아마존에 없는 건 또 있다. 기업에서 아이디어 하나가 제품 또는 콘텐츠로 완성되기까지 요구되는 수많은 절차다. 제프 베이조스 아마존 최고경영자( CEO )가 강조하는 '순서파괴( Working   Backwards )'는 개발자 판단에 따라 순서대로 계획을 세워 제품을 만드는 대신 고객이 누릴 효용을 먼저 설계하는 방식이다. 새로 기획한 아이디어가 실제로 어떻게 구현될지 첫 아이디어 회의에서 보여줘야 한다.  아마존 안에서 기존 방식은 철저히 파괴된다. 제품 개발 과정에서 거치는 부서 간 커뮤니케이션은 시간과 돈만 낭비되므로 배제된다. '순서파괴'의 저자 콜린 브라이어와 빌 카는  10 년 이상 아마존에서 근무하며 베이조스 곁을 지킨 최측근이다. 아마존의 비약적인 성장을 함께했던 저자들은 소수의 천재성이 아닌 극도의 효율과 실천을 추구하는 조직경영 시스템을 혁신한 것이 지금의 아마존을 만들었다고 말한다.   [이용건 기자]  r_start //  r_end // ▶ '경제 1위' 매일경제, 네이버에서 구독하세요 ▶ 이 제품은 '이렇게 만들죠' 영상으로 만나요 ▶ 부동산의 모든것 '매부리TV'가 펼칩니다 [ⓒ 매일경제 &  mk.co.kr , 무단전재 및 재배포 금지] \\t  // 본문 내용   \"]\n"
     ]
    }
   ],
   "source": [
    "print(naver_news_content[0])"
   ]
  },
  {
   "cell_type": "code",
   "execution_count": 10,
   "metadata": {},
   "outputs": [
    {
     "output_type": "stream",
     "name": "stdout",
     "text": [
      "5\n5\n"
     ]
    }
   ],
   "source": [
    "print(len(naver_news_title))\n",
    "print(len(naver_news_content))"
   ]
  },
  {
   "cell_type": "code",
   "execution_count": 11,
   "metadata": {},
   "outputs": [],
   "source": [
    "with open(\"naver_news_title.pk\", \"wb\") as f:\n",
    "    pickle.dump(naver_news_title, f)\n",
    "    \n",
    "with open(\"naver_news_content.pk\", \"wb\") as f:\n",
    "    pickle.dump(naver_news_content, f)"
   ]
  },
  {
   "cell_type": "markdown",
   "metadata": {},
   "source": [
    "-----------------------------------------------\n",
    "## gensim으로 네이버 뉴스를 이용한 토픽 모델링 \n",
    "- 1. 토픽 모델링을 적용하기 위해 텍스트를 전처리\n",
    "- 2. gensim을 사용한 토픽 모델링 "
   ]
  },
  {
   "cell_type": "markdown",
   "metadata": {},
   "source": [
    "### 1. 토픽 모델링을 위한 라이브러리 불러오기"
   ]
  },
  {
   "cell_type": "code",
   "execution_count": 12,
   "metadata": {},
   "outputs": [],
   "source": [
    "from tqdm import tqdm_notebook # progress bar\n",
    "from konlpy.tag import Mecab #Okt 등 형태소 분석기 불러오기\n",
    "import numpy as np\n",
    "import string # 특수문자\n",
    "import re\n",
    "import warnings # 경고 알림 제거\n",
    "import pickle\n",
    "from gensim import corpora\n",
    "from gensim import models\n",
    "import matplotlib.pyplot as plt\n",
    "%matplotlib inline\n",
    "\n",
    "warnings.filterwarnings(\"ignore\", category=DeprecationWarning) "
   ]
  },
  {
   "cell_type": "markdown",
   "metadata": {},
   "source": [
    "### 2. 텍스트 전처리 함수 만들기"
   ]
  },
  {
   "cell_type": "code",
   "execution_count": 13,
   "metadata": {},
   "outputs": [],
   "source": [
    "def read_documents(input_file_name):    \n",
    "    corpus = []    \n",
    "    \n",
    "    with open(input_file_name, 'rb') as f:\n",
    "        temp_corpus = pickle.load(f)\n",
    "        \n",
    "    for page in temp_corpus:\n",
    "        corpus += page\n",
    "    \n",
    "    return corpus\n",
    "\n",
    "def text_cleaning(docs):\n",
    "    # 한국어를 제외한 글자를 제거하는 함수.\n",
    "    for doc in docs:\n",
    "        doc = re.sub(\"[^ㄱ-ㅎㅏ-ㅣ가-힣 ]\", \"\", str(doc))\n",
    "\n",
    "    return docs\n",
    "\n",
    "def define_stopwords(path):    \n",
    "    SW = set()\n",
    "    # 불용어를 추가하는 방법 1.\n",
    "    for i in string.punctuation:\n",
    "        SW.add(i)\n",
    "    # 불용어를 추가하는 방법 2.\n",
    "    # stopwords-ko.txt에 직접 추가    \n",
    "    with open(path, encoding='cp949') as f:\n",
    "        for word in f:\n",
    "            SW.add(word)\n",
    "    return SW\n",
    "\n",
    "def text_tokenizing(corpus, tokenizer):    \n",
    "    mecab = Mecab()\n",
    "    token_corpus = []    \n",
    "\n",
    "    if tokenizer == \"noun\":\n",
    "        for n in tqdm_notebook(range(len(corpus)), desc=\"Preprocessing\"):\n",
    "            token_text = mecab.nouns(corpus[n])\n",
    "            token_text = [word for word in token_text if word not in SW and len(word) > 1]                \n",
    "            token_corpus.append(token_text)\n",
    "            \n",
    "    elif tokenized == \"morph\":\n",
    "        for n in tqdm_notebook(range(len(corpus)), desc=\"Preprocessing\"):\n",
    "            token_text = mecab.morphs(corpus[n])\n",
    "            token_text = [word for word in token_text if word not in SW and len(word) > 1]\n",
    "            token_corpus.append(token_text)\n",
    "\n",
    "    elif tokenizer == \"word\":\n",
    "        for n in tqdm_notebook(range(len(corpus)), desc=\"Preprocessing\"):\n",
    "            token_text = corpus[n].split()\n",
    "            token_text = [word for word in token_text if word not in SW and len(word) > 1]\n",
    "            token_corpus.append(token_text)        \n",
    "\n",
    "    return token_corpus"
   ]
  },
  {
   "cell_type": "code",
   "execution_count": 14,
   "metadata": {},
   "outputs": [
    {
     "output_type": "display_data",
     "data": {
      "text/plain": "Preprocessing:   0%|          | 0/13 [00:00<?, ?it/s]",
      "application/vnd.jupyter.widget-view+json": {
       "version_major": 2,
       "version_minor": 0,
       "model_id": "77cbe9097b4844e0ac277ad3856ae29a"
      }
     },
     "metadata": {}
    }
   ],
   "source": [
    "input_file_name = \"naver_news_content.pk\"\n",
    "documents = read_documents(input_file_name)\n",
    "SW = define_stopwords(\"data/stopwords-ko.txt\")\n",
    "cleaned_text = text_cleaning(documents)\n",
    "tokenized_text = text_tokenizing(cleaned_text, tokenizer=\"noun\") #tokenizer= \"noun\" or \"word\""
   ]
  },
  {
   "cell_type": "code",
   "execution_count": 15,
   "metadata": {},
   "outputs": [
    {
     "output_type": "stream",
     "name": "stdout",
     "text": [
      "['본문', '내용', '플레이어', '플레이어', '오류', '우회', '함수', '추가', '임상', '보건', '학회', '국내', '중소기업', '우수', '제품', '수출', '지원', '일환', '임상', '보건', '학회', '정회원', '선정', '회원', '모집', '진행', '학회', '대상자', '업체', '선정', '해당', '업체', '미국', '최대', '온라인', '마켓', '아마존', '임상', '보건', '학회', '전용', '입점', '미국', '동남아', '국가', '유통', '채널', '확대', '홍보', '지원', '이번', '회원', '선정', '업체', '노블', '러스', '나노', '판매', '주식회사', '파인', '생활', '건강', '경남', '바이오', '파마', '너리', '아워', '테리토리', '아쿠아', '수산', '바이오', '학회', '관계자', '국내', '제품', '임상', '보건', '학회', '선정', '회원', '서포트', '글로벌', '시장', '도약', '의미', '인증', '제품', '확인', '업체', '해외', '업체', '임상', '보건', '학회', '영리', '공익', '단체', '국내외', '보건', '의료', '학회', '지원', '국내', '임상', '포함', '식품', '의약품', '의료기', '미용', '기기', '미국', '식품', '양국', '지원', '업무', '다양', '사업', '진행', '국제기구', '소속', '국제', '학술', '참여', '보건', '분야', '연구', '적극', '개척', '글로벌', '학회', '성장', '박해식', '동아닷컴', '기자', '네이버', '동아일보', '채널', '구독', '영원', '이별', '환생', '멀티미디어', '스토리텔링', '동아일보', '무단', '전재', '배포', '금지', '본문', '내용']\n"
     ]
    }
   ],
   "source": [
    "print(tokenized_text[0])"
   ]
  },
  {
   "cell_type": "markdown",
   "metadata": {},
   "source": [
    "### 3. 토픽 모델링에 사용할 행렬 생성"
   ]
  },
  {
   "cell_type": "markdown",
   "metadata": {},
   "source": [
    "### 1) 문서-단어 행렬(DTM, document-term matrix) 생성"
   ]
  },
  {
   "cell_type": "code",
   "execution_count": 16,
   "metadata": {},
   "outputs": [],
   "source": [
    "# 어휘(vocabulary) 학습\n",
    "dictionary = corpora.Dictionary(tokenized_text)\n",
    "\n",
    "# 문서-단어 행렬(document-term matrix) 생성\n",
    "corpus = [dictionary.doc2bow(text) for text in tokenized_text]"
   ]
  },
  {
   "cell_type": "code",
   "execution_count": 17,
   "metadata": {},
   "outputs": [
    {
     "output_type": "stream",
     "name": "stdout",
     "text": [
      "Dictionary(1079 unique tokens: ['개척', '건강', '경남', '공익', '관계자']...)\n"
     ]
    }
   ],
   "source": [
    "print(dictionary)"
   ]
  },
  {
   "cell_type": "code",
   "execution_count": 18,
   "metadata": {},
   "outputs": [
    {
     "output_type": "execute_result",
     "data": {
      "text/plain": [
       "[(0, 1), (1, 1), (2, 1), (3, 1), (4, 1)]"
      ]
     },
     "metadata": {},
     "execution_count": 18
    }
   ],
   "source": [
    "corpus[0][:5]"
   ]
  },
  {
   "cell_type": "markdown",
   "metadata": {},
   "source": [
    "### 2) TFIDF 문서-단어 행렬 생성"
   ]
  },
  {
   "cell_type": "code",
   "execution_count": 19,
   "metadata": {},
   "outputs": [
    {
     "output_type": "execute_result",
     "data": {
      "text/plain": [
       "[(0, 0.061170878080420064),\n",
       " (1, 0.061170878080420064),\n",
       " (2, 0.061170878080420064),\n",
       " (3, 0.061170878080420064),\n",
       " (4, 0.022787769254853915)]"
      ]
     },
     "metadata": {},
     "execution_count": 19
    }
   ],
   "source": [
    "# TFIDF 문서-단어 행렬 생성\n",
    "tfidf = models.TfidfModel(corpus)\n",
    "corpus_tfidf = tfidf[corpus]\n",
    "corpus_tfidf[0][:5]"
   ]
  },
  {
   "cell_type": "markdown",
   "metadata": {},
   "source": [
    "### 4.  LDA 모델 생성"
   ]
  },
  {
   "cell_type": "code",
   "execution_count": 20,
   "metadata": {},
   "outputs": [],
   "source": [
    "model = models.ldamodel.LdaModel(corpus, num_topics=4, id2word=dictionary)"
   ]
  },
  {
   "cell_type": "code",
   "execution_count": 21,
   "metadata": {},
   "outputs": [
    {
     "output_type": "execute_result",
     "data": {
      "text/plain": [
       "[('쿠팡', 0.0187167),\n",
       " ('상장', 0.013181395),\n",
       " ('시장', 0.011491321),\n",
       " ('증시', 0.01124843),\n",
       " ('컬리', 0.010656891),\n",
       " ('한국', 0.010219513),\n",
       " ('미국', 0.009704021),\n",
       " ('뉴욕', 0.008906217),\n",
       " ('달러', 0.008623285),\n",
       " ('마켓', 0.008040826)]"
      ]
     },
     "metadata": {},
     "execution_count": 21
    }
   ],
   "source": [
    "model.show_topic(0, 10)"
   ]
  },
  {
   "cell_type": "code",
   "execution_count": 22,
   "metadata": {},
   "outputs": [
    {
     "output_type": "execute_result",
     "data": {
      "text/plain": [
       "[('아마존', 0.01924367),\n",
       " ('모양', 0.009708281),\n",
       " ('본사', 0.00694451),\n",
       " ('쿠팡', 0.0068282615),\n",
       " ('스포츠', 0.0065369),\n",
       " ('건물', 0.00647804),\n",
       " ('플레이어', 0.006043942),\n",
       " ('내용', 0.005959249),\n",
       " ('아이디어', 0.0058105467),\n",
       " ('기업', 0.0057271253)]"
      ]
     },
     "metadata": {},
     "execution_count": 22
    }
   ],
   "source": [
    "model.show_topic(1, 10)"
   ]
  },
  {
   "cell_type": "code",
   "execution_count": 23,
   "metadata": {},
   "outputs": [
    {
     "output_type": "execute_result",
     "data": {
      "text/plain": [
       "[('쿠팡', 0.03571719),\n",
       " ('상장', 0.02125484),\n",
       " ('시장', 0.0139053995),\n",
       " ('미국', 0.01111604),\n",
       " ('달러', 0.010124504),\n",
       " ('뉴욕', 0.009401977),\n",
       " ('한국', 0.009148786),\n",
       " ('마켓', 0.008896827),\n",
       " ('국내', 0.008676257),\n",
       " ('증시', 0.008608204)]"
      ]
     },
     "metadata": {},
     "execution_count": 23
    }
   ],
   "source": [
    "model.show_topic(2, 10)"
   ]
  },
  {
   "cell_type": "code",
   "execution_count": 24,
   "metadata": {},
   "outputs": [
    {
     "output_type": "execute_result",
     "data": {
      "text/plain": [
       "[('아마존', 0.018589988),\n",
       " ('쿠팡', 0.01191103),\n",
       " ('미국', 0.010359537),\n",
       " ('뉴스', 0.0073337834),\n",
       " ('본문', 0.007255233),\n",
       " ('뉴욕', 0.0064771203),\n",
       " ('달러', 0.006344055),\n",
       " ('건물', 0.0062040794),\n",
       " ('내용', 0.0059758057),\n",
       " ('상장', 0.0056048697)]"
      ]
     },
     "metadata": {},
     "execution_count": 24
    }
   ],
   "source": [
    "model.show_topic(3, 10)"
   ]
  },
  {
   "cell_type": "markdown",
   "metadata": {},
   "source": [
    "### 5. 토픽 모델링을 추가하여 코드 완성하기"
   ]
  },
  {
   "cell_type": "code",
   "execution_count": 25,
   "metadata": {},
   "outputs": [],
   "source": [
    "# 토픽 개수, 키워드 개수를 정해주는 변수를 추가.\n",
    "NUM_TOPICS = 3 # 토픽의 수\n",
    "\n",
    "NUM_TOPIC_WORDS = 30 # 키워드 수\n",
    "\n",
    "def build_doc_term_mat(documents):\n",
    "    # 문서-단어 행렬 만들어주는 함수.\n",
    "    print(\"Building document-term matrix.\")\n",
    "    dictionary = corpora.Dictionary(documents)\n",
    "    corpus = [dictionary.doc2bow(document) for document in documents]        \n",
    "    return corpus, dictionary\n",
    "\n",
    "def print_topic_words(model):\n",
    "    # 토픽 모델링 결과를 출력해 주는 함수.\n",
    "    print(\"\\nPrinting topic words.\\n\")\n",
    "    \n",
    "    for topic_id in range(model.num_topics):\n",
    "        topic_word_probs = model.show_topic(topic_id, NUM_TOPIC_WORDS)\n",
    "        print(\"Topic ID: {}\".format(topic_id))\n",
    "        \n",
    "        for topic_word, prob in topic_word_probs:\n",
    "            print(\"\\t{}\\t{}\".format(topic_word, prob))            \n",
    "        print(\"\\n\")"
   ]
  },
  {
   "cell_type": "code",
   "execution_count": 26,
   "metadata": {},
   "outputs": [
    {
     "output_type": "stream",
     "name": "stdout",
     "text": [
      "Building document-term matrix.\n\nPrinting topic words.\n\nTopic ID: 0\n\t쿠팡\t0.02700493112206459\n\t상장\t0.016596918925642967\n\t아마존\t0.015428259037435055\n\t미국\t0.010968967340886593\n\t기업\t0.008970378898084164\n\t뉴욕\t0.00883487705141306\n\t증시\t0.008799877017736435\n\t달러\t0.008785633370280266\n\t시장\t0.007762255147099495\n\t업체\t0.007744527887552977\n\t본문\t0.007660187780857086\n\t내용\t0.007307877764105797\n\t플레이어\t0.006992120761424303\n\t마켓\t0.00681527191773057\n\t한국\t0.006771436892449856\n\t사업\t0.006371646653860807\n\t뉴스\t0.006164573132991791\n\t투자\t0.005942617077380419\n\t국내\t0.0056829932145774364\n\t컬리\t0.005618545226752758\n\t네이버\t0.005424926057457924\n\t합병\t0.004970093723386526\n\t서비스\t0.004950535483658314\n\t인수\t0.004915477242320776\n\t물류\t0.004827794618904591\n\t학회\t0.004256462678313255\n\t기준\t0.004056280013173819\n\t가능\t0.00384851498529315\n\t규모\t0.003844149876385927\n\t추가\t0.0037577319890260696\n\n\nTopic ID: 1\n\t쿠팡\t0.01382425706833601\n\t미국\t0.008961276151239872\n\t뉴욕\t0.006949553266167641\n\t상장\t0.0067548914812505245\n\t아마존\t0.006587683688849211\n\t달러\t0.005624899175018072\n\t내용\t0.005278272554278374\n\t모양\t0.005052089225500822\n\t뉴스\t0.005011869594454765\n\t증시\t0.004652476403862238\n\t플레이어\t0.004510656930506229\n\t한국\t0.004443341866135597\n\t건물\t0.003983970265835524\n\t시장\t0.003959634341299534\n\t기업\t0.003923177719116211\n\t본사\t0.003714817576110363\n\t업체\t0.003556635929271579\n\t본문\t0.0034133342560380697\n\t물류\t0.0032739187590777874\n\t연합뉴스\t0.0032485700212419033\n\t사업\t0.003225356340408325\n\t스포츠\t0.0032232876401394606\n\t사진\t0.0032100228127092123\n\t배달\t0.0031994283199310303\n\t서비스\t0.0030884554143995047\n\t추가\t0.003047737991437316\n\t투자\t0.002989192958921194\n\t기자\t0.002988101216033101\n\t네이버\t0.0029320288449525833\n\t마켓\t0.002857574261724949\n\n\nTopic ID: 2\n\t쿠팡\t0.022784017026424408\n\t시장\t0.015357770025730133\n\t상장\t0.013066546991467476\n\t커머스\t0.009113996289670467\n\t한국\t0.008564644493162632\n\t아마존\t0.008141479454934597\n\t미국\t0.008012581616640091\n\t달러\t0.007985904812812805\n\t컬리\t0.007638550829142332\n\t마켓\t0.007390303537249565\n\t국내\t0.006988355424255133\n\t증시\t0.00652787322178483\n\t뉴욕\t0.0059290118515491486\n\t모양\t0.005845827516168356\n\t뉴스\t0.005788606125861406\n\t건물\t0.005533929914236069\n\t계획\t0.00547157833352685\n\t규모\t0.005415473598986864\n\t기업\t0.005394188687205315\n\t네이버\t0.0052188690751791\n\t공모\t0.005180847365409136\n\t투자\t0.005180756561458111\n\t물류\t0.005148187279701233\n\t플레이어\t0.00499977869912982\n\t의장\t0.004980914294719696\n\t본사\t0.004967236425727606\n\t본문\t0.004726963583379984\n\t서비스\t0.004439599346369505\n\t내용\t0.004196540452539921\n\t업체\t0.0038936922792345285\n\n\n"
     ]
    }
   ],
   "source": [
    "# 1) document-term matrix 생성\n",
    "corpus, dictionary = build_doc_term_mat(tokenized_text)\n",
    "\n",
    "# 2) LDA 모델 생성\n",
    "model = models.ldamodel.LdaModel(corpus, num_topics=NUM_TOPICS, id2word=dictionary, alpha=\"auto\", eta=\"auto\")\n",
    "\n",
    "# 3) 결과를 출력.\n",
    "print_topic_words(model)"
   ]
  },
  {
   "cell_type": "markdown",
   "metadata": {},
   "source": [
    "### 6. pyLDAvis를 통한 토픽 모델링 결과 시각화하기"
   ]
  },
  {
   "cell_type": "code",
   "execution_count": 27,
   "metadata": {},
   "outputs": [],
   "source": [
    "#!pip install pyLDAvis"
   ]
  },
  {
   "cell_type": "code",
   "execution_count": 28,
   "metadata": {},
   "outputs": [
    {
     "output_type": "execute_result",
     "data": {
      "text/plain": [
       "PreparedData(topic_coordinates=              x         y  topics  cluster       Freq\n",
       "topic                                                \n",
       "0      0.025848 -0.002935       1        1  55.765716\n",
       "2     -0.016418 -0.014823       2        1  38.534712\n",
       "1     -0.009431  0.017758       3        1   5.699571, topic_info=    Term       Freq      Total Category  logprob  loglift\n",
       "217   쿠팡  79.000000  79.000000  Default  30.0000  30.0000\n",
       "32    미국  31.000000  31.000000  Default  29.0000  29.0000\n",
       "132   뉴욕  24.000000  24.000000  Default  28.0000  28.0000\n",
       "896   모양  10.000000  10.000000  Default  27.0000  27.0000\n",
       "851   건물   9.000000   9.000000  Default  26.0000  26.0000\n",
       "..   ...        ...        ...      ...      ...      ...\n",
       "40    사업   0.592121  16.830064   Topic3  -5.7367  -0.4824\n",
       "155  서비스   0.566988  14.969652   Topic3  -5.7801  -0.4087\n",
       "220   투자   0.548766  17.653347   Topic3  -5.8128  -0.6062\n",
       "18   네이버   0.538271  16.760274   Topic3  -5.8321  -0.5736\n",
       "28    마켓   0.524603  21.939155   Topic3  -5.8578  -0.8686\n",
       "\n",
       "[221 rows x 6 columns], token_table=      Topic      Freq Term\n",
       "term                      \n",
       "104       1  0.594104   가능\n",
       "104       2  0.339488   가능\n",
       "464       1  0.848796   감염\n",
       "465       1  0.549253  강원도\n",
       "465       2  0.549253  강원도\n",
       "...     ...       ...  ...\n",
       "1026      1  0.495242   활용\n",
       "1026      2  0.495242   활용\n",
       "103       1  0.751619   회원\n",
       "103       2  0.250540   회원\n",
       "516       1  0.834940  후폭풍\n",
       "\n",
       "[280 rows x 3 columns], R=30, lambda_step=0.01, plot_opts={'xlab': 'PC1', 'ylab': 'PC2'}, topic_order=[1, 3, 2])"
      ],
      "text/html": "\n<link rel=\"stylesheet\" type=\"text/css\" href=\"https://cdn.jsdelivr.net/gh/bmabey/pyLDAvis@3.2.2/pyLDAvis/js/ldavis.v1.0.0.css\">\n\n\n<div id=\"ldavis_el124953082797128640138494\"></div>\n<script type=\"text/javascript\">\n\nvar ldavis_el124953082797128640138494_data = {\"mdsDat\": {\"x\": [0.02584846209451429, -0.016417524872527654, -0.009430937221986648], \"y\": [-0.00293538987546609, -0.014822513757222103, 0.017757903632688195], \"topics\": [1, 2, 3], \"cluster\": [1, 1, 1], \"Freq\": [55.765716479612536, 38.534712171956194, 5.6995713484312684]}, \"tinfo\": {\"Term\": [\"\\ucfe0\\ud321\", \"\\ubbf8\\uad6d\", \"\\ub274\\uc695\", \"\\ubaa8\\uc591\", \"\\uac74\\ubb3c\", \"\\ub0b4\\uc6a9\", \"\\uc544\\ub9c8\\uc874\", \"\\uc2dc\\uc7a5\", \"\\ub274\\uc2a4\", \"\\ubcf8\\uc0ac\", \"\\ub2ec\\ub7ec\", \"\\ucee4\\uba38\\uc2a4\", \"\\uc2a4\\ud3ec\\uce20\", \"\\uc0c1\\uc7a5\", \"\\ud50c\\ub808\\uc774\\uc5b4\", \"\\ud55c\\uad6d\", \"\\uc0ac\\uc9c4\", \"\\ubc30\\ub2ec\", \"\\uc5f0\\ud569\\ub274\\uc2a4\", \"\\uc99d\\uc2dc\", \"\\uacf5\\uac1c\", \"\\ud559\\ud68c\", \"\\uc81c\\ud488\", \"\\ubaa8\\uc2b5\", \"\\uc5c5\\uccb4\", \"\\uc911\\uad6d\", \"\\uae30\\uc790\", \"\\ucd94\\uac00\", \"\\uae30\\uc5c5\", \"\\ubb3c\\ub958\", \"\\ud559\\ud68c\", \"\\ubcf4\\uac74\", \"\\uc784\\uc0c1\", \"\\uc120\\uc815\", \"\\uc544\\uc774\\ub514\\uc5b4\", \"\\uc21c\\uc11c\", \"\\uc800\\uc790\", \"\\uc81c\\ud488\", \"\\ud30c\\uad34\", \"\\uc9c0\\uc6d0\", \"\\ub3d9\\uc544\\uc77c\\ubcf4\", \"\\ubc29\\uc2dd\", \"\\ucf5c\\ub9b0\", \"\\uc758\\uc6d0\", \"\\ud310\\ub9e4\", \"\\ube0c\\ub77c\\uc774\\uc5b4\", \"\\ud30c\\uc6cc\", \"\\uc694\\uad6c\", \"\\ud569\\ubcd1\", \"\\uc564\\ub354\\uc2a8\", \"\\ub300\\uc2e0\", \"\\uc18c\\uc218\\uc790\", \"\\ud3ec\\uc778\\ud2b8\", \"\\ucc38\\uc5ec\", \"\\ucc44\\ub110\", \"\\uacb0\\uc815\", \"\\ubc1c\\ud45c\\uc790\", \"\\ud574\\ub9ac\", \"\\ud574\\uba85\", \"\\uc0c1\\ud0dc\", \"\\uc544\\ub9c8\\uc874\", \"\\ud68c\\uc6d0\", \"\\uc5c5\\uccb4\", \"\\ubc30\\ud3ec\", \"\\uae30\\uc5c5\", \"\\uacbd\\uc81c\", \"\\ubcf8\\ubb38\", \"\\ucfe0\\ud321\", \"\\ub0b4\\uc6a9\", \"\\uc0c1\\uc7a5\", \"\\uc0ac\\uc5c5\", \"\\ub274\\uc695\", \"\\ubbf8\\uad6d\", \"\\uc778\\uc218\", \"\\uc99d\\uc2dc\", \"\\ud50c\\ub808\\uc774\\uc5b4\", \"\\ubb34\\ub2e8\", \"\\ub2ec\\ub7ec\", \"\\ud22c\\uc790\", \"\\ub274\\uc2a4\", \"\\ub9c8\\ucf13\", \"\\ub124\\uc774\\ubc84\", \"\\uc11c\\ube44\\uc2a4\", \"\\ud55c\\uad6d\", \"\\uad6d\\ub0b4\", \"\\ubb3c\\ub958\", \"\\uc2dc\\uc7a5\", \"\\uceec\\ub9ac\", \"\\uae30\\uc900\", \"\\uac00\\ub2a5\", \"\\ucd94\\uac00\", \"\\uaddc\\ubaa8\", \"\\uacf5\\uac04\", \"\\uac74\\ubb3c\", \"\\ucee4\\uba38\\uc2a4\", \"\\uc790\\uc5f0\", \"\\ubcf4\\ub78c\", \"\\ubaa8\\uc591\", \"\\uad6c\\ucd95\", \"\\uc5ec\\uae30\", \"\\ucee4\\ubba4\\ub2c8\\ud2f0\", \"\\ub86f\\ub370\", \"\\ud648\\ud398\\uc774\\uc9c0\", \"\\uc2a4\\ud3ec\\uce20\", \"\\uacbd\\uae30\\uc7a5\", \"\\ub514\\uc790\\uc778\", \"\\uc778\\uac10\\ub3c4\\uc7a5\", \"\\uc5f0\\uac04\", \"\\uc601\\uac10\", \"\\uc774\\ubca0\\uc774\", \"\\ubcf8\\uc0ac\", \"\\ubc18\\uc751\", \"\\ud589\\uc0ac\", \"\\ud65c\\uc6a9\", \"\\ud45c\\ud604\", \"\\uc2dd\\ubb3c\", \"\\uc9c0\\ub09c\\ub2ec\", \"\\uc774\\ub9c8\\ud2b8\", \"\\uac1c\\ub150\", \"\\uc9c1\\uc6d0\", \"\\uc2a4\\ud29c\\ub514\\uc624\", \"\\uac1c\\ubc29\", \"\\uc758\\uc7a5\", \"\\uc870\\uac10\\ub3c4\", \"\\uc2dc\\uc7a5\", \"\\uacf5\\uac1c\", \"\\uc608\\uc815\", \"\\uc561\\ud2f0\\ube0c\", \"\\uacf5\\ubaa8\", \"\\ucea1\\ucc98\", \"\\uacc4\\ud68d\", \"\\uceec\\ub9ac\", \"\\ud55c\\uad6d\", \"\\uac70\\ub798\", \"\\ucfe0\\ud321\", \"\\uaddc\\ubaa8\", \"\\uad6d\\ub0b4\", \"\\uc138\\uacc4\", \"\\ub9c8\\ucf13\", \"\\uc0c1\\uc7a5\", \"\\ub2ec\\ub7ec\", \"\\uc5f0\\ub0b4\", \"\\ubb3c\\ub958\", \"\\ub9c8\\uac10\", \"\\ub274\\uc2a4\", \"\\ubbf8\\uad6d\", \"\\ub124\\uc774\\ubc84\", \"\\uc99d\\uc2dc\", \"\\ud22c\\uc790\", \"\\uc544\\ub9c8\\uc874\", \"\\ub274\\uc695\", \"\\uc11c\\ube44\\uc2a4\", \"\\ud50c\\ub808\\uc774\\uc5b4\", \"\\uae30\\uc5c5\", \"\\ubcf8\\ubb38\", \"\\ub0b4\\uc6a9\", \"\\uc5c5\\uccb4\", \"\\uc2a4\\ud0a4\\uc7a5\", \"\\uc774\\uacf3\", \"\\ud64d\\ucf69\", \"\\uc120\\uac70\\uc81c\", \"\\uac1c\\ud3b8\", \"\\ubc18\\ub300\", \"\\ub450\\uae30\", \"\\ub77c\\uc778\", \"\\uc774\\uc6a9\\uac1d\", \"\\ud22c\\ud45c\", \"\\ubc1c\\uc0dd\", \"\\ub9c8\\uc9c0\\ub9c9\", \"\\ub9cc\\uc7a5\\uc77c\\uce58\", \"\\ud0dc\\uadf9\\uae30\", \"\\uade0\\ud615\", \"\\uc0dd\\ubc29\\uc1a1\", \"\\uc2a4\\ud0a4\", \"\\ubc88\\uc9c0\", \"\\uac15\\ud589\", \"\\uac10\\uc5fc\", \"\\ub300\\ud68c\", \"\\ud6c4\\ud3ed\\ud48d\", \"\\uc778\\ud30c\", \"\\uae30\\uc0ac\\ubb38\", \"\\uc7ac\\uc870\\uba85\", \"\\ucd9c\\ub9c8\", \"\\uc911\\uad6d\", \"\\ud654\\uba74\", \"\\uac15\\uc6d0\\ub3c4\", \"\\uc120\\uac70\", \"\\ud604\\uc218\\ub9c9\", \"\\ubaa8\\uc2b5\", \"\\ubaa8\\uc591\", \"\\ubbf8\\uad6d\", \"\\uc2a4\\ud3ec\\uce20\", \"\\uac74\\ubb3c\", \"\\ub274\\uc695\", \"\\uc0ac\\uc9c4\", \"\\ucfe0\\ud321\", \"\\ubc30\\ub2ec\", \"\\ubcf8\\uc0ac\", \"\\uc2dc\\uc560\\ud2c0\", \"\\uac70\\ub9ac\", \"\\ub0b4\\uc6a9\", \"\\ub274\\uc2a4\", \"\\uc5f0\\ud569\\ub274\\uc2a4\", \"\\ub2ec\\ub7ec\", \"\\uc544\\ub9c8\\uc874\", \"\\ud50c\\ub808\\uc774\\uc5b4\", \"\\uc0c1\\uc7a5\", \"\\uc99d\\uc2dc\", \"\\ud55c\\uad6d\", \"\\uae30\\uc5c5\", \"\\uae30\\uc790\", \"\\ucd94\\uac00\", \"\\uc5c5\\uccb4\", \"\\ubb3c\\ub958\", \"\\uc2dc\\uc7a5\", \"\\ubcf8\\ubb38\", \"\\uc0ac\\uc5c5\", \"\\uc11c\\ube44\\uc2a4\", \"\\ud22c\\uc790\", \"\\ub124\\uc774\\ubc84\", \"\\ub9c8\\ucf13\"], \"Freq\": [79.0, 31.0, 24.0, 10.0, 9.0, 19.0, 39.0, 33.0, 19.0, 9.0, 26.0, 16.0, 6.0, 47.0, 19.0, 23.0, 7.0, 7.0, 8.0, 24.0, 7.0, 8.0, 7.0, 4.0, 19.0, 3.0, 10.0, 11.0, 23.0, 15.0, 7.645516580961365, 6.095224724050232, 5.045033517076607, 3.48063029713866, 4.061594636189137, 3.283621583850539, 3.3913021740270772, 6.388659272429357, 3.166679862782314, 3.981286334726563, 1.8564771103949647, 2.5099931434141416, 1.8598991431128507, 4.721808359886829, 3.9224378273187255, 1.8260819738368361, 1.8399206616015598, 3.867841297502425, 8.927350441644624, 3.254692285932947, 1.765929685555426, 3.216534268677061, 1.7519585286353843, 1.7991088699965936, 2.9891214272385795, 2.4914121226210684, 1.747791552956455, 1.8570513176570065, 3.161722986181184, 3.173649392295735, 27.712450266995074, 3.0312942949792454, 13.910827100090536, 6.498228724294906, 16.112717480700773, 5.231426296541225, 13.759334244892047, 48.50662727842423, 13.126510165772395, 29.811613170107574, 11.444839018164332, 15.869327207187238, 19.702609424501148, 8.82924757004904, 15.8064596671587, 12.559343111341017, 5.794599829381024, 15.780875032444444, 10.674210214717736, 11.072890722846612, 12.241684795276539, 9.744326511802075, 8.89221966347562, 12.162947722279727, 10.2078702752213, 8.671750840521439, 13.942669046570758, 10.092107916482979, 7.285945735117346, 6.912755345430896, 6.749689683710031, 6.904914677004996, 3.5809021421968636, 6.868730746671086, 11.312320088995484, 2.9232357949465864, 1.4886662155752017, 7.255859004781854, 1.9808143457231058, 2.435022265112344, 1.8982403353357753, 1.4583199423664621, 1.813682118870325, 4.368004846677151, 3.0941549481680948, 1.6927375914542557, 1.2895013137413438, 1.8566156452014921, 1.6967783956324252, 3.9042650220770665, 6.165349054314812, 2.17639273582779, 1.2886211943689416, 1.249076944018577, 1.2589140227829463, 1.2950179903985342, 1.7398863274934706, 2.8518104449265307, 1.2471514029322803, 2.543512619350491, 2.048427338244974, 1.2607465090546266, 6.182326067170219, 2.43827918362391, 19.062111159858862, 4.708638064371876, 2.642309667402752, 2.1326896288403407, 6.430483606424219, 2.581592556826135, 6.791339773861833, 9.48099266764615, 10.630462957826294, 4.20266002363928, 28.279591665859133, 6.721702405636902, 8.673968141114994, 3.7365782232079865, 9.17286736916429, 16.218238117225027, 9.912129495288, 3.037079401936131, 6.389945808084257, 3.3206029725662076, 7.184835640001336, 9.945240825845334, 6.477676268959774, 8.102416222059075, 6.430370900282292, 10.105229217240625, 7.359107656450101, 5.51044429653184, 6.205740623660377, 6.695283507989137, 5.867121667014952, 5.20875885360559, 4.832862774003166, 0.44835912949936246, 0.326170271297633, 0.4291754590140589, 0.4290206837418315, 0.4253579254285377, 0.41826053242191064, 0.31173926171576133, 0.20426005987846366, 0.2031753720309966, 0.2031111067391452, 0.2027353246883893, 0.20111497163474892, 0.2001089751090633, 0.30080693840011224, 0.20007492967842835, 0.19881110259707424, 0.19846329635843457, 0.29736099797369314, 0.2978402413739178, 0.19705873534065166, 0.1951129951674777, 0.19240526140744998, 0.19252325564632977, 0.19150926603146806, 0.19049029676479348, 0.18919430497966938, 0.4768100388679435, 0.18842455339449765, 0.2826113547914848, 0.18784216922324712, 0.2752917581801425, 0.5060411506789344, 0.9274786582136794, 1.6451396659191582, 0.5917414285605628, 0.7313899718693172, 1.2758211604726155, 0.5893062292207841, 2.537901217544355, 0.5873612584358731, 0.681978062384257, 0.35751243489884826, 0.36041334922856166, 0.9690021153264368, 0.9200950100294476, 0.5963828487443118, 1.0326369362401406, 1.2093879889590269, 0.8280807901118235, 1.2400845289481577, 0.8541164614916698, 0.8157228758325379, 0.7202294821899151, 0.5485651544838483, 0.5595134639778495, 0.6529385709945296, 0.6010364509088907, 0.7269223052016147, 0.6266307926323581, 0.5921212071559068, 0.5669884983902012, 0.5487655801263432, 0.5382712097074747, 0.5246025997784843], \"Total\": [79.0, 31.0, 24.0, 10.0, 9.0, 19.0, 39.0, 33.0, 19.0, 9.0, 26.0, 16.0, 6.0, 47.0, 19.0, 23.0, 7.0, 7.0, 8.0, 24.0, 7.0, 8.0, 7.0, 4.0, 19.0, 3.0, 10.0, 11.0, 23.0, 15.0, 8.246089396073563, 6.61965304849961, 5.606999569033742, 3.965038453182971, 4.736516616060841, 3.925818613269001, 4.099690036108735, 7.750006649951797, 3.8625190996657666, 4.899354057063574, 2.2845977398402724, 3.1305453986740424, 2.3229104334658395, 5.902075703706212, 4.916682852521842, 2.296299819527736, 2.321048610926923, 4.8819698416662565, 11.371341311164779, 4.151434566844282, 2.2565740722724787, 4.117985601720249, 2.25605969671667, 2.3221610542838587, 3.858490679260736, 3.2364653220560555, 2.2721789079394332, 2.4159821401355703, 4.128546830883838, 4.148972108973394, 39.02706747319473, 3.9913856738908455, 19.396628445088233, 8.77885166532637, 23.528230470879826, 7.146404026439495, 20.253086704539356, 79.32412016182772, 19.304271134704422, 47.269935816280764, 16.830063740333056, 24.504256024109957, 31.292989916265636, 12.867414356192722, 24.762992350709446, 19.593164525113217, 8.16711225478062, 26.725641463972583, 17.65334669512637, 19.177821372877396, 21.93915476421931, 16.760273990469322, 14.96965245839766, 23.60913355593856, 19.368266406904038, 15.662733099514588, 33.731702511631234, 20.088111049458416, 12.243838511304839, 11.782441217384763, 11.500601515827851, 14.116211276886794, 4.977912690343977, 9.686293907480271, 16.430129805865075, 4.317562102905509, 2.214070896331714, 10.875095425156605, 2.969884186690901, 3.666420049481241, 2.9041064452257186, 2.2559270427078983, 2.812487159075175, 6.7836282364729685, 4.8194262537519865, 2.663642827823314, 2.0363122439253165, 2.9457695589717914, 2.712185085251797, 6.2823934635441505, 9.93464279520312, 3.509988909767248, 2.082358066875284, 2.0192159232509854, 2.039238891959926, 2.099744592587422, 2.8255949586978044, 4.6316944458080105, 2.027403548738172, 4.136324364833587, 3.347393805284678, 2.0627814707905565, 10.322187200307615, 4.022425566598071, 33.731702511631234, 7.953375777670154, 4.3806585950992165, 3.515051352809284, 11.925065390194325, 4.386885626123331, 13.243287290608619, 20.088111049458416, 23.60913355593856, 7.872914994580222, 79.32412016182772, 14.116211276886794, 19.368266406904038, 6.985348575936904, 21.93915476421931, 47.269935816280764, 26.725641463972583, 5.440033383564765, 15.662733099514588, 6.174004714691793, 19.177821372877396, 31.292989916265636, 16.760273990469322, 24.762992350709446, 17.65334669512637, 39.02706747319473, 24.504256024109957, 14.96965245839766, 19.593164525113217, 23.528230470879826, 20.253086704539356, 19.304271134704422, 19.396628445088233, 2.207618358543158, 1.685682509489434, 2.265777996027886, 2.2691263385729616, 2.2864931164033617, 2.316639070017014, 1.742005217159722, 1.1618242623121386, 1.1650760072209891, 1.1675914910125165, 1.1665106006035106, 1.1663055630745633, 1.168863749369064, 1.7664353338203391, 1.1759636455787112, 1.1753241771922023, 1.1744778176542299, 1.7729424385289607, 1.7799586828004217, 1.178138875427295, 1.1903455445060347, 1.1976907120307867, 1.2023879784328764, 1.1963748921965138, 1.1978577693657861, 1.2086102548801856, 3.0514338493426254, 1.2116306753946253, 1.8206560344777984, 1.213710636206025, 1.845759967842917, 4.603962425138176, 10.875095425156605, 31.292989916265636, 6.7836282364729685, 9.686293907480271, 24.504256024109957, 7.153807175460366, 79.32412016182772, 7.156989876758452, 9.93464279520312, 3.2390605212407513, 3.2903153783595376, 19.304271134704422, 19.177821372877396, 8.89206973868604, 26.725641463972583, 39.02706747319473, 19.593164525113217, 47.269935816280764, 24.762992350709446, 23.60913355593856, 23.528230470879826, 10.674122453013267, 11.500601515827851, 19.396628445088233, 15.662733099514588, 33.731702511631234, 20.253086704539356, 16.830063740333056, 14.96965245839766, 17.65334669512637, 16.760273990469322, 21.93915476421931], \"Category\": [\"Default\", \"Default\", \"Default\", \"Default\", \"Default\", \"Default\", \"Default\", \"Default\", \"Default\", \"Default\", \"Default\", \"Default\", \"Default\", \"Default\", \"Default\", \"Default\", \"Default\", \"Default\", \"Default\", \"Default\", \"Default\", \"Default\", \"Default\", \"Default\", \"Default\", \"Default\", \"Default\", \"Default\", \"Default\", \"Default\", \"Topic1\", \"Topic1\", \"Topic1\", \"Topic1\", \"Topic1\", \"Topic1\", \"Topic1\", \"Topic1\", \"Topic1\", \"Topic1\", \"Topic1\", \"Topic1\", \"Topic1\", \"Topic1\", \"Topic1\", \"Topic1\", \"Topic1\", \"Topic1\", \"Topic1\", \"Topic1\", \"Topic1\", \"Topic1\", \"Topic1\", \"Topic1\", \"Topic1\", \"Topic1\", \"Topic1\", \"Topic1\", \"Topic1\", \"Topic1\", \"Topic1\", \"Topic1\", \"Topic1\", \"Topic1\", \"Topic1\", \"Topic1\", \"Topic1\", \"Topic1\", \"Topic1\", \"Topic1\", \"Topic1\", \"Topic1\", \"Topic1\", \"Topic1\", \"Topic1\", \"Topic1\", \"Topic1\", \"Topic1\", \"Topic1\", \"Topic1\", \"Topic1\", \"Topic1\", \"Topic1\", \"Topic1\", \"Topic1\", \"Topic1\", \"Topic1\", \"Topic1\", \"Topic1\", \"Topic1\", \"Topic1\", \"Topic1\", \"Topic2\", \"Topic2\", \"Topic2\", \"Topic2\", \"Topic2\", \"Topic2\", \"Topic2\", \"Topic2\", \"Topic2\", \"Topic2\", \"Topic2\", \"Topic2\", \"Topic2\", \"Topic2\", \"Topic2\", \"Topic2\", \"Topic2\", \"Topic2\", \"Topic2\", \"Topic2\", \"Topic2\", \"Topic2\", \"Topic2\", \"Topic2\", \"Topic2\", \"Topic2\", \"Topic2\", \"Topic2\", \"Topic2\", \"Topic2\", \"Topic2\", \"Topic2\", \"Topic2\", \"Topic2\", \"Topic2\", \"Topic2\", \"Topic2\", \"Topic2\", \"Topic2\", \"Topic2\", \"Topic2\", \"Topic2\", \"Topic2\", \"Topic2\", \"Topic2\", \"Topic2\", \"Topic2\", \"Topic2\", \"Topic2\", \"Topic2\", \"Topic2\", \"Topic2\", \"Topic2\", \"Topic2\", \"Topic2\", \"Topic2\", \"Topic2\", \"Topic2\", \"Topic2\", \"Topic2\", \"Topic2\", \"Topic2\", \"Topic2\", \"Topic2\", \"Topic2\", \"Topic3\", \"Topic3\", \"Topic3\", \"Topic3\", \"Topic3\", \"Topic3\", \"Topic3\", \"Topic3\", \"Topic3\", \"Topic3\", \"Topic3\", \"Topic3\", \"Topic3\", \"Topic3\", \"Topic3\", \"Topic3\", \"Topic3\", \"Topic3\", \"Topic3\", \"Topic3\", \"Topic3\", \"Topic3\", \"Topic3\", \"Topic3\", \"Topic3\", \"Topic3\", \"Topic3\", \"Topic3\", \"Topic3\", \"Topic3\", \"Topic3\", \"Topic3\", \"Topic3\", \"Topic3\", \"Topic3\", \"Topic3\", \"Topic3\", \"Topic3\", \"Topic3\", \"Topic3\", \"Topic3\", \"Topic3\", \"Topic3\", \"Topic3\", \"Topic3\", \"Topic3\", \"Topic3\", \"Topic3\", \"Topic3\", \"Topic3\", \"Topic3\", \"Topic3\", \"Topic3\", \"Topic3\", \"Topic3\", \"Topic3\", \"Topic3\", \"Topic3\", \"Topic3\", \"Topic3\", \"Topic3\", \"Topic3\", \"Topic3\", \"Topic3\"], \"logprob\": [30.0, 29.0, 28.0, 27.0, 26.0, 25.0, 24.0, 23.0, 22.0, 21.0, 20.0, 19.0, 18.0, 17.0, 16.0, 15.0, 14.0, 13.0, 12.0, 11.0, 10.0, 9.0, 8.0, 7.0, 6.0, 5.0, 4.0, 3.0, 2.0, 1.0, -5.4593, -5.6859, -5.875, -6.2462, -6.0919, -6.3045, -6.2722, -5.6389, -6.3408, -6.1118, -6.8748, -6.5732, -6.8729, -5.9412, -6.1267, -6.8913, -6.8837, -6.1407, -5.3043, -6.3133, -6.9248, -6.3251, -6.9327, -6.9061, -6.3985, -6.5806, -6.9351, -6.8744, -6.3423, -6.3386, -4.1716, -6.3844, -4.8608, -5.6219, -4.7138, -5.8388, -4.8717, -3.6117, -4.9188, -4.0985, -5.0559, -4.729, -4.5127, -5.3154, -4.733, -4.963, -5.7365, -4.7346, -5.1256, -5.0889, -4.9886, -5.2168, -5.3083, -4.995, -5.1703, -5.3334, -4.8585, -5.1817, -5.5075, -5.5601, -5.5839, -5.5612, -5.8482, -5.1969, -4.6979, -6.0511, -6.726, -5.142, -6.4403, -6.2339, -6.4829, -6.7466, -6.5285, -5.6495, -5.9943, -6.5975, -6.8696, -6.5051, -6.5951, -5.7618, -5.3049, -6.3462, -6.8703, -6.9014, -6.8936, -6.8653, -6.57, -6.0759, -6.903, -6.1903, -6.4068, -6.8921, -5.3021, -6.2325, -4.1761, -5.5744, -6.1522, -6.3665, -5.2628, -6.1754, -5.2082, -4.8745, -4.7601, -5.6881, -3.7817, -5.2185, -4.9635, -5.8057, -4.9076, -4.3377, -4.8301, -6.0129, -5.2691, -5.9237, -5.1519, -4.8267, -5.2555, -5.0317, -5.2628, -4.8108, -5.1279, -5.4172, -5.2984, -5.2224, -5.3545, -5.4735, -5.5484, -6.0148, -6.333, -6.0586, -6.0589, -6.0675, -6.0843, -6.3783, -6.801, -6.8064, -6.8067, -6.8085, -6.8165, -6.8216, -6.414, -6.8217, -6.8281, -6.8298, -6.4255, -6.4239, -6.8369, -6.8468, -6.8608, -6.8602, -6.8655, -6.8708, -6.8776, -5.9533, -6.8817, -6.4764, -6.8848, -6.5026, -5.8938, -5.288, -4.7148, -5.7374, -5.5255, -4.9691, -5.7415, -4.2813, -5.7448, -5.5954, -6.2413, -6.2332, -5.2442, -5.2959, -5.7295, -5.1806, -5.0226, -5.4013, -4.9975, -5.3704, -5.4163, -5.5409, -5.8131, -5.7934, -5.6389, -5.7218, -5.5316, -5.6801, -5.7367, -5.7801, -5.8128, -5.8321, -5.8578], \"loglift\": [30.0, 29.0, 28.0, 27.0, 26.0, 25.0, 24.0, 23.0, 22.0, 21.0, 20.0, 19.0, 18.0, 17.0, 16.0, 15.0, 14.0, 13.0, 12.0, 11.0, 10.0, 9.0, 8.0, 7.0, 6.0, 5.0, 4.0, 3.0, 2.0, 1.0, 0.5084, 0.5015, 0.4784, 0.4537, 0.4303, 0.4054, 0.3943, 0.3908, 0.3854, 0.3765, 0.3765, 0.3631, 0.3617, 0.3609, 0.3581, 0.3549, 0.3517, 0.3512, 0.342, 0.3407, 0.3388, 0.337, 0.3311, 0.3288, 0.3287, 0.3224, 0.3216, 0.3209, 0.3172, 0.316, 0.2416, 0.3089, 0.2516, 0.2832, 0.2054, 0.2721, 0.1974, 0.0922, 0.1983, 0.123, 0.1984, 0.1496, 0.1214, 0.2074, 0.1351, 0.1393, 0.2408, 0.0572, 0.0809, 0.0348, 0.0006, 0.0417, 0.0632, -0.0792, -0.0565, -0.0072, -0.2995, -0.1044, 0.0649, 0.0508, 0.0511, -0.1311, 0.6242, 0.6099, 0.5804, 0.5636, 0.5567, 0.5489, 0.5486, 0.5444, 0.5284, 0.5173, 0.5149, 0.5134, 0.5105, 0.5003, 0.4967, 0.492, 0.4846, 0.4779, 0.4765, 0.4757, 0.4737, 0.4733, 0.4713, 0.4703, 0.4687, 0.4686, 0.4677, 0.4673, 0.4625, 0.4613, 0.441, 0.453, 0.3829, 0.4294, 0.4481, 0.4539, 0.336, 0.4234, 0.2858, 0.2028, 0.1557, 0.3259, -0.0778, 0.2116, 0.1503, 0.328, 0.0816, -0.1161, -0.0383, 0.3707, 0.0571, 0.3334, -0.0282, -0.1927, 0.003, -0.1636, -0.0563, -0.3976, -0.2493, -0.0458, -0.1961, -0.3032, -0.2853, -0.3564, -0.436, 1.2707, 1.2223, 1.201, 1.1991, 1.1829, 1.153, 1.1442, 1.1264, 1.1183, 1.1158, 1.1149, 1.1071, 1.0999, 1.0945, 1.0936, 1.0878, 1.0868, 1.0793, 1.077, 1.0766, 1.0564, 1.0362, 1.0329, 1.0327, 1.0261, 1.0103, 1.0085, 1.0038, 1.0019, 0.9989, 0.962, 0.6567, 0.403, -0.0808, 0.4256, 0.2813, -0.0905, 0.3683, -0.5774, 0.3646, 0.186, 0.6609, 0.6533, -0.127, -0.1723, 0.1627, -0.3887, -0.6094, -0.299, -0.7759, -0.5023, -0.5005, -0.6216, -0.1035, -0.1583, -0.5266, -0.3956, -0.9726, -0.6109, -0.4824, -0.4087, -0.6062, -0.5736, -0.8686]}, \"token.table\": {\"Topic\": [1, 2, 1, 1, 2, 1, 2, 1, 2, 1, 2, 1, 2, 1, 2, 1, 2, 1, 2, 3, 1, 2, 1, 2, 1, 2, 1, 2, 1, 2, 1, 2, 1, 2, 1, 2, 1, 2, 1, 2, 1, 1, 1, 2, 3, 1, 2, 3, 1, 2, 1, 2, 3, 1, 2, 3, 1, 2, 3, 1, 2, 3, 1, 2, 3, 1, 1, 1, 1, 1, 2, 1, 1, 2, 1, 2, 1, 1, 2, 3, 1, 1, 2, 3, 1, 2, 3, 1, 2, 1, 2, 3, 1, 2, 3, 1, 2, 1, 2, 1, 1, 1, 1, 2, 3, 1, 2, 1, 2, 1, 1, 2, 1, 2, 3, 1, 2, 3, 1, 1, 2, 3, 1, 2, 3, 1, 2, 3, 1, 2, 1, 1, 2, 3, 1, 1, 2, 1, 1, 2, 1, 2, 1, 1, 1, 2, 1, 2, 1, 2, 3, 1, 2, 1, 2, 3, 1, 2, 1, 2, 3, 1, 1, 2, 1, 2, 1, 2, 3, 1, 2, 1, 2, 1, 2, 1, 2, 3, 1, 2, 1, 2, 1, 2, 1, 2, 1, 2, 1, 2, 1, 2, 1, 2, 1, 1, 2, 1, 2, 1, 1, 1, 2, 1, 1, 2, 1, 2, 1, 2, 1, 2, 1, 2, 3, 1, 2, 1, 2, 1, 2, 1, 1, 2, 1, 2, 3, 1, 1, 2, 1, 2, 1, 2, 1, 2, 3, 1, 1, 2, 3, 1, 2, 1, 2, 3, 1, 1, 1, 1, 2, 1, 1, 2, 1, 2, 3, 1, 1, 2, 3, 1, 2, 1, 1, 2, 1, 2, 1, 2, 1, 2, 1, 2, 1, 1, 2, 1, 2, 1], \"Freq\": [0.5941043855726296, 0.33948822032721687, 0.8487963693052006, 0.549252566691885, 0.549252566691885, 0.5618107935104948, 0.5618107935104948, 0.49324171333446976, 0.49324171333446976, 0.4847823262716977, 0.4847823262716977, 0.4373509777160376, 0.4373509777160376, 0.38105326960410774, 0.5080710261388104, 0.3039222338919295, 0.607844467783859, 0.20647731930325733, 0.7226706175614006, 0.10323865965162866, 0.6179581120088887, 0.30897905600444436, 0.2074935785606195, 0.6224807356818586, 0.6996525779261206, 0.2798610311704482, 0.4530597176016001, 0.5285696705352001, 0.2008874124971644, 0.8035496499886576, 0.3771983223052003, 0.6286638705086671, 0.41928491261032175, 0.503141895132386, 0.3367134666332623, 0.6734269332665246, 0.5163084702529385, 0.4646776232276446, 0.49588376531750156, 0.49588376531750156, 0.8503664239619273, 0.8358583973323157, 0.6800341411056268, 0.2975149367337117, 0.04250213381910167, 0.562107098397229, 0.3747380655981527, 0.09368451639953818, 0.5717161324479118, 0.40836866603422267, 0.6734260987781682, 0.25901003799160316, 0.051802007598320626, 0.5966489572716096, 0.35798937436296574, 0.05966489572716096, 0.5735792291587908, 0.3650049640101396, 0.0521435662871628, 0.6529477974869939, 0.28566466140055985, 0.04080923734293712, 0.5986759951699849, 0.3741724969812406, 0.03741724969812406, 0.8862992908475208, 0.8400921939141431, 0.8754276366131002, 0.5740510936186889, 0.375425710066835, 0.75085142013367, 0.8607153701627015, 0.443276746574061, 0.443276746574061, 0.48590827811665516, 0.48590827811665516, 0.8574082398817031, 0.546967288802341, 0.4102254666017558, 0.04558060740019509, 0.8555317080710099, 0.43440841069418046, 0.43440841069418046, 0.21720420534709023, 0.2758596483724003, 0.643672512868934, 0.09195321612413343, 0.7346537935104174, 0.24488459783680577, 0.574612358061501, 0.38307490537433403, 0.063845817562389, 0.6391207760433366, 0.3195603880216683, 0.06391207760433366, 0.431659818286953, 0.431659818286953, 0.28490118507705237, 0.5698023701541047, 0.8572575332642807, 0.8802123780885442, 0.9582994711626494, 0.6986177270191422, 0.27944709080765684, 0.13972354540382842, 0.6834606881100479, 0.22782022937001595, 0.564034104135787, 0.564034104135787, 0.9063919145067492, 0.45165672050375893, 0.45165672050375893, 0.691252657149893, 0.29625113877852555, 0.04937518979642093, 0.3019736151408012, 0.6039472302816024, 0.1006578717136004, 0.8709664056026124, 0.6535922958888519, 0.2970874072222054, 0.05941748144444108, 0.6989285393589375, 0.279571415743575, 0.1397857078717875, 0.6346528608923426, 0.3384815258092494, 0.021155095363078087, 0.7230706597211396, 0.24102355324037986, 0.8508290898847635, 0.6012163625716768, 0.4008109083811179, 0.06680181806351965, 0.8239196149140873, 0.44069824716277956, 0.44069824716277956, 0.7566130910008508, 0.4294703360021841, 0.5726271146695787, 0.7285115321303647, 0.24283717737678823, 0.764171831541122, 0.8514422196557851, 0.45297684544529504, 0.45297684544529504, 0.298739872918823, 0.597479745837646, 0.29482747731468634, 0.5896549546293727, 0.14741373865734317, 0.30873149588972204, 0.6174629917794441, 0.4150398277458001, 0.5632683376550144, 0.029645701981842864, 0.47624839874822317, 0.47624839874822317, 0.7174507800062473, 0.2562324214308026, 0.02562324214308026, 0.8445024739143909, 0.2844908650341009, 0.5689817300682019, 0.7226417643577251, 0.2408805881192417, 0.7217749228755882, 0.25777675816985296, 0.05155535163397059, 0.2727456173881357, 0.5454912347762714, 0.33946986686529745, 0.6789397337305949, 0.3676448027032938, 0.5514672040549407, 0.6747585406237048, 0.22491951354123493, 0.11245975677061747, 0.3687064003993521, 0.7374128007987042, 0.22827617772330674, 0.6848285331699202, 0.8193413990109302, 0.20483534975273254, 0.8471595843577958, 0.16943191687155915, 0.3875147701139149, 0.5812721551708723, 0.5932315215769094, 0.5932315215769094, 0.4318074137662799, 0.6477111206494198, 0.3183500065071887, 0.6367000130143774, 0.8583131004347617, 0.49108382222970903, 0.49108382222970903, 0.699441220346538, 0.31086276459846135, 0.831678308446948, 0.8917425333174501, 0.23161218673080552, 0.6948365601924166, 0.8348236540048128, 0.7317626390231887, 0.24392087967439624, 0.7741928840844695, 0.12903214734741159, 0.2486062161855591, 0.4972124323711182, 0.6554295779444351, 0.32771478897221756, 0.6461254671243966, 0.3230627335621983, 0.040382841695274785, 0.35390776619337444, 0.7078155323867489, 0.8164341571177239, 0.20410853927943098, 0.24176053708501466, 0.725281611255044, 0.861266705128163, 0.7775060896544093, 0.25916869655146973, 0.608663815572269, 0.3478078946127251, 0.08695197365318127, 0.8273965870818579, 0.455904295313801, 0.6838564429707015, 0.30431895907573087, 0.669501709966608, 0.34433999540339716, 0.6886799908067943, 0.49780688564391445, 0.448026197079523, 0.04978068856439145, 0.8609888574205381, 0.6177187959984425, 0.3529821691419672, 0.037819518122353624, 0.5661118643031561, 0.5661118643031561, 0.6231113108449183, 0.33987889682450095, 0.05664648280408349, 0.8564639325461477, 0.7766951884482843, 0.8616794971826504, 0.8135566437742346, 0.20338916094355866, 0.8865013647070937, 0.49037903501285884, 0.49037903501285884, 0.6634966997463562, 0.30622924603677976, 0.051038207672796626, 0.9701568362585615, 0.5082778650714846, 0.4659213763155276, 0.04235648875595706, 0.791463359838077, 0.1758807466306838, 0.8278206890584763, 0.7266479279242573, 0.24221597597475242, 0.4802248066301902, 0.4802248066301902, 0.5417822563183388, 0.5417822563183388, 0.355557178909513, 0.711114357819026, 0.4413495063298746, 0.4413495063298746, 0.8253340067296516, 0.4952417364013138, 0.4952417364013138, 0.7516186720877734, 0.25053955736259115, 0.834940097602005], \"Term\": [\"\\uac00\\ub2a5\", \"\\uac00\\ub2a5\", \"\\uac10\\uc5fc\", \"\\uac15\\uc6d0\\ub3c4\", \"\\uac15\\uc6d0\\ub3c4\", \"\\uac15\\ud589\", \"\\uac15\\ud589\", \"\\uac1c\\ub150\", \"\\uac1c\\ub150\", \"\\uac1c\\ubc29\", \"\\uac1c\\ubc29\", \"\\uac1c\\ud3b8\", \"\\uac1c\\ud3b8\", \"\\uac70\\ub798\", \"\\uac70\\ub798\", \"\\uac70\\ub9ac\", \"\\uac70\\ub9ac\", \"\\uac74\\ubb3c\", \"\\uac74\\ubb3c\", \"\\uac74\\ubb3c\", \"\\uacb0\\uc815\", \"\\uacb0\\uc815\", \"\\uacbd\\uae30\\uc7a5\", \"\\uacbd\\uae30\\uc7a5\", \"\\uacbd\\uc81c\", \"\\uacbd\\uc81c\", \"\\uacc4\\ud68d\", \"\\uacc4\\ud68d\", \"\\uacf5\\uac04\", \"\\uacf5\\uac04\", \"\\uacf5\\uac1c\", \"\\uacf5\\uac1c\", \"\\uacf5\\ubaa8\", \"\\uacf5\\ubaa8\", \"\\uad6c\\ucd95\", \"\\uad6c\\ucd95\", \"\\uad6d\\ub0b4\", \"\\uad6d\\ub0b4\", \"\\uaddc\\ubaa8\", \"\\uaddc\\ubaa8\", \"\\uade0\\ud615\", \"\\uae30\\uc0ac\\ubb38\", \"\\uae30\\uc5c5\", \"\\uae30\\uc5c5\", \"\\uae30\\uc5c5\", \"\\uae30\\uc790\", \"\\uae30\\uc790\", \"\\uae30\\uc790\", \"\\uae30\\uc900\", \"\\uae30\\uc900\", \"\\ub0b4\\uc6a9\", \"\\ub0b4\\uc6a9\", \"\\ub0b4\\uc6a9\", \"\\ub124\\uc774\\ubc84\", \"\\ub124\\uc774\\ubc84\", \"\\ub124\\uc774\\ubc84\", \"\\ub274\\uc2a4\", \"\\ub274\\uc2a4\", \"\\ub274\\uc2a4\", \"\\ub274\\uc695\", \"\\ub274\\uc695\", \"\\ub274\\uc695\", \"\\ub2ec\\ub7ec\", \"\\ub2ec\\ub7ec\", \"\\ub2ec\\ub7ec\", \"\\ub300\\uc2e0\", \"\\ub300\\ud68c\", \"\\ub3d9\\uc544\\uc77c\\ubcf4\", \"\\ub450\\uae30\", \"\\ub514\\uc790\\uc778\", \"\\ub514\\uc790\\uc778\", \"\\ub77c\\uc778\", \"\\ub86f\\ub370\", \"\\ub86f\\ub370\", \"\\ub9c8\\uac10\", \"\\ub9c8\\uac10\", \"\\ub9c8\\uc9c0\\ub9c9\", \"\\ub9c8\\ucf13\", \"\\ub9c8\\ucf13\", \"\\ub9c8\\ucf13\", \"\\ub9cc\\uc7a5\\uc77c\\uce58\", \"\\ubaa8\\uc2b5\", \"\\ubaa8\\uc2b5\", \"\\ubaa8\\uc2b5\", \"\\ubaa8\\uc591\", \"\\ubaa8\\uc591\", \"\\ubaa8\\uc591\", \"\\ubb34\\ub2e8\", \"\\ubb34\\ub2e8\", \"\\ubb3c\\ub958\", \"\\ubb3c\\ub958\", \"\\ubb3c\\ub958\", \"\\ubbf8\\uad6d\", \"\\ubbf8\\uad6d\", \"\\ubbf8\\uad6d\", \"\\ubc18\\ub300\", \"\\ubc18\\ub300\", \"\\ubc18\\uc751\", \"\\ubc18\\uc751\", \"\\ubc1c\\uc0dd\", \"\\ubc1c\\ud45c\\uc790\", \"\\ubc29\\uc2dd\", \"\\ubc30\\ub2ec\", \"\\ubc30\\ub2ec\", \"\\ubc30\\ub2ec\", \"\\ubc30\\ud3ec\", \"\\ubc30\\ud3ec\", \"\\ubc88\\uc9c0\", \"\\ubc88\\uc9c0\", \"\\ubcf4\\uac74\", \"\\ubcf4\\ub78c\", \"\\ubcf4\\ub78c\", \"\\ubcf8\\ubb38\", \"\\ubcf8\\ubb38\", \"\\ubcf8\\ubb38\", \"\\ubcf8\\uc0ac\", \"\\ubcf8\\uc0ac\", \"\\ubcf8\\uc0ac\", \"\\ube0c\\ub77c\\uc774\\uc5b4\", \"\\uc0ac\\uc5c5\", \"\\uc0ac\\uc5c5\", \"\\uc0ac\\uc5c5\", \"\\uc0ac\\uc9c4\", \"\\uc0ac\\uc9c4\", \"\\uc0ac\\uc9c4\", \"\\uc0c1\\uc7a5\", \"\\uc0c1\\uc7a5\", \"\\uc0c1\\uc7a5\", \"\\uc0c1\\ud0dc\", \"\\uc0c1\\ud0dc\", \"\\uc0dd\\ubc29\\uc1a1\", \"\\uc11c\\ube44\\uc2a4\", \"\\uc11c\\ube44\\uc2a4\", \"\\uc11c\\ube44\\uc2a4\", \"\\uc120\\uac70\", \"\\uc120\\uac70\\uc81c\", \"\\uc120\\uac70\\uc81c\", \"\\uc120\\uc815\", \"\\uc138\\uacc4\", \"\\uc138\\uacc4\", \"\\uc18c\\uc218\\uc790\", \"\\uc18c\\uc218\\uc790\", \"\\uc21c\\uc11c\", \"\\uc2a4\\ud0a4\", \"\\uc2a4\\ud0a4\\uc7a5\", \"\\uc2a4\\ud0a4\\uc7a5\", \"\\uc2a4\\ud29c\\ub514\\uc624\", \"\\uc2a4\\ud29c\\ub514\\uc624\", \"\\uc2a4\\ud3ec\\uce20\", \"\\uc2a4\\ud3ec\\uce20\", \"\\uc2a4\\ud3ec\\uce20\", \"\\uc2dc\\uc560\\ud2c0\", \"\\uc2dc\\uc560\\ud2c0\", \"\\uc2dc\\uc7a5\", \"\\uc2dc\\uc7a5\", \"\\uc2dc\\uc7a5\", \"\\uc2dd\\ubb3c\", \"\\uc2dd\\ubb3c\", \"\\uc544\\ub9c8\\uc874\", \"\\uc544\\ub9c8\\uc874\", \"\\uc544\\ub9c8\\uc874\", \"\\uc544\\uc774\\ub514\\uc5b4\", \"\\uc561\\ud2f0\\ube0c\", \"\\uc561\\ud2f0\\ube0c\", \"\\uc564\\ub354\\uc2a8\", \"\\uc564\\ub354\\uc2a8\", \"\\uc5c5\\uccb4\", \"\\uc5c5\\uccb4\", \"\\uc5c5\\uccb4\", \"\\uc5ec\\uae30\", \"\\uc5ec\\uae30\", \"\\uc5f0\\uac04\", \"\\uc5f0\\uac04\", \"\\uc5f0\\ub0b4\", \"\\uc5f0\\ub0b4\", \"\\uc5f0\\ud569\\ub274\\uc2a4\", \"\\uc5f0\\ud569\\ub274\\uc2a4\", \"\\uc5f0\\ud569\\ub274\\uc2a4\", \"\\uc601\\uac10\", \"\\uc601\\uac10\", \"\\uc608\\uc815\", \"\\uc608\\uc815\", \"\\uc694\\uad6c\", \"\\uc694\\uad6c\", \"\\uc758\\uc6d0\", \"\\uc758\\uc6d0\", \"\\uc758\\uc7a5\", \"\\uc758\\uc7a5\", \"\\uc774\\uacf3\", \"\\uc774\\uacf3\", \"\\uc774\\ub9c8\\ud2b8\", \"\\uc774\\ub9c8\\ud2b8\", \"\\uc774\\ubca0\\uc774\", \"\\uc774\\ubca0\\uc774\", \"\\uc774\\uc6a9\\uac1d\", \"\\uc778\\uac10\\ub3c4\\uc7a5\", \"\\uc778\\uac10\\ub3c4\\uc7a5\", \"\\uc778\\uc218\", \"\\uc778\\uc218\", \"\\uc778\\ud30c\", \"\\uc784\\uc0c1\", \"\\uc790\\uc5f0\", \"\\uc790\\uc5f0\", \"\\uc7ac\\uc870\\uba85\", \"\\uc800\\uc790\", \"\\uc800\\uc790\", \"\\uc81c\\ud488\", \"\\uc81c\\ud488\", \"\\uc870\\uac10\\ub3c4\", \"\\uc870\\uac10\\ub3c4\", \"\\uc911\\uad6d\", \"\\uc911\\uad6d\", \"\\uc99d\\uc2dc\", \"\\uc99d\\uc2dc\", \"\\uc99d\\uc2dc\", \"\\uc9c0\\ub09c\\ub2ec\", \"\\uc9c0\\ub09c\\ub2ec\", \"\\uc9c0\\uc6d0\", \"\\uc9c0\\uc6d0\", \"\\uc9c1\\uc6d0\", \"\\uc9c1\\uc6d0\", \"\\ucc38\\uc5ec\", \"\\ucc44\\ub110\", \"\\ucc44\\ub110\", \"\\ucd94\\uac00\", \"\\ucd94\\uac00\", \"\\ucd94\\uac00\", \"\\ucd9c\\ub9c8\", \"\\ucea1\\ucc98\", \"\\ucea1\\ucc98\", \"\\ucee4\\uba38\\uc2a4\", \"\\ucee4\\uba38\\uc2a4\", \"\\ucee4\\ubba4\\ub2c8\\ud2f0\", \"\\ucee4\\ubba4\\ub2c8\\ud2f0\", \"\\uceec\\ub9ac\", \"\\uceec\\ub9ac\", \"\\uceec\\ub9ac\", \"\\ucf5c\\ub9b0\", \"\\ucfe0\\ud321\", \"\\ucfe0\\ud321\", \"\\ucfe0\\ud321\", \"\\ud0dc\\uadf9\\uae30\", \"\\ud0dc\\uadf9\\uae30\", \"\\ud22c\\uc790\", \"\\ud22c\\uc790\", \"\\ud22c\\uc790\", \"\\ud22c\\ud45c\", \"\\ud30c\\uad34\", \"\\ud30c\\uc6cc\", \"\\ud310\\ub9e4\", \"\\ud310\\ub9e4\", \"\\ud3ec\\uc778\\ud2b8\", \"\\ud45c\\ud604\", \"\\ud45c\\ud604\", \"\\ud50c\\ub808\\uc774\\uc5b4\", \"\\ud50c\\ub808\\uc774\\uc5b4\", \"\\ud50c\\ub808\\uc774\\uc5b4\", \"\\ud559\\ud68c\", \"\\ud55c\\uad6d\", \"\\ud55c\\uad6d\", \"\\ud55c\\uad6d\", \"\\ud569\\ubcd1\", \"\\ud569\\ubcd1\", \"\\ud574\\ub9ac\", \"\\ud574\\uba85\", \"\\ud574\\uba85\", \"\\ud589\\uc0ac\", \"\\ud589\\uc0ac\", \"\\ud604\\uc218\\ub9c9\", \"\\ud604\\uc218\\ub9c9\", \"\\ud648\\ud398\\uc774\\uc9c0\", \"\\ud648\\ud398\\uc774\\uc9c0\", \"\\ud64d\\ucf69\", \"\\ud64d\\ucf69\", \"\\ud654\\uba74\", \"\\ud65c\\uc6a9\", \"\\ud65c\\uc6a9\", \"\\ud68c\\uc6d0\", \"\\ud68c\\uc6d0\", \"\\ud6c4\\ud3ed\\ud48d\"]}, \"R\": 30, \"lambda.step\": 0.01, \"plot.opts\": {\"xlab\": \"PC1\", \"ylab\": \"PC2\"}, \"topic.order\": [1, 3, 2]};\n\nfunction LDAvis_load_lib(url, callback){\n  var s = document.createElement('script');\n  s.src = url;\n  s.async = true;\n  s.onreadystatechange = s.onload = callback;\n  s.onerror = function(){console.warn(\"failed to load library \" + url);};\n  document.getElementsByTagName(\"head\")[0].appendChild(s);\n}\n\nif(typeof(LDAvis) !== \"undefined\"){\n   // already loaded: just create the visualization\n   !function(LDAvis){\n       new LDAvis(\"#\" + \"ldavis_el124953082797128640138494\", ldavis_el124953082797128640138494_data);\n   }(LDAvis);\n}else if(typeof define === \"function\" && define.amd){\n   // require.js is available: use it to load d3/LDAvis\n   require.config({paths: {d3: \"https://d3js.org/d3.v5\"}});\n   require([\"d3\"], function(d3){\n      window.d3 = d3;\n      LDAvis_load_lib(\"https://cdn.jsdelivr.net/gh/bmabey/pyLDAvis@3.2.2/pyLDAvis/js/ldavis.v3.0.0.js\", function(){\n        new LDAvis(\"#\" + \"ldavis_el124953082797128640138494\", ldavis_el124953082797128640138494_data);\n      });\n    });\n}else{\n    // require.js not available: dynamically load d3 & LDAvis\n    LDAvis_load_lib(\"https://d3js.org/d3.v5.js\", function(){\n         LDAvis_load_lib(\"https://cdn.jsdelivr.net/gh/bmabey/pyLDAvis@3.2.2/pyLDAvis/js/ldavis.v3.0.0.js\", function(){\n                 new LDAvis(\"#\" + \"ldavis_el124953082797128640138494\", ldavis_el124953082797128640138494_data);\n            })\n         });\n}\n</script>"
     },
     "metadata": {},
     "execution_count": 28
    }
   ],
   "source": [
    "# pyLDAvis 불러오기\n",
    "import pyLDAvis\n",
    "import pyLDAvis.gensim\n",
    "\n",
    "# pyLDAvis를 jupyter notebook에서 실행할 수 있게 활성화.\n",
    "pyLDAvis.enable_notebook()\n",
    "\n",
    "# pyLDAvis 실행.\n",
    "data = pyLDAvis.gensim.prepare(model, corpus, dictionary)\n",
    "data"
   ]
  },
  {
   "cell_type": "code",
   "execution_count": null,
   "metadata": {},
   "outputs": [],
   "source": []
  }
 ],
 "metadata": {
  "colab": {
   "collapsed_sections": [],
   "name": "10.3 오픈 API 활용(colab).ipynb",
   "provenance": []
  },
  "kernelspec": {
   "display_name": "Python 3",
   "language": "python",
   "name": "python3"
  },
  "language_info": {
   "codemirror_mode": {
    "name": "ipython",
    "version": 3
   },
   "file_extension": ".py",
   "mimetype": "text/x-python",
   "name": "python",
   "nbconvert_exporter": "python",
   "pygments_lexer": "ipython3",
   "version": "3.8.8-final"
  }
 },
 "nbformat": 4,
 "nbformat_minor": 1
}