{
 "cells": [
  {
   "cell_type": "markdown",
   "metadata": {},
   "source": [
    "-----------------------\n",
    "## 토픽모델링에 사용할 네이버 뉴스 데이터 가져오기\n",
    "- 1. 네이버 오픈 API로 기사 URL 크롤링\n",
    "- 2. bs4 + selenium으로 기사 제목 및 내용 크롤링"
   ]
  },
  {
   "cell_type": "code",
   "execution_count": 2,
   "metadata": {},
   "outputs": [],
   "source": [
    "import os\n",
    "import sys\n",
    "import urllib.request\n",
    "import requests\n",
    "\n",
    "news_data = []\n",
    "page_count = 30\n",
    "\n",
    "client_id = \"frBMA0JHYp1zATqntdUJ\"\n",
    "client_secret = \"CzMu_Uce6r\"\n",
    "\n",
    "encText = urllib.parse.quote(\"롯데 자이언츠\")\n",
    "\n",
    "for idx in range(page_count):\n",
    "    # json 결과\n",
    "    url = \"https://openapi.naver.com/v1/search/news?query=\" + encText + \"&start=\" + str(idx * 10 + 1)\n",
    "    # url = \"https://openapi.naver.com/v1/search/blog.xml?query=\" + encText # xml 결과\n",
    "    request = urllib.request.Request(url)\n",
    "    request.add_header(\"X-Naver-Client-Id\",client_id)\n",
    "    request.add_header(\"X-Naver-Client-Secret\",client_secret)\n",
    "    response = urllib.request.urlopen(request)\n",
    "    rescode = response.getcode()\n",
    "\n",
    "    if(rescode==200):\n",
    "    #    response_body = response.read()\n",
    "        result = requests.get(response.geturl(),\n",
    "                              headers={\"X-Naver-Client-Id\":client_id,\n",
    "                                       \"X-Naver-Client-Secret\":client_secret}\n",
    "                             )\n",
    "        news_data.append(result.json())\n",
    "    #    print(response_body.decode('utf-8'))\n",
    "    else:\n",
    "        print(\"Error Code:\" + rescode)"
   ]
  },
  {
   "cell_type": "code",
   "execution_count": 3,
   "metadata": {
    "tags": [
     "outputPrepend"
    ]
   },
   "outputs": [
    {
     "output_type": "stream",
     "name": "stdout",
     "text": [
      "SG 추신수가 11일 오후 <b>롯데자이언츠</b>와 SSG랜더스의 연습경기가 열린 부산 사직야구장에 도착해 경기 후 선수단과 상견례를 갖고 있다. 김원형 감독이 유니폼을 입고 그라운드에 나온 추신수를... ', 'pubDate': 'Thu, 11 Mar 2021 16:39:00 +0900'}]}, {'lastBuildDate': 'Fri, 12 Mar 2021 15:35:39 +0900', 'total': 432524, 'start': 251, 'display': 10, 'items': [{'title': 'SSG 선수단과 상견례 갖는 추신수[포토]', 'originallink': 'http://www.xportsnews.com/?ac=article_view&entry_id=1399432', 'link': 'https://sports.news.naver.com/news.nhn?oid=311&aid=0001274058', 'description': '11일 오후 부산 동래구 사직야구장 열린 SSG 랜더스와 <b>롯데 자이언츠</b>의 연습경기 후 SSG 추신수와 선수단의 상견례가 진행됐다. SSG 추신수가 선수단과 상견례를 갖고 있다.', 'pubDate': 'Thu, 11 Mar 2021 16:39:00 +0900'}, {'title': \"김원형 감독 '추신수 합류, 이제는 완전체'[포토]\", 'originallink': 'http://www.xportsnews.com/?ac=article_view&entry_id=1399430', 'link': 'https://sports.news.naver.com/news.nhn?oid=311&aid=0001274057', 'description': '11일 오후 부산 동래구 사직야구장 열린 SSG 랜더스와 <b>롯데 자이언츠</b>의 연습경기 후 SSG 추신수와 선수단의 상견례가 진행됐다. SSG 김원형 감독이 선수단에게 추신수를 소개하고 있다.', 'pubDate': 'Thu, 11 Mar 2021 16:39:00 +0900'}, {'title': \"추신수 '캡틴 이재원과 인사'\", 'originallink': 'https://www.news1.kr/photos/view/?4661869', 'link': 'https://sports.news.naver.com/news.nhn?oid=421&aid=0005217150', 'description': '자가격리를 마친 SSG랜더스 추신수가 11일 오후 부산 사직야구장에서 열린 <b>롯데자이언츠</b>와 SSG랜더스의 연습 경기가 끝난 후 팀 상견례에서 주장 이재원(오른쪽)을 비롯한 선수들과 인사를 하고 있다. 2021.3.11/뉴스1', 'pubDate': 'Thu, 11 Mar 2021 16:38:00 +0900'}, {'title': \"[MD포토] 추신수 'SSG 우승을 위해'\", 'originallink': 'http://www.mydaily.co.kr/new_yk/html/read.php?newsid=202103111637272710&ext=na&utm_campaign=naver_news&utm_source=naver&utm_medium=related_news', 'link': 'https://sports.news.naver.com/news.nhn?oid=117&aid=0003471809', 'description': '11일 오후 부산 사직야구장에서 진행된 2021 KBO리그 <b>롯데 자이언츠</b>와 SSG 랜더스의 연습경기에서 <b>롯데</b>가 7-5로 승리를 했다. 경기가 끝난 후 추신수가 인터뷰를 하고 있다.', 'pubDate': 'Thu, 11 Mar 2021 16:38:00 +0900'}, {'title': \"추신수 '동갑 김강민과 반가운 해후'\", 'originallink': 'https://www.news1.kr/photos/view/?4661867', 'link': 'https://sports.news.naver.com/news.nhn?oid=421&aid=0005217146', 'description': '자가격리를 마친 SSG랜더스 추신수가 11일 오후 부산 사직야구장에서 열린 <b>롯데자이언츠</b>와 SSG랜더스의 연습 경기가 끝난 후 팀 상견례에서 김강민을 비롯한 선수들과 인사를 하고 있다. 2021.3.11/뉴스1', 'pubDate': 'Thu, 11 Mar 2021 16:38:00 +0900'}, {'title': \"최정 '우상 추신수 앞에서는 소년'\", 'originallink': 'https://www.news1.kr/photos/view/?4661870', 'link': 'https://sports.news.naver.com/news.nhn?oid=421&aid=0005217152', 'description': '자가격리를 마친 SSG랜더스 추신수가 11일 오후 부산 사직야구장에서 열린 <b>롯데자이언츠</b>와 SSG랜더스의 연습 경기가 끝난 후 팀 상견례에서 최정(왼쪽)을 비롯한 선수들과 인사를 하고 있다. 2021.3.11/뉴스1', 'pubDate': 'Thu, 11 Mar 2021 16:38:00 +0900'}, {'title': \"[포토] 추신수 '이태양에게 시계 선물로 보답'\", 'originallink': 'http://sports.chosun.com/news/ntype.htm?id=202103110100090090005717&servicedate=20210311', 'link': 'https://sports.news.naver.com/news.nhn?oid=076&aid=0003702299', 'description': '<b>롯데 자이언츠</b>와 SSG 랜더스의 연습경기가 11일 부산 사직야구장에서 열렸다. 팀에 합류한 추신수가 자신에게 등번호 17번을 양보한 이태양에게 시계를 선물하고 있다. 부산= /2021.03.11', 'pubDate': 'Thu, 11 Mar 2021 16:37:00 +0900'}, {'title': \"추신수 '번호 양보해준 이태양에게 감사 선물'[포토]\", 'originallink': 'http://www.xportsnews.com/?ac=article_view&entry_id=1399428', 'link': 'https://sports.news.naver.com/news.nhn?oid=311&aid=0001274055', 'description': '11일 오후 부산 동래구 사직야구장 열린 SSG 랜더스와 <b>롯데 자이언츠</b>의 연습경기 후 SSG 추신수와 선수단의 상견례가 진행됐다. SSG 추신수가 등번호를 양보해준 이태양에게 선물을 건네주고 있다.', 'pubDate': 'Thu, 11 Mar 2021 16:37:00 +0900'}, {'title': '[포토]김원형 감독, 추신수 환영해', 'originallink': 'http://isplus.live.joins.com/news/article/article.asp?total_id=24009821', 'link': 'https://sports.news.naver.com/news.nhn?oid=241&aid=0003099173', 'description': '자가격리를 마친 SSG 추신수가 11일 오후 <b>롯데자이언츠</b>와 SSG랜더스의 연습경기가 열린 부산 사직야구장에 도착해 경기 후 선수단과 상견례를 갖고 있다. 김원형 감독이 유니폼을 입고 그라운드에 나온 추신수와... ', 'pubDate': 'Thu, 11 Mar 2021 16:37:00 +0900'}, {'title': \"[MD포토] 추신수 'SSG 합류 후 인터뷰'\", 'originallink': 'http://www.mydaily.co.kr/new_yk/html/read.php?newsid=202103111636553089&ext=na&utm_campaign=naver_news&utm_source=naver&utm_medium=related_news', 'link': 'https://sports.news.naver.com/news.nhn?oid=117&aid=0003471807', 'description': '11일 오후 부산 사직야구장에서 진행된 2021 KBO리그 <b>롯데 자이언츠</b>와 SSG 랜더스의 연습경기에서 <b>롯데</b>가 7-5로 승리를 했다. 경기가 끝난 후 추신수가 인터뷰를 하고 있다.', 'pubDate': 'Thu, 11 Mar 2021 16:37:00 +0900'}]}, {'lastBuildDate': 'Fri, 12 Mar 2021 15:35:39 +0900', 'total': 432524, 'start': 261, 'display': 10, 'items': [{'title': '[MD포토] SSG 합류 후 인터뷰하는 추신수', 'originallink': 'http://www.mydaily.co.kr/new_yk/html/read.php?newsid=202103111636894948&ext=na&utm_campaign=naver_news&utm_source=naver&utm_medium=related_news', 'link': 'https://sports.news.naver.com/news.nhn?oid=117&aid=0003471808', 'description': '11일 오후 부산 사직야구장에서 진행된 2021 KBO리그 <b>롯데 자이언츠</b>와 SSG 랜더스의 연습경기에서 <b>롯데</b>가 7-5로 승리를 했다. 경기가 끝난 후 추신수가 인터뷰를 하고 있다.', 'pubDate': 'Thu, 11 Mar 2021 16:37:00 +0900'}, {'title': \"[ST포토] <b>롯데</b> 김원중, '마무리는 내가!'\", 'originallink': 'http://stoo.asiae.co.kr/article.php?aid=70834284188', 'link': 'http://stoo.asiae.co.kr/article.php?aid=70834284188', 'description': '11일 부산 사직야구장에서 열린 프로야구 <b>롯데 자이언츠</b>와 SSG 랜더스의 연습경기, 9회 마운드에 오른 <b>롯데</b> 김원중이 역투하고 있다. 2021.03.11.', 'pubDate': 'Thu, 11 Mar 2021 16:35:00 +0900'}, {'title': '<b>롯데</b>와의 연습경기 마친 SSG 김원형 감독[포토]', 'originallink': 'http://www.xportsnews.com/?ac=article_view&entry_id=1399427', 'link': 'https://sports.news.naver.com/news.nhn?oid=311&aid=0001274053', 'description': '\\u200b\\u200b\\u200b\\u200b\\u200b\\u200b[엑스포츠뉴스 부산, 김한준 기자] 11일 오후 부산 동래구 사직야구장 열린 SSG 랜더스와 <b>롯데 자이언츠</b>의 연습경기, <b>롯데</b>가 SSG에 7:5로 승리를 거뒀다. 경기종료 후 SSG 김원형 감독이 미팅을 위해... ', 'pubDate': 'Thu, 11 Mar 2021 16:35:00 +0900'}, {'title': '[ST포토] <b>롯데</b>, SSG 상대로 7-5 승', 'originallink': 'http://stoo.asiae.co.kr/article.php?aid=70834356750', 'link': 'http://stoo.asiae.co.kr/article.php?aid=70834356750', 'description': '11일 부산 사직야구장에서 열린 프로야구 <b>롯데 자이언츠</b>와 SSG 랜더스의 연습경기, <b>롯데</b>가 7-5로 승리하고 있다. 2021.03.11.', 'pubDate': 'Thu, 11 Mar 2021 16:35:00 +0900'}, {'title': '포즈 취하는 추신수', 'originallink': 'https://www.news1.kr/photos/view/?4661853', 'link': 'https://sports.news.naver.com/news.nhn?oid=421&aid=0005217137', 'description': '자가격리를 마친 SSG랜더스 추신수가 11일 오후 부산 사직야구장에서 열린 <b>롯데자이언츠</b>와 SSG랜더스의 연습 경기가 끝난 후 기자회견에서 포즈를 취하고 있다. 2021.3.11/뉴스1', 'pubDate': 'Thu, 11 Mar 2021 16:34:00 +0900'}, {'title': '취재진 질문에 답변하는 추신수', 'originallink': 'https://www.news1.kr/photos/view/?4661850', 'link': 'https://sports.news.naver.com/news.nhn?oid=421&aid=0005217135', 'description': '자가격리를 마친 SSG랜더스 추신수가 11일 오후 부산 사직야구장에서 열린 <b>롯데자이언츠</b>와 SSG랜더스의 연습 경기가 끝난 후 기자회견에서 취재진 질문에 답변하고 있다. 2021.3.11/뉴스1', 'pubDate': 'Thu, 11 Mar 2021 16:34:00 +0900'}, {'title': \"추신수 '자신의 고향에서 떨리는 기자회견'\", 'originallink': 'https://www.news1.kr/photos/view/?4661851', 'link': 'https://sports.news.naver.com/news.nhn?oid=421&aid=0005217136', 'description': '자가격리를 마친 SSG랜더스 추신수가 11일 오후 부산 사직야구장에서 열린 <b>롯데자이언츠</b>와 SSG랜더스의 연습 경기가 끝난 후 기자회견에서 생각에 잠겨 있다. 2021.3.11/뉴스1', 'pubDate': 'Thu, 11 Mar 2021 16:34:00 +0900'}, {'title': '포즈 취하는 추신수', 'originallink': 'https://www.news1.kr/photos/view/?4661844', 'link': 'https://sports.news.naver.com/news.nhn?oid=421&aid=0005217129', 'description': '자가격리를 마친 SSG랜더스 추신수가 11일 오후 부산 사직야구장에서 열린 <b>롯데자이언츠</b>와 SSG랜더스의 연습 경기가 끝난 후 기자회견에서 포즈를 취하고 있다. 2021.3.11/뉴스1', 'pubDate': 'Thu, 11 Mar 2021 16:32:00 +0900'}, {'title': '기자회견 위해 입장하는 추신수', 'originallink': 'https://www.news1.kr/photos/view/?4661845', 'link': 'https://sports.news.naver.com/news.nhn?oid=421&aid=0005217130', 'description': '자가격리를 마친 SSG랜더스 추신수가 11일 오후 부산 사직야구장에서 열린 <b>롯데자이언츠</b>와 SSG랜더스의 연습 경기가 끝난 후 기자회견을 위해 입장하고 있다. 2021.3.11/뉴스1', 'pubDate': 'Thu, 11 Mar 2021 16:32:00 +0900'}, {'title': '경기종료 후 인사 나누는 허문회-김원형 감독[포토]', 'originallink': 'http://www.xportsnews.com/?ac=article_view&entry_id=1399423', 'link': 'https://sports.news.naver.com/news.nhn?oid=311&aid=0001274051', 'description': '11일 오후 부산 동래구 사직야구장 열린 SSG 랜더스와 <b>롯데 자이언츠</b>의 연습경기, <b>롯데</b>가 SSG에 7:5로 승리를 거뒀다. 경기종료 후 <b>롯데</b> 허문회 감독과 SSG 김원형 감독이 인사를 나누고 있다.', 'pubDate': 'Thu, 11 Mar 2021 16:32:00 +0900'}]}, {'lastBuildDate': 'Fri, 12 Mar 2021 15:35:39 +0900', 'total': 432524, 'start': 271, 'display': 10, 'items': [{'title': '추신수와 인사 나누는 SSG 선수들', 'originallink': 'https://www.news1.kr/photos/view/?4661835', 'link': 'https://sports.news.naver.com/news.nhn?oid=421&aid=0005217120', 'description': '자가격리를 마친 SSG랜더스 추신수가 11일 오후 부산 사직야구장에서 열린 <b>롯데자이언츠</b>와 SSG랜더스의 연습 경기가 끝난 후 팀 상견례에서 선수들에게 인사를 하고 있다. 2021.3.11/뉴스1', 'pubDate': 'Thu, 11 Mar 2021 16:29:00 +0900'}, {'title': \"추신수 '부산고 후배 정의윤과 반갑게 인사'\", 'originallink': 'https://www.news1.kr/photos/view/?4661834', 'link': 'https://sports.news.naver.com/news.nhn?oid=421&aid=0005217119', 'description': '자가격리를 마친 SSG랜더스 추신수가 11일 오후 부산 사직야구장에서 열린 <b>롯데자이언츠</b>와 SSG랜더스의 연습 경기가 끝난 후 팀 상견례에서 선수들에게 인사를 하고 있다. 2021.3.11/뉴스1', 'pubDate': 'Thu, 11 Mar 2021 16:29:00 +0900'}, {'title': \"김원형 감독 '(추)신수야 잘해보자'\", 'originallink': 'https://www.news1.kr/photos/view/?4661830', 'link': 'https://sports.news.naver.com/news.nhn?oid=421&aid=0005217116', 'description': '김원형 SSG랜더스 감독이 11일 오후 부산 사직야구장에서 열린 <b>롯데자이언츠</b>와 SSG랜더스의 연습 경기가 끝난 후 자가격리를 마친 후 팀에 합류한 추신수와 대화를 나누고 있다. 2021.3.11/뉴스1', 'pubDate': 'Thu, 11 Mar 2021 16:29:00 +0900'}, {'title': 'SSG 코칭스테프들과 인사 나누는 추신수', 'originallink': 'https://www.news1.kr/photos/view/?4661831', 'link': 'https://sports.news.naver.com/news.nhn?oid=421&aid=0005217117', 'description': '자가격리를 마친 SSG랜더스 추신수가 11일 오후 부산 사직야구장에서 열린 <b>롯데자이언츠</b>와 SSG랜더스의 연습 경기가 끝난 후 팀 상견례에서 코칭스테프들과 인사를 하고 있다. 2021.3.11/뉴스1', 'pubDate': 'Thu, 11 Mar 2021 16:29:00 +0900'}, {'title': \"김원형 감독 '추신수 효과 기대합니다'\", 'originallink': 'https://www.news1.kr/photos/view/?4661839', 'link': 'https://sports.news.naver.com/news.nhn?oid=421&aid=0005217123', 'description': '김원형 SSG랜더스 감독이 11일 오후 부산 사직야구장에서 열린 <b>롯데자이언츠</b>와 SSG랜더스의 연습 경기가 끝난 후 자가격리를 마친 후 팀에 합류한 추신수를 선수들에게 인사 시키고 있다. 2021.3.11/뉴스1', 'pubDate': 'Thu, 11 Mar 2021 16:29:00 +0900'}, {'title': 'SSG 선수들과 인사 나누는 추신수', 'originallink': 'https://www.news1.kr/photos/view/?4661833', 'link': 'https://sports.news.naver.com/news.nhn?oid=421&aid=0005217118', 'description': '자가격리를 마친 SSG랜더스 추신수가 11일 오후 부산 사직야구장에서 열린 <b>롯데자이언츠</b>와 SSG랜더스의 연습 경기가 끝난 후 팀 상견례에서 선수들에게 인사를 하고 있다. 2021.3.11/뉴스1', 'pubDate': 'Thu, 11 Mar 2021 16:29:00 +0900'}, {'title': \"<b>롯데</b> 'SSG에 7:5 승리'[포토]\", 'originallink': 'http://www.xportsnews.com/?ac=article_view&entry_id=1399421', 'link': 'https://sports.news.naver.com/news.nhn?oid=311&aid=0001274049', 'description': '11일 오후 부산 동래구 사직야구장 열린 SSG 랜더스와 <b>롯데 자이언츠</b>의 연습경기, <b>롯데</b>가 SSG에 7:5로 승리를 거뒀다. 이날 경기에서 승리한 <b>롯데</b> 선수들이 기뻐하고 있다.', 'pubDate': 'Thu, 11 Mar 2021 16:28:00 +0900'}, {'title': \"[MD포토] 추신수 '타순은 상관없다'\", 'originallink': 'http://www.mydaily.co.kr/new_yk/html/read.php?newsid=202103111626734977&ext=na&utm_campaign=naver_news&utm_source=naver&utm_medium=related_news', 'link': 'https://sports.news.naver.com/news.nhn?oid=117&aid=0003471804', 'description': '11일 오후 부산 사직야구장에서 진행된 2021 KBO리그 <b>롯데 자이언츠</b>와 SSG 랜더스의 연습경기에서 <b>롯데</b>가 7-5로 승리를 했다. 경기가 끝난 후 추신수가 인터뷰를 하고 있다.', 'pubDate': 'Thu, 11 Mar 2021 16:26:00 +0900'}, {'title': \"[MD포토] 추신수 '등번호 양보한 이태양에게 시계 선물'\", 'originallink': 'http://www.mydaily.co.kr/new_yk/html/read.php?newsid=202103111626143185&ext=na&utm_campaign=naver_news&utm_source=naver&utm_medium=related_news', 'link': 'https://sports.news.naver.com/news.nhn?oid=117&aid=0003471803', 'description': '11일 오후 부산 사직야구장에서 진행된 2021 KBO리그 <b>롯데 자이언츠</b>와 SSG 랜더스의 연습경기에서 <b>롯데</b>가 7-5로 승리를 했다. 경기가 끝난 후 추신수가 등번호를 양보한 이태양에게 시계를 선물하고 있다.', 'pubDate': 'Thu, 11 Mar 2021 16:26:00 +0900'}, {'title': \"김원형 감독 '추신수 효과 기대합니다'\", 'originallink': 'https://www.news1.kr/photos/view/?4661810', 'link': 'https://sports.news.naver.com/news.nhn?oid=421&aid=0005217091', 'description': '김원형 SSG랜더스 감독이 11일 오후 부산 사직야구장에서 열린 <b>롯데자이언츠</b>와 SSG랜더스의 연습 경기가 끝난 후 자가격리를 마친 후 팀에 합류한 추신수를 선수들에게 인사 시키고 있다. 2021.3.11/뉴스1', 'pubDate': 'Thu, 11 Mar 2021 16:24:00 +0900'}]}, {'lastBuildDate': 'Fri, 12 Mar 2021 15:35:39 +0900', 'total': 432524, 'start': 281, 'display': 10, 'items': [{'title': \"김원형 감독 '추신수 효과 기대합니다'\", 'originallink': 'https://www.news1.kr/photos/view/?4661810', 'link': 'https://sports.news.naver.com/news.nhn?oid=421&aid=0005217091', 'description': '김원형 SSG랜더스 감독이 11일 오후 부산 사직야구장에서 열린 <b>롯데자이언츠</b>와 SSG랜더스의 연습 경기가 끝난 후 자가격리를 마친 후 팀에 합류한 추신수를 선수들에게 인사 시키고 있다. 2021.3.11/뉴스1', 'pubDate': 'Thu, 11 Mar 2021 16:24:00 +0900'}, {'title': '이태양에게 선물하는 추신수', 'originallink': 'https://www.news1.kr/photos/view/?4661812', 'link': 'https://sports.news.naver.com/news.nhn?oid=421&aid=0005217093', 'description': '자가격리를 마친 SSG랜더스 추신수가 11일 오후 부산 사직야구장에서 열린 <b>롯데자이언츠</b>와 SSG랜더스의 연습 경기가 끝난 후 팀 상견례에서 등번호 17번을 양보한 이태양(왼쪽)에게 선물을 전달하고 있다. 2021.3.... ', 'pubDate': 'Thu, 11 Mar 2021 16:24:00 +0900'}, {'title': \"추신수 '등번호 17번 양보한 이태양에게 시계 선물'\", 'originallink': 'https://www.news1.kr/photos/view/?4661803', 'link': 'https://sports.news.naver.com/news.nhn?oid=421&aid=0005217081', 'description': '자가격리를 마친 SSG랜더스 추신수가 11일 오후 부산 사직야구장에서 열린 <b>롯데자이언츠</b>와 SSG랜더스의 연습 경기가 끝난 후 팀 상견례에서 등번호 17번을 양보한 이태양(왼쪽)에게 선물을 전달하고 있다. 2021.3.... ', 'pubDate': 'Thu, 11 Mar 2021 16:20:00 +0900'}, {'title': '허문회 감독, &quot;박세웅, 실투 하나 아쉬워...김재유, 한층 성장했다&quot; [부산 톡...', 'originallink': 'http://www.osen.co.kr/article/G1111536926', 'link': 'https://sports.news.naver.com/news.nhn?oid=109&aid=0004367167', 'description': '<b>롯데 자이언츠</b>가 SSG 랜더스를 완파하고 연습경기 5연승을 달렸다. <b>롯데</b>는 11일 부산 사직구장에서 열린 SSG 랜더스와의 연습경기에서 7-5로 승리를 거뒀다. 연습경기 5연승. 선발 박세웅이 3이닝 5실점으로 부진했지만 모두... ', 'pubDate': 'Thu, 11 Mar 2021 16:20:00 +0900'}, {'title': '프로야구 전·현직 선수 불법 약물 구매 의혹…KBO “결과에 따라 강력 조치”', 'originallink': 'http://www.ichannela.com/news/main/news_detailPage.do?publishId=000000241783', 'link': 'https://sports.news.naver.com/news.nhn?oid=449&aid=0000205675', 'description': '&lt;<b>롯데 자이언츠</b> 입장문&gt; <b>롯데 자이언츠</b>에서 ‘전/현직 야구선수들의 금지약물 구매 의혹’ 보도에 대한 입장을 알려 드립니다. 구단은 해당 보도가 이루어진 직후 의혹을 받고 있는 송승준 선수와 면담을... ', 'pubDate': 'Thu, 11 Mar 2021 16:19:00 +0900'}, {'title': \"'SSG맨' 추신수의 첫 인사 &quot;여러분과 함께 이기러 왔다&quot; [MK톡톡]\", 'originallink': 'http://mksports.co.kr/view/2021/234809/', 'link': 'https://sports.news.naver.com/news.nhn?oid=410&aid=0000768623', 'description': '추신수는 11일 부산 사직야구장에서 <b>롯데 자이언츠</b>와 연습경기를 마친 SSG 선수들과 인사를 나눴다. 추신수는 동료들과의 첫 상견례에서 &quot;미국에서 이곳에 오기까지 많은 고민을 했다&quot;며 &quot;한국에 온 건 경험을 하기... ', 'pubDate': 'Thu, 11 Mar 2021 16:18:00 +0900'}, {'title': \"추신수 'SSG 선수들과 첫 만남'\", 'originallink': 'https://www.news1.kr/photos/view/?4661797', 'link': 'https://sports.news.naver.com/news.nhn?oid=421&aid=0005217072', 'description': '자가격리를 마친 SSG랜더스 추신수가 11일 오후 부산 사직야구장에서 열린 <b>롯데자이언츠</b>와 SSG랜더스의 연습 경기가 끝난 후 팀 상견례에서 선수들에게 인사를 하고 있다. 2021.3.11/뉴스1', 'pubDate': 'Thu, 11 Mar 2021 16:18:00 +0900'}, {'title': \"추신수 '우승하러 SSG 왔습니다'\", 'originallink': 'https://www.news1.kr/photos/view/?4661799', 'link': 'https://sports.news.naver.com/news.nhn?oid=421&aid=0005217075', 'description': '자가격리를 마친 SSG랜더스 추신수가 11일 오후 부산 사직야구장에서 열린 <b>롯데자이언츠</b>와 SSG랜더스의 연습 경기가 끝난 후 팀 상견례에서 선수들에게 인사를 하고 있다. 2021.3.11/뉴스1', 'pubDate': 'Thu, 11 Mar 2021 16:18:00 +0900'}, {'title': \"'추추트레인' 추신수 'SSG 선수들과 첫 만남'\", 'originallink': 'https://www.news1.kr/photos/view/?4661798', 'link': 'https://sports.news.naver.com/news.nhn?oid=421&aid=0005217074', 'description': '자가격리를 마친 SSG랜더스 추신수가 11일 오후 부산 사직야구장에서 열린 <b>롯데자이언츠</b>와 SSG랜더스의 연습 경기가 끝난 후 팀 상견례에서 선수들에게 인사를 하고 있다. 2021.3.11/뉴스1', 'pubDate': 'Thu, 11 Mar 2021 16:18:00 +0900'}, {'title': '추신수, SSG 선수단과 첫 만남...&quot;경험하러 온게 아니라 이기러 왔다&quot;', 'originallink': 'http://starin.edaily.co.kr/news/newspath.asp?newsid=01341526628982336', 'link': 'https://sports.news.naver.com/news.nhn?oid=018&aid=0004873493', 'description': '이날 SSG는 사직구장에서 <b>롯데자이언츠</b>와 연습경기를 치렀다. <b>롯데</b>는 추신수의 고향인 부산을 연고로 하는 팀이다. 추신수는 메이저리그에서 한국을 넘어 아시아를 대표하는 타자로서 굵은 족적을 남겼다. 텍사스... ', 'pubDate': 'Thu, 11 Mar 2021 16:16:00 +0900'}]}, {'lastBuildDate': 'Fri, 12 Mar 2021 15:35:40 +0900', 'total': 432524, 'start': 291, 'display': 10, 'items': [{'title': \"[포토] 추신수-김원형 감독 'SSG 유니폼을 입고'\", 'originallink': 'http://sports.chosun.com/news/ntype.htm?id=202103120100090120005720&servicedate=20210311', 'link': 'https://sports.news.naver.com/news.nhn?oid=076&aid=0003702295', 'description': '<b>롯데 자이언츠</b>와 SSG 랜더스의 연습경기가 11일 부산 사직야구장에서 열렸다. 팀에 합류한 추신수가 SSG 유니폼을 입고 선수단과 상견례를 하고 있다. 부산= /2021.03.11', 'pubDate': 'Thu, 11 Mar 2021 16:13:00 +0900'}, {'title': \"[포토] 추신수 'SSG 유니폼을 입고 그라운드에 나와'\", 'originallink': 'http://sports.chosun.com/news/ntype.htm?id=202103120100090110005719&servicedate=20210311', 'link': 'https://sports.news.naver.com/news.nhn?oid=076&aid=0003702294', 'description': '<b>롯데 자이언츠</b>와 SSG 랜더스의 연습경기가 11일 부산 사직야구장에서 열렸다. 팀에 합류한 추신수가 SSG 유니폼을 입고 선수단과 상견례를 하고 있다. 부산= /2021.03.11', 'pubDate': 'Thu, 11 Mar 2021 16:13:00 +0900'}, {'title': \"[포토] SSG 추신수 '선수단과 첫 만남'\", 'originallink': 'http://sports.chosun.com/news/ntype.htm?id=202103120100090100005718&servicedate=20210311', 'link': 'https://sports.news.naver.com/news.nhn?oid=076&aid=0003702293', 'description': '<b>롯데 자이언츠</b>와 SSG 랜더스의 연습경기가 11일 부산 사직야구장에서 열렸다. 팀에 합류한 추신수가 SSG 유니폼을 입고 선수단과 상견례를 하고 있다. 부산= /2021.03.11', 'pubDate': 'Thu, 11 Mar 2021 16:13:00 +0900'}, {'title': \"[MD포토] 김원형 감독 '추신수, 잘 부탁해'\", 'originallink': 'http://www.mydaily.co.kr/new_yk/html/read.php?newsid=202103111609346201&ext=na&utm_campaign=naver_news&utm_source=naver&utm_medium=related_news', 'link': 'https://sports.news.naver.com/news.nhn?oid=117&aid=0003471800', 'description': '11일 오후 부산 사직야구장에서 진행된 2021 KBO리그 <b>롯데 자이언츠</b>와 SSG 랜더스의 연습경기에서 7-5로 <b>롯데</b>가 승리했다. 경기가 끝난 후 추신수와 김원형 감독이 대화를 하고 있다.', 'pubDate': 'Thu, 11 Mar 2021 16:10:00 +0900'}, {'title': \"추신수 등장 사직구장 '들썩'\", 'originallink': 'https://www.jnilbo.com/view/media/view?code=2021031116004361127', 'link': 'https://www.jnilbo.com/view/media/view?code=2021031116004361127', 'description': '이날 열린 <b>롯데 자이언츠</b>와 SSG의 연습경기는 무관중으로 진행됐지만 경기 시작 전부터 야구장이 들썩였다.100명이 넘는 취재진이 경기장을 찾았고, 추신수의 얼굴을 잠깐이라도 보기 위해 수십 명의 팬들이 야구장에... ', 'pubDate': 'Thu, 11 Mar 2021 16:09:00 +0900'}, {'title': 'SSG 최주환, 첫 연습경기서 대포 작렬…기대감↑(종합)', 'originallink': 'http://www.newsis.com/view/?id=NISX20210311_0001367402&cID=10502&pID=10500', 'link': 'https://sports.news.naver.com/news.nhn?oid=003&aid=0010388134', 'description': '최주환은 11일 사직구장에서 열린 <b>롯데 자이언츠</b>와의 연습경기에 5번 타자 겸 2루수로 선발 출전해 3회초 두 번째 타석에서 <b>롯데</b> 선발 박세웅을 상대로 3점 홈런을 때려냈다. SSG가 2-3으로 뒤진 3회초 2사 1, 2루의... ', 'pubDate': 'Thu, 11 Mar 2021 16:06:00 +0900'}, {'title': \"추신수 보고 있는데…'최주환 3점 홈런' SSG, <b>롯데</b>에 5-7 패\", 'originallink': 'https://www.news1.kr/articles/?4238105', 'link': 'https://sports.news.naver.com/news.nhn?oid=421&aid=0005216997', 'description': '프로야구 SSG 랜더스가 추신수가 지켜보는 가운데 <b>롯데 자이언츠</b>에 무릎을 꿇었다. 연습경기 2연패. SSG은 11일 부산의 사직구장에서 열린 <b>롯데</b>와의 연습경기에서 5-7로 졌다. 지난 9일 5-10 패배 이어 2연패다. 반면... ', 'pubDate': 'Thu, 11 Mar 2021 16:06:00 +0900'}, {'title': '[포토뉴스] 고향 돌아온 추신수', 'originallink': 'http://www.busan.com/view/busan/view.php?code=2021031115532282204', 'link': 'https://sports.news.naver.com/news.nhn?oid=082&aid=0001074171', 'description': '입국 후 자가격리를 마친 SSG 추신수가 11일 오후 사직야구장에서 진행된 2021 KBO리그 <b>롯데 자이언츠</b>와 SSG 랜더스의 연습경기 후 선수단에 합류하기 위해 야구장으로 들어서며 포즈를 취하고 있다. 윤민호 프리랜서', 'pubDate': 'Thu, 11 Mar 2021 16:01:00 +0900'}, {'title': \"'마차도 결승타' <b>롯데</b>, SSG에 재역전승…추신수 합류[MD리뷰]\", 'originallink': 'http://www.mydaily.co.kr/new_yk/html/read.php?newsid=202103111536191813&ext=na&utm_campaign=naver_news&utm_source=naver&utm_medium=related_news', 'link': 'https://sports.news.naver.com/news.nhn?oid=117&aid=0003471794', 'description': '<b>롯데 자이언츠</b>는 11일 부산 사직구장에서 열린 2021 스프링캠프 SSG 랜더스와의 홈 연습경기서 7-5로 재역전승했다. <b>롯데</b>는 9일에 이어 또 한번 SSG를 눌렀다. SSG는 비공식 첫 승 기회를 다음으로 미뤘다. <b>롯데</b>는 안치홍... ', 'pubDate': 'Thu, 11 Mar 2021 15:59:00 +0900'}, {'title': \"'이병규 3점포' <b>롯데</b>, SSG 8-6으로 꺾고 연습경기 5연승 [MK현장]\", 'originallink': 'http://mksports.co.kr/view/2021/234663/', 'link': 'https://sports.news.naver.com/news.nhn?oid=410&aid=0000768613', 'description': '매경닷컴 MK스포츠(부산) 김지수 기자 <b>롯데 자이언츠</b>가 타선의 힘을 앞세워 연습경기 5연승을 질주했다. <b>롯데</b>는 11일 부산 사직야구장에서 열린 SSG 랜더스와의 연습경기에서 7-5로 이겼다. 기선을 제압한 건... ', 'pubDate': 'Thu, 11 Mar 2021 15:59:00 +0900'}]}]\n"
     ]
    }
   ],
   "source": [
    "print(news_data)\n",
    "# print(len(news_data))\n",
    "# print(news_data[0])\n",
    "# print(news_data[0]['items'])\n",
    "# print(len(news_data[0]['items']))\n",
    "# print(news_data[0]['items'][2])\n",
    "# print(news_data[0]['items'][7]['link'])"
   ]
  },
  {
   "cell_type": "code",
   "execution_count": 4,
   "metadata": {},
   "outputs": [
    {
     "output_type": "stream",
     "name": "stdout",
     "text": [
      "http://yna.kr/PYH20210312030400007?did=1196m\nhttp://yna.kr/AKR20210312046800007?did=1195m\nhttp://yna.kr/AKR20210311160351007?did=1195m\nhttp://yna.kr/AKR20210311166700007?did=1195m\nhttp://yna.kr/AKR20210311160300007?did=1195m\n"
     ]
    }
   ],
   "source": [
    "yna_news_link = []\n",
    "\n",
    "for page in news_data:\n",
    "    #print(page)\n",
    "    page_news_link = []\n",
    "    \n",
    "    for item in page['items']:\n",
    "#         print(item)\n",
    "        temp_link = item['originallink']\n",
    "#         print(temp_link)\n",
    "        if \"yna\" in temp_link:\n",
    "            page_news_link.append(temp_link)\n",
    "    \n",
    "    yna_news_link.append(page_news_link)\n",
    "        \n",
    "\n",
    "# 사이트 링크만 가져오기\n",
    "for page in yna_news_link:\n",
    "    for link in page:\n",
    "        print(link)"
   ]
  },
  {
   "cell_type": "code",
   "execution_count": 5,
   "metadata": {},
   "outputs": [],
   "source": [
    "yna_news_link = [v for v in yna_news_link if v]"
   ]
  },
  {
   "cell_type": "markdown",
   "metadata": {},
   "source": [
    "### 가상 크롬드라이버 다운로드\n",
    "- 크롬 드라이브 다운로드 : https://chromedriver.chromium.org/downloads\n",
    "- 윈도우 10의 경우 chromedriver.exe"
   ]
  },
  {
   "cell_type": "code",
   "execution_count": 6,
   "metadata": {},
   "outputs": [],
   "source": [
    "from selenium import webdriver\n",
    "\n",
    "driver = webdriver.Chrome('./driver/chromedriver')"
   ]
  },
  {
   "cell_type": "markdown",
   "metadata": {},
   "source": [
    "### 라이브러리 불러오기"
   ]
  },
  {
   "cell_type": "code",
   "execution_count": 7,
   "metadata": {},
   "outputs": [],
   "source": [
    "import pandas as pd\n",
    "import numpy as np\n",
    "from selenium import webdriver\n",
    "from tqdm import tqdm_notebook\n",
    "import requests\n",
    "import pickle\n",
    "import re\n",
    "import ast\n",
    "\n",
    "from bs4 import BeautifulSoup \n",
    "from urllib.request import urlopen\n",
    "import urllib\n",
    "import time"
   ]
  },
  {
   "cell_type": "code",
   "execution_count": 8,
   "metadata": {},
   "outputs": [
    {
     "output_type": "stream",
     "name": "stderr",
     "text": [
      "<ipython-input-8-d34c4741f7df>:5: TqdmDeprecationWarning: This function will be removed in tqdm==5.0.0\nPlease use `tqdm.notebook.tqdm` instead of `tqdm.tqdm_notebook`\n  for n in tqdm_notebook(range(len(yna_news_link))):\n"
     ]
    },
    {
     "output_type": "display_data",
     "data": {
      "text/plain": "  0%|          | 0/4 [00:00<?, ?it/s]",
      "application/vnd.jupyter.widget-view+json": {
       "version_major": 2,
       "version_minor": 0,
       "model_id": "28c87bbe4be24c439c6e3e4a1e1778da"
      }
     },
     "metadata": {}
    },
    {
     "output_type": "stream",
     "name": "stderr",
     "text": [
      "<ipython-input-8-d34c4741f7df>:10: TqdmDeprecationWarning: This function will be removed in tqdm==5.0.0\nPlease use `tqdm.notebook.tqdm` instead of `tqdm.tqdm_notebook`\n  for idx in tqdm_notebook(range(len(yna_news_link[n]))):\n"
     ]
    },
    {
     "output_type": "display_data",
     "data": {
      "text/plain": "  0%|          | 0/2 [00:00<?, ?it/s]",
      "application/vnd.jupyter.widget-view+json": {
       "version_major": 2,
       "version_minor": 0,
       "model_id": "3db6cd7bb07b41a0ad46e31d0fc2a90e"
      }
     },
     "metadata": {}
    },
    {
     "output_type": "stream",
     "name": "stdout",
     "text": [
      "http://yna.kr/PYH20210312030400007?did=1196m\n",
      "http://yna.kr/AKR20210312046800007?did=1195m\n"
     ]
    },
    {
     "output_type": "display_data",
     "data": {
      "text/plain": "  0%|          | 0/1 [00:00<?, ?it/s]",
      "application/vnd.jupyter.widget-view+json": {
       "version_major": 2,
       "version_minor": 0,
       "model_id": "bd401f32a8b844e7bcd3e56d2791f780"
      }
     },
     "metadata": {}
    },
    {
     "output_type": "stream",
     "name": "stdout",
     "text": [
      "http://yna.kr/AKR20210311160351007?did=1195m\n"
     ]
    },
    {
     "output_type": "display_data",
     "data": {
      "text/plain": "  0%|          | 0/1 [00:00<?, ?it/s]",
      "application/vnd.jupyter.widget-view+json": {
       "version_major": 2,
       "version_minor": 0,
       "model_id": "dfb81515c94b43169e26bbf73914c2d4"
      }
     },
     "metadata": {}
    },
    {
     "output_type": "stream",
     "name": "stdout",
     "text": [
      "http://yna.kr/AKR20210311166700007?did=1195m\n"
     ]
    },
    {
     "output_type": "display_data",
     "data": {
      "text/plain": "  0%|          | 0/1 [00:00<?, ?it/s]",
      "application/vnd.jupyter.widget-view+json": {
       "version_major": 2,
       "version_minor": 0,
       "model_id": "53dbacd0b695409696883e6b78bb43f0"
      }
     },
     "metadata": {}
    },
    {
     "output_type": "stream",
     "name": "stdout",
     "text": [
      "http://yna.kr/AKR20210311160300007?did=1195m\n",
      "['OUTLINK', '롯데 한동희, 경남고에 1천300만원 상당 야구용품 선물']\n",
      "==================================\n",
      "['OUTLINK', '              하남직 기자   기자 페이지                     모교 경남고에 야구용품을 선물한 한동희(왼쪽)   [롯데 자이언츠 제공. 재판매 및 DB금지]          (서울=연합뉴스) 하남직 기자 = 프로야구 롯데 자이언츠 거포 내야수 한동희(22)가 모교인 경남고에 1천300만원 상당의 야구용품을 선물했다.     롯데 구단은 12일 \"한동희가 스프링캠프 휴식일인 10일 경남고를 방문해 야구용품을 전달했다\"며 \"모교 후배들과 대화를 나누며 조언을 하고, 사인볼도 증정했다\"고 전했다.     한동희는 \"좋은 선수가 되는 것도 중요하지만, 앞서 사회공헌활동을 해왔던 선배들을 따라 \\'좋은 사람이 되고 싶다\\'라고 생각했다\"며 \"부족하지만 이번에 전달한 야구용품이 모교 후배들에게 조금이나마 도움이 됐으면 좋겠다\"라고 밝혔다.     광고            jiks79@yna.co.kr     <저작권자(c) 연합뉴스,   무단 전재-재배포 금지>   2021/03/12 09:45 송고    ']\n"
     ]
    }
   ],
   "source": [
    "yna_news_title = []\n",
    "yna_news_content = []\n",
    "\n",
    "\n",
    "for n in tqdm_notebook(range(len(yna_news_link))):\n",
    "    #print(n)\n",
    "    news_page_title = []\n",
    "    news_page_content = []\n",
    "    \n",
    "    for idx in tqdm_notebook(range(len(yna_news_link[n]))):        \n",
    "        \n",
    "    ########### 긁어온 URL로 접속하기 ############    \n",
    "        try:\n",
    "            driver.get(yna_news_link[n][idx])\n",
    "            print(yna_news_link[n][idx])\n",
    "            \n",
    "        except:\n",
    "            print(\"Timeout!\")\n",
    "            continue        \n",
    "        \n",
    "        try:\n",
    "            response = driver.page_source\n",
    "            \n",
    "        except UnexpectedAlertPresentException:\n",
    "            driver.switch_to_alert().accept()\n",
    "            print(\"게시글이 삭제된 경우입니다.\")\n",
    "            continue\n",
    "        \n",
    "        soup = BeautifulSoup(response, \"html.parser\")\n",
    "        \n",
    "        ###### 뉴스 타이틀 긁어오기 ######        \n",
    "        title = None\n",
    "        \n",
    "        try:\n",
    "            item = soup.find('div', class_=\"content03\")\n",
    "            title = item.find('h1', class_=\"tit\").get_text()\n",
    "            #print(title)\n",
    "\n",
    "        except:\n",
    "            title = \"OUTLINK\"\n",
    "        \n",
    "        #print(title)\n",
    "        news_page_title.append(title)\n",
    "        \n",
    "        \n",
    "        ###### 뉴스 본문 긁어오기 ######        \n",
    "        doc = None\n",
    "        text = \"\"\n",
    "                \n",
    "        data = soup.find_all(\"div\", {\"class\" : \"story-news article\"})\n",
    "        if data:\n",
    "            for item in data:\n",
    "\n",
    "                text = text + str(item.find_all(text=True)).strip()\n",
    "                text = ast.literal_eval(text)\n",
    "                doc = ' '.join(text)\n",
    "   \n",
    "        else:\n",
    "            doc = \"OUTLINK\"\n",
    "            \n",
    "        news_page_content.append(doc.replace('\\n', ' '))\n",
    "\n",
    "                \n",
    "    yna_news_title.append(news_page_title)\n",
    "    yna_news_content.append(news_page_content)\n",
    "\n",
    "    time.sleep(2)\n",
    "    \n",
    "    \n",
    "print(yna_news_title[0])\n",
    "print(\"==================================\")\n",
    "print(yna_news_content[0])"
   ]
  },
  {
   "cell_type": "code",
   "execution_count": 46,
   "metadata": {},
   "outputs": [
    {
     "output_type": "stream",
     "name": "stdout",
     "text": [
      "['롯데 한동희, 경남고에 1천300만원 상당 야구용품 선물']\n",
      "/Users/lisemara/miniforge3/envs/tf/lib/python3.8/site-packages/ipykernel/ipkernel.py:283: DeprecationWarning: `should_run_async` will not call `transform_cell` automatically in the future. Please pass the result to `transformed_cell` argument and any exception that happen during thetransform in `preprocessing_exc_tuple` in IPython 7.17 and above.\n",
      "  and should_run_async(code)\n"
     ]
    }
   ],
   "source": [
    "del yna_news_title[0][0]\n",
    "del yna_news_content[0][0]\n",
    "print(yna_news_title[0])"
   ]
  },
  {
   "cell_type": "code",
   "execution_count": 47,
   "metadata": {},
   "outputs": [
    {
     "output_type": "stream",
     "name": "stdout",
     "text": [
      "['              하남직 기자   기자 페이지                     모교 경남고에 야구용품을 선물한 한동희(왼쪽)   [롯데 자이언츠 제공. 재판매 및 DB금지]          (서울=연합뉴스) 하남직 기자 = 프로야구 롯데 자이언츠 거포 내야수 한동희(22)가 모교인 경남고에 1천300만원 상당의 야구용품을 선물했다.     롯데 구단은 12일 \"한동희가 스프링캠프 휴식일인 10일 경남고를 방문해 야구용품을 전달했다\"며 \"모교 후배들과 대화를 나누며 조언을 하고, 사인볼도 증정했다\"고 전했다.     한동희는 \"좋은 선수가 되는 것도 중요하지만, 앞서 사회공헌활동을 해왔던 선배들을 따라 \\'좋은 사람이 되고 싶다\\'라고 생각했다\"며 \"부족하지만 이번에 전달한 야구용품이 모교 후배들에게 조금이나마 도움이 됐으면 좋겠다\"라고 밝혔다.     광고            jiks79@yna.co.kr     <저작권자(c) 연합뉴스,   무단 전재-재배포 금지>   2021/03/12 09:45 송고    ']\n",
      "/Users/lisemara/miniforge3/envs/tf/lib/python3.8/site-packages/ipykernel/ipkernel.py:283: DeprecationWarning: `should_run_async` will not call `transform_cell` automatically in the future. Please pass the result to `transformed_cell` argument and any exception that happen during thetransform in `preprocessing_exc_tuple` in IPython 7.17 and above.\n",
      "  and should_run_async(code)\n"
     ]
    }
   ],
   "source": [
    "print(yna_news_content[0])"
   ]
  },
  {
   "cell_type": "code",
   "execution_count": 11,
   "metadata": {},
   "outputs": [
    {
     "output_type": "stream",
     "name": "stdout",
     "text": [
      "4\n4\n"
     ]
    }
   ],
   "source": [
    "print(len(yna_news_title))\n",
    "print(len(yna_news_content))"
   ]
  },
  {
   "cell_type": "code",
   "execution_count": 48,
   "metadata": {},
   "outputs": [
    {
     "output_type": "stream",
     "name": "stderr",
     "text": [
      "/Users/lisemara/miniforge3/envs/tf/lib/python3.8/site-packages/ipykernel/ipkernel.py:283: DeprecationWarning: `should_run_async` will not call `transform_cell` automatically in the future. Please pass the result to `transformed_cell` argument and any exception that happen during thetransform in `preprocessing_exc_tuple` in IPython 7.17 and above.\n  and should_run_async(code)\n"
     ]
    }
   ],
   "source": [
    "with open(\"yna_news_title.pk\", \"wb\") as f:\n",
    "    pickle.dump(yna_news_title, f)\n",
    "    \n",
    "with open(\"yna_news_content.pk\", \"wb\") as f:\n",
    "    pickle.dump(yna_news_content, f)"
   ]
  },
  {
   "cell_type": "markdown",
   "metadata": {},
   "source": [
    "-----------------------------------------------\n",
    "## gensim으로 네이버 뉴스를 이용한 토픽 모델링 \n",
    "- 1. 토픽 모델링을 적용하기 위해 텍스트를 전처리\n",
    "- 2. gensim을 사용한 토픽 모델링 "
   ]
  },
  {
   "cell_type": "markdown",
   "metadata": {},
   "source": [
    "### 1. 토픽 모델링을 위한 라이브러리 불러오기"
   ]
  },
  {
   "cell_type": "code",
   "execution_count": 49,
   "metadata": {},
   "outputs": [
    {
     "output_type": "stream",
     "name": "stderr",
     "text": [
      "/Users/lisemara/miniforge3/envs/tf/lib/python3.8/site-packages/ipykernel/ipkernel.py:283: DeprecationWarning: `should_run_async` will not call `transform_cell` automatically in the future. Please pass the result to `transformed_cell` argument and any exception that happen during thetransform in `preprocessing_exc_tuple` in IPython 7.17 and above.\n  and should_run_async(code)\n"
     ]
    }
   ],
   "source": [
    "from tqdm import tqdm_notebook # progress bar\n",
    "# from konlpy.tag import Okt #Okt 등 형태소 분석기 불러오기\n",
    "from konlpy.tag import Mecab #Okt 등 형태소 분석기 불러오기\n",
    "import numpy as np\n",
    "import string # 특수문자\n",
    "import re\n",
    "import warnings # 경고 알림 제거\n",
    "import pickle\n",
    "from gensim import corpora\n",
    "from gensim import models\n",
    "import matplotlib.pyplot as plt\n",
    "%matplotlib inline\n",
    "\n",
    "warnings.filterwarnings(\"ignore\", category=DeprecationWarning) "
   ]
  },
  {
   "cell_type": "markdown",
   "metadata": {},
   "source": [
    "### 2. 텍스트 전처리 함수 만들기"
   ]
  },
  {
   "cell_type": "code",
   "execution_count": 50,
   "metadata": {},
   "outputs": [],
   "source": [
    "def read_documents(input_file_name):    \n",
    "    corpus = []    \n",
    "    \n",
    "    with open(input_file_name, 'rb') as f:\n",
    "        temp_corpus = pickle.load(f)\n",
    "        \n",
    "    for page in temp_corpus:\n",
    "        corpus += page\n",
    "    \n",
    "    return corpus\n",
    "\n",
    "def text_cleaning(docs):\n",
    "    # 한국어를 제외한 글자를 제거하는 함수.\n",
    "    for doc in docs:\n",
    "        doc = re.sub(\"[^ㄱ-ㅎㅏ-ㅣ가-힣 ]\", \"\", str(doc))\n",
    "\n",
    "    return docs\n",
    "\n",
    "def define_stopwords(path):    \n",
    "    SW = set()\n",
    "    # 불용어를 추가하는 방법 1.\n",
    "    for i in string.punctuation:\n",
    "        SW.add(i)\n",
    "    # 불용어를 추가하는 방법 2.\n",
    "    # stopwords-ko.txt에 직접 추가    \n",
    "    with open(path, encoding='cp949') as f:\n",
    "        for word in f:\n",
    "            SW.add(word)\n",
    "    return SW\n",
    "\n",
    "def text_tokenizing(corpus, tokenizer):    \n",
    "    mecab = Mecab()\n",
    "    token_corpus = []    \n",
    "\n",
    "    if tokenizer == \"noun\":\n",
    "        for n in tqdm_notebook(range(len(corpus)), desc=\"Preprocessing\"):\n",
    "            token_text = mecab.nouns(corpus[n])\n",
    "            token_text = [word for word in token_text if word not in SW and len(word) > 1]                \n",
    "            token_corpus.append(token_text)\n",
    "            \n",
    "    elif tokenized == \"morph\":\n",
    "        for n in tqdm_notebook(range(len(corpus)), desc=\"Preprocessing\"):\n",
    "            token_text = mecab.morphs(corpus[n])\n",
    "            token_text = [word for word in token_text if word not in SW and len(word) > 1]\n",
    "            token_corpus.append(token_text)\n",
    "\n",
    "    elif tokenizer == \"word\":\n",
    "        for n in tqdm_notebook(range(len(corpus)), desc=\"Preprocessing\"):\n",
    "            token_text = corpus[n].split()\n",
    "            token_text = [word for word in token_text if word not in SW and len(word) > 1]\n",
    "            token_corpus.append(token_text)        \n",
    "\n",
    "    return token_corpus"
   ]
  },
  {
   "cell_type": "code",
   "execution_count": 51,
   "metadata": {},
   "outputs": [
    {
     "output_type": "display_data",
     "data": {
      "text/plain": "Preprocessing:   0%|          | 0/4 [00:00<?, ?it/s]",
      "application/vnd.jupyter.widget-view+json": {
       "version_major": 2,
       "version_minor": 0,
       "model_id": "e09180c750e549b5908ae348bc30924f"
      }
     },
     "metadata": {}
    }
   ],
   "source": [
    "input_file_name = \"yna_news_content.pk\"\n",
    "documents = read_documents(input_file_name)\n",
    "SW = define_stopwords(\"data/stopwords-ko.txt\")\n",
    "cleaned_text = text_cleaning(documents)\n",
    "tokenized_text = text_tokenizing(cleaned_text, tokenizer=\"noun\") #tokenizer= \"noun\" or \"word\""
   ]
  },
  {
   "cell_type": "code",
   "execution_count": 67,
   "metadata": {},
   "outputs": [
    {
     "output_type": "stream",
     "name": "stdout",
     "text": [
      "['남직', '기자', '기자', '페이지', '모교', '남고', '야구', '용품', '선물', '한동희', '왼쪽', '롯데', '자이언츠', '제공', '재판매', '금지', '서울', '연합뉴스', '남직', '기자', '프로야구', '롯데', '자이언츠', '거포', '내야수', '한동희', '모교', '남고', '상당', '야구', '용품', '선물', '롯데', '구단', '한동희', '스프링', '캠프', '휴식', '남고', '방문', '야구', '용품', '전달', '모교', '후배', '대화', '조언', '증정', '한동희', '선수', '중요', '사회', '공헌', '활동', '선배', '사람', '생각', '부족', '이번', '전달', '야구', '용품', '모교', '후배', '조금', '도움', '광고', '저작권자', '연합뉴스', '무단', '전재', '배포', '금지', '송고']\n"
     ]
    }
   ],
   "source": [
    "print(tokenized_text[0])"
   ]
  },
  {
   "cell_type": "code",
   "execution_count": 53,
   "metadata": {},
   "outputs": [
    {
     "output_type": "stream",
     "name": "stdout",
     "text": [
      "4\n"
     ]
    }
   ],
   "source": [
    "import nltk\n",
    "print(len(tokenized_text))"
   ]
  },
  {
   "cell_type": "code",
   "execution_count": 57,
   "metadata": {},
   "outputs": [
    {
     "output_type": "error",
     "ename": "TypeError",
     "evalue": "unhashable type: 'list'",
     "traceback": [
      "\u001b[0;31m---------------------------------------------------------------------------\u001b[0m",
      "\u001b[0;31mTypeError\u001b[0m                                 Traceback (most recent call last)",
      "\u001b[0;32m<ipython-input-57-805799cc4abe>\u001b[0m in \u001b[0;36m<module>\u001b[0;34m\u001b[0m\n\u001b[1;32m      1\u001b[0m \u001b[0;32mfrom\u001b[0m \u001b[0mpprint\u001b[0m \u001b[0;32mimport\u001b[0m \u001b[0mpprint\u001b[0m\u001b[0;34m\u001b[0m\u001b[0;34m\u001b[0m\u001b[0m\n\u001b[1;32m      2\u001b[0m \u001b[0mtext\u001b[0m \u001b[0;34m=\u001b[0m \u001b[0mnltk\u001b[0m\u001b[0;34m.\u001b[0m\u001b[0mText\u001b[0m\u001b[0;34m(\u001b[0m\u001b[0mtokenized_text\u001b[0m\u001b[0;34m,\u001b[0m \u001b[0mname\u001b[0m\u001b[0;34m=\u001b[0m\u001b[0;34m'yna_news'\u001b[0m\u001b[0;34m)\u001b[0m\u001b[0;34m\u001b[0m\u001b[0;34m\u001b[0m\u001b[0m\n\u001b[0;32m----> 3\u001b[0;31m \u001b[0mprint\u001b[0m\u001b[0;34m(\u001b[0m\u001b[0mlen\u001b[0m\u001b[0;34m(\u001b[0m\u001b[0mset\u001b[0m\u001b[0;34m(\u001b[0m\u001b[0mtokenized_text\u001b[0m\u001b[0;34m)\u001b[0m\u001b[0;34m)\u001b[0m\u001b[0;34m)\u001b[0m\u001b[0;34m\u001b[0m\u001b[0;34m\u001b[0m\u001b[0m\n\u001b[0m\u001b[1;32m      4\u001b[0m \u001b[0mpprint\u001b[0m\u001b[0;34m(\u001b[0m\u001b[0mtext\u001b[0m\u001b[0;34m.\u001b[0m\u001b[0mvocab\u001b[0m\u001b[0;34m(\u001b[0m\u001b[0;34m)\u001b[0m\u001b[0;34m.\u001b[0m\u001b[0mmost_common\u001b[0m\u001b[0;34m(\u001b[0m\u001b[0;36m10\u001b[0m\u001b[0;34m)\u001b[0m\u001b[0;34m)\u001b[0m\u001b[0;34m\u001b[0m\u001b[0;34m\u001b[0m\u001b[0m\n",
      "\u001b[0;31mTypeError\u001b[0m: unhashable type: 'list'"
     ]
    }
   ],
   "source": [
    "from pprint import pprint\n",
    "text = nltk.Text(tokenized_text, name='yna_news')\n",
    "print(len(set(tokenized_text)))\n",
    "pprint(text.vocab().most_common(10))"
   ]
  },
  {
   "cell_type": "code",
   "execution_count": 31,
   "metadata": {},
   "outputs": [
    {
     "output_type": "stream",
     "name": "stderr",
     "text": [
      "/Users/lisemara/miniforge3/envs/tf/lib/python3.8/site-packages/ipykernel/ipkernel.py:283: DeprecationWarning: `should_run_async` will not call `transform_cell` automatically in the future. Please pass the result to `transformed_cell` argument and any exception that happen during thetransform in `preprocessing_exc_tuple` in IPython 7.17 and above.\n  and should_run_async(code)\n"
     ]
    },
    {
     "output_type": "error",
     "ename": "AttributeError",
     "evalue": "'list' object has no attribute 'plot'",
     "traceback": [
      "\u001b[0;31m---------------------------------------------------------------------------\u001b[0m",
      "\u001b[0;31mAttributeError\u001b[0m                            Traceback (most recent call last)",
      "\u001b[0;32m<ipython-input-31-a2e71ee31c11>\u001b[0m in \u001b[0;36m<module>\u001b[0;34m\u001b[0m\n\u001b[1;32m     14\u001b[0m \u001b[0;34m\u001b[0m\u001b[0m\n\u001b[1;32m     15\u001b[0m \u001b[0mplt\u001b[0m\u001b[0;34m.\u001b[0m\u001b[0mfigure\u001b[0m\u001b[0;34m(\u001b[0m\u001b[0mfigsize\u001b[0m\u001b[0;34m=\u001b[0m\u001b[0;34m(\u001b[0m\u001b[0;36m12\u001b[0m\u001b[0;34m,\u001b[0m \u001b[0;36m7\u001b[0m\u001b[0;34m)\u001b[0m\u001b[0;34m)\u001b[0m\u001b[0;34m\u001b[0m\u001b[0;34m\u001b[0m\u001b[0m\n\u001b[0;32m---> 16\u001b[0;31m \u001b[0mtext\u001b[0m\u001b[0;34m.\u001b[0m\u001b[0mplot\u001b[0m\u001b[0;34m(\u001b[0m\u001b[0;36m50\u001b[0m\u001b[0;34m)\u001b[0m\u001b[0;34m\u001b[0m\u001b[0;34m\u001b[0m\u001b[0m\n\u001b[0m",
      "\u001b[0;31mAttributeError\u001b[0m: 'list' object has no attribute 'plot'"
     ]
    }
   ],
   "source": [
    "import matplotlib.pyplot as plt\n",
    "import platform\n",
    "from matplotlib import font_manager, rc\n",
    "%matplotlib inline\n",
    "\n",
    "path = '/Library/Fonts/NanumGothic.ttf'\n",
    "if platform.system() == 'Darwin':\n",
    "    rc('font', family='AppleGothic')\n",
    "elif platform.system() == 'Windows':\n",
    "    font_name = font_manager.FontProperties(fname=path).get_name()\n",
    "    rc('font', family=font_name)\n",
    "else:\n",
    "    print('Unknown system... sorry~~~~')\n",
    "\n",
    "plt.figure(figsize=(12, 7))\n",
    "text.plot(50)"
   ]
  },
  {
   "cell_type": "markdown",
   "metadata": {},
   "source": [
    "### 3. 토픽 모델링에 사용할 행렬 생성"
   ]
  },
  {
   "cell_type": "markdown",
   "metadata": {},
   "source": [
    "### 1) 문서-단어 행렬(DTM, document-term matrix) 생성"
   ]
  },
  {
   "cell_type": "code",
   "execution_count": 19,
   "metadata": {},
   "outputs": [],
   "source": [
    "# 어휘(vocabulary) 학습\n",
    "dictionary = corpora.Dictionary(tokenized_text)\n",
    "\n",
    "# 문서-단어 행렬(document-term matrix) 생성\n",
    "corpus = [dictionary.doc2bow(text) for text in tokenized_text]"
   ]
  },
  {
   "cell_type": "code",
   "execution_count": 20,
   "metadata": {},
   "outputs": [
    {
     "output_type": "stream",
     "name": "stdout",
     "text": [
      "Dictionary(209 unique tokens: ['거포', '공헌', '광고', '구단', '금지']...)\n"
     ]
    }
   ],
   "source": [
    "print(dictionary)"
   ]
  },
  {
   "cell_type": "code",
   "execution_count": 21,
   "metadata": {},
   "outputs": [
    {
     "output_type": "execute_result",
     "data": {
      "text/plain": [
       "[]"
      ]
     },
     "metadata": {},
     "execution_count": 21
    }
   ],
   "source": [
    "corpus[0][:5]"
   ]
  },
  {
   "cell_type": "markdown",
   "metadata": {},
   "source": [
    "### 2) TFIDF 문서-단어 행렬 생성"
   ]
  },
  {
   "cell_type": "code",
   "execution_count": 22,
   "metadata": {},
   "outputs": [
    {
     "output_type": "execute_result",
     "data": {
      "text/plain": [
       "[]"
      ]
     },
     "metadata": {},
     "execution_count": 22
    }
   ],
   "source": [
    "# TFIDF 문서-단어 행렬 생성\n",
    "tfidf = models.TfidfModel(corpus)\n",
    "corpus_tfidf = tfidf[corpus]\n",
    "corpus_tfidf[0][:5]"
   ]
  },
  {
   "cell_type": "markdown",
   "metadata": {},
   "source": [
    "### 4.  LDA 모델 생성"
   ]
  },
  {
   "cell_type": "code",
   "execution_count": 23,
   "metadata": {},
   "outputs": [],
   "source": [
    "model = models.ldamodel.LdaModel(corpus, num_topics=4, id2word=dictionary)"
   ]
  },
  {
   "cell_type": "code",
   "execution_count": 24,
   "metadata": {},
   "outputs": [
    {
     "output_type": "execute_result",
     "data": {
      "text/plain": [
       "[('추신수', 0.04327199),\n",
       " ('이태양', 0.029701898),\n",
       " ('부산', 0.023130702),\n",
       " ('기자', 0.02045096),\n",
       " ('번호', 0.019070456),\n",
       " ('연합뉴스', 0.018701939),\n",
       " ('양보', 0.018098399),\n",
       " ('롯데', 0.017474854),\n",
       " ('시계', 0.016502688),\n",
       " ('선물', 0.014068911)]"
      ]
     },
     "metadata": {},
     "execution_count": 24
    }
   ],
   "source": [
    "model.show_topic(0, 10)"
   ]
  },
  {
   "cell_type": "code",
   "execution_count": 25,
   "metadata": {},
   "outputs": [
    {
     "output_type": "execute_result",
     "data": {
      "text/plain": [
       "[('롯데', 0.025571618),\n",
       " ('야구', 0.023248201),\n",
       " ('기자', 0.02100569),\n",
       " ('한동희', 0.019122478),\n",
       " ('용품', 0.018341662),\n",
       " ('모교', 0.017947491),\n",
       " ('추신수', 0.0167553),\n",
       " ('연합뉴스', 0.01651332),\n",
       " ('선물', 0.015620277),\n",
       " ('금지', 0.015171738)]"
      ]
     },
     "metadata": {},
     "execution_count": 25
    }
   ],
   "source": [
    "model.show_topic(1, 10)"
   ]
  },
  {
   "cell_type": "code",
   "execution_count": 26,
   "metadata": {},
   "outputs": [
    {
     "output_type": "execute_result",
     "data": {
      "text/plain": [
       "[('추신수', 0.044528835),\n",
       " ('이태양', 0.023159178),\n",
       " ('선물', 0.023054125),\n",
       " ('시계', 0.021586407),\n",
       " ('부산', 0.021033982),\n",
       " ('번호', 0.019583408),\n",
       " ('기자', 0.019409506),\n",
       " ('양보', 0.016823657),\n",
       " ('선수단', 0.016457172),\n",
       " ('연합뉴스', 0.01615396)]"
      ]
     },
     "metadata": {},
     "execution_count": 26
    }
   ],
   "source": [
    "model.show_topic(2, 10)"
   ]
  },
  {
   "cell_type": "code",
   "execution_count": 27,
   "metadata": {},
   "outputs": [
    {
     "output_type": "execute_result",
     "data": {
      "text/plain": [
       "[('추신수', 0.038895514),\n",
       " ('이태양', 0.029602436),\n",
       " ('부산', 0.028829768),\n",
       " ('번호', 0.027206928),\n",
       " ('기자', 0.026603803),\n",
       " ('선물', 0.023000984),\n",
       " ('연합뉴스', 0.021927537),\n",
       " ('시계', 0.021698775),\n",
       " ('롯데', 0.019426199),\n",
       " ('양보', 0.016515195)]"
      ]
     },
     "metadata": {},
     "execution_count": 27
    }
   ],
   "source": [
    "model.show_topic(3, 10)"
   ]
  },
  {
   "cell_type": "markdown",
   "metadata": {},
   "source": [
    "### 5. 토픽 모델링을 추가하여 코드 완성하기"
   ]
  },
  {
   "cell_type": "code",
   "execution_count": 28,
   "metadata": {},
   "outputs": [],
   "source": [
    "# 토픽 개수, 키워드 개수를 정해주는 변수를 추가.\n",
    "NUM_TOPICS = 3 # 토픽의 수\n",
    "\n",
    "NUM_TOPIC_WORDS = 30 # 키워드 수\n",
    "\n",
    "def build_doc_term_mat(documents):\n",
    "    # 문서-단어 행렬 만들어주는 함수.\n",
    "    print(\"Building document-term matrix.\")\n",
    "    dictionary = corpora.Dictionary(documents)\n",
    "    corpus = [dictionary.doc2bow(document) for document in documents]        \n",
    "    return corpus, dictionary\n",
    "\n",
    "def print_topic_words(model):\n",
    "    # 토픽 모델링 결과를 출력해 주는 함수.\n",
    "    print(\"\\nPrinting topic words.\\n\")\n",
    "    \n",
    "    for topic_id in range(model.num_topics):\n",
    "        topic_word_probs = model.show_topic(topic_id, NUM_TOPIC_WORDS)\n",
    "        print(\"Topic ID: {}\".format(topic_id))\n",
    "        \n",
    "        for topic_word, prob in topic_word_probs:\n",
    "            print(\"\\t{}\\t{}\".format(topic_word, prob))            \n",
    "        print(\"\\n\")"
   ]
  },
  {
   "cell_type": "code",
   "execution_count": 29,
   "metadata": {},
   "outputs": [
    {
     "output_type": "stream",
     "name": "stdout",
     "text": [
      "Building document-term matrix.\n\nPrinting topic words.\n\nTopic ID: 0\n\t추신수\t0.042622774839401245\n\t이태양\t0.028199099004268646\n\t부산\t0.025736991316080093\n\t기자\t0.025426819920539856\n\t선물\t0.022111281752586365\n\t연합뉴스\t0.022104091942310333\n\t롯데\t0.021208619698882103\n\t번호\t0.021184829995036125\n\t시계\t0.01958382874727249\n\t양보\t0.015686415135860443\n\t경기\t0.013512348756194115\n\t선수단\t0.013182474300265312\n\t연습\t0.01303454302251339\n\t구장\t0.012746717780828476\n\t사직\t0.011957954615354538\n\t전달\t0.011945323087275028\n\t금지\t0.01129697822034359\n\t프로야구\t0.011033759452402592\n\t해당\t0.010975095443427563\n\t선수\t0.010630658827722073\n\t야구\t0.00992579571902752\n\t강덕\t0.009886115789413452\n\t리그\t0.009764032438397408\n\t오후\t0.009531479328870773\n\t고가\t0.009417872875928879\n\t상견례\t0.009195533581078053\n\t이후\t0.008874778635799885\n\t구단\t0.008585216477513313\n\t송승준\t0.00854345690459013\n\t생활\t0.007812442258000374\n\n\nTopic ID: 1\n\t추신수\t0.026342032477259636\n\t기자\t0.023174861446022987\n\t이태양\t0.02172687277197838\n\t부산\t0.017615241929888725\n\t롯데\t0.017392920330166817\n\t번호\t0.016635103151202202\n\t연합뉴스\t0.016581295058131218\n\t야구\t0.016375863924622536\n\t시계\t0.016192780807614326\n\t선물\t0.01537579670548439\n\t양보\t0.014702694490551949\n\t선수\t0.012738640420138836\n\t선수단\t0.01272396557033062\n\t모교\t0.012058627791702747\n\t금지\t0.011824434623122215\n\t한동희\t0.011561128310859203\n\t전달\t0.010788382962346077\n\t용품\t0.010501576587557793\n\t사직\t0.010031099431216717\n\t해당\t0.009839413687586784\n\t남고\t0.009376619011163712\n\t자이언츠\t0.009332758374512196\n\t경기\t0.009295891039073467\n\t리그\t0.008860254660248756\n\t송승준\t0.008812245912849903\n\t연습\t0.008500505238771439\n\t구장\t0.008139075711369514\n\t구단\t0.008087046444416046\n\t프로야구\t0.008078831247985363\n\t후배\t0.007985838688910007\n\n\nTopic ID: 2\n\t추신수\t0.036597564816474915\n\t번호\t0.02236604131758213\n\t부산\t0.021105008199810982\n\t이태양\t0.02037075161933899\n\t선물\t0.015746649354696274\n\t양보\t0.015294942073523998\n\t시계\t0.014952086843550205\n\t롯데\t0.014911551028490067\n\t연합뉴스\t0.01383870467543602\n\t기자\t0.013037770986557007\n\t선수단\t0.012728528119623661\n\t경기\t0.011156979948282242\n\t해당\t0.010825599543750286\n\t강덕\t0.009725832380354404\n\t리그\t0.009418427012860775\n\t야구\t0.00933330412954092\n\t구장\t0.008854366838932037\n\t상견례\t0.008130846545100212\n\t사직\t0.007917209528386593\n\t구단\t0.007596404757350683\n\t연습\t0.00751438969746232\n\t고가\t0.007471176330000162\n\t프로야구\t0.007306396029889584\n\t이후\t0.007252722047269344\n\t오후\t0.007207395508885384\n\t미국\t0.0071204910054802895\n\t선수\t0.007103010080754757\n\t송고\t0.006885097362101078\n\t금지\t0.0068009644746780396\n\t전달\t0.006740383338183165\n\n\n"
     ]
    }
   ],
   "source": [
    "# 1) document-term matrix 생성\n",
    "corpus, dictionary = build_doc_term_mat(tokenized_text)\n",
    "\n",
    "# 2) LDA 모델 생성\n",
    "model = models.ldamodel.LdaModel(corpus, num_topics=NUM_TOPICS, id2word=dictionary, alpha=\"auto\", eta=\"auto\")\n",
    "\n",
    "# 3) 결과를 출력.\n",
    "print_topic_words(model)"
   ]
  },
  {
   "cell_type": "markdown",
   "metadata": {},
   "source": [
    "### 6. pyLDAvis를 통한 토픽 모델링 결과 시각화하기"
   ]
  },
  {
   "cell_type": "code",
   "execution_count": null,
   "metadata": {},
   "outputs": [],
   "source": [
    "#!pip install pyLDAvis"
   ]
  },
  {
   "cell_type": "code",
   "execution_count": 30,
   "metadata": {},
   "outputs": [
    {
     "output_type": "execute_result",
     "data": {
      "text/plain": [
       "PreparedData(topic_coordinates=              x         y  topics  cluster       Freq\n",
       "topic                                                \n",
       "0     -0.009906 -0.002002       1        1  87.844249\n",
       "1      0.009618 -0.002188       2        1  11.785311\n",
       "2      0.000288  0.004190       3        1   0.370440, topic_info=     Term       Freq      Total Category  logprob  loglift\n",
       "115   추신수  26.000000  26.000000  Default  30.0000  30.0000\n",
       "80     부산  15.000000  15.000000  Default  29.0000  29.0000\n",
       "100   이태양  17.000000  17.000000  Default  28.0000  28.0000\n",
       "79     번호  13.000000  13.000000  Default  27.0000  27.0000\n",
       "22     선물  13.000000  13.000000  Default  26.0000  26.0000\n",
       "..    ...        ...        ...      ...      ...      ...\n",
       "44   프로야구   0.017322   6.829891   Topic3  -4.9190  -0.3788\n",
       "96     연습   0.017815   7.987036   Topic3  -4.8909  -0.5073\n",
       "24     선수   0.016840   6.954255   Topic3  -4.9472  -0.4251\n",
       "4      금지   0.016124   7.259191   Topic3  -4.9907  -0.5115\n",
       "35     전달   0.015980   7.545404   Topic3  -4.9996  -0.5591\n",
       "\n",
       "[206 rows x 6 columns], token_table=      Topic      Freq Term\n",
       "term                      \n",
       "50        1  1.012129   강덕\n",
       "0         1  0.948028   거포\n",
       "52        1  0.838772   격리\n",
       "54        1  0.961043   경기\n",
       "54        2  0.120130   경기\n",
       "...     ...       ...  ...\n",
       "128       2  0.144133   해당\n",
       "46        1  0.542351   활동\n",
       "47        1  0.915650   후배\n",
       "47        2  0.228913   후배\n",
       "48        1  0.952905   휴식\n",
       "\n",
       "[134 rows x 3 columns], R=30, lambda_step=0.01, plot_opts={'xlab': 'PC1', 'ylab': 'PC2'}, topic_order=[1, 2, 3])"
      ],
      "text/html": "\n<link rel=\"stylesheet\" type=\"text/css\" href=\"https://cdn.jsdelivr.net/gh/bmabey/pyLDAvis@3.2.2/pyLDAvis/js/ldavis.v1.0.0.css\">\n\n\n<div id=\"ldavis_el975551463081606314800812\"></div>\n<script type=\"text/javascript\">\n\nvar ldavis_el975551463081606314800812_data = {\"mdsDat\": {\"x\": [-0.009905889916546493, 0.009617850492321113, 0.0002880394242253763], \"y\": [-0.002002136536105851, -0.002187572527533133, 0.004189709063638985], \"topics\": [1, 2, 3], \"cluster\": [1, 1, 1], \"Freq\": [87.84424945994319, 11.785310586542746, 0.3704399535140747]}, \"tinfo\": {\"Term\": [\"\\ucd94\\uc2e0\\uc218\", \"\\ubd80\\uc0b0\", \"\\uc774\\ud0dc\\uc591\", \"\\ubc88\\ud638\", \"\\uc120\\ubb3c\", \"\\ub86f\\ub370\", \"\\uc2dc\\uacc4\", \"\\uae30\\uc790\", \"\\uc5f0\\ud569\\ub274\\uc2a4\", \"\\uc591\\ubcf4\", \"\\uc120\\uc218\\ub2e8\", \"\\uacbd\\uae30\", \"\\ud574\\ub2f9\", \"\\uac15\\ub355\", \"\\uc57c\\uad6c\", \"\\uad6c\\uc7a5\", \"\\ub9ac\\uadf8\", \"\\uc0ac\\uc9c1\", \"\\uc5f0\\uc2b5\", \"\\uc0c1\\uacac\\ub840\", \"\\uc120\\uc218\", \"\\ud504\\ub85c\\uc57c\\uad6c\", \"\\uae08\\uc9c0\", \"\\uc804\\ub2ec\", \"\\uace0\\uac00\", \"\\uad6c\\ub2e8\", \"\\uc624\\ud6c4\", \"\\uc774\\ud6c4\", \"\\uc1a1\\uc2b9\\uc900\", \"\\ubbf8\\uad6d\", \"\\uac15\\ub355\", \"\\uc778\\uc0ac\", \"\\ucd94\\uc2e0\\uc218\", \"\\ud55c\\uad6d\", \"\\uad6c\\uc7a5\", \"\\uc5f0\\uc2b5\", \"\\uae40\\uacbd\\uc724\", \"\\uba54\\uc774\\uc800\", \"\\ubd80\\uc0b0\", \"\\uc790\\uc2e0\", \"\\ub2e4\\uc591\", \"\\uacbd\\uae30\", \"\\uc120\\ubb3c\", \"\\uace0\\uc9d1\", \"\\uc624\\ud6c4\", \"\\uace0\\uac00\", \"\\ud45c\\uc815\", \"\\ud504\\ub85c\\uc57c\\uad6c\", \"\\uaca9\\ub9ac\", \"\\uc0c1\\uacac\\ub840\", \"\\ub9cc\\ub098\", \"\\uc5f0\\ud569\\ub274\\uc2a4\", \"\\uc57d\\ubb3c\", \"\\uc77c\\uc740\", \"\\ud3c9\\uc815\", \"\\ub3c4\\ud551\", \"\\uc774\\ud0dc\\uc591\", \"\\uc785\\uc7a5\", \"\\ucd08\\ub4f1\", \"\\ubc88\\ud638\", \"\\ub86f\\ub370\", \"\\uc2dc\\uacc4\", \"\\uc0ac\\uc9c1\", \"\\uae30\\uc790\", \"\\uc0dd\\ud65c\", \"\\uc804\\ub2ec\", \"\\uc591\\ubcf4\", \"\\ud574\\ub2f9\", \"\\uc120\\uc218\\ub2e8\", \"\\uc774\\ud6c4\", \"\\ub9ac\\uadf8\", \"\\uae08\\uc9c0\", \"\\uad6c\\ub2e8\", \"\\uc120\\uc218\", \"\\ud504\\ub85c\", \"\\uc1a1\\uc2b9\\uc900\", \"\\uc57c\\uad6c\", \"\\ubaa8\\uad50\", \"\\ub0a8\\uace0\", \"\\ud55c\\ub3d9\\ud76c\", \"\\ubc29\\ubb38\", \"\\uc6a9\\ud488\", \"\\ub3c4\\uc6c0\", \"\\uc911\\uc694\", \"\\ud734\\uc2dd\", \"\\uc774\\ubc88\", \"\\uc67c\\ucabd\", \"\\uc99d\\uc815\", \"\\uacf5\\ud5cc\", \"\\uac70\\ud3ec\", \"\\uc870\\uae08\", \"\\uc81c\\uacf5\", \"\\uc7ac\\ud310\\ub9e4\", \"\\ub0b4\\uc57c\\uc218\", \"\\uc0dd\\uac01\", \"\\ucea0\\ud504\", \"\\ubd80\\uc871\", \"\\ub300\\ud654\", \"\\uc870\\uc5b8\", \"\\uc0ac\\ud68c\", \"\\ub0a8\\uc9c1\", \"\\uc0ac\\ub78c\", \"\\uc2a4\\ud504\\ub9c1\", \"\\ud65c\\ub3d9\", \"\\uc11c\\uc6b8\", \"\\uc57c\\uad6c\", \"\\uc790\\uc774\\uc5b8\\uce20\", \"\\ubb34\\ub2e8\", \"\\uae30\\uc790\", \"\\uc120\\uc218\", \"\\uc774\\ud0dc\\uc591\", \"\\uc591\\ubcf4\", \"\\ub86f\\ub370\", \"\\ucd94\\uc2e0\\uc218\", \"\\uae08\\uc9c0\", \"\\uc2dc\\uacc4\", \"\\ubc88\\ud638\", \"\\uc120\\uc218\\ub2e8\", \"\\uc5f0\\ud569\\ub274\\uc2a4\", \"\\ubd80\\uc0b0\", \"\\uc120\\ubb3c\", \"\\uc1a1\\uace0\", \"\\uc804\\ub2ec\", \"\\ud6c4\\ubc30\", \"\\uc1a1\\uc2b9\\uc900\", \"\\ud574\\ub2f9\", \"\\uc0ac\\uc9c1\", \"\\ub9ac\\uadf8\", \"\\uad6c\\ub2e8\", \"\\uacbd\\uae30\", \"\\uc774\\ud6c4\", \"\\uc5f0\\uc2b5\", \"\\ud504\\ub85c\\uc57c\\uad6c\", \"\\uad6c\\uc7a5\", \"\\uc870\\uc5b8\", \"\\ubd80\\uc871\", \"\\ub3c4\\uc6c0\", \"\\uc2a4\\ud504\\ub9c1\", \"\\ucea0\\ud504\", \"\\uc774\\ubc88\", \"\\uc870\\uae08\", \"\\uc67c\\ucabd\", \"\\uac70\\ud3ec\", \"\\ub0b4\\uc57c\\uc218\", \"\\ubc29\\ubb38\", \"\\ub808\\uc778\\uc800\\uc2a4\", \"\\ub300\\ud654\", \"\\uc81c\\uacf5\", \"\\uc0ac\\ub78c\", \"\\ucc29\\uc6a9\", \"\\ubc1c\\ud45c\", \"\\uc99d\\uc815\", \"\\uc7ac\\ud310\\ub9e4\", \"\\uce5c\\uc120\\ub300\\uc0ac\", \"\\uc911\\uc694\", \"\\ud55c\\ud3b8\", \"\\ud14d\\uc0ac\\uc2a4\", \"\\uc0ac\\ud68c\", \"\\ud734\\uc2dd\", \"\\ud310\\ub9e4\", \"\\uae30\\uc6b4\", \"\\ub2ec\\ub7ec\", \"\\ud2b9\\ubcc4\", \"\\uacf5\\ud5cc\", \"\\ub0a8\\uc9c1\", \"\\uc1a1\\uace0\", \"\\ubc88\\ud638\", \"\\uc9c4\\ucd9c\", \"\\ucd94\\uc2e0\\uc218\", \"\\uc190\\ubaa9\\uc2dc\\uacc4\", \"\\uc591\\ubcf4\", \"\\ubbf8\\uad6d\", \"\\ubd80\\uc0b0\", \"\\uc120\\uc218\\ub2e8\", \"\\uac15\\ub355\", \"\\ud574\\ub2f9\", \"\\uc774\\ud0dc\\uc591\", \"\\ud55c\\ub3d9\\ud76c\", \"\\ub9ac\\uadf8\", \"\\uc2dc\\uacc4\", \"\\uc120\\ubb3c\", \"\\ub0a8\\uace0\", \"\\uacbd\\uae30\", \"\\ub86f\\ub370\", \"\\uc57c\\uad6c\", \"\\uc790\\uc774\\uc5b8\\uce20\", \"\\uc5f0\\ud569\\ub274\\uc2a4\", \"\\uc0c1\\uacac\\ub840\", \"\\ud398\\uc774\\uc9c0\", \"\\ud45c\\ud604\", \"\\uc2dc\\uc808\", \"\\uad6c\\ub2e8\", \"\\ud6c4\\ubc30\", \"\\uba54\\uc774\\uc800\", \"\\uae30\\uc790\", \"\\uad6c\\uc7a5\", \"\\uc81c\\ud488\", \"\\uace0\\uac00\", \"\\uc774\\ud6c4\", \"\\uc624\\ud6c4\", \"\\uc0ac\\uc9c1\", \"\\ud504\\ub85c\\uc57c\\uad6c\", \"\\uc5f0\\uc2b5\", \"\\uc120\\uc218\", \"\\uae08\\uc9c0\", \"\\uc804\\ub2ec\"], \"Freq\": [26.0, 15.0, 17.0, 13.0, 13.0, 13.0, 12.0, 16.0, 13.0, 9.0, 8.0, 8.0, 6.0, 5.0, 6.0, 7.0, 6.0, 7.0, 7.0, 5.0, 6.0, 6.0, 7.0, 7.0, 5.0, 5.0, 5.0, 5.0, 5.0, 3.0, 5.55800601335911, 4.091948735865495, 23.96266075672767, 3.1168618263162737, 7.166245630291116, 7.328061904564817, 3.8546073793515885, 3.703605908977332, 14.46941908709238, 3.715613718477594, 2.154540102875426, 7.596685820932327, 12.431033538526254, 2.164855923084908, 5.358628257500401, 5.294758345185232, 2.1551248248437, 6.2032149625520425, 2.1637093863219543, 5.169758480313101, 2.1347587767403007, 12.426991404122782, 3.8217768181555143, 2.1059754549749568, 2.058624756376877, 2.1694988799272377, 15.853623928304499, 2.1710256757718653, 2.158224492676414, 11.910179388197022, 11.923554036021152, 11.010091350386, 6.722800448158527, 14.295039733430478, 4.392180101257253, 6.715698962547868, 8.818952914401626, 6.170233868500917, 7.411229343508789, 4.989429021034484, 5.489370361751143, 6.351197398344638, 4.826636246674971, 5.97659049813273, 4.364235705638018, 4.803158880804857, 5.580314197088944, 0.9095339309891467, 0.7072407653613334, 0.8720095404620556, 0.31056099949299126, 0.7920918034999981, 0.28884659623525566, 0.29695861339625595, 0.29600144240090576, 0.28613956408625274, 0.2836587589437467, 0.28588018100241813, 0.2870076456852392, 0.27901200846307245, 0.27622364909259106, 0.27954038076119925, 0.28054043689471625, 0.27348291646031947, 0.4319791517945071, 0.26817371176919097, 0.26671324627149706, 0.27188273181469136, 0.26244624526982346, 0.27288111960745254, 0.4043856737663989, 0.2621650157028277, 0.25192015659655215, 0.39696257596868556, 0.39405752055270105, 1.2351657374277505, 0.7039325334498393, 0.5889031076773937, 1.7479868518401072, 0.9608245562366818, 1.6387708735811424, 1.1089652775687753, 1.3118782230066557, 1.986873860205829, 0.8918696795577841, 1.2213565122002499, 1.2547191125621775, 0.9597176911718255, 1.2506605839090619, 1.3286470496121172, 1.1597346780412114, 0.5242582400687078, 0.8137244580606958, 0.6023397836333665, 0.6646723660773715, 0.7421475116809733, 0.7566055985321383, 0.668293473345778, 0.6099734787189163, 0.7011517782009083, 0.5900238463127464, 0.6411590173247971, 0.6093538394007023, 0.6138978376522962, 0.00730047513726575, 0.007127126062288446, 0.0067846369013342565, 0.007277996652010015, 0.00701369808671603, 0.006749635776804625, 0.006874429402674562, 0.006667470239532355, 0.006692682773643049, 0.006729332165865172, 0.006176797065835618, 0.007990143790916625, 0.006621399335931988, 0.006514144912225888, 0.006754559603936916, 0.007890364531675267, 0.007690495790003271, 0.006348986943842314, 0.006419648831177707, 0.007774220723200286, 0.006124531634423751, 0.00783848825924639, 0.0078409623167808, 0.006392464558219867, 0.006082181201100474, 0.007611961299241786, 0.007934380896644872, 0.007614254301249358, 0.007677181584798017, 0.006106945512382534, 0.009473807721575862, 0.0163232972774271, 0.053025763056849376, 0.010552808133764585, 0.08676608313741035, 0.014106190655514095, 0.03626148958784967, 0.01688137223497904, 0.050036085877937606, 0.030176994960795, 0.023058156604847835, 0.025665501918928548, 0.04829529881123244, 0.011915148301485901, 0.022329355117464953, 0.03544864300810646, 0.037332404325169134, 0.0099155887270452, 0.026451143801767295, 0.0353525400592576, 0.022127544444867912, 0.01569654376335662, 0.03280901902638137, 0.019276739063034818, 0.014216312159727495, 0.01055255531842528, 0.014853453182651726, 0.01800967605432045, 0.015759780718096, 0.014987709167793156, 0.030910152820793138, 0.020992072372259692, 0.014416205189336019, 0.017712782526208677, 0.01719486767170413, 0.01708740680053755, 0.01877024505868353, 0.01732211879515175, 0.017815233458468006, 0.016839928183287067, 0.01612383370269626, 0.015980206990043867], \"Total\": [26.0, 15.0, 17.0, 13.0, 13.0, 13.0, 12.0, 16.0, 13.0, 9.0, 8.0, 8.0, 6.0, 5.0, 6.0, 7.0, 6.0, 7.0, 7.0, 5.0, 6.0, 6.0, 7.0, 7.0, 5.0, 5.0, 5.0, 5.0, 5.0, 3.0, 5.928095730593739, 4.423294045805451, 26.036300700070907, 3.3909243494701635, 7.801135540315673, 7.987036155348082, 4.220018683342791, 4.055159975758484, 15.848102222582435, 4.070547023804332, 2.3608934476279066, 8.324288742935002, 13.628100620892635, 2.3762994177979486, 5.885845622143695, 5.824340374695903, 2.371374494446927, 6.829890920747896, 2.3844379808371725, 5.697568171201441, 2.3536693027040623, 13.710461007058225, 4.224858257431267, 2.3284076145580883, 2.276628153273819, 2.3993620700371614, 17.540690100696875, 2.406579306022717, 2.392590146689979, 13.21792426381605, 13.270784799087064, 12.266896505594357, 7.498176291749348, 16.07393673809138, 4.891474073612565, 7.545403627598607, 9.96417968155825, 6.938046882100819, 8.40112402964141, 5.5966477350189345, 6.179993190214386, 7.259190911605119, 5.454619401448207, 6.9542549825526985, 4.884309388288759, 5.483354429978639, 6.837607478961562, 2.3899034190670356, 1.8944858560751423, 2.4527457722717423, 0.990067461158607, 2.7354815334266767, 1.0122546704417419, 1.0423174680024547, 1.049422962735095, 1.0248347874423025, 1.040784412725834, 1.0612312975554166, 1.078715193344506, 1.054821553061048, 1.0484946189805995, 1.0687851862142175, 1.0736618029829468, 1.0709330622149797, 1.7014961970658107, 1.0643233088282111, 1.059396534563896, 1.0860937873746328, 1.0589949299790755, 1.1028812451485175, 1.681744574944642, 1.1083279501446317, 1.0978353417250932, 1.843823845055362, 1.8809323989884148, 6.837607478961562, 4.018409466164892, 3.454296104210734, 16.07393673809138, 6.9542549825526985, 17.540690100696875, 9.96417968155825, 13.270784799087064, 26.036300700070907, 7.259190911605119, 12.266896505594357, 13.21792426381605, 8.40112402964141, 13.710461007058225, 15.848102222582435, 13.628100620892635, 3.2797847043351323, 7.545403627598607, 4.368480612828037, 5.483354429978639, 6.938046882100819, 7.498176291749348, 6.179993190214386, 5.454619401448207, 8.324288742935002, 5.5966477350189345, 7.987036155348082, 6.829890920747896, 7.801135540315673, 1.0589949299790755, 1.059396534563896, 1.0122546704417419, 1.0978353417250932, 1.0643233088282111, 1.0248347874423025, 1.0484946189805995, 1.040784412725834, 1.054821553061048, 1.0709330622149797, 0.990067461158607, 1.2920529352356935, 1.0860937873746328, 1.0687851862142175, 1.1083279501446317, 1.2951838973731846, 1.2802969068121381, 1.0612312975554166, 1.0736618029829468, 1.3044615868699558, 1.0423174680024547, 1.3406405126281693, 1.3420375390199857, 1.1028812451485175, 1.049422962735095, 1.3167847396081245, 1.38071214038192, 1.3299819031035818, 1.3409871430562017, 1.078715193344506, 1.681744574944642, 3.2797847043351323, 13.21792426381605, 1.9879679880184251, 26.036300700070907, 2.87559179097039, 9.96417968155825, 3.776205566676308, 15.848102222582435, 8.40112402964141, 5.928095730593739, 6.938046882100819, 17.540690100696875, 2.4527457722717423, 6.179993190214386, 12.266896505594357, 13.628100620892635, 1.8944858560751423, 8.324288742935002, 13.270784799087064, 6.837607478961562, 4.018409466164892, 13.710461007058225, 5.697568171201441, 3.5226866778644634, 2.1260350074052106, 3.833972321413269, 5.454619401448207, 4.368480612828037, 4.055159975758484, 16.07393673809138, 7.801135540315673, 3.850646505582969, 5.824340374695903, 5.5966477350189345, 5.885845622143695, 7.498176291749348, 6.829890920747896, 7.987036155348082, 6.9542549825526985, 7.259190911605119, 7.545403627598607], \"Category\": [\"Default\", \"Default\", \"Default\", \"Default\", \"Default\", \"Default\", \"Default\", \"Default\", \"Default\", \"Default\", \"Default\", \"Default\", \"Default\", \"Default\", \"Default\", \"Default\", \"Default\", \"Default\", \"Default\", \"Default\", \"Default\", \"Default\", \"Default\", \"Default\", \"Default\", \"Default\", \"Default\", \"Default\", \"Default\", \"Default\", \"Topic1\", \"Topic1\", \"Topic1\", \"Topic1\", \"Topic1\", \"Topic1\", \"Topic1\", \"Topic1\", \"Topic1\", \"Topic1\", \"Topic1\", \"Topic1\", \"Topic1\", \"Topic1\", \"Topic1\", \"Topic1\", \"Topic1\", \"Topic1\", \"Topic1\", \"Topic1\", \"Topic1\", \"Topic1\", \"Topic1\", \"Topic1\", \"Topic1\", \"Topic1\", \"Topic1\", \"Topic1\", \"Topic1\", \"Topic1\", \"Topic1\", \"Topic1\", \"Topic1\", \"Topic1\", \"Topic1\", \"Topic1\", \"Topic1\", \"Topic1\", \"Topic1\", \"Topic1\", \"Topic1\", \"Topic1\", \"Topic1\", \"Topic1\", \"Topic1\", \"Topic1\", \"Topic1\", \"Topic2\", \"Topic2\", \"Topic2\", \"Topic2\", \"Topic2\", \"Topic2\", \"Topic2\", \"Topic2\", \"Topic2\", \"Topic2\", \"Topic2\", \"Topic2\", \"Topic2\", \"Topic2\", \"Topic2\", \"Topic2\", \"Topic2\", \"Topic2\", \"Topic2\", \"Topic2\", \"Topic2\", \"Topic2\", \"Topic2\", \"Topic2\", \"Topic2\", \"Topic2\", \"Topic2\", \"Topic2\", \"Topic2\", \"Topic2\", \"Topic2\", \"Topic2\", \"Topic2\", \"Topic2\", \"Topic2\", \"Topic2\", \"Topic2\", \"Topic2\", \"Topic2\", \"Topic2\", \"Topic2\", \"Topic2\", \"Topic2\", \"Topic2\", \"Topic2\", \"Topic2\", \"Topic2\", \"Topic2\", \"Topic2\", \"Topic2\", \"Topic2\", \"Topic2\", \"Topic2\", \"Topic2\", \"Topic2\", \"Topic2\", \"Topic2\", \"Topic3\", \"Topic3\", \"Topic3\", \"Topic3\", \"Topic3\", \"Topic3\", \"Topic3\", \"Topic3\", \"Topic3\", \"Topic3\", \"Topic3\", \"Topic3\", \"Topic3\", \"Topic3\", \"Topic3\", \"Topic3\", \"Topic3\", \"Topic3\", \"Topic3\", \"Topic3\", \"Topic3\", \"Topic3\", \"Topic3\", \"Topic3\", \"Topic3\", \"Topic3\", \"Topic3\", \"Topic3\", \"Topic3\", \"Topic3\", \"Topic3\", \"Topic3\", \"Topic3\", \"Topic3\", \"Topic3\", \"Topic3\", \"Topic3\", \"Topic3\", \"Topic3\", \"Topic3\", \"Topic3\", \"Topic3\", \"Topic3\", \"Topic3\", \"Topic3\", \"Topic3\", \"Topic3\", \"Topic3\", \"Topic3\", \"Topic3\", \"Topic3\", \"Topic3\", \"Topic3\", \"Topic3\", \"Topic3\", \"Topic3\", \"Topic3\", \"Topic3\", \"Topic3\", \"Topic3\", \"Topic3\", \"Topic3\", \"Topic3\", \"Topic3\", \"Topic3\", \"Topic3\", \"Topic3\", \"Topic3\", \"Topic3\", \"Topic3\", \"Topic3\", \"Topic3\"], \"logprob\": [30.0, 29.0, 28.0, 27.0, 26.0, 25.0, 24.0, 23.0, 22.0, 21.0, 20.0, 19.0, 18.0, 17.0, 16.0, 15.0, 14.0, 13.0, 12.0, 11.0, 10.0, 9.0, 8.0, 7.0, 6.0, 5.0, 4.0, 3.0, 2.0, 1.0, -4.6166, -4.9228, -3.1554, -5.195, -4.3625, -4.3402, -4.9826, -5.0226, -3.6598, -5.0193, -5.5643, -4.3042, -3.8117, -5.5595, -4.6532, -4.6651, -5.564, -4.5068, -5.56, -4.689, -5.5735, -3.812, -4.9911, -5.5871, -5.6098, -5.5574, -3.5685, -5.5567, -5.5626, -3.8545, -3.8533, -3.9331, -4.4264, -3.672, -4.852, -4.4274, -4.155, -4.5121, -4.3289, -4.7245, -4.629, -4.4832, -4.7577, -4.544, -4.8584, -4.7626, -4.6126, -4.418, -4.6695, -4.4601, -5.4925, -4.5562, -5.565, -5.5373, -5.5405, -5.5744, -5.5831, -5.5753, -5.5714, -5.5997, -5.6097, -5.5978, -5.5942, -5.6197, -5.1625, -5.6393, -5.6447, -5.6255, -5.6609, -5.6219, -5.2285, -5.6619, -5.7018, -5.2471, -5.2544, -4.1119, -4.6742, -4.8526, -3.7647, -4.3631, -3.8292, -4.2197, -4.0517, -3.6366, -4.4376, -4.1232, -4.0962, -4.3643, -4.0995, -4.039, -4.175, -4.9689, -4.5293, -4.8301, -4.7316, -4.6214, -4.6021, -4.7262, -4.8175, -4.6782, -4.8507, -4.7676, -4.8185, -4.8111, -5.783, -5.8071, -5.8563, -5.7861, -5.8231, -5.8615, -5.8432, -5.8737, -5.87, -5.8645, -5.9502, -5.6928, -5.8807, -5.897, -5.8608, -5.7053, -5.731, -5.9227, -5.9116, -5.7202, -5.9587, -5.7119, -5.7116, -5.9159, -5.9656, -5.7413, -5.6998, -5.741, -5.7327, -5.9616, -5.5225, -4.9784, -3.8002, -5.4146, -3.3078, -5.1244, -4.1802, -4.9448, -3.8582, -4.3639, -4.633, -4.5258, -3.8937, -5.2932, -4.6651, -4.2029, -4.1511, -5.4769, -4.4957, -4.2056, -4.6742, -5.0175, -4.2803, -4.8121, -5.1166, -5.4146, -5.0728, -4.8801, -5.0135, -5.0638, -4.3399, -4.7268, -5.1026, -4.8967, -4.9264, -4.9326, -4.8387, -4.919, -4.8909, -4.9472, -4.9907, -4.9996], \"loglift\": [30.0, 29.0, 28.0, 27.0, 26.0, 25.0, 24.0, 23.0, 22.0, 21.0, 20.0, 19.0, 18.0, 17.0, 16.0, 15.0, 14.0, 13.0, 12.0, 11.0, 10.0, 9.0, 8.0, 7.0, 6.0, 5.0, 4.0, 3.0, 2.0, 1.0, 0.0651, 0.0517, 0.0466, 0.0453, 0.0447, 0.0435, 0.039, 0.0389, 0.0386, 0.0384, 0.0381, 0.0381, 0.0377, 0.0364, 0.0358, 0.0343, 0.034, 0.0334, 0.0325, 0.0324, 0.032, 0.0313, 0.0293, 0.0292, 0.0289, 0.0289, 0.0285, 0.0266, 0.0265, 0.0254, 0.0226, 0.0215, 0.0204, 0.0123, 0.0219, 0.0131, 0.0075, 0.0123, 0.0042, 0.0148, 0.0111, -0.004, 0.0073, -0.0219, 0.017, -0.0028, -0.0736, 1.1722, 1.153, 1.1042, 0.9789, 0.8989, 0.8843, 0.8827, 0.8727, 0.8625, 0.8384, 0.8267, 0.8143, 0.8084, 0.8044, 0.7972, 0.7962, 0.7733, 0.7674, 0.7599, 0.759, 0.7533, 0.7433, 0.7417, 0.7131, 0.6967, 0.6663, 0.6026, 0.5753, 0.4271, 0.3964, 0.3692, -0.0804, 0.159, -0.2323, -0.0573, -0.1758, -0.4346, 0.0416, -0.1686, -0.2163, -0.0312, -0.2562, -0.3406, -0.3256, 0.3048, -0.0888, 0.157, 0.0281, -0.0969, -0.1553, -0.086, -0.0525, -0.3359, -0.1114, -0.384, -0.2783, -0.4039, 0.6211, 0.5967, 0.593, 0.582, 0.576, 0.5754, 0.5709, 0.5477, 0.5381, 0.5284, 0.5213, 0.5125, 0.4982, 0.4979, 0.4978, 0.4975, 0.4834, 0.4793, 0.4788, 0.4755, 0.4613, 0.4564, 0.4557, 0.4477, 0.4476, 0.445, 0.4391, 0.4353, 0.4353, 0.4241, 0.4192, 0.2953, 0.0797, 0.3598, -0.1058, 0.2808, -0.0178, 0.188, -0.1598, -0.0308, 0.0488, -0.0014, -0.2967, 0.2711, -0.0249, -0.2483, -0.3018, 0.3456, -0.1534, -0.3297, -0.1351, 0.053, -0.437, -0.0907, 0.0856, 0.2926, 0.0448, -0.1151, -0.0265, -0.0023, -0.6556, -0.3196, 0.0106, -0.1973, -0.1871, -0.2437, -0.3919, -0.3788, -0.5073, -0.4251, -0.5115, -0.5591]}, \"token.table\": {\"Topic\": [1, 1, 1, 1, 2, 1, 2, 1, 1, 1, 2, 1, 2, 1, 2, 1, 1, 2, 1, 1, 2, 1, 1, 1, 1, 1, 1, 1, 1, 1, 2, 1, 2, 1, 1, 1, 2, 1, 2, 1, 1, 1, 1, 2, 1, 2, 1, 1, 1, 2, 1, 1, 2, 1, 1, 1, 1, 2, 1, 2, 1, 2, 1, 1, 2, 1, 2, 1, 1, 2, 1, 1, 2, 1, 1, 2, 1, 2, 1, 2, 1, 2, 1, 1, 2, 1, 1, 2, 1, 2, 1, 1, 1, 1, 1, 2, 1, 1, 2, 1, 1, 1, 1, 1, 1, 1, 1, 1, 1, 2, 1, 1, 1, 1, 1, 1, 2, 1, 1, 1, 1, 2, 1, 2, 1, 1, 2, 1, 1, 2, 1, 1, 2, 1], \"Freq\": [1.0121294042259097, 0.9480276517843628, 0.8387720779794839, 0.9610430689096132, 0.12013038361370165, 0.858466311777161, 0.1716932623554322, 0.8416447797026122, 0.9270287525102402, 0.9166542396473152, 0.18333084792946305, 0.8973052658583529, 0.12818646655119326, 0.8265383943006546, 0.1377563990501091, 0.7242639292817322, 0.8709751834983495, 0.12442502621404992, 0.9478631020731624, 0.5278476990436483, 0.5278476990436483, 0.5946206189087406, 0.9337651766317953, 0.8471369184447896, 0.751889929980587, 0.9207307984122223, 0.9878936884169731, 0.8335548956848451, 0.7739620976268918, 0.9042419255284371, 0.07535349379403643, 0.8090623801846857, 0.16181247603693713, 0.8497370457703035, 0.9863975833041785, 0.4184269506549254, 0.4184269506549254, 0.8684837401006376, 0.28949458003354583, 0.794448275399504, 0.7810688244884849, 1.01003218389762, 0.9078581296497433, 0.07565484413747861, 0.8833865281390589, 0.06309903772421849, 0.9439336144436731, 0.9022600213858223, 0.9335603388923359, 0.13336576269890513, 0.9067159355541827, 0.877567384848974, 0.1755134769697948, 0.587718034118722, 0.817749402287198, 0.5316512175226555, 0.8805335632467619, 0.07337779693723016, 0.862781134004031, 0.1437968556673385, 0.8332218373758237, 0.1190316910536891, 1.043263515155476, 0.9146941858819817, 0.3048980619606606, 0.9118505950780713, 0.18237011901561426, 0.9108834102832226, 0.8967223286658867, 0.0815202116968988, 0.7824782623610981, 0.87749991769215, 0.14624998628202499, 0.9467773251242797, 0.9032354180301708, 0.10035949089224121, 0.8764202219508964, 0.12520288885012806, 0.8752440923629287, 0.07293700769691072, 0.849495607086436, 0.1698991214172872, 0.9608137744693745, 0.731132700243326, 0.365566350121663, 0.975767033138792, 0.9121647955780449, 0.11402059944725561, 0.8933919440229132, 0.17867838880458264, 0.9043034350820843, 0.8589561327214534, 0.8310550975797016, 0.98266890828388, 0.7465640386476478, 0.24885467954921595, 0.9313919869568865, 0.92771710374728, 0.13253101482104, 0.9356417106997301, 0.7790899516874283, 0.9537483377570898, 0.9442915841152882, 0.9594005959781583, 0.9423016474387205, 1.0060524173699437, 0.7720911308642278, 0.8359141672329017, 0.9217899376901358, 0.07681582814084464, 0.7665998064377589, 0.9395641265255863, 0.7451356395963734, 0.7457193047510742, 0.7594255689032364, 0.8516227170730584, 0.2838742390243528, 0.8784921670778671, 0.8433927263211364, 0.9407182821702291, 0.8189489407839127, 0.20473723519597817, 0.8784913360436186, 0.14641522267393645, 0.8847145175824268, 0.8154126785621131, 0.40770633928105654, 0.7459121148290653, 0.8647966930692199, 0.14413278217820333, 0.5423511593484, 0.9156501663882874, 0.22891254159707186, 0.952904629982286], \"Term\": [\"\\uac15\\ub355\", \"\\uac70\\ud3ec\", \"\\uaca9\\ub9ac\", \"\\uacbd\\uae30\", \"\\uacbd\\uae30\", \"\\uace0\\uac00\", \"\\uace0\\uac00\", \"\\uace0\\uc9d1\", \"\\uacf5\\ud5cc\", \"\\uad6c\\ub2e8\", \"\\uad6c\\ub2e8\", \"\\uad6c\\uc7a5\", \"\\uad6c\\uc7a5\", \"\\uae08\\uc9c0\", \"\\uae08\\uc9c0\", \"\\uae30\\uc6b4\", \"\\uae30\\uc790\", \"\\uae30\\uc790\", \"\\uae40\\uacbd\\uc724\", \"\\ub0a8\\uace0\", \"\\ub0a8\\uace0\", \"\\ub0a8\\uc9c1\", \"\\ub0b4\\uc57c\\uc218\", \"\\ub2e4\\uc591\", \"\\ub2ec\\ub7ec\", \"\\ub300\\ud654\", \"\\ub3c4\\uc6c0\", \"\\ub3c4\\ud551\", \"\\ub808\\uc778\\uc800\\uc2a4\", \"\\ub86f\\ub370\", \"\\ub86f\\ub370\", \"\\ub9ac\\uadf8\", \"\\ub9ac\\uadf8\", \"\\ub9cc\\ub098\", \"\\uba54\\uc774\\uc800\", \"\\ubaa8\\uad50\", \"\\ubaa8\\uad50\", \"\\ubb34\\ub2e8\", \"\\ubb34\\ub2e8\", \"\\ubbf8\\uad6d\", \"\\ubc1c\\ud45c\", \"\\ubc29\\ubb38\", \"\\ubc88\\ud638\", \"\\ubc88\\ud638\", \"\\ubd80\\uc0b0\", \"\\ubd80\\uc0b0\", \"\\ubd80\\uc871\", \"\\uc0ac\\ub78c\", \"\\uc0ac\\uc9c1\", \"\\uc0ac\\uc9c1\", \"\\uc0ac\\ud68c\", \"\\uc0c1\\uacac\\ub840\", \"\\uc0c1\\uacac\\ub840\", \"\\uc0dd\\uac01\", \"\\uc0dd\\ud65c\", \"\\uc11c\\uc6b8\", \"\\uc120\\ubb3c\", \"\\uc120\\ubb3c\", \"\\uc120\\uc218\", \"\\uc120\\uc218\", \"\\uc120\\uc218\\ub2e8\", \"\\uc120\\uc218\\ub2e8\", \"\\uc190\\ubaa9\\uc2dc\\uacc4\", \"\\uc1a1\\uace0\", \"\\uc1a1\\uace0\", \"\\uc1a1\\uc2b9\\uc900\", \"\\uc1a1\\uc2b9\\uc900\", \"\\uc2a4\\ud504\\ub9c1\", \"\\uc2dc\\uacc4\", \"\\uc2dc\\uacc4\", \"\\uc2dc\\uc808\", \"\\uc57c\\uad6c\", \"\\uc57c\\uad6c\", \"\\uc57d\\ubb3c\", \"\\uc591\\ubcf4\", \"\\uc591\\ubcf4\", \"\\uc5f0\\uc2b5\", \"\\uc5f0\\uc2b5\", \"\\uc5f0\\ud569\\ub274\\uc2a4\", \"\\uc5f0\\ud569\\ub274\\uc2a4\", \"\\uc624\\ud6c4\", \"\\uc624\\ud6c4\", \"\\uc67c\\ucabd\", \"\\uc6a9\\ud488\", \"\\uc6a9\\ud488\", \"\\uc774\\ubc88\", \"\\uc774\\ud0dc\\uc591\", \"\\uc774\\ud0dc\\uc591\", \"\\uc774\\ud6c4\", \"\\uc774\\ud6c4\", \"\\uc778\\uc0ac\", \"\\uc77c\\uc740\", \"\\uc785\\uc7a5\", \"\\uc790\\uc2e0\", \"\\uc790\\uc774\\uc5b8\\uce20\", \"\\uc790\\uc774\\uc5b8\\uce20\", \"\\uc7ac\\ud310\\ub9e4\", \"\\uc804\\ub2ec\", \"\\uc804\\ub2ec\", \"\\uc81c\\uacf5\", \"\\uc81c\\ud488\", \"\\uc870\\uae08\", \"\\uc870\\uc5b8\", \"\\uc911\\uc694\", \"\\uc99d\\uc815\", \"\\uc9c4\\ucd9c\", \"\\ucc29\\uc6a9\", \"\\ucd08\\ub4f1\", \"\\ucd94\\uc2e0\\uc218\", \"\\ucd94\\uc2e0\\uc218\", \"\\uce5c\\uc120\\ub300\\uc0ac\", \"\\ucea0\\ud504\", \"\\ud14d\\uc0ac\\uc2a4\", \"\\ud2b9\\ubcc4\", \"\\ud310\\ub9e4\", \"\\ud398\\uc774\\uc9c0\", \"\\ud398\\uc774\\uc9c0\", \"\\ud3c9\\uc815\", \"\\ud45c\\uc815\", \"\\ud45c\\ud604\", \"\\ud504\\ub85c\", \"\\ud504\\ub85c\", \"\\ud504\\ub85c\\uc57c\\uad6c\", \"\\ud504\\ub85c\\uc57c\\uad6c\", \"\\ud55c\\uad6d\", \"\\ud55c\\ub3d9\\ud76c\", \"\\ud55c\\ub3d9\\ud76c\", \"\\ud55c\\ud3b8\", \"\\ud574\\ub2f9\", \"\\ud574\\ub2f9\", \"\\ud65c\\ub3d9\", \"\\ud6c4\\ubc30\", \"\\ud6c4\\ubc30\", \"\\ud734\\uc2dd\"]}, \"R\": 30, \"lambda.step\": 0.01, \"plot.opts\": {\"xlab\": \"PC1\", \"ylab\": \"PC2\"}, \"topic.order\": [1, 2, 3]};\n\nfunction LDAvis_load_lib(url, callback){\n  var s = document.createElement('script');\n  s.src = url;\n  s.async = true;\n  s.onreadystatechange = s.onload = callback;\n  s.onerror = function(){console.warn(\"failed to load library \" + url);};\n  document.getElementsByTagName(\"head\")[0].appendChild(s);\n}\n\nif(typeof(LDAvis) !== \"undefined\"){\n   // already loaded: just create the visualization\n   !function(LDAvis){\n       new LDAvis(\"#\" + \"ldavis_el975551463081606314800812\", ldavis_el975551463081606314800812_data);\n   }(LDAvis);\n}else if(typeof define === \"function\" && define.amd){\n   // require.js is available: use it to load d3/LDAvis\n   require.config({paths: {d3: \"https://d3js.org/d3.v5\"}});\n   require([\"d3\"], function(d3){\n      window.d3 = d3;\n      LDAvis_load_lib(\"https://cdn.jsdelivr.net/gh/bmabey/pyLDAvis@3.2.2/pyLDAvis/js/ldavis.v3.0.0.js\", function(){\n        new LDAvis(\"#\" + \"ldavis_el975551463081606314800812\", ldavis_el975551463081606314800812_data);\n      });\n    });\n}else{\n    // require.js not available: dynamically load d3 & LDAvis\n    LDAvis_load_lib(\"https://d3js.org/d3.v5.js\", function(){\n         LDAvis_load_lib(\"https://cdn.jsdelivr.net/gh/bmabey/pyLDAvis@3.2.2/pyLDAvis/js/ldavis.v3.0.0.js\", function(){\n                 new LDAvis(\"#\" + \"ldavis_el975551463081606314800812\", ldavis_el975551463081606314800812_data);\n            })\n         });\n}\n</script>"
     },
     "metadata": {},
     "execution_count": 30
    }
   ],
   "source": [
    "# pyLDAvis 불러오기\n",
    "import pyLDAvis\n",
    "import pyLDAvis.gensim\n",
    "\n",
    "# pyLDAvis를 jupyter notebook에서 실행할 수 있게 활성화.\n",
    "pyLDAvis.enable_notebook()\n",
    "\n",
    "# pyLDAvis 실행.\n",
    "data = pyLDAvis.gensim.prepare(model, corpus, dictionary)\n",
    "data"
   ]
  },
  {
   "cell_type": "code",
   "execution_count": null,
   "metadata": {},
   "outputs": [],
   "source": []
  }
 ],
 "metadata": {
  "colab": {
   "collapsed_sections": [],
   "name": "10.3 오픈 API 활용(colab).ipynb",
   "provenance": []
  },
  "kernelspec": {
   "display_name": "Python 3",
   "language": "python",
   "name": "python3"
  },
  "language_info": {
   "codemirror_mode": {
    "name": "ipython",
    "version": 3
   },
   "file_extension": ".py",
   "mimetype": "text/x-python",
   "name": "python",
   "nbconvert_exporter": "python",
   "pygments_lexer": "ipython3",
   "version": "3.8.8-final"
  }
 },
 "nbformat": 4,
 "nbformat_minor": 1
}