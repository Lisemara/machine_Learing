{
 "cells": [
  {
   "cell_type": "markdown",
   "metadata": {},
   "source": [
    "## 웹 크롤링 실습"
   ]
  },
  {
   "cell_type": "markdown",
   "metadata": {},
   "source": [
    "- 1) urllib.request 모듈 사용\n",
    "- 2) Beautiful Soup 사용\n",
    "- 3) 셀레니움을 이용"
   ]
  },
  {
   "cell_type": "markdown",
   "metadata": {},
   "source": [
    "### 1) urllib.request 모듈을 이용한 웹스크래핑"
   ]
  },
  {
   "cell_type": "markdown",
   "metadata": {},
   "source": [
    "### 예제1) 네이버 금융 사이트에서 관심종목 주식 검색"
   ]
  },
  {
   "cell_type": "markdown",
   "metadata": {},
   "source": [
    "#### 관심 종목 주식 코드 확인 : (예) 삼성전자 - 005930"
   ]
  },
  {
   "cell_type": "code",
   "execution_count": 1,
   "metadata": {},
   "outputs": [
    {
     "output_type": "stream",
     "name": "stdout",
     "text": [
      "2021년 03월 15일 14시 27분 기준 장중\n종목명 삼성전자\n종목코드 005930 코스피\n현재가 82,100 전일대비 하락 700 마이너스 0.85 퍼센트\n전일가 82,800\n시가 82,800\n고가 82,900\n상한가 107,500\n저가 82,000\n하한가 58,000\n거래량 10,281,867\n거래대금 845,672백만\n"
     ]
    }
   ],
   "source": [
    "# 네이버 주식 검색\n",
    "import urllib.request\n",
    "import re\n",
    "\n",
    "url = \"https://finance.naver.com/item/main.nhn?code=005930\"\n",
    "\n",
    "html = urllib.request.urlopen(url)\n",
    "html_contents = str(html.read().decode(\"ms949\"))\n",
    "\n",
    "# 첫번째 패턴\n",
    "stock_results = re.findall(\"(\\<dl class=\\\"blind\\\"\\>)([\\s\\S]+?)(\\<\\/dl\\>)\", html_contents)\n",
    "#print(stock_results)\n",
    "samsung_stock = stock_results[0]\n",
    "samsung_index = samsung_stock[1]\n",
    "# print(samsung_index)\n",
    "\n",
    "# 주식정보만 추출\n",
    "index_list = re.findall(\"(\\<dd\\>)([\\s\\S]+?)(\\<\\/dd\\>)\", samsung_index)\n",
    "\n",
    "for index in index_list :\n",
    "    print(index[1])\n"
   ]
  },
  {
   "cell_type": "markdown",
   "metadata": {},
   "source": [
    "### 2) Beautiful Soup을 이용한 웹 스크래핑\n",
    "- Beautiful Soup : HTML과 XML 파일로부터 데이터를 추출하기 위한 라이브러리\n",
    "- Beautiful Soup 설치 : pip install bs4"
   ]
  },
  {
   "cell_type": "markdown",
   "metadata": {},
   "source": [
    "### CSS 선택자 사용하기\n",
    "- 1) soup.select(\"선택자\") : CSS 선택자로 요소 여러 개를 리스트로 추출\n",
    "- 2) soup.select_one(\"선택자\") : CSS 선택자로소 요소 하나를 추출"
   ]
  },
  {
   "cell_type": "markdown",
   "metadata": {},
   "source": [
    "### 예제 1)  네이버 금융에서 원/달러 환율 정보 추출하기 "
   ]
  },
  {
   "cell_type": "code",
   "execution_count": 5,
   "metadata": {},
   "outputs": [
    {
     "output_type": "stream",
     "name": "stdout",
     "text": [
      "['1,136.90', '1,357.00', '1,041.07', '174.56', '1,719.50', '65.61']\n"
     ]
    }
   ],
   "source": [
    "from bs4 import BeautifulSoup\n",
    "import urllib.request as req\n",
    "\n",
    "url = \"https://m.stock.naver.com/marketindex/index.nhn\"\n",
    "\n",
    "# urlopen()으로 데이타 가져오기\n",
    "res = req.urlopen(url)\n",
    "res = res.read()\n",
    "\n",
    "# BeautifulSoup으로 분석하기\n",
    "soup = BeautifulSoup(res, \"html.parser\")\n",
    "\n",
    "# 검사 -> copy -> copy selector\n",
    "#content > div.ct_wrp > div.ct_box.intnl_major_item > ul > li:nth-child(1) > a > div.price_wrp > span\n",
    "# li 콜론 뒤에 삭제해서 수정하기\n",
    "\n",
    "# 전체 환율 데이타 추출하기\n",
    "prices = soup.select(\"#content > div > div.ct_box.intnl_major_item > ul > li > a > div.price_wrp > span\")\n",
    "# print(prices)\n",
    "\n",
    "price_lis = []\n",
    "for price in prices :\n",
    "    price_lis.append(price.string)\n",
    "\n",
    "print(price_lis)\n",
    "    \n",
    "# # 원/달러 환율 데이타 추출하기\n",
    "# print(\"usd/krw =\", price_lis[0])\n",
    "\n",
    "# # 엔/달러 환율 데이타 추출하기\n",
    "# print(\"jpy/krw =\", price_lis[2])\n"
   ]
  },
  {
   "cell_type": "markdown",
   "metadata": {},
   "source": [
    "### 예제 2) 네이버 실시간 영화 랭킹"
   ]
  },
  {
   "cell_type": "code",
   "execution_count": 3,
   "metadata": {},
   "outputs": [
    {
     "output_type": "stream",
     "name": "stdout",
     "text": [
      "1 미나리\n2 극장판 귀멸의 칼날: 무한열차편\n3 라야와 마지막 드래곤\n4 미션 파서블\n5 리스타트\n6 소울\n7 반지의 제왕: 반지 원정대\n8 중경삼림\n9 카오스 워킹\n10 아이 씨 유\n11 톰과 제리\n12 암모나이트\n13 퍼펙트 케어\n14 웨이 다운\n15 더 레이서\n16 포제서\n17 고질라 VS. 콩\n18 허트 로커\n19 모리타니안\n20 쁘떼뜨\n21 아홉수 로맨스\n22 유어 아이즈 텔\n23 아이\n24 마리오네트\n25 새해전야\n26 낙원의 밤\n27 인싸\n28 파이터\n29 금홍아 금홍아\n30 아수라도\n31 그녀가 사라졌다\n32 반지의 제왕: 왕의 귀환\n33 스파이의 아내\n34 고백\n35 라스트 레터\n36 태극기 휘날리며\n37 승리호\n38 반지의 제왕: 두 개의 탑\n39 모탈 컴뱃\n40 파란 대문\n41 정말 먼 곳\n42 러빙 빈센트\n43 더블패티\n44 해피 투게더\n45 그린 북\n46 아무도 없는 곳\n47 자산어보\n48 몬스터 헌터\n49 세자매\n50 인천스텔라\n"
     ]
    }
   ],
   "source": [
    "from bs4 import BeautifulSoup\n",
    "import requests\n",
    "\n",
    "# 네이버 영화 랭킹 사이트\n",
    "url = \"https://movie.naver.com/movie/sdb/rank/rmovie.nhn\"\n",
    "response = requests.get(url)\n",
    "source = response.text\n",
    "\n",
    "soup = BeautifulSoup(source, \"html.parser\")\n",
    "\n",
    "# 네이버 영화 랭킹 \n",
    "#old_content > table > tbody > tr:nth-child(2) > td.title > div > a\n",
    "movieList = soup.select(\"#old_content > table > tbody > tr > td.title > div > a\")\n",
    "\n",
    "for rank, data in enumerate(movieList, start=1):\n",
    "    print(rank, data.text)"
   ]
  },
  {
   "cell_type": "markdown",
   "metadata": {},
   "source": [
    "### 3) 셀레니움을 이용한 웹 스크래핑\n",
    "- 셀레니움(selenium)\n",
    "   - 웹 애플리케이션을 위한 테스팅 프레임워크, 자동화 테스트를 위해 여러 가지 기능을 지원 \n",
    "   - webdriver의 API를 통해 브라우저를 제어하기 때문에 자바스크립트에 의해 동적으로 생성되는 사이트의 데이터를 크롤링할 때 매우 유용하게 사용되는 스크래핑 도구\n",
    "- 크롬 드라이브 다운로드 : 버전 83.0.4103.61(공식 빌드) (64비트)\n",
    "   - https://chromedriver.chromium.org/ https://sites.google.com/a/chromium.org/chromedriver/downloads\n",
    "- pip install selenium"
   ]
  },
  {
   "cell_type": "markdown",
   "metadata": {},
   "source": [
    "### 예제 1) 구글 검색"
   ]
  },
  {
   "cell_type": "code",
   "execution_count": 6,
   "metadata": {},
   "outputs": [],
   "source": [
    "from selenium import webdriver\n",
    "import time\n",
    "\n",
    "# 드라이브 지정\n",
    "path = \"./chromedriver\"\n",
    "driver = webdriver.Chrome(path)\n",
    "\n",
    "# 구글 사이트 검색\n",
    "driver.get(\"http://www.google.com\")\n",
    "time.sleep(5)\n",
    "\n",
    "search_box = driver.find_element_by_name('q')\n",
    "search_box.send_keys(\"파이썬\")\n",
    "search_box.submit()\n",
    "time.sleep(10)\n",
    "\n",
    "driver.close()"
   ]
  },
  {
   "cell_type": "markdown",
   "metadata": {},
   "source": [
    "## 안티 크롤링 회피 방법\n",
    "- requests 모듈의 requests.get() 함수 안에 headers={‘User-Agent’:’Mozilla 5.0…’}이라는 \n",
    "- 웹브라우저에 대한 정보를 헤더 값을 추가한 headers 를 이용하여 서버에 데이터를 요청하면 \n",
    "- 마치 웹브라우저를 통해 데이터를 요청하는 것으로 보이게 하여 간단히 안티 크롤링을 회피할 수 있다."
   ]
  },
  {
   "cell_type": "code",
   "execution_count": 9,
   "metadata": {
    "tags": [
     "outputPrepend"
    ]
   },
   "outputs": [
    {
     "output_type": "stream",
     "name": "stdout",
     "text": [
      "CJ69/hjGDOMpo7qDqTLk0aVdgmcrmxg6g7nvhjsjb+srgMtHhB7xCXqVb0s0DR5hJw6ltBduo8ktQO3cdHrXTYi0wM/WvC1khL9sZrnj8eZa2IiYiYVhbwJJaERSmbS6Dppbkmqb5HCFy/v7UbMqyE4Rb7InVZEo0izCbp1m7dN31xLb5wwrbbCQpaFOE/Q1gg/Iyhg+wdNxFdpZxhFi9olynHUjwmPLDkVVURtleieWRsYx15WVcO+BigeXRbVdz9eKWgQWbr6Y/m+fRqTGfNPeX2huHVEXbWbSg7YBurTIsffX2hcO/uLgWXbDgUuhtpHPgfdtSfec9PTTdTKV/60ij1TiVO9AUrqQ/FlZYpl5pRLrLts8bFPS83khx+0e7B9o90O6Bdg+0e6DdA/9XHvgvMc/4R1gfN40AAAAASUVORK5CYII=\" width=\"30\"/></div> <div class=\"dsc_area\"> <strong class=\"elss tit\">코로나19</strong> <p class=\"elss dsc\">확진현황 및 백신·접종 정보</p> </div> </a> <a class=\"spnew_bf item\" href=\"?where=nexearch&amp;query=%EC%BD%94%EB%A1%9C%EB%82%9819+%EC%84%A0%EB%B3%84%EC%A7%84%EB%A3%8C%EC%86%8C&amp;sm=tab_etc\" onclick=\"return goOtherCR(this, 'a=bnr.link&amp;r=2&amp;i=&amp;u='+urlencode(this.href));\"> <div class=\"ico_area\"><img alt=\"\" class=\"ico\" height=\"30\" src=\"data:image/png;base64,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\" width=\"30\"/></div> <div class=\"dsc_area\"> <strong class=\"elss tit\">선별 진료소</strong> <p class=\"elss dsc\">내주변 진료소 찾기</p> </div> </a> <a class=\"spnew_bf item\" href=\"https://news.naver.com/main/factcheck/main.nhn?section=%C4%DA%B7%CE%B3%AA%B9%E9%BD%C5\" onclick=\"return goOtherCR(this, 'a=bnr.link&amp;r=3&amp;i=&amp;u='+urlencode(this.href));\" target=\"_blank\"> <div class=\"ico_area\"><img alt=\"\" class=\"ico\" height=\"30\" src=\"data:image/png;base64,iVBORw0KGgoAAAANSUhEUgAAADwAAAA8CAYAAAA6/NlyAAAAAXNSR0IArs4c6QAAAERlWElmTU0AKgAAAAgAAYdpAAQAAAABAAAAGgAAAAAAA6ABAAMAAAABAAEAAKACAAQAAAABAAAAPKADAAQAAAABAAAAPAAAAACL3+lcAAAMWElEQVRoBe1afXBU1RU/b99uvjGKIVgClWYERQqoY2eq41fRmdrpjFURP7CthYwjrV8QWUGnINQqppQR0Kq1IgpGq1isdTKgItUhCFYqAlXwK2JBEhEKmA1Ikn2353fOu7tvs0l2k0j7z15973f2vHvPPb9zzr3vIxDlWi4CuQjkIpCLQC4CuQj8vyLgHM2JjTHOsuhDkw6ECq9rcfKGtDiR0kNOXvFBpyjy2H9qY+RQIxmzmxxnN5FpIHLr6KElbzmOY46WX0eF8JPTHop+4ZRMbHD7D28OFbqG0v1ftncJ83SYrxEEQcihUKjJM+ZvjMudh5eu/qaJf6OEl059oGpbZOD8HW7/UjjaGSGre2ofEwZJ9EPnzppDa50Q3e48XLuhs8u90XU5V0+MPR1ddP5HVFa7PTywIkjAyun5JarduzjrKThIKxzXRJ2Hn+ay71sL9W040ZJbH4y+Fhq2Zps7sMIDMz6AOLhCEwgZzWLKDyi7OYznXW7aaaO5fsJFMq4Ppz4RfnDqI8tXFYyoaXbyQp444ZBFFKqSU1Q+VubCMh5fB1FFkdmGRTGnBiQYTPo4z/NWmeuvubkPfKnXhGuqn3jnjbxhV2DLUTLIJm9PklWjMpMWHcgHZNFxCUBrfFTZ83UcBA+hw3VFyNxcJr0oXnXNgt6S7hXhhVMeXf52+NunKzlJgBDlu1AAdXuAzjb0RxPkk2ZYMSj7RpQjOmMcAOQF47fGJ13Vq0z3mPDiWxdF1+WdNE4c53xY1HzBH+RK/CKPswcZqDJnXHQ6zt5tgSIzOYsgbbjcLYoMu9ChGXO/mXRlj9d0jwgvvXnR+a/nDb+vnf1iv+FLyqYkyfD1kInvKRaDsug6WcMIDzJt/0O0ION/PTTDnGru57lxzzxnJk2oBP9sW48Ibw/1r22h/BAczuaQbHLfTjMsNnCCLSWK7ELuOuNMS/oK4Mdxca91XrZk0S9rwotvWlD1fqSiwpaklK74a9ctT49ytrqgLETgJIhZVCV0vhIEVNZ0shrlizGSUQ6EykCRUWaeudz84qrvg0w2LWvC/3Ir5ovDQkQzogRZlnWbXM92YujR7PUg2pVuUYiBAAhincua4V8+shpXcBK0swLjXlvWWc6K8B9vXBT9JFxWqg5jQrhpXbWI0hV/BEXmTFiUYOE6suQjNgDJMEjhYKsJhCzNIi77MlDsJPCctp+Py2oDy4pwo1M6UW454igTBIocQMzt+yQIOSUoNjCKKc4LsXRCqZN0MiFmlCDwTCY+3prpDsPdXcQ1zoDz0ykrh0smUKIygZYq5GFDjqFLzqugkZWldGy/PIodbqePdzbTK2810oate3mntmNSZ1J7CA0a44ByckaOIfP2eqKWmGgdCRjCZpcGywMGEo0cndJPOhNdwjYn83O3NeqrU8FN/Zn+a3BTWdW7eYMv1UdFtuW/0rmuQ9f+6Ds05ZpTqLKihIoLw+SGHCrMd6liQBGdd3o5DS4voi0fHaAjbfABTiePq2Pr5W0KQXNCLoXvuZ/ccy6g0NnnkvfPtxKkJRi+W86p3yX3rvvI/d5Z5AyqILN+bdJhQyXuC8+vmrN1266kMl3KWNJ7QgXXIamSWHbY4tQJI+iqi04UkulmVQPSc288TfpgXPDRE4Z0Q/LRN+IcP4DCv75HMh4saWcEk43OJCcvPzmdOqPOsdxu2n+cvNi5lJFwM+UPQX7kAHGWzx5VRhecUZ6w+OaWL6l6wSa6fHo9/apmI634+06596LD0G8V04SLh8o4wqMnlHjcVEHRxCn+yEIyrUdwlYT0zHuVNH6fOorc25Nkzb4vKb7sMenrZ0BkDmClKrs+ZyQcC+WXIpBy+BmePO6khMUXXt9Fdz/+Pm3b8RUdPhKnTxtb6E8vNtD82u2JPleMHSIln7Aj9nQTknstXzDvbab2mjmppGfNJefcsUx2ViKzINs25w4yTU1cAHjJQIXoywaHc1Bi0i6EjIS/cgqL7V0DG02/4ggdX6pldSDWSo+/1MDBQKnjzQiBUVy9cQ9t5vWLhrU99IQSTqz2A2I1w55FyOa9LemkfzklSXavknX2NCH0YtsifrCFvhPebwojdrMBoeKC5Ma+fUezbEiYOnV63Zy2fKyE4cwxJWEmmFzHIIibtEXI8vS09V2K3zc7kWmMRTMgO3sG0Rf83U+yyuMRJI2yyPwynpFw0nu1m3bWb1BWjQxZ2aJmFL8kWz7qVWhss2N9tIYscjchD7RD0lBJJtS2o8VguhOdUoWMJd2v/VAbgmgDGTscT1g45cR+FObbE3zu7Bh9knzLk/4HYm1qg3+pLR0kJP3BkB2+x4anz06UsZ3MKRtAkdk1ROUnSGDsOItwgOVG278rzEi4xBxusSWNFXcg1k57D+puigeNqksq2baWMPyGDBx7ZjmNGXaszMuvcfTJLjbDjStXmk2GRSiF7Iw55OTrHiFl/If5ZI74u7dP2mHSUk0IEI8Daf/g79vdt4yEi8zXB0EAh72PPrD8k4TVcT+ooLuqRtDJJ5ZQQX6Yb0NFdMNllTT9Zycn+jz76i5qPhSXzCIgkmE+yVuQjzRyFEXu+E2A7B5qnRUlb80r1DZ3VirpOTVk+MkMTulXEHWQ31szEs64hkviR3aaCA0V77Ebc0jXbtpHa3gXRhbRzj2tTA750eH06e4WeqLuMwmYPqVxB96lpSGKyBH/jtw4LY0sfdGk3Xgja7t3JkXuvFv6OGXlFJ44mdp5c2PWagOSYxoYum0ZM1xuYk+iDHHAtMW5Sz+kp1b9m1/NoO28rdn4JU1ZsIVa+RMJuokdHzk1atCib8Ls5czOnEbUhN0YfTSL3pZNQtqWtziDgGF6QS5vz6vr3JOk1g91UtFR4rXhXDp5Vdv+UHGnz92ncClfwWU9hjeo446JcOm20wefxajuzSaq37yPzWEKeIVmZYdebpyjKnvmdRkafRp5G9aRiX1ltSkod+/ygdzvDO5XTxRrTl53qCl/xauDMr08ZCQMi9MmPf7+P/KHjcDGoLcpJWBlIFrH66Ls4vSKEIYdGwR0tLLag1kkL7gCrE7NJsezD48W/PW1G1Tf9TljSWPoIO/AEr9qbPUI2k0MiAMOW4Sse6hiUE4Sg3WM85vYYNmfzD5UJB40uK/oZAyPk6E+Gme5NdMdZkW4+onqeZVtjQeVEMwhA0wEO5iPkDF/AkVWn3z/dXfmTrLssTvLwlYMkrOEZbQEQSwnyKYFgP/oVvDi6qz+0pgVYfadxrR+dps4yrLvpxCErO4kNzTZnHi/QYNsG/qhKWrO8UvDplcgJyxasjZiXaDrhW6XYVmcsiZcvSy6eFTrjs+DBHGPEueRaT/bCWQaGiBFGcfkLUqWeIdOYFDmTqoPIJNFMGSfYLRyiP+ymPfS6qz/nJo1YQRv5JGd1/YzX8syRbAhWITc8UB5ax8tfwTHljyyqB9jFO2HGYuYT4xblLn82xSCw0fI0H7y3Kj0zfLUI8K3PHPnGxfGts7gidh3ZBdxVoScdnAv0QE7HFAgWxZV9t+emAynGIMDCBn9FXlmfqh3riyoW93AmqxbjwjD6vRnquddeHjzX6Q0eXKLHQkFfFMfxSUEBQ2B4oZOFjs1wNeDetuXke/JUwvqXs9qo5I5/FOPCWPc3bU3jT/r0LZNQV/UdyYkHPzM+7LtxzmT60AIia8dfomqWq5C5OsaEKAcvANqJZiFBXVvPCCdenjqFWHMsfDp68/4Ycs7z/Oa831IX9MoZ1nDttyRMMjAABnrMzYqNNmwRGbjPmIkb1BxfsC4pWhl/RQ7pqfYa8KY6Ld/vmX8ZS3rpxebw+qWv2vLxgRZiFkEyeSR8sNeQMFLIEA8IIuO9jseXVy0cm2vMmsD0yfCMHLHs9F5P/n67bGjWz/9XPxOZBC+I/0WWZZrinoBvNABqP0s2rIBcshW8HfwMwteru/xmoWPwebvHkFV7+Waq+dVveMOnf9h3iD9Z0twlf/TT3bgpDJw7a7bWK9crRPgbXXwgrNRz59UokUr12V9n8W47pqdq7s+Pb52z/h50Z1u/4kfRAYP3++WJN+y7JM/47pd1VIB9gUEk8hLiDFNvFhf4i9HzxW8vKHPGe3o/FEhbCfhcnR+d+XvJzWFSq476BQOaQkVljIW73f7RdZ8PqOFX9j5C4X8s8PdXAUNDoXrCl+tP6r/9ND6lsNcBHIRyEUgF4FcBHIR+N9H4L9jsvRVdFwsCAAAAABJRU5ErkJggg==\" width=\"30\"/></div> <div class=\"dsc_area\"> <strong class=\"elss tit\">코로나19 팩트체크</strong> <p class=\"elss dsc\">백신 정보 팩트는?</p> </div> </a> <a class=\"spnew_bf item\" href=\"?where=nexearch&amp;query=%EC%BD%94%EB%A1%9C%EB%82%98%EB%B0%B1%EC%8B%A0+%EC%A0%91%EC%A2%85%EC%84%BC%ED%84%B0&amp;sm=tab_etc\" onclick=\"return goOtherCR(this, 'a=bnr.link&amp;r=4&amp;i=&amp;u='+urlencode(this.href));\"> <div class=\"ico_area\"><img alt=\"\" class=\"ico\" height=\"30\" src=\"data:image/png;base64,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\" width=\"30\"/></div> <div class=\"dsc_area\"> <strong class=\"elss tit\">코로나19 접종센터</strong> <p class=\"elss dsc\">내 주변 접종센터 찾기</p> </div> </a> </div> </div> </section> <script type=\"text/javascript\">var nx_cr_right_area_info=[{ n:\"bnr\",r:1 }];</script></div><div class=\"ly_dimmed\"></div> </div> </div><div id=\"footer\"> <div class=\"sub_pack_btm\"> <a class=\"top\" href=\"#\" onclick=\"window.scrollTo(0,0); document.querySelector('#wrap a').focus(); return false;\"><i class=\"spnew ico_top\">맨위로</i></a> </div> <div class=\"footer_group\"> <div class=\"footer_menu\"> <span class=\"inner\"><a class=\"link\" href=\"https://www.naver.com/more.html\" onclick=\"return goOtherCR(this, 'u='+urlencode(this.href)+'&amp;a=fot.sitemap&amp;r=&amp;i=');\" target=\"_blank\">전체서비스</a></span> <span class=\"inner\"><a class=\"link\" href=\"https://policy.naver.com/policy/service.html\" onclick=\"return goOtherCR(this, 'u='+urlencode(this.href)+'&amp;a=fot.policy&amp;r=&amp;i=');\" target=\"_blank\">이용약관</a></span> <span class=\"inner\"><a class=\"link\" href=\"https://policy.naver.com/policy/privacy.html\" onclick=\"return goOtherCR(this, 'u='+urlencode(this.href)+'&amp;a=fot.privacy&amp;r=&amp;i=');\" target=\"_blank\"><strong>개인정보처리방침</strong></a></span> <span class=\"inner\"><a class=\"link\" href=\"https://help.naver.com/support/alias/search/integration/integration_1.naver\" onclick=\"return goOtherCR(this, 'u='+urlencode(this.href)+'&amp;a=fot.help&amp;r=&amp;i=');\" target=\"_blank\">통합검색 고객센터</a></span> <span class=\"inner\"><a class=\"link\" href=\"https://www.navercorp.com/\" onclick=\"return goOtherCR(this, 'u='+urlencode(this.href)+'&amp;a=fot.nhn&amp;r=&amp;i=');\" target=\"_blank\"><i class=\"ico_footer_logo\">© NAVER Corp.</i></a></span> </div> </div> </div> <div class=\"layer_map\" id=\"bck_layer_map\" style=\"left:440px; top:284px; display:none\"> <div class=\"layer_bd\"> <iframe frameborder=\"0\" height=\"373\" marginheight=\"0\" marginwidth=\"0\" name=\"map\" scrolling=\"no\" title=\"약도 보기\" width=\"440\"></iframe> </div> <!--[if IE 6]><iframe title=\"약도 보기\" frameborder=\"0\" width=\"444\" height=\"377\" style=\"position:absolute; left:0; top:0; z-index:10\"></iframe><![endif]--> </div> <script type=\"text/javascript\"> /* [PR] 서비스에서 사용하는 클릭로그함수 설정 */ window.__atcmpCR = function(we, el, name, order, areaCode, rank) { var htAreaCode = __ghtAutoCompleteConfig[\"htAreaCode\"]; if (typeof htAreaCode[name] !== \"undefined\") { var areaCode = htAreaCode[name][0]; var rank = htAreaCode[name][1]; if (areaCode !== \"\") { tCR(\"a=\"+areaCode+\"&u=\"+urlencode(el.href)); /* clickcr(el, areaCode, rank, '', we); */ /* console.log(areaCode + rank); */ } } return false; }; /* [PR] 서비스별로 form submit 전에 처리해야하는 내용은 이곳에 작성해주세요. */ window.__atcmpSubmitBefore = function(elForm) { try { top.nx_form_submit(elForm); } catch (e) { try { nx_form_submit(elForm); } catch (e) {} } }; /* [PR] 각 서비스별 옵션 : 로그인여부는 pr에서 정의필요합니다. */ window.__ghtAutoCompleteConfig = { /* 자동완성 설정 (Top&Bottom) */ \"bLogin\" : false, /* 로그인 여부 */ \"sFromWhere\" : \"nx\", /* 검색 출처 (폼전송시 함께 전송) */ \"htApiUrl\" : { /* 자동완성 API 정보 */ \"sMyKeyword\" : 'https://s.search.naver.com/n/mykeyword/search', \"sAcKeyword\" : \"//ac.search.naver.com/nx/ac\", \"sAcAnsType\" : \"2\" /* 1 : 기존정답형만 lookup (탭검인 경우 1로 설정) */ }, \"ahtOption\": [ { \"sOrder\": \"asc\", /* 정렬방식 (asc/desc) */ \"sFormId\": \"nx_search_form\", /* 폼엘리먼트 ID */ \"sInputId\": \"nx_query\", /* 입력창 엘리먼트 ID */ \"sViewId\": \"nx_autoframe_top\", /* 자동완성 레이어 ID */ \"sViewToggleButtonId\": \"nautocomplete\" /* 레이어토글 버튼 ID */ } ], /* 서비스별 클릭영역코드 매핑정보 (sch.xxx: 검색창영역, sug.xxx: 자동완성 영역, sly.xxx: 최근 검색어 영역)*/ \"htAreaCode\": { \"expand\": ['sch.expand', '0'], /* 우측 역삼각형 펼침 */ \"close\": ['sch.close', '0'], /* 우측 역삼각형 접힘 */ \"ansdirect\": ['sug.ansdirect', ''], /* 정답형 바로가기 (엔터/클릭) */ \"sugoff\": ['sug.sugoff', ''], /* 자동완성 끄기 클릭 */ \"sugon\": ['sug.sugon', ''], /* 자동완성 켜기 클릭 */ \"plus.use\": ['sug.cxon', ''], /* 자동완성 플러스 사용 */ \"plus.unuse\": ['sug.cxoff', ''], /* 자동완성 플러스 사용안함 */ \"saveoff\": ['sug.saveoff', ''], /* 검색어저장 끄기 클릭 */ \"saveon\": ['sug.saveon', ''], /* 검색어저장 켜기 클릭 */ \"rx\": ['sly.rx', ''], /* 최근검색어 개별삭제 클릭 */ \"ralldel\": ['sly.ralldel', ''], /* 최근검색어 전체삭제 클릭 */ \"kwd.expand\": ['sug.plus', ''] /* ↖︎ 버튼 클릭 */ }, /* 서비스별 SM파라미터 매핑정보 * sm파라미터 추가시 https://oss.navercorp.com/sau-pc/naver_autocomplete/issues/19 확인 필요 */ \"htSmParam\" : { \"hty\" : 'tab_hty.top', /* sm 파라미터 초기값 */ \"htyb\" : 'tab_hty.btm', /* sm 파라미터 초기값(검색창 하단) */ \"hst\" : 'tab_sly.hst', /* 최근검색키워드 */ \"prefix\" : 'tab_sug', /* sm 파라미터 서비스별 prefix */ \"top\" : 'tab_sug.top', /* 자동완성키워드 */ \"btm\" : 'tab_sug.btm', /* 자동완성키워드 (역순) */ \"pat\" : 'tab_sug.pat', /* 자동완성키워드 (부분자동완성) */ \"mbk\" : 'tab_sug.mbk', /* 자동완성키워드 (오타교정자동완성) */ \"nlq\" : 'tab_sug.nlq', /* 자연어검색 */ \"asgl\" : 'tab_sug.asgl', /* 1국가번호 (한국 국가번호) */ \"asga\" : 'tab_sug.asga', /* 1국가번호 다른중복지역 */ \"aslt\" : 'tab_sug.aslt', /* 3로또당첨번호 */ \"aspl\" : 'tab_sug.aspl', /* 6연금복권당첨번호 */ \"astm\" : 'tab_sug.astm', /* 7영업시간 (신한은행 영업시간) */ \"ast\" : 'tab_sug.ast', /* 8전화번호 (국세청 전화번호) */ \"ase\" : 'tab_sug.ase', /* 9환율 (엔화환율) */ \"aswt\" : 'tab_sug.aswt', /* 10해외날씨 (일본날씨) */ \"asiw\" : \"tab_sug.asiw\", /* 11국내날씨 (서울날씨) */ \"asis\" : 'tab_sug.asis', /* 12올림픽순위 */ \"extension\" : 'tab_sug.search', /* 검색기반 자동완성 */ \"asct\" : \"tab_sug.asct\" /* 문맥검색키워드 */ } }; </script> <script type=\"text/javascript\"> /* 자동완성 객체 생성 (Top) */ new naver.common.atcmp.naver_web.Controller(__ghtAutoCompleteConfig).attach({ \"onOpen\": function(){ jQuery(\"#header_wrap .search_area\").addClass(\"type_write\"); }, \"onClose\": function(){ jQuery(\"#header_wrap .search_area\").removeClass(\"type_write\"); }, \"onSelect\": function(oCustomEvent) { __atcmpSubmitBefore(oCustomEvent.elForm); }, \"onClickLog\": function(oCustomEvent) { __atcmpCR(oCustomEvent.event, oCustomEvent.element, oCustomEvent.name, oCustomEvent.order, \"\", \"\"); } }); </script> </div> <script type=\"text/javascript\"> (function() { var needFix = navigator.userAgent.toLowerCase().indexOf('webkit') > -1; d = document; if (!needFix || !d.querySelectorAll) return; var toArray = function(list){ var armap=[]; i=0; for(;i<list.length;++i){ armap.push(list[i]); } return Array.prototype.slice.call(armap, 0); } ; window.addEventListener('load', function() { toArray(d.querySelectorAll('#u_skip a')).forEach(function(el) { el.addEventListener('click', function() { var target = d.getElementById(this.href.split('#')[1]); oldTabIndex = target.getAttribute('tabindex'); oldOutlineWidth = d.defaultView.getComputedStyle(target, null).getPropertyValue('outline-width'); target.setAttribute('tabindex', 0); target.style.outlineWidth = 0; target.focus(); if (oldTabIndex === null) target.removeAttribute('tabindex'); else target.setAttribute('tabindex', oldTabIndex); }, false); }); }, false); })(); </script><script type=\"text/javascript\"> if(typeof nx_usain_beacon !== 'undefined') { nx_usain_beacon.add_tag(\"conn_._TLSv1.3_.\") ; $Fn(function () { nx_usain_beacon.send(); }).attach(window, \"load\") ; } </script></body> </html>\n"
     ]
    }
   ],
   "source": [
    "import requests\n",
    "from bs4 import BeautifulSoup\n",
    "\n",
    "# headers 정보 : F12버튼 - Network - Header - 'User-Agent'와 '값'을 딕셔너리 형태로 가져오기\n",
    "# headers = {'User-Agent':'Mozilla/5.0 (Windows NT 10.0; Win64; x64) AppleWebKit/537.36 (KHTML, like Gecko) Chrome/83.0.4103.116 Safari/537.36'}\n",
    "headers = {'User-Agent':'Mozilla/5.0 (Macintosh; Intel Mac OS X 11_2_3) AppleWebKit/537.36 (KHTML, like Gecko) Chrome/89.0.4389.82 Safari/537.36'}\n",
    "\n",
    "# requests.get() 의 옵션으로 headers 정보 추가\n",
    "res = requests.get('https://search.naver.com/search.naver?sm=top_hty&fbm=1&ie=utf8&query=코로나',\n",
    "                  headers=headers)\n",
    "\n",
    "html = BeautifulSoup(res.text, 'html.parser')\n",
    "print(html)"
   ]
  },
  {
   "cell_type": "code",
   "execution_count": null,
   "metadata": {},
   "outputs": [],
   "source": []
  }
 ],
 "metadata": {
  "kernelspec": {
   "display_name": "Python 3",
   "language": "python",
   "name": "python3"
  },
  "language_info": {
   "codemirror_mode": {
    "name": "ipython",
    "version": 3
   },
   "file_extension": ".py",
   "mimetype": "text/x-python",
   "name": "python",
   "nbconvert_exporter": "python",
   "pygments_lexer": "ipython3",
   "version": "3.8.8-final"
  }
 },
 "nbformat": 4,
 "nbformat_minor": 4
}