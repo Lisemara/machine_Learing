{
 "cells": [
  {
   "cell_type": "markdown",
   "metadata": {},
   "source": [
    "# Flask와 Rest API"
   ]
  },
  {
   "cell_type": "markdown",
   "metadata": {},
   "source": [
    "## 1. 정적 페이지 리턴하기\n",
    "* 복잡한 URI를 함수로 쉽게 연결하는 방법 제공\n",
    "- HTML 이용 : h1 ~ h6 는 HTML 헤드라인 태그"
   ]
  },
  {
   "cell_type": "code",
   "execution_count": null,
   "metadata": {},
   "outputs": [],
   "source": []
  },
  {
   "cell_type": "markdown",
   "metadata": {},
   "source": [
    "## 2. 복잡한 라우팅: 데이터 전달하기\n",
    "* URI를 변수로 사용\n",
    "  - 1) http://127.0.0.1:8000/ 접속\n",
    "  - 2) http://127.0.0.1:8000/profile/grace 접속\n",
    "        ```\n",
    "        @app.route(\"/profile/<username>\")\n",
    "        def get_profile(username):\n",
    "            return \"<h1>Profile: \" + username + \"!</h1>\"\n",
    "        ```  \n",
    "  - 3) http://127.0.0.1:8000/first/grace 접속\n",
    "        ``\n",
    "        @app.route(\"/first/<username>\")\n",
    "        def get_profile(username):\n",
    "            return \"<h1>First: \" + username + \"!</h1>\"\n",
    "        ```    "
   ]
  },
  {
   "cell_type": "code",
   "execution_count": null,
   "metadata": {},
   "outputs": [],
   "source": []
  },
  {
   "cell_type": "code",
   "execution_count": null,
   "metadata": {},
   "outputs": [],
   "source": []
  },
  {
   "cell_type": "markdown",
   "metadata": {},
   "source": [
    "## 3. 복잡한 라우팅: 데이터 전달하기 2\n",
    "* URI를 변수로 사용, 변수에 데이터 타입도 줄 수 있음\n",
    "  - 데이터 타입이 없으면 문자열로 인식\n",
    "  - int 이외에 float 도 데이터 타입으로 줄 수 있음\n",
    "  - http://127.0.0.1:8000/message/1 접속\n",
    "    ```\n",
    "    @app.route(\"/message/<int:message_id>\")\n",
    "    def get_message(message_id):\n",
    "        return \"message id: \" + message_id\n",
    "   ```"
   ]
  },
  {
   "cell_type": "code",
   "execution_count": null,
   "metadata": {},
   "outputs": [],
   "source": []
  },
  {
   "cell_type": "code",
   "execution_count": null,
   "metadata": {},
   "outputs": [],
   "source": []
  },
  {
   "cell_type": "markdown",
   "metadata": {},
   "source": [
    "## 4. Flask로 REST API 구현하기 \n",
    "\n",
    "### HTTP(Hypertext Transfer Protocol)\n",
    "- Server/Client 모델로 Request/Response 사용\n",
    "  - Client에서 요청(Request)을 보내면, Server에서 응답(Response)을 준다.\n",
    "\n",
    "### 프로토콜 (protocol): 컴퓨터간 통신을 하기 위한 규칙 "
   ]
  },
  {
   "cell_type": "markdown",
   "metadata": {},
   "source": [
    "<img src=\"./img/flask3.jpg\" width=800 align=left>"
   ]
  },
  {
   "cell_type": "markdown",
   "metadata": {},
   "source": [
    "### HTTP(Hypertext Transfer Protocol) Request/Response\n",
    "<img src=\"./img/flask4.jpg\" width= 700 align=left>"
   ]
  },
  {
   "cell_type": "markdown",
   "metadata": {},
   "source": [
    "### Request\n",
    "<img src=\"./img/request.jpg\" align=left width=600>"
   ]
  },
  {
   "cell_type": "markdown",
   "metadata": {},
   "source": [
    "- HTTP 메서드\n",
    "    - 클라이언트가 수행하고자 하는 동작을 정의한 GET, POST 같은 동사나 OPTIONS나 HEAD와 같은 명사\n",
    "    - GET : 클라이언트는 리소스를 가져오는 동작 \n",
    "    - POST : HTML 폼의 데이터를 전송 하려고 사용하는 동작\n",
    "- Path\n",
    "    - 가져오려는 리소스의 경로\n",
    "    - 예) 프로토콜 (http://), 도메인 (developer.mozilla.org), TCP 포트 (80)인 요소들을 제거한 리소스의 URL\n",
    "- Version of the protocol : HTTP 프로토콜의 버전\n",
    "- Headers\n",
    "    - 서버에 대한 추가 정보를 전달하는 선택적 헤더들\n",
    "    - POST와 같은 몇 가지 메서드를 위한 전송된 리소스를 포함하는 응답의 본문과 유사한 본문"
   ]
  },
  {
   "cell_type": "markdown",
   "metadata": {},
   "source": [
    "### Response\n",
    "<img src=\"./img/response.jpg\" width=600 align=left>"
   ]
  },
  {
   "cell_type": "markdown",
   "metadata": {},
   "source": [
    "- Version of the protocol : HTTP 프로토콜의 버전\n",
    "- Stautus Code : 요청의 성공 여부와, 그 이유를 나타내는 상태 코드\n",
    "- Status message : 아무런 영향력이 없는, 상태 코드의 짧은 설명을 나타내는 상태 메시지\n",
    "- Headers \n",
    "    - 요청 헤더와 비슷한, HTTP 헤더들\n",
    "    - 선택 사항으로, 가져온 리소스가 포함되는 본문"
   ]
  },
  {
   "cell_type": "markdown",
   "metadata": {},
   "source": [
    "### REST\n",
    "- REST(REpresentational State Transfer)\n",
    "  - 자원(resource)의 표현(representation)에 의한 상태 전달\n",
    "  - HTTP URI를 통해 자원을 명시하고, HTTP Method를 통해 자원에 대한 CRUD Operation 적용\n",
    "    - CRUD Operation와 HTTP Method\n",
    "      - Create: 생성 (POST)\n",
    "      - Read: 조회 (GET)\n",
    "      - Update: 수정 (PUT)\n",
    "      - Delete: 삭제 (DELETE)\n",
    "\n",
    "### REST API\n",
    "- REST 기반으로 서비스 API를 구현한 것\n",
    "- 마이크로 서비스, OpenAPI(누구나 사용하도록 공개된 API) 등에서 많이 사용됨"
   ]
  },
  {
   "cell_type": "markdown",
   "metadata": {},
   "source": [
    "### Flask 로 REST API 구현 방법\n",
    "- 특정한 URI를 요청하면 JSON 형식으로 데이터를 반환하도록 만들면 됨\n",
    "- 즉, 웹주소(URI) 요청에 대한 응답(Response)를 JSON 형식으로 작성\n",
    "- Flask에서는 dict(사전) 데이터를 응답 데이터로 만들고, 이를 jsonify() 메서드를 활용해서 JSON 응답 데이터로 만들 수 있음"
   ]
  },
  {
   "cell_type": "markdown",
   "metadata": {},
   "source": [
    "<img src=\"./img/flask5.jpg\" width=700 align=left>"
   ]
  },
  {
   "cell_type": "markdown",
   "metadata": {},
   "source": [
    "### Flask의 jsonify() 함수\n",
    "- 리턴 데이터를 JSON 포맷으로 제공"
   ]
  },
  {
   "cell_type": "markdown",
   "metadata": {},
   "source": [
    "### REST API 테스트\n",
    "\n",
    "### Talend API Tester 설치 \n",
    "- 크롬 브라우저 무료 확장 프로그램"
   ]
  },
  {
   "cell_type": "code",
   "execution_count": null,
   "metadata": {},
   "outputs": [],
   "source": []
  },
  {
   "cell_type": "markdown",
   "metadata": {},
   "source": [
    "## 5. REST API 구현"
   ]
  },
  {
   "cell_type": "markdown",
   "metadata": {},
   "source": [
    "#### data를 사전 데이터로 만들고, 이를 jsonify() 메서드에 넣어서 return "
   ]
  },
  {
   "cell_type": "code",
   "execution_count": null,
   "metadata": {},
   "outputs": [],
   "source": []
  }
 ],
 "metadata": {
  "kernelspec": {
   "display_name": "Python 3",
   "language": "python",
   "name": "python3"
  },
  "language_info": {
   "codemirror_mode": {
    "name": "ipython",
    "version": 3
   },
   "file_extension": ".py",
   "mimetype": "text/x-python",
   "name": "python",
   "nbconvert_exporter": "python",
   "pygments_lexer": "ipython3",
   "version": "3.7.10"
  }
 },
 "nbformat": 4,
 "nbformat_minor": 4
}
