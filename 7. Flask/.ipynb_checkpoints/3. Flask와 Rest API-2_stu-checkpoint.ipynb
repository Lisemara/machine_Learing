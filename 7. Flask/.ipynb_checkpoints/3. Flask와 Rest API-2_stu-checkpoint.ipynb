{
 "cells": [
  {
   "cell_type": "markdown",
   "metadata": {},
   "source": [
    "# Flask와 Rest API"
   ]
  },
  {
   "cell_type": "markdown",
   "metadata": {},
   "source": [
    "## 6. Flask와 크롤링 결과 연동"
   ]
  },
  {
   "cell_type": "markdown",
   "metadata": {},
   "source": [
    "### 네이버 OPEN API를 활용한 책 검색"
   ]
  },
  {
   "cell_type": "code",
   "execution_count": 31,
   "metadata": {},
   "outputs": [
    {
     "name": "stdout",
     "output_type": "stream",
     "text": [
      "['혼자 공부하는 파이썬 (파이썬 최신 버전 반영)<br>', 'Do it! 점프 투 파이썬<br>', '두근두근 파이썬 (쉽고! 재밌고! 흥미로운 코딩 맛!)<br>', '파이썬 for Beginner (쉽고 빠르게 익히는 프로그래밍의 기본 원리)<br>', '이것이 취업을 위한 코딩 테스트다 with 파이썬 (취업과 이직을 결정하는 알고리즘 인터뷰 완벽 가이드, C/C++, 자바 코드 제공)<br>']\n"
     ]
    }
   ],
   "source": [
    "import requests\n",
    "\n",
    "# 인증 정보\n",
    "client_id = \"\"\n",
    "client_secret = \"\n",
    "\n",
    "# 기본 url 정보\n",
    "url = \"https://openapi.naver.com/v1/search/book.json\"\n",
    "\n",
    "# 검색할 책 이름 입력\n",
    "q = \"파이썬\"\n",
    "# url 호출 시 전달할 요청 변수 정보\n",
    "params = {\"query\": q,      # 책이름\n",
    "          \"display\": 5,    # 검색할 건수\n",
    "          \"sort\": \"count\"} # 정렬순서\n",
    "\n",
    "# requests 라이브러리를 이용한 책 검색 api 호출\n",
    "# get 방식으로 호출(url)/ 요청 변수 전달(params)/ 인증 정보 및 인코딩 정보 전달(header)\n",
    "response = requests.get(url=url, params=params,\n",
    "                        headers={\"X-Naver-Client-Id\": client_id,\n",
    "                                 \"X-Naver-Client-Secret\": client_secret,\n",
    "                                 \"Content-Type\": \"application/json; charset=utf-8\"})\n",
    "\n",
    "# 호출 처리 상태 정보 recode 변수에 할당\n",
    "rescode = response.status_code\n",
    "\n",
    "if (rescode == 200):\n",
    "    # 호출 처리 상태가 정상(200) 일 경우리턴 받은 책 정보 저장\n",
    "    data = response.json()\n",
    "else:\n",
    "    print(\"Error Code:\", rescode)\n",
    "\n",
    "# Naver 책 검색 API 응답 중 실제 책 아이템 데이터 추출 및 출력\n",
    "\n",
    "\n",
    "\n",
    "\n",
    "# 검색한 도서를 리스트 형태로 저장하여 리턴하기\n",
    "\n",
    "\n",
    "\n"
   ]
  },
  {
   "cell_type": "markdown",
   "metadata": {},
   "source": [
    "### Flask와 네이버 책 검색 연동\n",
    "- 1) flask 구동 파이썬 파일\n",
    "- 2) index.html"
   ]
  },
  {
   "cell_type": "code",
   "execution_count": 30,
   "metadata": {},
   "outputs": [
    {
     "name": "stdout",
     "output_type": "stream",
     "text": [
      " * Serving Flask app \"__main__\" (lazy loading)\n",
      " * Environment: production\n",
      "   WARNING: This is a development server. Do not use it in a production deployment.\n",
      "   Use a production WSGI server instead.\n",
      " * Debug mode: off\n"
     ]
    },
    {
     "name": "stderr",
     "output_type": "stream",
     "text": [
      " * Running on http://127.0.0.1:8000/ (Press CTRL+C to quit)\n",
      "127.0.0.1 - - [15/Mar/2021 23:32:40] \"\u001b[37mGET / HTTP/1.1\u001b[0m\" 200 -\n",
      "127.0.0.1 - - [15/Mar/2021 23:32:44] \"\u001b[37mGET /api?q=파이썬 HTTP/1.1\u001b[0m\" 200 -\n"
     ]
    },
    {
     "name": "stdout",
     "output_type": "stream",
     "text": [
      "q= 파이썬\n"
     ]
    },
    {
     "name": "stderr",
     "output_type": "stream",
     "text": [
      "127.0.0.1 - - [15/Mar/2021 23:33:34] \"\u001b[37mGET /api?q=머신러닝 HTTP/1.1\u001b[0m\" 200 -\n"
     ]
    },
    {
     "name": "stdout",
     "output_type": "stream",
     "text": [
      "q= 머신러닝\n"
     ]
    }
   ],
   "source": [
    "from flask import Flask, request, jsonify\n",
    "import pprint\n",
    "import requests\n",
    "import json\n",
    "\n",
    "app = Flask(__name__)\n",
    "\n",
    "# 루트에 접근할 경우 \n",
    "@app.route('/', methods=['GET'])\n",
    "\n",
    "\n",
    "\n",
    "    \n",
    "@app.route('/api', methods=['GET', 'POST'])\n",
    "def search_book():\n",
    "    request_json = request.json\n",
    "    \n",
    "    # 검색할 책 이름을 index.html에서 받아오기\n",
    "    q = request.args.get('q', '')\n",
    "    if q == '':\n",
    "        return '{\"책 이름\": \"조회할 책 이름을 입력해주세요!!\"}'\n",
    "    print(\"q=\", q)   \n",
    "\n",
    "    # 네이버 OPEN API 인증 정보\n",
    "    client_id = \"\"\n",
    "    client_secret = \"\"\n",
    "\n",
    "    # 네이버 도서명 검색 url 정보\n",
    "    url = \"https://openapi.naver.com/v1/search/book.json\"\n",
    "\n",
    "    # url 호출 시 전달할 요청 변수 정보\n",
    "    params = {\"query\": q,      # 책이름\n",
    "              \"display\": 5,    # 조회 건수\n",
    "              \"sort\": \"count\"} # 정렬 순서\n",
    "\n",
    "    # requests 라이브러리를 이용한 책 검색 api 호출\n",
    "    # get 방식으로 호출(url)/ 요청 변수 전달(params)/ 인증 정보 및 인코딩 정보 전달(header)\n",
    "    response = requests.get(url=url, params=params,\n",
    "                            headers={\"X-Naver-Client-Id\": client_id,\n",
    "                                     \"X-Naver-Client-Secret\": client_secret,\n",
    "                                     \"Content-Type\": \"application/json; charset=utf-8\"})\n",
    "    # 호출 처리 상태 정보 recode 변수에 할당\n",
    "    rescode = response.status_code\n",
    "\n",
    "    if (rescode == 200):\n",
    "        # 호출 처리 상태가 정상(200) 일 경우리턴 받은 책 정보 저장\n",
    "        #print(response.json())\n",
    "        data = response.json()\n",
    "    else:\n",
    "        print(\"Error Code:\", rescode)\n",
    "\n",
    "    # Naver 책 검색 API 응답 중 실제 책 아이템 데이터 추출 및 출력\n",
    "\n",
    "    \n",
    "    \n",
    "\n",
    "    # 검색한 도서를 리스트 형태로 저장하여 리턴하기\n",
    "\n",
    "    \n",
    "    \n",
    "    \n",
    "    # 결과값 리턴하기\n",
    "\n",
    "    \n",
    "    \n",
    "\n",
    "if __name__ == \"__main__\":    \n",
    "    # 서버 실행하기\n",
    "    app.run(host=\"127.0.0.1\", port=\"8000\")\n"
   ]
  },
  {
   "cell_type": "markdown",
   "metadata": {},
   "source": [
    "### index.html"
   ]
  },
  {
   "cell_type": "code",
   "execution_count": null,
   "metadata": {},
   "outputs": [],
   "source": [
    "<DOCTYPE html>\n",
    "<html>\n",
    "<head>\n",
    "  <meta charset=\"utf-8\">\n",
    "</head>\n",
    "<body>\n",
    "      <h2>네이버 책 검색하기</h2>\n",
    "      <div>\n",
    "          <textarea id=\"q\" rows=\"2\" cols=\"40\"></textarea>\n",
    "          <br>\n",
    "          <button id=\"qButton\">검색</button>\n",
    "          <div id=\"result\"></div>\n",
    "      </div>\n",
    "      <script>\n",
    "          const qs = (q) => document.querySelector(q)\n",
    "          window.onload = () => {\n",
    "              const q = qs('#q')\n",
    "              const qButton = qs('#qButton')\n",
    "              const result = qs('#result')\n",
    "              // 조회 버튼을 눌렀을 때 \n",
    "              qButton.onclick = () => {\n",
    "                  result.innerHTML = \"...\"\n",
    "                  // URL 생성하기 \n",
    "                  const api = \"/api?q=\" + encodeURIComponent(q.value)\n",
    "                  // API에 접근하기\n",
    "                  fetch(api).then((res) => {\n",
    "                      return res.json() // JSON 응답\n",
    "                  }).then((data) => {\n",
    "                      // 결과를 화면에 출력하기 \n",
    "                      result.innerHTML = \n",
    "                            data\n",
    "                  })\n",
    "              }\n",
    "          }\n",
    "      </script>\n",
    "      <style>\n",
    "          #result {\n",
    "              padding: 5px;\n",
    "              font-size: 1.2em;\n",
    "              color: red;\n",
    "          }\n",
    "          \n",
    "          #q {\n",
    "              background-color: #fffff0;\n",
    "          }\n",
    "      </style>\n",
    "</body>\n",
    "</html>"
   ]
  },
  {
   "cell_type": "markdown",
   "metadata": {},
   "source": [
    "## 7. 프론트엔드와 백엔드 Flask 로 한번에 구현해보기\n",
    "\n",
    "### 폴더 구조\n",
    "```\n",
    "flask_test 폴더\n",
    "    /login.py\n",
    "    /templates 폴더\n",
    "        /login.html\n",
    "    static 폴더\n",
    "```\n",
    "\n",
    "### login.html \n",
    "```html\n",
    "<!DOCTYPE html>\n",
    "<html lang=\"en\">\n",
    "  <head>\n",
    "    <meta charset=\"UTF-8\" />\n",
    "    <meta name=\"viewport\" content=\"width=device-width, initial-scale=1.0\" />\n",
    "    <title>Document</title>\n",
    "  </head>\n",
    "  <body>\n",
    "    <form action=\"/login\" method=\"get\">\n",
    "      <p>Enter Name:</p>\n",
    "      <p><input type=\"text\" name=\"user_name\" /></p>\n",
    "      <p><input type=\"submit\" value=\"submit\" /></p>\n",
    "    </form>\n",
    "  </body>\n",
    "</html>\n",
    "```"
   ]
  },
  {
   "cell_type": "markdown",
   "metadata": {},
   "source": [
    "### login.py 파이썬 코드\n",
    "- GET 요청으로 받는 url은 아래와 같이 코드 작성\n",
    "\n",
    "```python\n",
    "from flask import Flask, jsonify, request\n",
    "app = Flask(__name__)\n",
    "\n",
    "\n",
    "@app.route('/login')\n",
    "def login():\n",
    "    username = request.args.get('user_name')\n",
    "    if username == 'grace':\n",
    "        return_data = {'auth':'success'}\n",
    "    else:\n",
    "        return_data = {'auth':'failed'}\n",
    "    return jsonify(return_data)\n",
    "\n",
    "if __name__ == '__main__':\n",
    "    app.run(host=\"127.0.0.1\", port=\"5000\")\n",
    "```"
   ]
  },
  {
   "cell_type": "markdown",
   "metadata": {},
   "source": [
    "### Rest API 요청시 파라미터/파라미터값 넣기\n",
    "- HTTP 의 요청 방식 중, 가장 많이 사용되는 방식이 GET 방식\n",
    "  - GET 방식에서는 URI 상에 파라미터와 파라미터 값을 넣을 수 있음\n",
    "    - 규칙: URL?파라미터1=파라미터1값&파라미터2=파라미터2값 \n",
    "    - URL 이후 첫 파라미터 이름 전에 ? 를 표시하고, 추가 파라미터가 있을 시에는 & 표시를 해야 함\n",
    "    - (예) http://localhost:8080/login?user_name=grace&pwd=1111"
   ]
  },
  {
   "cell_type": "markdown",
   "metadata": {},
   "source": [
    "### Flask 로 정적 웹페이지 로드하기 \n",
    "- 프론트엔드 페이지도 flask 로 보여줄 수 있음\n",
    "\n",
    "- flask render_template(HTML파일명): HTML 파일 전송하기\n",
    "  - HTML파일은 flask 가 실행되는 하위 폴더인 templates 폴더 안에 위치해야 함\n",
    "\n",
    "```python\n",
    "@app.route('/html_test')\n",
    "def hello_html():\n",
    "    # html file은 templates 폴더에 위치해야 함\n",
    "    return render_template('login.html')\n",
    "```"
   ]
  },
  {
   "cell_type": "markdown",
   "metadata": {},
   "source": [
    "### login.py 파일 업데이트\n",
    "- flask 의 render_template 함수 추가\n",
    "- @app.route('html_test') 추가"
   ]
  },
  {
   "cell_type": "markdown",
   "metadata": {},
   "source": [
    "```python\n",
    "from flask import Flask, jsonify, request, render_template\n",
    "app = Flask(__name__)\n",
    "\n",
    "@app.route('/login')\n",
    "def login():\n",
    "    username = request.args.get('user_name')\n",
    "    if username == 'grace':\n",
    "        return_data = {'auth': 'success'}\n",
    "    else:\n",
    "        return_data = {'auth': 'failed'}\n",
    "    return jsonify(return_data)\n",
    "\n",
    "\n",
    "@app.route('/html_test')\n",
    "def hello_html():\n",
    "    # html file은 templates 폴더에 위치해야 함\n",
    "    return render_template('login.html')\n",
    "\n",
    "if __name__ == '__main__':\n",
    "    app.run(host=\"127.0.0.1\", port=\"8000\")\n",
    "```"
   ]
  },
  {
   "cell_type": "markdown",
   "metadata": {},
   "source": [
    "<div class=\"alert alert-block\" style=\"border: 1px solid #FFB300;background-color:#F9FBE7;\">\n",
    "<font size=\"3em\" style=\"font-weight:bold;color:#3f8dbf;\">코드 실행하기</font><br>\n",
    "1) login.py 실행 후 python login.py<br>\n",
    "2) http://127.0.0.1:8000/html_test 웹페이지 브라우저로 실행\n",
    "</div>"
   ]
  },
  {
   "cell_type": "code",
   "execution_count": 5,
   "metadata": {},
   "outputs": [
    {
     "name": "stdout",
     "output_type": "stream",
     "text": [
      " * Serving Flask app \"__main__\" (lazy loading)\n",
      " * Environment: production\n",
      "   WARNING: This is a development server. Do not use it in a production deployment.\n",
      "   Use a production WSGI server instead.\n",
      " * Debug mode: off\n"
     ]
    },
    {
     "name": "stderr",
     "output_type": "stream",
     "text": [
      " * Running on http://127.0.0.1:5000/ (Press CTRL+C to quit)\n",
      "127.0.0.1 - - [24/Jan/2021 12:22:17] \"\u001b[33mGET / HTTP/1.1\u001b[0m\" 404 -\n",
      "127.0.0.1 - - [24/Jan/2021 12:22:23] \"\u001b[33mGET /grace HTTP/1.1\u001b[0m\" 404 -\n",
      "127.0.0.1 - - [24/Jan/2021 12:22:31] \"\u001b[33mGET /read_html HTTP/1.1\u001b[0m\" 404 -\n"
     ]
    }
   ],
   "source": [
    "from flask import Flask, jsonify, request, render_template\n",
    "app = Flask(__name__)\n",
    "\n",
    "@app.route('/login')\n",
    "def login():\n",
    "    username = request.args.get('user_name')\n",
    "    if username == 'grace':\n",
    "        return_data = {'auth': 'success'}\n",
    "    else:\n",
    "        return_data = {'auth': 'failed'}\n",
    "    return jsonify(return_data)\n",
    "\n",
    "\n",
    "@app.route('/html_test')\n",
    "def hello_html():\n",
    "    # html file은 templates 폴더에 위치해야 함\n",
    "    return render_template('login.html')\n",
    "\n",
    "if __name__ == '__main__':\n",
    "    app.run(host=\"127.0.0.1\", port=\"8000\")"
   ]
  },
  {
   "cell_type": "code",
   "execution_count": null,
   "metadata": {},
   "outputs": [],
   "source": []
  }
 ],
 "metadata": {
  "kernelspec": {
   "display_name": "Python 3",
   "language": "python",
   "name": "python3"
  },
  "language_info": {
   "codemirror_mode": {
    "name": "ipython",
    "version": 3
   },
   "file_extension": ".py",
   "mimetype": "text/x-python",
   "name": "python",
   "nbconvert_exporter": "python",
   "pygments_lexer": "ipython3",
   "version": "3.7.10"
  }
 },
 "nbformat": 4,
 "nbformat_minor": 4
}
