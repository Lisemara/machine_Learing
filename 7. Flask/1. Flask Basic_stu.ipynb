{
 "cells": [
  {
   "cell_type": "markdown",
   "metadata": {},
   "source": [
    "# Flask Basic"
   ]
  },
  {
   "cell_type": "markdown",
   "metadata": {},
   "source": [
    "## Flask\n",
    "- 백엔드 기술을 처음 익히는데 적합\n",
    "  - 파이썬을 사용하므로, 다양한 파이썬 라이브러리 활용 가능함\n",
    "  - Rest API, CORS, 데이터베이스 연결, MVC 등 가장 기본적인 기술을 다룰 수 있으며, 이는 다른 언어/프레임워크에 그대로 적용 가능\n",
    "  - 백엔드 이해와 구현 경험을 기반으로 JAVA Spring/Go 등 다른 언어로 구현을 대체하면 빠르게 다양한 기술을 익힐 수 있음"
   ]
  },
  {
   "cell_type": "markdown",
   "metadata": {},
   "source": [
    "<img src=\"./img/flask.jpg\" align=left width=700>"
   ]
  },
  {
   "cell_type": "markdown",
   "metadata": {},
   "source": [
    "## 프론트엔드와 백엔드 기본 구성"
   ]
  },
  {
   "cell_type": "markdown",
   "metadata": {},
   "source": [
    "<img src=\"./img/flask2.jpg\" align=left width=700>"
   ]
  },
  {
   "cell_type": "markdown",
   "metadata": {},
   "source": [
    "## 웹서비스 개발과 파이썬 flask 를 활용한 웹서비스 개발\n",
    "  - 1세대: USER ---- INTERNET --- WEB SERVER (Read static HTML)\n",
    "  - 2세대: USER ---- INTERNET --- WEB SERVER (Create request-based HTML from CGI + DB)  \n",
    "  - 3세대: USER ---- INTERNET --- WEB SERVER MVC 패턴 기반 프레임워크 활용 \n",
    "    - MVC: Model - View - Control 패턴으로 구조화된 프레임워크를 사용, 빠르게 다양한 기능을 제공\n",
    "  - 4세대: OpenAPI, RestAPI 를 혼합하여 다양한 서비스 제공, 다양한 웹 서비스 환경 개발"
   ]
  },
  {
   "cell_type": "markdown",
   "metadata": {},
   "source": [
    "## 풀스택 프레임워크와 마이크로 프레임워크\n",
    "\n",
    "#### 풀스택 프레임워크: 웹 개발에 관련된 모든 기능을 제공 \n",
    "- 대표적 프레임워크: JAVA Spring, Python Django, Ruby on Rails  \n",
    "  - 요청/응답 추상화, 세션 상태 관리, 사용자 인증/권한 관리, 웹페이지 템플릿, URL 매핑, \n",
    "  - 데이터베이스 접근, 보안, 캐시, 데이터 접근 추상화등 다양한 기능을 제공\n",
    "  - 하나의 웹서비스를 구축하는데에도 다양한 프레임워크 기능을 이해하고, 불필요한 부분까지 구축해야함\n",
    "\n",
    "#### 마이크로 프레임워크\n",
    "- 웹 개발에 필요한 최소 기능만 제공\n",
    "- 나머지 기능은 자신이 원하는 다른 라이브러리나 프레임워크를 확장해 사용\n",
    "- Python Flask\n",
    "- 빠르게 원하는 기능을 기반으로 웹서비스 구축 가능, 이후 필요한 기능만 확장 가능 "
   ]
  },
  {
   "cell_type": "markdown",
   "metadata": {},
   "source": [
    "-----------------\n",
    "## Flask 특징\n",
    "* 마이크로 프레임워크 기반\n",
    "* 웹 개발 최소 기능 제공, RESTful 요청 처리, 유니코드 기반, 필요한 부분은 추가해서 확장 가능 \n",
    "* 참고: http://flask.pocoo.org/"
   ]
  },
  {
   "cell_type": "markdown",
   "metadata": {},
   "source": [
    "## 1. Flask 기본 사용법"
   ]
  },
  {
   "cell_type": "markdown",
   "metadata": {},
   "source": [
    "### 1.1. Flask 모듈 설치 및 import\n",
    "* pip install flask"
   ]
  },
  {
   "cell_type": "code",
   "execution_count": 1,
   "metadata": {},
   "outputs": [],
   "source": [
    "from flask import Flask"
   ]
  },
  {
   "cell_type": "markdown",
   "metadata": {},
   "source": [
    "### 1.2. Flask 객체를 app에 할당"
   ]
  },
  {
   "cell_type": "code",
   "execution_count": 2,
   "metadata": {},
   "outputs": [],
   "source": [
    "app = Flask(__name__)"
   ]
  },
  {
   "cell_type": "code",
   "execution_count": 3,
   "metadata": {},
   "outputs": [
    {
     "output_type": "execute_result",
     "data": {
      "text/plain": [
       "'__main__'"
      ]
     },
     "metadata": {},
     "execution_count": 3
    }
   ],
   "source": [
    "__name__"
   ]
  },
  {
   "cell_type": "markdown",
   "metadata": {},
   "source": [
    "#### \\_\\_name\\_\\_ \n",
    "-  \\_\\_name\\_\\_ 이라는 변수는 모듈의 이름이 저장됨\n",
    "- 실행하는 코드에서는 \\_\\_main\\_\\_ 값이 들어감"
   ]
  },
  {
   "cell_type": "markdown",
   "metadata": {},
   "source": [
    "### 파이썬과 시작점(entry point)\n",
    "- 파이썬은 스크립트 언어\n",
    "- 스크립트 언어는 전통적으로 시작점(main 함수)없이 스크립트 코드를 바로 실행함"
   ]
  },
  {
   "cell_type": "markdown",
   "metadata": {},
   "source": [
    "### flask 객체 생성\n",
    "- Flask(`__name__`) 으로 설정하여, 현재 위치를 flask 객체에 알려줘야 함\n",
    "  - 이름을 변경해도 정상 실행되지만, 일부 확장 기능 사용시에는 해당 이름을 정확히 알려주지 않을 경우 정상 동작되지 않음"
   ]
  },
  {
   "cell_type": "code",
   "execution_count": 4,
   "metadata": {},
   "outputs": [],
   "source": [
    "from flask import Flask\n",
    "app = Flask(__name__)"
   ]
  },
  {
   "cell_type": "code",
   "execution_count": 5,
   "metadata": {},
   "outputs": [
    {
     "output_type": "execute_result",
     "data": {
      "text/plain": [
       "<Flask '__main__'>"
      ]
     },
     "metadata": {},
     "execution_count": 5
    }
   ],
   "source": [
    "app"
   ]
  },
  {
   "cell_type": "markdown",
   "metadata": {},
   "source": [
    "### 1.3. 라우팅 경로를 설정"
   ]
  },
  {
   "cell_type": "markdown",
   "metadata": {},
   "source": [
    "### 라우팅(route)\n",
    "- 적절한 목적지를 찾아주는 기능 \n",
    "- URL을 해당 URL에 맞는 기능과 연결해 줌\n",
    "    - http://www.naver.com/hello\n",
    "        - http://www.naver.com 서버에서 hello 이라는 목적지에 맞는 함수를 호출해줌 "
   ]
  },
  {
   "cell_type": "markdown",
   "metadata": {},
   "source": [
    "### URL\n",
    "- Uniform Resource Locator\n",
    "- 인터넷 상의 자원 위치 표기를 위한 규약\n",
    "- WWW 주요 요소 중 하나: HTML, URL, HTTP\n",
    "\n",
    "\n",
    "### URL vs URI\n",
    "- URI(Uniform Resource Identifier): 통합 자원 식별자\n",
    "- URL의 하위 개념이 URI\n",
    "- https://www.naver.com 주소\n",
    "    - https://www.naver.com 이라는 서버를 나타내는 URL이면서 URI\n",
    "- https://www.naver.com/input?id=grace&pw=1111 주소\n",
    "    - https://www.naver.com/input 은 URL\n",
    "    - https://www.naver.com/input?id=grace&pw=1111 은 URI \n",
    "    - 원하는 정보를 얻기 위해서는 **?id=grace&pw=1111** 라는 식별자가 필요하기 때문"
   ]
  },
  {
   "cell_type": "code",
   "execution_count": 6,
   "metadata": {},
   "outputs": [],
   "source": [
    "@app.route(\"/hello\")\n",
    "def hello():                           \n",
    "    return \"<h1>Hello World!</h1>\""
   ]
  },
  {
   "cell_type": "markdown",
   "metadata": {},
   "source": [
    "- @ 으로 시작하는 코드는 데코레이터라고 함 "
   ]
  },
  {
   "cell_type": "markdown",
   "metadata": {},
   "source": [
    "### 1.4. 메인 모듈로 실행될 때 flask 웹 서버 구동 \n",
    "- 서버로 구동한 IP 와 포트를 옵션으로 넣어줄 수 있음\n",
    "- app.run() 함수로 서버 구동 가능\n",
    "  - host, port, debug 를 주로 사용함\n",
    "    - host: 웹주소\n",
    "    - port: 포트\n",
    "    - debug: True or False\n",
    "\n",
    "```python\n",
    "run(host=None, port=None, debug=True)\n",
    "```"
   ]
  },
  {
   "cell_type": "markdown",
   "metadata": {},
   "source": [
    "### 자신의 PC 에서 웹서비스 구현\n",
    "  - localhost, 127.0.0.1, 또는 0.0.0.0 으로 host 설정\n",
    "  - app.run() 함수로 자체 웹서버 구현 가능"
   ]
  },
  {
   "cell_type": "code",
   "execution_count": 2,
   "metadata": {},
   "outputs": [],
   "source": [
    "host_addr = \"127.0.0.1\"\n",
    "port_num = \"8000\""
   ]
  },
  {
   "cell_type": "code",
   "execution_count": null,
   "metadata": {},
   "outputs": [],
   "source": [
    "if __name__ == \"__main__\":\n",
    "    app.run(host='127.0.0.1', port='8000')       "
   ]
  },
  {
   "cell_type": "markdown",
   "metadata": {},
   "source": [
    "### 1.5. 전체 기본 코드"
   ]
  },
  {
   "cell_type": "code",
   "execution_count": 3,
   "metadata": {},
   "outputs": [
    {
     "output_type": "stream",
     "name": "stdout",
     "text": [
      " * Serving Flask app \"__main__\" (lazy loading)\n",
      " * Environment: production\n",
      "\u001b[31m   WARNING: This is a development server. Do not use it in a production deployment.\u001b[0m\n",
      "\u001b[2m   Use a production WSGI server instead.\u001b[0m\n",
      " * Debug mode: off\n",
      " * Running on http://127.0.0.1:8000/ (Press CTRL+C to quit)\n",
      "127.0.0.1 - - [16/Mar/2021 10:22:25] \"\u001b[37mGET /hello HTTP/1.1\u001b[0m\" 200 -\n",
      "127.0.0.1 - - [16/Mar/2021 10:22:32] \"\u001b[37mGET / HTTP/1.1\u001b[0m\" 200 -\n",
      "127.0.0.1 - - [16/Mar/2021 10:22:36] \"\u001b[37mGET /hello HTTP/1.1\u001b[0m\" 200 -\n"
     ]
    }
   ],
   "source": [
    "from flask import Flask\n",
    "\n",
    "app = Flask(__name__)\n",
    "\n",
    "@app.route(\"/hello\")\n",
    "def hello():                           \n",
    "    return \"<h1>Hello Flask!</h1>\"\n",
    "\n",
    "@app.route(\"/\")\n",
    "def root():                           \n",
    "    return \"<h1>Hello World!</h1>\"\n",
    "    \n",
    "if __name__ == \"__main__\":\n",
    "    app.run(host='127.0.0.1', port='8000')"
   ]
  },
  {
   "cell_type": "markdown",
   "metadata": {},
   "source": [
    "### 코드 실행 방법\n",
    "* flask 라이브러리를 사용한 코드는 보통 파일이름.py 로 작성한 후\n",
    "  - python 파일이름.py 로 실행\n",
    "* 서버에서 실행하는 것이 일반적\n",
    "* 노트북에서는 실행 후, 테스트 끝나면, Terminate를 눌러줘야 함"
   ]
  }
 ],
 "metadata": {
  "kernelspec": {
   "display_name": "Python 3",
   "language": "python",
   "name": "python3"
  },
  "language_info": {
   "codemirror_mode": {
    "name": "ipython",
    "version": 3
   },
   "file_extension": ".py",
   "mimetype": "text/x-python",
   "name": "python",
   "nbconvert_exporter": "python",
   "pygments_lexer": "ipython3",
   "version": "3.8.8-final"
  }
 },
 "nbformat": 4,
 "nbformat_minor": 4
}