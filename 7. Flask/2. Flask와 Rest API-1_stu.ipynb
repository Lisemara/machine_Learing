{
 "cells": [
  {
   "cell_type": "markdown",
   "metadata": {},
   "source": [
    "# Flask와 Rest API"
   ]
  },
  {
   "cell_type": "markdown",
   "metadata": {},
   "source": [
    "## 1. 정적 페이지 리턴하기\n",
    "* 복잡한 URI를 함수로 쉽게 연결하는 방법 제공\n",
    "- HTML 이용 : h1 ~ h6 는 HTML 헤드라인 태그"
   ]
  },
  {
   "cell_type": "code",
   "execution_count": 1,
   "metadata": {},
   "outputs": [
    {
     "output_type": "stream",
     "name": "stdout",
     "text": [
      " * Serving Flask app \"__main__\" (lazy loading)\n",
      " * Environment: production\n",
      "\u001b[31m   WARNING: This is a development server. Do not use it in a production deployment.\u001b[0m\n",
      "\u001b[2m   Use a production WSGI server instead.\u001b[0m\n",
      " * Debug mode: off\n",
      " * Running on http://127.0.0.1:8000/ (Press CTRL+C to quit)\n",
      "127.0.0.1 - - [16/Mar/2021 10:29:32] \"\u001b[33mGET /hello HTTP/1.1\u001b[0m\" 404 -\n",
      "127.0.0.1 - - [16/Mar/2021 10:29:38] \"\u001b[37mGET / HTTP/1.1\u001b[0m\" 200 -\n",
      "127.0.0.1 - - [16/Mar/2021 10:29:45] \"\u001b[37mGET /first HTTP/1.1\u001b[0m\" 200 -\n",
      "127.0.0.1 - - [16/Mar/2021 10:29:48] \"\u001b[37mGET /second HTTP/1.1\u001b[0m\" 200 -\n"
     ]
    }
   ],
   "source": [
    "from flask import Flask\n",
    "\n",
    "app = Flask(__name__)\n",
    "\n",
    "@app.route('/')\n",
    "def hello():\n",
    "    return '<h1>Hello world!</h1>'\n",
    "\n",
    "@app.route('/first')\n",
    "def hello_flask():\n",
    "    return '<h1>Hello First!</h1>'\n",
    "\n",
    "@app.route('/second')\n",
    "def hello_second():\n",
    "    return '<h1>Hello Second!</h1>'\n",
    "\n",
    "if __name__ == \"__main__\":\n",
    "    app.run(host='127.0.0.1', port='8000')\n"
   ]
  },
  {
   "cell_type": "markdown",
   "metadata": {},
   "source": [
    "## 2. 복잡한 라우팅: 데이터 전달하기\n",
    "* URI를 변수로 사용\n",
    "  - 1) http://127.0.0.1:8000/ 접속\n",
    "  - 2) http://127.0.0.1:8000/profile/grace 접속\n",
    "        ```\n",
    "        @app.route(\"/profile/<username>\")\n",
    "        def get_profile(username):\n",
    "            return \"<h1>Profile: \" + username + \"!</h1>\"\n",
    "        ```  \n",
    "  - 3) http://127.0.0.1:8000/first/grace 접속\n",
    "        ``\n",
    "        @app.route(\"/first/<username>\")\n",
    "        def get_profile(username):\n",
    "            return \"<h1>First: \" + username + \"!</h1>\"\n",
    "        ```    "
   ]
  },
  {
   "cell_type": "code",
   "execution_count": 2,
   "metadata": {},
   "outputs": [
    {
     "output_type": "stream",
     "name": "stdout",
     "text": [
      " * Serving Flask app \"__main__\" (lazy loading)\n",
      " * Environment: production\n",
      "\u001b[31m   WARNING: This is a development server. Do not use it in a production deployment.\u001b[0m\n",
      "\u001b[2m   Use a production WSGI server instead.\u001b[0m\n",
      " * Debug mode: off\n",
      " * Running on http://127.0.0.1:8000/ (Press CTRL+C to quit)\n",
      "127.0.0.1 - - [16/Mar/2021 10:37:23] \"\u001b[37mGET /profile/lisemara HTTP/1.1\u001b[0m\" 200 -\n",
      "127.0.0.1 - - [16/Mar/2021 10:37:38] \"\u001b[37mGET /first/lisemara HTTP/1.1\u001b[0m\" 200 -\n"
     ]
    }
   ],
   "source": [
    "from flask import Flask\n",
    "\n",
    "app = Flask(__name__)\n",
    "\n",
    "@app.route('/')\n",
    "def hello():\n",
    "    return '<h1>Hello world!</h1>'\n",
    "\n",
    "@app.route('/profile/<username>')\n",
    "def get_profile(username):\n",
    "    return '<h1>Profile: ' + username + '</h1>'\n",
    "\n",
    "@app.route('/first/<username>')\n",
    "def get_first(username):\n",
    "    return '<h1>First: ' + username + '</h1>'\n",
    "\n",
    "if __name__ == \"__main__\":\n",
    "    app.run(host='127.0.0.1', port='8000')"
   ]
  },
  {
   "cell_type": "code",
   "execution_count": null,
   "metadata": {},
   "outputs": [],
   "source": [
    "from flask import Flask\n",
    "\n",
    "app = Flask(__name__)\n",
    "\n",
    "@app.route('/')\n",
    "def hello():\n",
    "    return 'Hello Flask!'\n",
    "\n",
    "@app.route('/info')\n",
    "def info():\n",
    "    return 'info'\n",
    "\n",
    "@app.route('/hello')\n",
    "def hello():\n",
    "    return {\n",
    "        'id' : 100\n",
    "        'name' : 'grace'\n",
    "    }\n",
    "\n",
    "if __name__ == \"__main__\":\n",
    "    app.run(host='127.0.0.1', port='8000')"
   ]
  },
  {
   "cell_type": "markdown",
   "metadata": {},
   "source": [
    "## 3. 복잡한 라우팅: 데이터 전달하기 2\n",
    "* URI를 변수로 사용, 변수에 데이터 타입도 줄 수 있음\n",
    "  - 데이터 타입이 없으면 문자열로 인식\n",
    "  - int 이외에 float 도 데이터 타입으로 줄 수 있음\n",
    "  - http://127.0.0.1:8000/message/1 접속\n",
    "    ```\n",
    "    @app.route(\"/message/<int:message_id>\")\n",
    "    def get_message(message_id):\n",
    "        return \"message id: \" + message_id\n",
    "   ```"
   ]
  },
  {
   "cell_type": "code",
   "execution_count": 11,
   "metadata": {},
   "outputs": [
    {
     "output_type": "stream",
     "name": "stdout",
     "text": [
      " * Serving Flask app \"__main__\" (lazy loading)\n",
      " * Environment: production\n",
      "\u001b[31m   WARNING: This is a development server. Do not use it in a production deployment.\u001b[0m\n",
      "\u001b[2m   Use a production WSGI server instead.\u001b[0m\n",
      " * Debug mode: off\n",
      " * Running on http://127.0.0.1:8000/ (Press CTRL+C to quit)\n",
      "127.0.0.1 - - [16/Mar/2021 11:12:22] \"\u001b[37mGET / HTTP/1.1\u001b[0m\" 200 -\n",
      "127.0.0.1 - - [16/Mar/2021 11:12:32] \"\u001b[33mGET /message/ HTTP/1.1\u001b[0m\" 404 -\n",
      "127.0.0.1 - - [16/Mar/2021 11:12:36] \"\u001b[37mGET /message/1 HTTP/1.1\u001b[0m\" 200 -\n"
     ]
    }
   ],
   "source": [
    "from flask import Flask\n",
    "\n",
    "app = Flask(__name__)\n",
    "\n",
    "def add_file(data):\n",
    "    return data+500\n",
    "\n",
    "@app.route('/')\n",
    "def hello():\n",
    "    return '<h1>Hello world!</h1>'\n",
    "\n",
    "@app.route('/message/<int:message_id>')\n",
    "def get_message(message_id):\n",
    "    return 'message id: %d' % message_id\n",
    "\n",
    "@app.route('/first/<int:message_id>')\n",
    "def get_first(messageid):\n",
    "    data = add_file(messageid)\n",
    "    return '<h1>%d</h1>' % (data)\n",
    "\n",
    "if __name__ == \"__main__\":\n",
    "    app.run(host='127.0.0.1', port='8000')"
   ]
  },
  {
   "cell_type": "code",
   "execution_count": 12,
   "metadata": {},
   "outputs": [
    {
     "output_type": "stream",
     "name": "stdout",
     "text": [
      " * Serving Flask app \"__main__\" (lazy loading)\n",
      " * Environment: production\n",
      "\u001b[31m   WARNING: This is a development server. Do not use it in a production deployment.\u001b[0m\n",
      "\u001b[2m   Use a production WSGI server instead.\u001b[0m\n",
      " * Debug mode: off\n",
      " * Running on http://127.0.0.1:8000/ (Press CTRL+C to quit)\n",
      "127.0.0.1 - - [16/Mar/2021 11:14:49] \"\u001b[37mGET / HTTP/1.1\u001b[0m\" 200 -\n",
      "127.0.0.1 - - [16/Mar/2021 11:14:59] \"\u001b[37mGET /info/lisemara HTTP/1.1\u001b[0m\" 200 -\n",
      "127.0.0.1 - - [16/Mar/2021 11:15:07] \"\u001b[37mGET /user/123 HTTP/1.1\u001b[0m\" 200 -\n",
      "127.0.0.1 - - [16/Mar/2021 11:15:14] \"\u001b[33mGET /user/123/yas HTTP/1.1\u001b[0m\" 404 -\n",
      "127.0.0.1 - - [16/Mar/2021 11:15:39] \"\u001b[37mGET /json/123/jas HTTP/1.1\u001b[0m\" 200 -\n"
     ]
    }
   ],
   "source": [
    "from flask import Flask\n",
    "\n",
    "app = Flask(__name__)\n",
    "\n",
    "@app.route('/')\n",
    "def hello():\n",
    "    return 'Hello Flask!'\n",
    "\n",
    "@app.route('/info/<name>')\n",
    "def get_name(name):\n",
    "    return \"hello {}\".format(name)\n",
    "\n",
    "@app.route('/user/<int:id>')\n",
    "def get_user(id):\n",
    "    return \"user id is {}\".format(id)\n",
    "\n",
    "@app.route('/json/<int:test_id>/<message>')\n",
    "@app.route('/JSON/<int:test_id>/<message>')\n",
    "def send_message(test_id, message):\n",
    "    data = {\n",
    "        \"test_id\": test_id,\n",
    "        \"message\": message\n",
    "    }\n",
    "    return data\n",
    "\n",
    "if __name__ == \"__main__\":\n",
    "    app.run(host='127.0.0.1', port='8000')"
   ]
  },
  {
   "cell_type": "markdown",
   "metadata": {},
   "source": [
    "## 4. Flask로 REST API 구현하기 \n",
    "\n",
    "### HTTP(Hypertext Transfer Protocol)\n",
    "- Server/Client 모델로 Request/Response 사용\n",
    "  - Client에서 요청(Request)을 보내면, Server에서 응답(Response)을 준다.\n",
    "\n",
    "### 프로토콜 (protocol): 컴퓨터간 통신을 하기 위한 규칙 "
   ]
  },
  {
   "cell_type": "markdown",
   "metadata": {},
   "source": [
    "<img src=\"./img/flask3.jpg\" width=800 align=left>"
   ]
  },
  {
   "cell_type": "markdown",
   "metadata": {},
   "source": [
    "### HTTP(Hypertext Transfer Protocol) Request/Response\n",
    "<img src=\"./img/flask4.jpg\" width= 700 align=left>"
   ]
  },
  {
   "cell_type": "markdown",
   "metadata": {},
   "source": [
    "### Request\n",
    "<img src=\"./img/request.jpg\" align=left width=600>"
   ]
  },
  {
   "cell_type": "markdown",
   "metadata": {},
   "source": [
    "- HTTP 메서드\n",
    "    - 클라이언트가 수행하고자 하는 동작을 정의한 GET, POST 같은 동사나 OPTIONS나 HEAD와 같은 명사\n",
    "    - GET : 클라이언트는 리소스를 가져오는 동작 \n",
    "    - POST : HTML 폼의 데이터를 전송 하려고 사용하는 동작\n",
    "- Path\n",
    "    - 가져오려는 리소스의 경로\n",
    "    - 예) 프로토콜 (http://), 도메인 (developer.mozilla.org), TCP 포트 (80)인 요소들을 제거한 리소스의 URL\n",
    "- Version of the protocol : HTTP 프로토콜의 버전\n",
    "- Headers\n",
    "    - 서버에 대한 추가 정보를 전달하는 선택적 헤더들\n",
    "    - POST와 같은 몇 가지 메서드를 위한 전송된 리소스를 포함하는 응답의 본문과 유사한 본문"
   ]
  },
  {
   "cell_type": "markdown",
   "metadata": {},
   "source": [
    "### Response\n",
    "<img src=\"./img/response.jpg\" width=600 align=left>"
   ]
  },
  {
   "cell_type": "markdown",
   "metadata": {},
   "source": [
    "- Version of the protocol : HTTP 프로토콜의 버전\n",
    "- Stautus Code : 요청의 성공 여부와, 그 이유를 나타내는 상태 코드\n",
    "- Status message : 아무런 영향력이 없는, 상태 코드의 짧은 설명을 나타내는 상태 메시지\n",
    "- Headers \n",
    "    - 요청 헤더와 비슷한, HTTP 헤더들\n",
    "    - 선택 사항으로, 가져온 리소스가 포함되는 본문"
   ]
  },
  {
   "cell_type": "markdown",
   "metadata": {},
   "source": [
    "### REST\n",
    "- REST(REpresentational State Transfer)\n",
    "  - 자원(resource)의 표현(representation)에 의한 상태 전달\n",
    "  - HTTP URI를 통해 자원을 명시하고, HTTP Method를 통해 자원에 대한 CRUD Operation 적용\n",
    "    - CRUD Operation와 HTTP Method\n",
    "      - Create: 생성 (POST)\n",
    "      - Read: 조회 (GET)\n",
    "      - Update: 수정 (PUT)\n",
    "      - Delete: 삭제 (DELETE)\n",
    "\n",
    "### REST API\n",
    "- REST 기반으로 서비스 API를 구현한 것\n",
    "- 마이크로 서비스, OpenAPI(누구나 사용하도록 공개된 API) 등에서 많이 사용됨"
   ]
  },
  {
   "cell_type": "markdown",
   "metadata": {},
   "source": [
    "### Flask 로 REST API 구현 방법\n",
    "- 특정한 URI를 요청하면 JSON 형식으로 데이터를 반환하도록 만들면 됨\n",
    "- 즉, 웹주소(URI) 요청에 대한 응답(Response)를 JSON 형식으로 작성\n",
    "- Flask에서는 dict(사전) 데이터를 응답 데이터로 만들고, 이를 jsonify() 메서드를 활용해서 JSON 응답 데이터로 만들 수 있음"
   ]
  },
  {
   "cell_type": "markdown",
   "metadata": {},
   "source": [
    "<img src=\"./img/flask5.jpg\" width=700 align=left>"
   ]
  },
  {
   "cell_type": "markdown",
   "metadata": {},
   "source": [
    "### Flask의 jsonify() 함수\n",
    "- 리턴 데이터를 JSON 포맷으로 제공"
   ]
  },
  {
   "cell_type": "markdown",
   "metadata": {},
   "source": [
    "### REST API 테스트\n",
    "\n",
    "### Talend API Tester 설치 \n",
    "- 크롬 브라우저 무료 확장 프로그램"
   ]
  },
  {
   "cell_type": "code",
   "execution_count": 14,
   "metadata": {},
   "outputs": [
    {
     "output_type": "stream",
     "name": "stdout",
     "text": [
      " * Serving Flask app \"__main__\" (lazy loading)\n",
      " * Environment: production\n",
      "\u001b[31m   WARNING: This is a development server. Do not use it in a production deployment.\u001b[0m\n",
      "\u001b[2m   Use a production WSGI server instead.\u001b[0m\n",
      " * Debug mode: off\n",
      " * Running on http://127.0.0.1:8000/ (Press CTRL+C to quit)\n",
      "127.0.0.1 - - [16/Mar/2021 12:21:37] \"\u001b[37mGET /user/123 HTTP/1.1\u001b[0m\" 200 -\n",
      "127.0.0.1 - - [16/Mar/2021 12:21:48] \"\u001b[37mGET /user/123 HTTP/1.1\u001b[0m\" 200 -\n",
      "127.0.0.1 - - [16/Mar/2021 12:21:52] \"\u001b[37mGET /user/1 HTTP/1.1\u001b[0m\" 200 -\n",
      "127.0.0.1 - - [16/Mar/2021 12:22:01] \"\u001b[33mGET /user/ HTTP/1.1\u001b[0m\" 404 -\n",
      "127.0.0.1 - - [16/Mar/2021 12:22:04] \"\u001b[33mGET /user/ HTTP/1.1\u001b[0m\" 404 -\n",
      "127.0.0.1 - - [16/Mar/2021 12:22:07] \"\u001b[31m\u001b[1mGET /user HTTP/1.1\u001b[0m\" 405 -\n",
      "127.0.0.1 - - [16/Mar/2021 12:23:56] \"\u001b[37mPOST /user HTTP/1.1\u001b[0m\" 200 -\n",
      "127.0.0.1 - - [16/Mar/2021 12:24:01] \"\u001b[37mGET /user/1 HTTP/1.1\u001b[0m\" 200 -\n",
      "127.0.0.1 - - [16/Mar/2021 12:24:35] \"\u001b[37mPOST /user HTTP/1.1\u001b[0m\" 200 -\n",
      "127.0.0.1 - - [16/Mar/2021 12:24:39] \"\u001b[37mGET /user/1 HTTP/1.1\u001b[0m\" 200 -\n",
      "127.0.0.1 - - [16/Mar/2021 12:24:40] \"\u001b[37mGET /user/1 HTTP/1.1\u001b[0m\" 200 -\n",
      "127.0.0.1 - - [16/Mar/2021 12:24:51] \"\u001b[31m\u001b[1mGET /user HTTP/1.1\u001b[0m\" 405 -\n",
      "127.0.0.1 - - [16/Mar/2021 12:24:53] \"\u001b[37mGET /user/1 HTTP/1.1\u001b[0m\" 200 -\n",
      "127.0.0.1 - - [16/Mar/2021 12:25:02] \"\u001b[37mPOST /user HTTP/1.1\u001b[0m\" 200 -\n",
      "127.0.0.1 - - [16/Mar/2021 12:25:05] \"\u001b[37mGET /user/2 HTTP/1.1\u001b[0m\" 200 -\n"
     ]
    }
   ],
   "source": [
    "from flask import Flask, request, jsonify\n",
    "\n",
    "app = Flask(__name__)\n",
    "\n",
    "# server resource \n",
    "resource = []\n",
    "\n",
    "# user info 조회\n",
    "@app.route('/user/<int:user_id>', methods=['GET'])\n",
    "def get_user(user_id):\n",
    "    for user in resource:\n",
    "        if user['user_id'] is user_id:\n",
    "            return jsonify(user)\n",
    "    return jsonify(None)\n",
    "\n",
    "# 사용자 추가\n",
    "@app.route('/user', methods=['POST'])\n",
    "def add_user():\n",
    "    user = request.get_json()\n",
    "    resource.append(user)\n",
    "    return jsonify(resource)\n",
    "\n",
    "if __name__ == \"__main__\":\n",
    "    app.run(host='127.0.0.1', port='8000')"
   ]
  },
  {
   "cell_type": "markdown",
   "metadata": {},
   "source": [
    "## 5. REST API 구현"
   ]
  },
  {
   "cell_type": "markdown",
   "metadata": {},
   "source": [
    "#### data를 사전 데이터로 만들고, 이를 jsonify() 메서드에 넣어서 return "
   ]
  },
  {
   "cell_type": "code",
   "execution_count": 16,
   "metadata": {},
   "outputs": [
    {
     "output_type": "stream",
     "name": "stdout",
     "text": [
      " * Serving Flask app \"__main__\" (lazy loading)\n",
      " * Environment: production\n",
      "\u001b[31m   WARNING: This is a development server. Do not use it in a production deployment.\u001b[0m\n",
      "\u001b[2m   Use a production WSGI server instead.\u001b[0m\n",
      " * Debug mode: off\n"
     ]
    },
    {
     "output_type": "error",
     "ename": "TypeError",
     "evalue": "run_simple() got an unexpected keyword argument 'prot'",
     "traceback": [
      "\u001b[0;31m---------------------------------------------------------------------------\u001b[0m",
      "\u001b[0;31mTypeError\u001b[0m                                 Traceback (most recent call last)",
      "\u001b[0;32m<ipython-input-16-dd6bcd9b3f83>\u001b[0m in \u001b[0;36m<module>\u001b[0;34m\u001b[0m\n\u001b[1;32m     18\u001b[0m \u001b[0;34m\u001b[0m\u001b[0m\n\u001b[1;32m     19\u001b[0m \u001b[0;32mif\u001b[0m \u001b[0m__name__\u001b[0m \u001b[0;34m==\u001b[0m \u001b[0;34m'__main__'\u001b[0m\u001b[0;34m:\u001b[0m\u001b[0;34m\u001b[0m\u001b[0;34m\u001b[0m\u001b[0m\n\u001b[0;32m---> 20\u001b[0;31m     \u001b[0mapp\u001b[0m\u001b[0;34m.\u001b[0m\u001b[0mrun\u001b[0m\u001b[0;34m(\u001b[0m\u001b[0mhost\u001b[0m\u001b[0;34m=\u001b[0m\u001b[0;34m'127.0.0.1'\u001b[0m\u001b[0;34m,\u001b[0m \u001b[0mprot\u001b[0m\u001b[0;34m=\u001b[0m\u001b[0;34m'8000'\u001b[0m\u001b[0;34m)\u001b[0m\u001b[0;34m\u001b[0m\u001b[0;34m\u001b[0m\u001b[0m\n\u001b[0m",
      "\u001b[0;32m~/miniforge3/envs/tf/lib/python3.8/site-packages/flask/app.py\u001b[0m in \u001b[0;36mrun\u001b[0;34m(self, host, port, debug, load_dotenv, **options)\u001b[0m\n\u001b[1;32m    988\u001b[0m \u001b[0;34m\u001b[0m\u001b[0m\n\u001b[1;32m    989\u001b[0m         \u001b[0;32mtry\u001b[0m\u001b[0;34m:\u001b[0m\u001b[0;34m\u001b[0m\u001b[0;34m\u001b[0m\u001b[0m\n\u001b[0;32m--> 990\u001b[0;31m             \u001b[0mrun_simple\u001b[0m\u001b[0;34m(\u001b[0m\u001b[0mhost\u001b[0m\u001b[0;34m,\u001b[0m \u001b[0mport\u001b[0m\u001b[0;34m,\u001b[0m \u001b[0mself\u001b[0m\u001b[0;34m,\u001b[0m \u001b[0;34m**\u001b[0m\u001b[0moptions\u001b[0m\u001b[0;34m)\u001b[0m\u001b[0;34m\u001b[0m\u001b[0;34m\u001b[0m\u001b[0m\n\u001b[0m\u001b[1;32m    991\u001b[0m         \u001b[0;32mfinally\u001b[0m\u001b[0;34m:\u001b[0m\u001b[0;34m\u001b[0m\u001b[0;34m\u001b[0m\u001b[0m\n\u001b[1;32m    992\u001b[0m             \u001b[0;31m# reset the first request information if the development server\u001b[0m\u001b[0;34m\u001b[0m\u001b[0;34m\u001b[0m\u001b[0;34m\u001b[0m\u001b[0m\n",
      "\u001b[0;31mTypeError\u001b[0m: run_simple() got an unexpected keyword argument 'prot'"
     ]
    }
   ],
   "source": [
    "from flask import Flask, jsonify\n",
    "\n",
    "app = Flask(__name__)\n",
    "\n",
    "@app.route(\"/\")\n",
    "def hello():\n",
    "    return '<h1>Hello world!</h1>'\n",
    "\n",
    "@app.route('/json_test')\n",
    "def hello_json():\n",
    "    data = {'name' : 'Hong Gil Dong', 'city' : 'Seoul'}\n",
    "    return jsonify(data)\n",
    "\n",
    "@app.route('/server_info')\n",
    "def server_json():\n",
    "    data = { 'server_name' : '127.0.0.1', 'server_port' : '5000'}\n",
    "    return jsonify(data)\n",
    "\n",
    "if __name__ == '__main__':\n",
    "    app.run(host='127.0.0.1', port='8000')"
   ]
  }
 ],
 "metadata": {
  "kernelspec": {
   "display_name": "Python 3",
   "language": "python",
   "name": "python3"
  },
  "language_info": {
   "codemirror_mode": {
    "name": "ipython",
    "version": 3
   },
   "file_extension": ".py",
   "mimetype": "text/x-python",
   "name": "python",
   "nbconvert_exporter": "python",
   "pygments_lexer": "ipython3",
   "version": "3.8.8-final"
  }
 },
 "nbformat": 4,
 "nbformat_minor": 4
}