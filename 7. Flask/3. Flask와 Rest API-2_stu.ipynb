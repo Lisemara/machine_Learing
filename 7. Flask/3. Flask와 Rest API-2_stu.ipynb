{
 "cells": [
  {
   "cell_type": "markdown",
   "metadata": {},
   "source": [
    "# Flask와 Rest API"
   ]
  },
  {
   "cell_type": "markdown",
   "metadata": {},
   "source": [
    "## 6. Flask와 크롤링 결과 연동"
   ]
  },
  {
   "cell_type": "markdown",
   "metadata": {},
   "source": [
    "### 네이버 OPEN API를 활용한 책 검색"
   ]
  },
  {
   "cell_type": "code",
   "execution_count": 14,
   "metadata": {},
   "outputs": [
    {
     "output_type": "stream",
     "name": "stdout",
     "text": [
      "{'lastBuildDate': 'Tue, 16 Mar 2021 16:22:01 +0900', 'total': 1250, 'start': 1, 'display': 5, 'items': [{'title': '혼자 공부하는 <b>파이썬</b> (<b>파이썬</b> 최신 버전 반영)', 'link': 'http://book.naver.com/bookdb/book_detail.php?bid=15028688', 'image': 'https://bookthumb-phinf.pstatic.net/cover/150/286/15028688.jpg?type=m1&udate=20210127', 'author': '윤인성', 'price': '18000', 'discount': '16200', 'publisher': '한빛미디어', 'pubdate': '20190610', 'isbn': '1162241888 9791162241882', 'description': '1:1 과외하듯 배우는 <b>파이썬</b> 프로그래밍 자습서(<b>파이썬</b> 최신 버전 반영)\\n27명의 베타리더 검증으로, ‘함께 만든’ 입문자 맞춤형 도서이 책은 독학으로 프로그래밍 언어를 처음 배우려는 입문자가, 혹은 <b>파이썬</b>을 배우려는 입문자가 ‘꼭 필요한 내용을 제대로’ 학습할 수 있도록 구성했다. ‘무엇을’... '}, {'title': 'Do it! 점프 투 <b>파이썬</b>', 'link': 'http://book.naver.com/bookdb/book_detail.php?bid=15052904', 'image': 'https://bookthumb-phinf.pstatic.net/cover/150/529/15052904.jpg?type=m1&udate=20200910', 'author': '박응용', 'price': '18800', 'discount': '16920', 'publisher': '이지스퍼블리싱', 'pubdate': '20190620', 'isbn': '1163030910 9791163030911', 'description': '<b>파이썬</b> 4년 연속 베스트셀러 1위!\\n《DO IT! 점프 투 <b>파이썬</b>》 전면 개정판 출시!문과생도 중고등학생도 직장인도 프로그래밍에 눈뜨게 만든 바로 그 책이... 점프 투 <b>파이썬</b>》으로 출간되었던 이 책은 약 4년 동안의 피드백을 반영하여 초보자가 더 빠르게 입문하고, 더 깊이 있게 공부할 수 있도록 개정되었다.... '}, {'title': '두근두근 <b>파이썬</b> (쉽고! 재밌고! 흥미로운 코딩 맛!)', 'link': 'http://book.naver.com/bookdb/book_detail.php?bid=11573148', 'image': 'https://bookthumb-phinf.pstatic.net/cover/115/731/11573148.jpg?type=m1&udate=20210129', 'author': '천인국', 'price': '24000', 'discount': '22800', 'publisher': '생능출판사', 'pubdate': '20170116', 'isbn': '8970508937 9788970508931', 'description': '『두근두근 <b>파이썬</b>』은 프로그래밍을 처음 시작하는 학습자도 쉽게 따라올 수 있도록 변수, 조건문, 반복문, 함수 등의 기본적인 프로그래밍 개념을 자세히 설명하여 탄탄한 기초를 만들 수 있다. 또한, 적절한 그림을 가능한 많이 사용하여 더욱 친숙하고, 지루하지 않으며 독자들이 이해하기 쉬우며... '}, {'title': '<b>파이썬</b> for Beginner (쉽고 빠르게 익히는 프로그래밍의 기본 원리)', 'link': 'http://book.naver.com/bookdb/book_detail.php?bid=15871779', 'image': 'https://bookthumb-phinf.pstatic.net/cover/158/717/15871779.jpg?type=m1&udate=20210220', 'author': '우재남', 'price': '23000', 'discount': '22310', 'publisher': '한빛아카데미', 'pubdate': '20200106', 'isbn': '1156644666 9791156644668', 'description': '① 기본으로 필요한 내용만 쉽게 담았습니다\\n② IT 비전공자나 저학년 학생들에게 공통으로 필요한 기능 위주로 담되, 후반부에는 IT 관련 학과나 실무자에게도 도움이 되는 심화 내용을 일부 담아 수강생 수준에 따라 다양하게 활용할 수 있습니다.\\n③ 장별로 작은 프로그램 2개를 만들면서 주요 문법을... '}, {'title': '이것이 취업을 위한 코딩 테스트다 with <b>파이썬</b> (취업과 이직을 결정하는 알고리즘 인터뷰 완벽 가이드, C/C++, 자바 코드 제공)', 'link': 'http://book.naver.com/bookdb/book_detail.php?bid=16439154', 'image': 'https://bookthumb-phinf.pstatic.net/cover/164/391/16439154.jpg?type=m1&udate=20200928', 'author': '나동빈', 'price': '34000', 'discount': '30600', 'publisher': '한빛미디어', 'pubdate': '20200805', 'isbn': '1162243074 9791162243077', 'description': '8가지 핵심 알고리즘 이론을 쉽게 설명하고, 관련 실전 문제를 풀이했다. 출제 유형 분석, 이론 설명, 기출문제 풀이까지! 어떤 코딩 테스트도 이 책 한 권으로 대비할 수 있을 것이다. 코딩 테스트에서 주로 선택하는 <b>파이썬</b>을 기반으로 설명되어 있으며, <b>파이썬</b> 코드 외에도 C/C++, 자바 코드를 추가로 제공한다.'}]}\n"
     ]
    }
   ],
   "source": [
    "import requests\n",
    "\n",
    "# 인증 정보\n",
    "client_id = \"ZFjdNkku5Fu9ZDAVe7xX\"\n",
    "client_secret = \"nr4OwLElUH\"\n",
    "\n",
    "# 기본 url 정보\n",
    "url = \"https://openapi.naver.com/v1/search/book.json\"\n",
    "\n",
    "# 검색할 책 이름 입력\n",
    "q = \"파이썬\"\n",
    "# url 호출 시 전달할 요청 변수 정보\n",
    "params = {\"query\": q,      # 책이름\n",
    "          \"display\": 5,    # 검색할 건수\n",
    "          \"sort\": \"count\"} # 정렬순서\n",
    "\n",
    "# requests 라이브러리를 이용한 책 검색 api 호출\n",
    "# get 방식으로 호출(url)/ 요청 변수 전달(params)/ 인증 정보 및 인코딩 정보 전달(header)\n",
    "response = requests.get(url=url, params=params,\n",
    "                        headers={\"X-Naver-Client-Id\": client_id,\n",
    "                                 \"X-Naver-Client-Secret\": client_secret,\n",
    "                                 \"Content-Type\": \"application/json; charset=utf-8\"})\n",
    "\n",
    "# 호출 처리 상태 정보 recode 변수에 할당\n",
    "rescode = response.status_code\n",
    "\n",
    "if (rescode == 200):\n",
    "    # 호출 처리 상태가 정상(200) 일 경우리턴 받은 책 정보 저장\n",
    "    data = response.json()\n",
    "else:\n",
    "    print(\"Error Code:\", rescode)\n",
    "\n",
    "# Naver 책 검색 API 응답 중 실제 책 아이템 데이터 추출 및 출력\n",
    "print(data)\n",
    "# item_list = data['items']\n",
    "# # print(item_list)\n",
    "# # print(len(item_list))\n",
    "\n",
    "# # 검색한 도서를 리스트 형태로 저장하여 리턴하기\n",
    "# book_list = []\n",
    "# for item in item_list:\n",
    "#     # print(item['title'].replace('<b>','').replace('</b>',''))\n",
    "#     book_list.append(item[\"title\"].replace('<b>','').replace('</b>','')+'<br>')\n",
    "\n",
    "# print(book_list)\n"
   ]
  },
  {
   "cell_type": "markdown",
   "metadata": {},
   "source": [
    "### Flask와 네이버 책 검색 연동\n",
    "- 1) flask 구동 파이썬 파일\n",
    "- 2) index.html"
   ]
  },
  {
   "cell_type": "code",
   "execution_count": 13,
   "metadata": {},
   "outputs": [
    {
     "output_type": "stream",
     "name": "stdout",
     "text": [
      " * Serving Flask app \"__main__\" (lazy loading)\n",
      " * Environment: production\n",
      "\u001b[31m   WARNING: This is a development server. Do not use it in a production deployment.\u001b[0m\n",
      "\u001b[2m   Use a production WSGI server instead.\u001b[0m\n",
      " * Debug mode: off\n",
      " * Running on http://127.0.0.1:8000/ (Press CTRL+C to quit)\n"
     ]
    }
   ],
   "source": [
    "from flask import Flask, request, jsonify\n",
    "import pprint\n",
    "import requests\n",
    "import json\n",
    "\n",
    "app = Flask(__name__)\n",
    "\n",
    "# 루트에 접근할 경우 \n",
    "@app.route('/', methods=['GET'])\n",
    "def index():\n",
    "    with open('index.html', 'rb') as f:\n",
    "        return f.read()\n",
    "    \n",
    "@app.route('/api', methods=['GET', 'POST'])\n",
    "def search_book():\n",
    "    request_json = request.json\n",
    "    \n",
    "    # 검색할 책 이름을 index.html에서 받아오기\n",
    "    q = request.args.get('q', '')\n",
    "    if q == '':\n",
    "        return jsonify(\"조회할 책 이름을 입력해주세요!!\")\n",
    "    print(\"q=\", q)   \n",
    "\n",
    "    # 네이버 OPEN API 인증 정보\n",
    "    client_id = \"ZFjdNkku5Fu9ZDAVe7xX\"\n",
    "    client_secret = \"nr4OwLElUH\"\n",
    "\n",
    "    # 네이버 도서명 검색 url 정보\n",
    "    url = \"https://openapi.naver.com/v1/search/book.json\"\n",
    "\n",
    "    # url 호출 시 전달할 요청 변수 정보\n",
    "    params = {\"query\": q,      # 책이름\n",
    "              \"display\": 5,    # 조회 건수\n",
    "              \"sort\": \"count\"} # 정렬 순서\n",
    "\n",
    "    # requests 라이브러리를 이용한 책 검색 api 호출\n",
    "    # get 방식으로 호출(url)/ 요청 변수 전달(params)/ 인증 정보 및 인코딩 정보 전달(header)\n",
    "    response = requests.get(url=url, params=params,\n",
    "                            headers={\"X-Naver-Client-Id\": client_id,\n",
    "                                     \"X-Naver-Client-Secret\": client_secret,\n",
    "                                     \"Content-Type\": \"application/json; charset=utf-8\"})\n",
    "    # 호출 처리 상태 정보 recode 변수에 할당\n",
    "    rescode = response.status_code\n",
    "\n",
    "    if (rescode == 200):\n",
    "        # 호출 처리 상태가 정상(200) 일 경우리턴 받은 책 정보 저장\n",
    "        #print(response.json())\n",
    "        data = response.json()\n",
    "    else:\n",
    "        print(\"Error Code:\", rescode)\n",
    "\n",
    "    # Naver 책 검색 API 응답 중 실제 책 아이템 데이터 추출 및 출력\n",
    "    item_list = data['items']\n",
    "    \n",
    "    \n",
    "\n",
    "    # 검색한 도서를 리스트 형태로 저장하여 리턴하기\n",
    "    book_list = []\n",
    "    for item in item_list:\n",
    "        book_list.append(item[\"title\"].replace('<b>','').replace('</b>','')+'<br>') \n",
    "    \n",
    "    \n",
    "    # 결과값 리턴하기\n",
    "    res = ''\n",
    "    for i, book in enumerate(book_list, start=1):\n",
    "        res += str(i) + ':' + book\n",
    "    return jsonify(res)\n",
    "    \n",
    "    \n",
    "\n",
    "if __name__ == \"__main__\":    \n",
    "    # 서버 실행하기\n",
    "    app.run(host=\"127.0.0.1\", port=\"8000\")\n"
   ]
  },
  {
   "cell_type": "markdown",
   "metadata": {},
   "source": [
    "### index.html"
   ]
  },
  {
   "cell_type": "code",
   "execution_count": null,
   "metadata": {},
   "outputs": [],
   "source": [
    "<DOCTYPE html>\n",
    "<html>\n",
    "<head>\n",
    "  <meta charset=\"utf-8\">\n",
    "</head>\n",
    "<body>\n",
    "      <h2>네이버 책 검색하기</h2>\n",
    "      <div>\n",
    "          <textarea id=\"q\" rows=\"2\" cols=\"40\"></textarea>\n",
    "          <br>\n",
    "          <button id=\"qButton\">검색</button>\n",
    "          <div id=\"result\"></div>\n",
    "      </div>\n",
    "      <script>\n",
    "          const qs = (q) => document.querySelector(q)\n",
    "          window.onload = () => {\n",
    "              const q = qs('#q')\n",
    "              const qButton = qs('#qButton')\n",
    "              const result = qs('#result')\n",
    "              // 조회 버튼을 눌렀을 때 \n",
    "              qButton.onclick = () => {\n",
    "                  result.innerHTML = \"...\"\n",
    "                  // URL 생성하기 \n",
    "                  const api = \"/api?q=\" + encodeURIComponent(q.value)\n",
    "                  // API에 접근하기\n",
    "                  fetch(api).then((res) => {\n",
    "                      return res.json() // JSON 응답\n",
    "                  }).then((data) => {\n",
    "                      // 결과를 화면에 출력하기 \n",
    "                      result.innerHTML = \n",
    "                            data\n",
    "                  })\n",
    "              }\n",
    "          }\n",
    "      </script>\n",
    "      <style>\n",
    "          #result {\n",
    "              padding: 5px;\n",
    "              font-size: 1.2em;\n",
    "              color: red;\n",
    "          }\n",
    "          \n",
    "          #q {\n",
    "              background-color: #fffff0;\n",
    "          }\n",
    "      </style>\n",
    "</body>\n",
    "</html>"
   ]
  },
  {
   "cell_type": "markdown",
   "metadata": {},
   "source": [
    "## 7. 프론트엔드와 백엔드 Flask 로 한번에 구현해보기\n",
    "\n",
    "### 폴더 구조\n",
    "```\n",
    "flask_test 폴더\n",
    "    /login.py\n",
    "    /templates 폴더\n",
    "        /login.html\n",
    "    static 폴더\n",
    "```\n",
    "\n",
    "### login.html \n",
    "```html\n",
    "<!DOCTYPE html>\n",
    "<html lang=\"en\">\n",
    "  <head>\n",
    "    <meta charset=\"UTF-8\" />\n",
    "    <meta name=\"viewport\" content=\"width=device-width, initial-scale=1.0\" />\n",
    "    <title>Document</title>\n",
    "  </head>\n",
    "  <body>\n",
    "    <form action=\"/login\" method=\"get\">\n",
    "      <p>Enter Name:</p>\n",
    "      <p><input type=\"text\" name=\"user_name\" /></p>\n",
    "      <p><input type=\"submit\" value=\"submit\" /></p>\n",
    "    </form>\n",
    "  </body>\n",
    "</html>\n",
    "```"
   ]
  },
  {
   "cell_type": "markdown",
   "metadata": {},
   "source": [
    "### login.py 파이썬 코드\n",
    "- GET 요청으로 받는 url은 아래와 같이 코드 작성\n",
    "\n",
    "```python\n",
    "from flask import Flask, jsonify, request\n",
    "app = Flask(__name__)\n",
    "\n",
    "\n",
    "@app.route('/login')\n",
    "def login():\n",
    "    username = request.args.get('user_name')\n",
    "    if username == 'grace':\n",
    "        return_data = {'auth':'success'}\n",
    "    else:\n",
    "        return_data = {'auth':'failed'}\n",
    "    return jsonify(return_data)\n",
    "\n",
    "if __name__ == '__main__':\n",
    "    app.run(host=\"127.0.0.1\", port=\"5000\")\n",
    "```"
   ]
  },
  {
   "cell_type": "markdown",
   "metadata": {},
   "source": [
    "### Rest API 요청시 파라미터/파라미터값 넣기\n",
    "- HTTP 의 요청 방식 중, 가장 많이 사용되는 방식이 GET 방식\n",
    "  - GET 방식에서는 URI 상에 파라미터와 파라미터 값을 넣을 수 있음\n",
    "    - 규칙: URL?파라미터1=파라미터1값&파라미터2=파라미터2값 \n",
    "    - URL 이후 첫 파라미터 이름 전에 ? 를 표시하고, 추가 파라미터가 있을 시에는 & 표시를 해야 함\n",
    "    - (예) http://localhost:8080/login?user_name=grace&pwd=1111"
   ]
  },
  {
   "cell_type": "markdown",
   "metadata": {},
   "source": [
    "### Flask 로 정적 웹페이지 로드하기 \n",
    "- 프론트엔드 페이지도 flask 로 보여줄 수 있음\n",
    "\n",
    "- flask render_template(HTML파일명): HTML 파일 전송하기\n",
    "  - HTML파일은 flask 가 실행되는 하위 폴더인 templates 폴더 안에 위치해야 함\n",
    "\n",
    "```python\n",
    "@app.route('/html_test')\n",
    "def hello_html():\n",
    "    # html file은 templates 폴더에 위치해야 함\n",
    "    return render_template('login.html')\n",
    "```"
   ]
  },
  {
   "cell_type": "markdown",
   "metadata": {},
   "source": [
    "### login.py 파일 업데이트\n",
    "- flask 의 render_template 함수 추가\n",
    "- @app.route('html_test') 추가"
   ]
  },
  {
   "cell_type": "markdown",
   "metadata": {},
   "source": [
    "```python\n",
    "from flask import Flask, jsonify, request, render_template\n",
    "app = Flask(__name__)\n",
    "\n",
    "@app.route('/login')\n",
    "def login():\n",
    "    username = request.args.get('user_name')\n",
    "    if username == 'grace':\n",
    "        return_data = {'auth': 'success'}\n",
    "    else:\n",
    "        return_data = {'auth': 'failed'}\n",
    "    return jsonify(return_data)\n",
    "\n",
    "\n",
    "@app.route('/html_test')\n",
    "def hello_html():\n",
    "    # html file은 templates 폴더에 위치해야 함\n",
    "    return render_template('login.html')\n",
    "\n",
    "if __name__ == '__main__':\n",
    "    app.run(host=\"127.0.0.1\", port=\"8000\")\n",
    "```"
   ]
  },
  {
   "cell_type": "markdown",
   "metadata": {},
   "source": [
    "<div class=\"alert alert-block\" style=\"border: 1px solid #FFB300;background-color:#F9FBE7;\">\n",
    "<font size=\"3em\" style=\"font-weight:bold;color:#3f8dbf;\">코드 실행하기</font><br>\n",
    "1) login.py 실행 후 python login.py<br>\n",
    "2) http://127.0.0.1:8000/html_test 웹페이지 브라우저로 실행\n",
    "</div>"
   ]
  },
  {
   "cell_type": "code",
   "execution_count": 5,
   "metadata": {},
   "outputs": [
    {
     "name": "stdout",
     "output_type": "stream",
     "text": [
      " * Serving Flask app \"__main__\" (lazy loading)\n",
      " * Environment: production\n",
      "   WARNING: This is a development server. Do not use it in a production deployment.\n",
      "   Use a production WSGI server instead.\n",
      " * Debug mode: off\n"
     ]
    },
    {
     "name": "stderr",
     "output_type": "stream",
     "text": [
      " * Running on http://127.0.0.1:5000/ (Press CTRL+C to quit)\n",
      "127.0.0.1 - - [24/Jan/2021 12:22:17] \"\u001b[33mGET / HTTP/1.1\u001b[0m\" 404 -\n",
      "127.0.0.1 - - [24/Jan/2021 12:22:23] \"\u001b[33mGET /grace HTTP/1.1\u001b[0m\" 404 -\n",
      "127.0.0.1 - - [24/Jan/2021 12:22:31] \"\u001b[33mGET /read_html HTTP/1.1\u001b[0m\" 404 -\n"
     ]
    }
   ],
   "source": [
    "from flask import Flask, jsonify, request, render_template\n",
    "app = Flask(__name__)\n",
    "\n",
    "@app.route('/login')\n",
    "def login():\n",
    "    username = request.args.get('user_name')\n",
    "    if username == 'grace':\n",
    "        return_data = {'auth': 'success'}\n",
    "    else:\n",
    "        return_data = {'auth': 'failed'}\n",
    "    return jsonify(return_data)\n",
    "\n",
    "\n",
    "@app.route('/html_test')\n",
    "def hello_html():\n",
    "    # html file은 templates 폴더에 위치해야 함\n",
    "    return render_template('login.html')\n",
    "\n",
    "if __name__ == '__main__':\n",
    "    app.run(host=\"127.0.0.1\", port=\"8000\")"
   ]
  },
  {
   "cell_type": "code",
   "execution_count": null,
   "metadata": {},
   "outputs": [],
   "source": []
  }
 ],
 "metadata": {
  "kernelspec": {
   "display_name": "Python 3",
   "language": "python",
   "name": "python3"
  },
  "language_info": {
   "codemirror_mode": {
    "name": "ipython",
    "version": 3
   },
   "file_extension": ".py",
   "mimetype": "text/x-python",
   "name": "python",
   "nbconvert_exporter": "python",
   "pygments_lexer": "ipython3",
   "version": "3.8.8-final"
  }
 },
 "nbformat": 4,
 "nbformat_minor": 4
}