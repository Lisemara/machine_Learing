{
 "cells": [
  {
   "cell_type": "markdown",
   "metadata": {},
   "source": [
    "# Flask와 Rest API"
   ]
  },
  {
   "cell_type": "markdown",
   "metadata": {},
   "source": [
    "## 6. Flask와 크롤링 결과 연동"
   ]
  },
  {
   "cell_type": "markdown",
   "metadata": {},
   "source": [
    "### 네이버 OPEN API를 활용한 이미지 검색"
   ]
  },
  {
   "cell_type": "code",
   "execution_count": 14,
   "metadata": {},
   "outputs": [
    {
     "output_type": "stream",
     "name": "stdout",
     "text": [
      "<figure><img src=\"http://post.phinf.naver.net/MjAyMTAyMDFfMTU3/MDAxNjEyMTU3NjM1MTAx.k01wEBLWobZNC5IITmySpXywEwU0SYvu4Pmp1pOEO6sg.MKh1xUwYO0QJoiees4nf-ZxcI0B17N7PBvx76IZf8aog.JPEG/IM1sVnOwjBcW30xVnLijXMOMp0OQ.jpg\"><figcaption>보기 좋은 술이 맛도 좋아! 비주얼 폭발, 맛있는 칵테일</figcaption></figure>\n<figure><img src=\"http://shopping.phinf.naver.net/main_2446931/24469315202.20201015194327.jpg\"><figcaption>50 PCS 핫 칵테일 MUDDLER 스테인레스 스틸 바 믹서 BARWARE 모히토 칵테일 DIY 음료</figcaption></figure>\n<figure><img src=\"http://shop1.phinf.naver.net/20210203_76/1612354860822bs6s9_JPEG/O1CN01gNlrdK1bCWkk352qq_2714133429.jpg\"><figcaption>꽃무늬 샴페인잔 와이드 낮은 칵테일잔 : 마켓디유</figcaption></figure>\n<figure><img src=\"http://shop1.phinf.naver.net/20201230_98/1609292744716X4T11_PNG/10428528368867949_595743543.png\"><figcaption>엘리사 피보 칵테일잔 180ml 185868-180 : 바레코</figcaption></figure>\n<figure><img src=\"http://shop1.phinf.naver.net/20201223_130/1608702989788TfuPQ_JPEG/v1.jpg\"><figcaption>해외 12월 Votono 4 팩 아이스 볼 몰드 몰드 아이스크림 칵테일 : 세일오피 스토어</figcaption></figure>\n[]\n"
     ]
    }
   ],
   "source": [
    "import requests\n",
    "\n",
    "# 인증 정보\n",
    "client_id = \"bj_zxIWRd0qZr5OMM1K6\"\n",
    "client_secret = \"bCvL8H2G3v\"\n",
    "\n",
    "# 기본 url 정보\n",
    "url = \"https://openapi.naver.com/v1/search/image.json\"\n",
    "\n",
    "# 검색할 책 이름 입력\n",
    "q = \"칵테일\"\n",
    "# url 호출 시 전달할 요청 변수 정보\n",
    "params = {\"query\": q,      # 책이름\n",
    "          \"display\": 5   # 검색할 건수\n",
    "          }\n",
    "\n",
    "# requests 라이브러리를 이용한 책 검색 api 호출\n",
    "# get 방식으로 호출(url)/ 요청 변수 전달(params)/ 인증 정보 및 인코딩 정보 전달(header)\n",
    "response = requests.get(url=url, params=params,\n",
    "                        headers={\"X-Naver-Client-Id\": client_id,\n",
    "                                 \"X-Naver-Client-Secret\": client_secret,\n",
    "                                 \"Content-Type\": \"application/json; charset=utf-8\"})\n",
    "\n",
    "# 호출 처리 상태 정보 recode 변수에 할당\n",
    "rescode = response.status_code\n",
    "\n",
    "if (rescode == 200):\n",
    "    # 호출 처리 상태가 정상(200) 일 경우리턴 받은 책 정보 저장\n",
    "    data = response.json()\n",
    "else:\n",
    "    print(\"Error Code:\", rescode)\n",
    "\n",
    "# Naver 이미지 검색 API 응답 중 실제 책 아이템 데이터 추출 및 출력\n",
    "# print(data)\n",
    "item_list = data['items']\n",
    "# print(item_list)\n",
    "# print(len(item_list))\n",
    "\n",
    "# 검색한 이미지를 리스트 형태로 저장하여 리턴하기\n",
    "image_list = []\n",
    "for item in item_list:\n",
    "    # print('<figure><img src=\"'+item['link']+'\"><figcaption>'+item['title']+'</figcaption></figure>')\n",
    "    # image_list.append(item[\"title\"].replace('<b>','').replace('</b>','')+'<br>')\n",
    "    image_list.append('<figure><img src=\"'+item['link']+'\"><figcaption>'+item['title']+'</figcaption></figure>')\n",
    "\n",
    "# print(image_list)\n",
    "\n",
    "# <figure><img src=\"img.jpg\"><figcaption>title</figcaption></figure>\n"
   ]
  },
  {
   "cell_type": "markdown",
   "metadata": {},
   "source": [
    "### Flask와 네이버 이미지 검색 연동\n",
    "- 1) flask 구동 파이썬 파일\n",
    "- 2) index.html"
   ]
  },
  {
   "cell_type": "code",
   "execution_count": 1,
   "metadata": {},
   "outputs": [
    {
     "output_type": "stream",
     "name": "stdout",
     "text": [
      " * Serving Flask app \"__main__\" (lazy loading)\n",
      " * Environment: production\n",
      "\u001b[31m   WARNING: This is a development server. Do not use it in a production deployment.\u001b[0m\n",
      "\u001b[2m   Use a production WSGI server instead.\u001b[0m\n",
      " * Debug mode: off\n",
      " * Running on http://127.0.0.1:8000/ (Press CTRL+C to quit)\n",
      "127.0.0.1 - - [16/Mar/2021 17:03:25] \"\u001b[37mGET / HTTP/1.1\u001b[0m\" 200 -\n",
      "127.0.0.1 - - [16/Mar/2021 17:03:28] \"\u001b[37mGET /api?q=가나다 HTTP/1.1\u001b[0m\" 200 -\n",
      "q= 가나다\n"
     ]
    }
   ],
   "source": [
    "from flask import Flask, request, jsonify\n",
    "import pprint\n",
    "import requests\n",
    "import json\n",
    "\n",
    "app = Flask(__name__)\n",
    "\n",
    "# 루트에 접근할 경우 \n",
    "@app.route('/', methods=['GET'])\n",
    "def index():\n",
    "    with open('index.html', 'rb') as f:\n",
    "        return f.read()\n",
    "    \n",
    "@app.route('/api', methods=['GET', 'POST'])\n",
    "def search_image():\n",
    "    request_json = request.json\n",
    "    \n",
    "    # 검색할 이미지 이름을 index.html에서 받아오기\n",
    "    q = request.args.get('q', '')\n",
    "    if q == '':\n",
    "        return jsonify(\"조회할 이미지 이름을 입력해주세요!!\")\n",
    "    print(\"q=\", q)   \n",
    "\n",
    "    # 네이버 OPEN API 인증 정보\n",
    "    client_id = \"bj_zxIWRd0qZr5OMM1K6\"\n",
    "    client_secret = \"bCvL8H2G3v\"\n",
    "\n",
    "    # 네이버 이미지명 검색 url 정보\n",
    "    url = \"https://openapi.naver.com/v1/search/image.json\"\n",
    "\n",
    "    # url 호출 시 전달할 요청 변수 정보\n",
    "    params = {\"query\": q,      # 책이름\n",
    "              \"display\": 5,    # 조회 건수\n",
    "              \"filter\": 'medium'} # 정렬 순서\n",
    "\n",
    "    # requests 라이브러리를 이용한 책 검색 api 호출\n",
    "    # get 방식으로 호출(url)/ 요청 변수 전달(params)/ 인증 정보 및 인코딩 정보 전달(header)\n",
    "    response = requests.get(url=url, params=params,\n",
    "                            headers={\"X-Naver-Client-Id\": client_id,\n",
    "                                     \"X-Naver-Client-Secret\": client_secret,\n",
    "                                     \"Content-Type\": \"application/json; charset=utf-8\"})\n",
    "    # 호출 처리 상태 정보 recode 변수에 할당\n",
    "    rescode = response.status_code\n",
    "\n",
    "    if (rescode == 200):\n",
    "        # 호출 처리 상태가 정상(200) 일 경우리턴 받은 책 정보 저장\n",
    "        #print(response.json())\n",
    "        data = response.json()\n",
    "    else:\n",
    "        print(\"Error Code:\", rescode)\n",
    "\n",
    "    # Naver 이미지 검색 API 응답 중 실제 책 아이템 데이터 추출 및 출력\n",
    "    item_list = data['items']\n",
    "    \n",
    "    \n",
    "\n",
    "    # 검색한 이미지를 리스트 형태로 저장하여 리턴하기\n",
    "    image_list = []\n",
    "    for item in item_list:\n",
    "        # image_list.append(item[\"title\"].replace('<b>','').replace('</b>','')+'<br>')\n",
    "        image_list.append('<figure><img src=\"'+item['link']+'\"><figcaption>'+item['title']+'</figcaption></figure>') \n",
    "    \n",
    "    \n",
    "    # 결과값 리턴하기\n",
    "    res = ''\n",
    "    for i, book in enumerate(image_list, start=1):\n",
    "        res += str(i) + ':' + book\n",
    "    return jsonify(res)\n",
    "    \n",
    "    \n",
    "\n",
    "if __name__ == \"__main__\":    \n",
    "    # 서버 실행하기\n",
    "    app.run(host=\"127.0.0.1\", port=\"8000\")\n"
   ]
  },
  {
   "cell_type": "code",
   "execution_count": null,
   "metadata": {},
   "outputs": [],
   "source": []
  }
 ],
 "metadata": {
  "kernelspec": {
   "display_name": "Python 3",
   "language": "python",
   "name": "python3"
  },
  "language_info": {
   "codemirror_mode": {
    "name": "ipython",
    "version": 3
   },
   "file_extension": ".py",
   "mimetype": "text/x-python",
   "name": "python",
   "nbconvert_exporter": "python",
   "pygments_lexer": "ipython3",
   "version": "3.8.8-final"
  }
 },
 "nbformat": 4,
 "nbformat_minor": 4
}